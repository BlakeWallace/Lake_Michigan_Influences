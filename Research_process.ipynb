{
 "cells": [
  {
   "cell_type": "markdown",
   "metadata": {},
   "source": [
    "# Research Process"
   ]
  },
  {
   "cell_type": "markdown",
   "metadata": {},
   "source": [
    "## Research Questions\n",
    "\n",
    "### Inferential\n",
    "\n",
    " - Does Rain have an effect on the average daily water temperature of the water?\n",
    " - What effect does rain have on the average daily temperature near the water?\n",
    " - What effect does rain have on the average daily temperature far from the water?\n",
    " - When it rains, is there a statistically significant difference between the amount of rain that falls in downtown Chiccago as opposed to at the Ohare airport?\n",
    " - How much correlation exists between the average daily temperature of Lake Michigan and the temperature difference between the downtown Chicago area and the Ohare airport?\n",
    " \n",
    "### Predictive\n",
    "\n",
    " - Can we build a model that predicts with 80% significance the difference in total precipitation between the water regions closer to the lake and further away from the lake?\n",
    " "
   ]
  },
  {
   "cell_type": "code",
   "execution_count": null,
   "metadata": {},
   "outputs": [],
   "source": []
  }
 ],
 "metadata": {
  "kernelspec": {
   "display_name": "Python 3",
   "language": "python",
   "name": "python3"
  },
  "language_info": {
   "codemirror_mode": {
    "name": "ipython",
    "version": 3
   },
   "file_extension": ".py",
   "mimetype": "text/x-python",
   "name": "python",
   "nbconvert_exporter": "python",
   "pygments_lexer": "ipython3",
   "version": "3.6.8"
  }
 },
 "nbformat": 4,
 "nbformat_minor": 2
}
