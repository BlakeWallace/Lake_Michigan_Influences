{
 "cells": [
  {
   "cell_type": "markdown",
   "metadata": {},
   "source": [
    "# Research Process"
   ]
  },
  {
   "cell_type": "markdown",
   "metadata": {},
   "source": [
    "# Research Process\n",
    "\n",
    "## Research Questions\n",
    "\n",
    "### Inferential\n",
    "\n",
    " - Does Rain have an effect on the average daily water temperature?\n",
    " - What effect does rain have on the average daily temperature near the water?\n",
    " - What effect does rain have on the average daily temperature far from the water?\n",
    " - When it rains, is there a statistically significant difference between the amount of rain that falls in downtown Chicago compared to the Ohare airport?\n",
    " - How much correlation exists between the average daily temperature of Lake Michigan and the temperature difference between the downtown Chicago area and the Ohare airport?\n",
    "  - Is there any statistically significant difference between the daily temperature near the water as apposed to far from the water?\n",
    " \n",
    "### Predictive\n",
    "\n",
    " - Can we build a model that predicts with at least 80% accuracy the difference in total precipitation between Ohare airport and the the Botanical gardens?\n",
    "\n",
    " "
   ]
  },
  {
   "cell_type": "code",
   "execution_count": null,
   "metadata": {},
   "outputs": [],
   "source": []
  }
 ],
 "metadata": {
  "kernelspec": {
   "display_name": "Python 3",
   "language": "python",
   "name": "python3"
  },
  "language_info": {
   "codemirror_mode": {
    "name": "ipython",
    "version": 3
   },
   "file_extension": ".py",
   "mimetype": "text/x-python",
   "name": "python",
   "nbconvert_exporter": "python",
   "pygments_lexer": "ipython3",
   "version": "3.6.5"
  }
 },
 "nbformat": 4,
 "nbformat_minor": 2
}
