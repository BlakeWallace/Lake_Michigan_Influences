{
 "cells": [
  {
   "cell_type": "markdown",
   "metadata": {},
   "source": [
    "### Exploring the Ohare weather data, 2000-2019."
   ]
  },
  {
   "cell_type": "markdown",
   "metadata": {},
   "source": [
    "https://www.ncdc.noaa.gov/cdo-web/search"
   ]
  },
  {
   "cell_type": "code",
   "execution_count": 1,
   "metadata": {},
   "outputs": [],
   "source": [
    "import pandas as pd\n",
    "import requests\n",
    "from bs4 import BeautifulSoup"
   ]
  },
  {
   "cell_type": "code",
   "execution_count": 2,
   "metadata": {},
   "outputs": [],
   "source": [
    "# reading in the dataframe\n",
    "\n",
    "df = pd.read_csv('../data/temp_data/Ohare_2000_2019.csv')"
   ]
  },
  {
   "cell_type": "code",
   "execution_count": 3,
   "metadata": {},
   "outputs": [
    {
     "data": {
      "text/html": [
       "<div>\n",
       "<style scoped>\n",
       "    .dataframe tbody tr th:only-of-type {\n",
       "        vertical-align: middle;\n",
       "    }\n",
       "\n",
       "    .dataframe tbody tr th {\n",
       "        vertical-align: top;\n",
       "    }\n",
       "\n",
       "    .dataframe thead th {\n",
       "        text-align: right;\n",
       "    }\n",
       "</style>\n",
       "<table border=\"1\" class=\"dataframe\">\n",
       "  <thead>\n",
       "    <tr style=\"text-align: right;\">\n",
       "      <th></th>\n",
       "      <th>DATE</th>\n",
       "      <th>TAVG</th>\n",
       "      <th>TMAX</th>\n",
       "      <th>TMIN</th>\n",
       "      <th>AVG</th>\n",
       "      <th>error</th>\n",
       "      <th>Location</th>\n",
       "    </tr>\n",
       "  </thead>\n",
       "  <tbody>\n",
       "    <tr>\n",
       "      <th>0</th>\n",
       "      <td>2000-01-01</td>\n",
       "      <td>42.0</td>\n",
       "      <td>48.0</td>\n",
       "      <td>35.0</td>\n",
       "      <td>41.5</td>\n",
       "      <td>0.5</td>\n",
       "      <td>Ohare</td>\n",
       "    </tr>\n",
       "    <tr>\n",
       "      <th>1</th>\n",
       "      <td>2000-01-02</td>\n",
       "      <td>48.0</td>\n",
       "      <td>60.0</td>\n",
       "      <td>35.0</td>\n",
       "      <td>47.5</td>\n",
       "      <td>0.5</td>\n",
       "      <td>Ohare</td>\n",
       "    </tr>\n",
       "    <tr>\n",
       "      <th>2</th>\n",
       "      <td>2000-01-03</td>\n",
       "      <td>35.0</td>\n",
       "      <td>38.0</td>\n",
       "      <td>32.0</td>\n",
       "      <td>35.0</td>\n",
       "      <td>0.0</td>\n",
       "      <td>Ohare</td>\n",
       "    </tr>\n",
       "    <tr>\n",
       "      <th>3</th>\n",
       "      <td>2000-01-04</td>\n",
       "      <td>28.0</td>\n",
       "      <td>33.0</td>\n",
       "      <td>23.0</td>\n",
       "      <td>28.0</td>\n",
       "      <td>0.0</td>\n",
       "      <td>Ohare</td>\n",
       "    </tr>\n",
       "    <tr>\n",
       "      <th>4</th>\n",
       "      <td>2000-01-05</td>\n",
       "      <td>20.0</td>\n",
       "      <td>26.0</td>\n",
       "      <td>13.0</td>\n",
       "      <td>19.5</td>\n",
       "      <td>0.5</td>\n",
       "      <td>Ohare</td>\n",
       "    </tr>\n",
       "  </tbody>\n",
       "</table>\n",
       "</div>"
      ],
      "text/plain": [
       "         DATE  TAVG  TMAX  TMIN   AVG  error Location\n",
       "0  2000-01-01  42.0  48.0  35.0  41.5    0.5    Ohare\n",
       "1  2000-01-02  48.0  60.0  35.0  47.5    0.5    Ohare\n",
       "2  2000-01-03  35.0  38.0  32.0  35.0    0.0    Ohare\n",
       "3  2000-01-04  28.0  33.0  23.0  28.0    0.0    Ohare\n",
       "4  2000-01-05  20.0  26.0  13.0  19.5    0.5    Ohare"
      ]
     },
     "execution_count": 3,
     "metadata": {},
     "output_type": "execute_result"
    }
   ],
   "source": [
    "df.head()"
   ]
  },
  {
   "cell_type": "code",
   "execution_count": 4,
   "metadata": {},
   "outputs": [
    {
     "data": {
      "text/plain": [
       "(7046, 7)"
      ]
     },
     "execution_count": 4,
     "metadata": {},
     "output_type": "execute_result"
    }
   ],
   "source": [
    "df.shape"
   ]
  },
  {
   "cell_type": "code",
   "execution_count": 5,
   "metadata": {},
   "outputs": [
    {
     "data": {
      "text/plain": [
       " 0.5     1209\n",
       " 0.0     1199\n",
       "-0.5      251\n",
       "-1.0      211\n",
       "-1.5      182\n",
       " 1.0      161\n",
       "-2.0      145\n",
       " 1.5      132\n",
       "-2.5      103\n",
       " 2.0       81\n",
       " 2.5       70\n",
       "-3.0       66\n",
       " 3.0       62\n",
       " 3.5       55\n",
       "-3.5       38\n",
       " 4.0       36\n",
       " 4.5       32\n",
       "-4.0       27\n",
       " 5.5       26\n",
       " 5.0       23\n",
       " 6.0       16\n",
       " 6.5       16\n",
       "-4.5       15\n",
       "-5.0       14\n",
       "-5.5       11\n",
       " 7.5        8\n",
       " 9.0        8\n",
       " 9.5        6\n",
       "-6.0        6\n",
       " 8.5        5\n",
       "-8.5        4\n",
       " 8.0        4\n",
       "-7.5        3\n",
       "-6.5        3\n",
       " 7.0        3\n",
       "-8.0        2\n",
       "-9.0        1\n",
       "-79.0       1\n",
       " 20.0       1\n",
       "-7.0        1\n",
       " 11.0       1\n",
       " 15.0       1\n",
       " 10.0       1\n",
       " 11.5       1\n",
       "-39.5       1\n",
       "Name: error, dtype: int64"
      ]
     },
     "execution_count": 5,
     "metadata": {},
     "output_type": "execute_result"
    }
   ],
   "source": [
    "df.error.value_counts()"
   ]
  },
  {
   "cell_type": "code",
   "execution_count": 6,
   "metadata": {},
   "outputs": [
    {
     "data": {
      "text/plain": [
       "array([  0.5,   0. ,   4.5,   9.5,   nan, -39.5,   1. ,  -1. ,  -2.5,\n",
       "        -0.5,  -3.5,  -8. ,  -7.5,  -4.5,  -5. ,  -1.5,   3. ,  -5.5,\n",
       "         2. ,  -4. ,   1.5,  -6. ,   2.5,   5.5, -79. ,  -8.5,  -9. ,\n",
       "        -6.5,  20. ,   3.5,   8. ,   5. ,  -3. ,   6. ,  -2. ,   4. ,\n",
       "         6.5,   7.5,   9. ,   7. ,   8.5,  11.5,  -7. ,  11. ,  15. ,\n",
       "        10. ])"
      ]
     },
     "execution_count": 6,
     "metadata": {},
     "output_type": "execute_result"
    }
   ],
   "source": [
    "df.error.unique()"
   ]
  },
  {
   "cell_type": "code",
   "execution_count": 7,
   "metadata": {},
   "outputs": [
    {
     "data": {
      "text/plain": [
       "(7046, 7)"
      ]
     },
     "execution_count": 7,
     "metadata": {},
     "output_type": "execute_result"
    }
   ],
   "source": [
    "df.shape"
   ]
  },
  {
   "cell_type": "code",
   "execution_count": null,
   "metadata": {},
   "outputs": [],
   "source": []
  },
  {
   "cell_type": "code",
   "execution_count": null,
   "metadata": {},
   "outputs": [],
   "source": []
  }
 ],
 "metadata": {
  "kernelspec": {
   "display_name": "Python 3",
   "language": "python",
   "name": "python3"
  },
  "language_info": {
   "codemirror_mode": {
    "name": "ipython",
    "version": 3
   },
   "file_extension": ".py",
   "mimetype": "text/x-python",
   "name": "python",
   "nbconvert_exporter": "python",
   "pygments_lexer": "ipython3",
   "version": "3.6.8"
  }
 },
 "nbformat": 4,
 "nbformat_minor": 2
}
