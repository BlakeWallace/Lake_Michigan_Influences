{
 "cells": [
  {
   "cell_type": "markdown",
   "metadata": {},
   "source": [
    "### This is the monthly summary weather data for O'hare airport."
   ]
  },
  {
   "cell_type": "code",
   "execution_count": 1,
   "metadata": {},
   "outputs": [],
   "source": [
    "import pandas as pd"
   ]
  },
  {
   "cell_type": "code",
   "execution_count": 4,
   "metadata": {},
   "outputs": [],
   "source": [
    "#Ohare_custom_global \n",
    "df = pd.read_csv('data/Custom_Global_summary.csv')"
   ]
  },
  {
   "cell_type": "code",
   "execution_count": 5,
   "metadata": {},
   "outputs": [
    {
     "data": {
      "text/html": [
       "<div>\n",
       "<style scoped>\n",
       "    .dataframe tbody tr th:only-of-type {\n",
       "        vertical-align: middle;\n",
       "    }\n",
       "\n",
       "    .dataframe tbody tr th {\n",
       "        vertical-align: top;\n",
       "    }\n",
       "\n",
       "    .dataframe thead th {\n",
       "        text-align: right;\n",
       "    }\n",
       "</style>\n",
       "<table border=\"1\" class=\"dataframe\">\n",
       "  <thead>\n",
       "    <tr style=\"text-align: right;\">\n",
       "      <th></th>\n",
       "      <th>STATION</th>\n",
       "      <th>NAME</th>\n",
       "      <th>LATITUDE</th>\n",
       "      <th>LONGITUDE</th>\n",
       "      <th>ELEVATION</th>\n",
       "      <th>DATE</th>\n",
       "      <th>AWND</th>\n",
       "      <th>CDSD</th>\n",
       "      <th>DSND</th>\n",
       "      <th>DSNW</th>\n",
       "      <th>...</th>\n",
       "      <th>PRCP</th>\n",
       "      <th>SNOW</th>\n",
       "      <th>TAVG</th>\n",
       "      <th>TMAX</th>\n",
       "      <th>TMIN</th>\n",
       "      <th>TSUN</th>\n",
       "      <th>WDF2</th>\n",
       "      <th>WDF5</th>\n",
       "      <th>WSF2</th>\n",
       "      <th>WSF5</th>\n",
       "    </tr>\n",
       "  </thead>\n",
       "  <tbody>\n",
       "    <tr>\n",
       "      <th>0</th>\n",
       "      <td>USW00094846</td>\n",
       "      <td>CHICAGO OHARE INTERNATIONAL AIRPORT, IL US</td>\n",
       "      <td>41.995</td>\n",
       "      <td>-87.9336</td>\n",
       "      <td>201.8</td>\n",
       "      <td>2000-01</td>\n",
       "      <td>10.5</td>\n",
       "      <td>0</td>\n",
       "      <td>14.0</td>\n",
       "      <td>5</td>\n",
       "      <td>...</td>\n",
       "      <td>1.36</td>\n",
       "      <td>13.6</td>\n",
       "      <td>25.3</td>\n",
       "      <td>32.1</td>\n",
       "      <td>18.5</td>\n",
       "      <td>NaN</td>\n",
       "      <td>330</td>\n",
       "      <td>260</td>\n",
       "      <td>28.0</td>\n",
       "      <td>37</td>\n",
       "    </tr>\n",
       "    <tr>\n",
       "      <th>1</th>\n",
       "      <td>USW00094846</td>\n",
       "      <td>CHICAGO OHARE INTERNATIONAL AIRPORT, IL US</td>\n",
       "      <td>41.995</td>\n",
       "      <td>-87.9336</td>\n",
       "      <td>201.8</td>\n",
       "      <td>2000-02</td>\n",
       "      <td>11.0</td>\n",
       "      <td>0</td>\n",
       "      <td>15.0</td>\n",
       "      <td>1</td>\n",
       "      <td>...</td>\n",
       "      <td>1.97</td>\n",
       "      <td>11.6</td>\n",
       "      <td>34.1</td>\n",
       "      <td>42.2</td>\n",
       "      <td>25.9</td>\n",
       "      <td>NaN</td>\n",
       "      <td>180</td>\n",
       "      <td>210</td>\n",
       "      <td>30.0</td>\n",
       "      <td>39</td>\n",
       "    </tr>\n",
       "    <tr>\n",
       "      <th>2</th>\n",
       "      <td>USW00094846</td>\n",
       "      <td>CHICAGO OHARE INTERNATIONAL AIRPORT, IL US</td>\n",
       "      <td>41.995</td>\n",
       "      <td>-87.9336</td>\n",
       "      <td>201.8</td>\n",
       "      <td>2000-03</td>\n",
       "      <td>9.6</td>\n",
       "      <td>2</td>\n",
       "      <td>0.0</td>\n",
       "      <td>0</td>\n",
       "      <td>...</td>\n",
       "      <td>1.19</td>\n",
       "      <td>0.0</td>\n",
       "      <td>44.2</td>\n",
       "      <td>54.7</td>\n",
       "      <td>33.7</td>\n",
       "      <td>NaN</td>\n",
       "      <td>250</td>\n",
       "      <td>280</td>\n",
       "      <td>31.1</td>\n",
       "      <td>40</td>\n",
       "    </tr>\n",
       "    <tr>\n",
       "      <th>3</th>\n",
       "      <td>USW00094846</td>\n",
       "      <td>CHICAGO OHARE INTERNATIONAL AIRPORT, IL US</td>\n",
       "      <td>41.995</td>\n",
       "      <td>-87.9336</td>\n",
       "      <td>201.8</td>\n",
       "      <td>2000-04</td>\n",
       "      <td>10.1</td>\n",
       "      <td>2</td>\n",
       "      <td>1.0</td>\n",
       "      <td>1</td>\n",
       "      <td>...</td>\n",
       "      <td>5.15</td>\n",
       "      <td>1.6</td>\n",
       "      <td>47.2</td>\n",
       "      <td>57.6</td>\n",
       "      <td>36.8</td>\n",
       "      <td>NaN</td>\n",
       "      <td>10</td>\n",
       "      <td>10</td>\n",
       "      <td>33.1</td>\n",
       "      <td>41</td>\n",
       "    </tr>\n",
       "    <tr>\n",
       "      <th>4</th>\n",
       "      <td>USW00094846</td>\n",
       "      <td>CHICAGO OHARE INTERNATIONAL AIRPORT, IL US</td>\n",
       "      <td>41.995</td>\n",
       "      <td>-87.9336</td>\n",
       "      <td>201.8</td>\n",
       "      <td>2000-05</td>\n",
       "      <td>9.4</td>\n",
       "      <td>63</td>\n",
       "      <td>0.0</td>\n",
       "      <td>0</td>\n",
       "      <td>...</td>\n",
       "      <td>4.01</td>\n",
       "      <td>0.0</td>\n",
       "      <td>62.0</td>\n",
       "      <td>72.1</td>\n",
       "      <td>51.9</td>\n",
       "      <td>NaN</td>\n",
       "      <td>70</td>\n",
       "      <td>320</td>\n",
       "      <td>36.0</td>\n",
       "      <td>48</td>\n",
       "    </tr>\n",
       "  </tbody>\n",
       "</table>\n",
       "<p>5 rows × 26 columns</p>\n",
       "</div>"
      ],
      "text/plain": [
       "       STATION                                        NAME  LATITUDE  \\\n",
       "0  USW00094846  CHICAGO OHARE INTERNATIONAL AIRPORT, IL US    41.995   \n",
       "1  USW00094846  CHICAGO OHARE INTERNATIONAL AIRPORT, IL US    41.995   \n",
       "2  USW00094846  CHICAGO OHARE INTERNATIONAL AIRPORT, IL US    41.995   \n",
       "3  USW00094846  CHICAGO OHARE INTERNATIONAL AIRPORT, IL US    41.995   \n",
       "4  USW00094846  CHICAGO OHARE INTERNATIONAL AIRPORT, IL US    41.995   \n",
       "\n",
       "   LONGITUDE  ELEVATION     DATE  AWND  CDSD  DSND  DSNW  ...  PRCP  SNOW  \\\n",
       "0   -87.9336      201.8  2000-01  10.5     0  14.0     5  ...  1.36  13.6   \n",
       "1   -87.9336      201.8  2000-02  11.0     0  15.0     1  ...  1.97  11.6   \n",
       "2   -87.9336      201.8  2000-03   9.6     2   0.0     0  ...  1.19   0.0   \n",
       "3   -87.9336      201.8  2000-04  10.1     2   1.0     1  ...  5.15   1.6   \n",
       "4   -87.9336      201.8  2000-05   9.4    63   0.0     0  ...  4.01   0.0   \n",
       "\n",
       "   TAVG  TMAX  TMIN  TSUN  WDF2  WDF5  WSF2  WSF5  \n",
       "0  25.3  32.1  18.5   NaN   330   260  28.0    37  \n",
       "1  34.1  42.2  25.9   NaN   180   210  30.0    39  \n",
       "2  44.2  54.7  33.7   NaN   250   280  31.1    40  \n",
       "3  47.2  57.6  36.8   NaN    10    10  33.1    41  \n",
       "4  62.0  72.1  51.9   NaN    70   320  36.0    48  \n",
       "\n",
       "[5 rows x 26 columns]"
      ]
     },
     "execution_count": 5,
     "metadata": {},
     "output_type": "execute_result"
    }
   ],
   "source": [
    "# Ohare_custom_global.head()\n",
    "df.head()"
   ]
  },
  {
   "cell_type": "code",
   "execution_count": 6,
   "metadata": {},
   "outputs": [
    {
     "data": {
      "text/plain": [
       "(231, 26)"
      ]
     },
     "execution_count": 6,
     "metadata": {},
     "output_type": "execute_result"
    }
   ],
   "source": [
    "df.shape"
   ]
  },
  {
   "cell_type": "code",
   "execution_count": 7,
   "metadata": {},
   "outputs": [
    {
     "data": {
      "text/plain": [
       "Index(['STATION', 'NAME', 'LATITUDE', 'LONGITUDE', 'ELEVATION', 'DATE', 'AWND',\n",
       "       'CDSD', 'DSND', 'DSNW', 'EMNT', 'EMSD', 'EMSN', 'EMXP', 'EMXT', 'HDSD',\n",
       "       'PRCP', 'SNOW', 'TAVG', 'TMAX', 'TMIN', 'TSUN', 'WDF2', 'WDF5', 'WSF2',\n",
       "       'WSF5'],\n",
       "      dtype='object')"
      ]
     },
     "execution_count": 7,
     "metadata": {},
     "output_type": "execute_result"
    }
   ],
   "source": [
    "df.columns"
   ]
  },
  {
   "cell_type": "code",
   "execution_count": 9,
   "metadata": {},
   "outputs": [
    {
     "data": {
      "text/plain": [
       "STATION        0\n",
       "NAME           0\n",
       "LATITUDE       0\n",
       "LONGITUDE      0\n",
       "ELEVATION      0\n",
       "DATE           0\n",
       "AWND           0\n",
       "CDSD           0\n",
       "DSND           2\n",
       "DSNW           0\n",
       "EMNT           0\n",
       "EMSD           2\n",
       "EMSN           0\n",
       "EMXP           0\n",
       "EMXT           0\n",
       "HDSD           0\n",
       "PRCP           0\n",
       "SNOW           0\n",
       "TAVG           0\n",
       "TMAX           0\n",
       "TMIN           0\n",
       "TSUN         226\n",
       "WDF2           0\n",
       "WDF5           0\n",
       "WSF2           0\n",
       "WSF5           0\n",
       "dtype: int64"
      ]
     },
     "execution_count": 9,
     "metadata": {},
     "output_type": "execute_result"
    }
   ],
   "source": [
    "df.isnull().sum()"
   ]
  },
  {
   "cell_type": "code",
   "execution_count": null,
   "metadata": {},
   "outputs": [],
   "source": []
  }
 ],
 "metadata": {
  "kernelspec": {
   "display_name": "Python 3",
   "language": "python",
   "name": "python3"
  },
  "language_info": {
   "codemirror_mode": {
    "name": "ipython",
    "version": 3
   },
   "file_extension": ".py",
   "mimetype": "text/x-python",
   "name": "python",
   "nbconvert_exporter": "python",
   "pygments_lexer": "ipython3",
   "version": "3.6.8"
  }
 },
 "nbformat": 4,
 "nbformat_minor": 2
}
