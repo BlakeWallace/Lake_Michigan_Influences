{
 "cells": [
  {
   "cell_type": "code",
   "execution_count": 7,
   "metadata": {},
   "outputs": [],
   "source": [
    "import pandas as pd\n",
    "import numpy as np\n",
    "import matplotlib.pyplot as plt\n",
    "import seaborn as sns\n",
    "\n",
    "%matplotlib inline"
   ]
  },
  {
   "cell_type": "code",
   "execution_count": 2,
   "metadata": {},
   "outputs": [
    {
     "name": "stdout",
     "output_type": "stream",
     "text": [
      "(1648, 19)\n"
     ]
    },
    {
     "data": {
      "text/html": [
       "<div>\n",
       "<style scoped>\n",
       "    .dataframe tbody tr th:only-of-type {\n",
       "        vertical-align: middle;\n",
       "    }\n",
       "\n",
       "    .dataframe tbody tr th {\n",
       "        vertical-align: top;\n",
       "    }\n",
       "\n",
       "    .dataframe thead th {\n",
       "        text-align: right;\n",
       "    }\n",
       "</style>\n",
       "<table border=\"1\" class=\"dataframe\">\n",
       "  <thead>\n",
       "    <tr style=\"text-align: right;\">\n",
       "      <th></th>\n",
       "      <th>target</th>\n",
       "      <th>garden_didrain</th>\n",
       "      <th>ohare_didrain</th>\n",
       "      <th>tmpdiff</th>\n",
       "      <th>garden_prcp</th>\n",
       "      <th>garden_snfall</th>\n",
       "      <th>garden_sndpth</th>\n",
       "      <th>garden_maxtmp</th>\n",
       "      <th>garden_mintmp</th>\n",
       "      <th>garden_medtmp</th>\n",
       "      <th>garden_tobs</th>\n",
       "      <th>lake_temp</th>\n",
       "      <th>ohare_wspd</th>\n",
       "      <th>ohare_prcp</th>\n",
       "      <th>ohare_snfall</th>\n",
       "      <th>ohare_sndpth</th>\n",
       "      <th>ohare_maxtmp</th>\n",
       "      <th>ohare_mintmp</th>\n",
       "      <th>ohare_medtmp</th>\n",
       "    </tr>\n",
       "  </thead>\n",
       "  <tbody>\n",
       "    <tr>\n",
       "      <th>0</th>\n",
       "      <td>1.31</td>\n",
       "      <td>1</td>\n",
       "      <td>1</td>\n",
       "      <td>1.0</td>\n",
       "      <td>0.09</td>\n",
       "      <td>0.0</td>\n",
       "      <td>0.0</td>\n",
       "      <td>92.0</td>\n",
       "      <td>66.0</td>\n",
       "      <td>79.0</td>\n",
       "      <td>76.0</td>\n",
       "      <td>60.116</td>\n",
       "      <td>8.05</td>\n",
       "      <td>1.40</td>\n",
       "      <td>0.0</td>\n",
       "      <td>0.0</td>\n",
       "      <td>90</td>\n",
       "      <td>66</td>\n",
       "      <td>78.0</td>\n",
       "    </tr>\n",
       "    <tr>\n",
       "      <th>1</th>\n",
       "      <td>1.05</td>\n",
       "      <td>1</td>\n",
       "      <td>1</td>\n",
       "      <td>0.5</td>\n",
       "      <td>1.15</td>\n",
       "      <td>0.0</td>\n",
       "      <td>0.0</td>\n",
       "      <td>43.0</td>\n",
       "      <td>37.0</td>\n",
       "      <td>40.0</td>\n",
       "      <td>43.0</td>\n",
       "      <td>41.396</td>\n",
       "      <td>8.95</td>\n",
       "      <td>0.10</td>\n",
       "      <td>0.0</td>\n",
       "      <td>0.0</td>\n",
       "      <td>44</td>\n",
       "      <td>35</td>\n",
       "      <td>39.5</td>\n",
       "    </tr>\n",
       "    <tr>\n",
       "      <th>2</th>\n",
       "      <td>0.00</td>\n",
       "      <td>1</td>\n",
       "      <td>1</td>\n",
       "      <td>1.5</td>\n",
       "      <td>0.07</td>\n",
       "      <td>0.0</td>\n",
       "      <td>0.0</td>\n",
       "      <td>62.0</td>\n",
       "      <td>43.0</td>\n",
       "      <td>52.5</td>\n",
       "      <td>47.0</td>\n",
       "      <td>44.978</td>\n",
       "      <td>4.03</td>\n",
       "      <td>0.07</td>\n",
       "      <td>0.0</td>\n",
       "      <td>0.0</td>\n",
       "      <td>59</td>\n",
       "      <td>43</td>\n",
       "      <td>51.0</td>\n",
       "    </tr>\n",
       "    <tr>\n",
       "      <th>3</th>\n",
       "      <td>1.29</td>\n",
       "      <td>1</td>\n",
       "      <td>1</td>\n",
       "      <td>7.5</td>\n",
       "      <td>0.27</td>\n",
       "      <td>0.0</td>\n",
       "      <td>0.0</td>\n",
       "      <td>60.0</td>\n",
       "      <td>54.0</td>\n",
       "      <td>57.0</td>\n",
       "      <td>57.0</td>\n",
       "      <td>63.644</td>\n",
       "      <td>7.16</td>\n",
       "      <td>1.56</td>\n",
       "      <td>0.0</td>\n",
       "      <td>0.0</td>\n",
       "      <td>72</td>\n",
       "      <td>57</td>\n",
       "      <td>64.5</td>\n",
       "    </tr>\n",
       "    <tr>\n",
       "      <th>4</th>\n",
       "      <td>0.06</td>\n",
       "      <td>1</td>\n",
       "      <td>1</td>\n",
       "      <td>0.0</td>\n",
       "      <td>0.07</td>\n",
       "      <td>2.0</td>\n",
       "      <td>4.0</td>\n",
       "      <td>26.0</td>\n",
       "      <td>9.0</td>\n",
       "      <td>17.5</td>\n",
       "      <td>18.0</td>\n",
       "      <td>36.194</td>\n",
       "      <td>11.86</td>\n",
       "      <td>0.01</td>\n",
       "      <td>0.6</td>\n",
       "      <td>3.1</td>\n",
       "      <td>26</td>\n",
       "      <td>9</td>\n",
       "      <td>17.5</td>\n",
       "    </tr>\n",
       "  </tbody>\n",
       "</table>\n",
       "</div>"
      ],
      "text/plain": [
       "   target  garden_didrain  ohare_didrain  tmpdiff  garden_prcp  garden_snfall  \\\n",
       "0    1.31               1              1      1.0         0.09            0.0   \n",
       "1    1.05               1              1      0.5         1.15            0.0   \n",
       "2    0.00               1              1      1.5         0.07            0.0   \n",
       "3    1.29               1              1      7.5         0.27            0.0   \n",
       "4    0.06               1              1      0.0         0.07            2.0   \n",
       "\n",
       "   garden_sndpth  garden_maxtmp  garden_mintmp  garden_medtmp  garden_tobs  \\\n",
       "0            0.0           92.0           66.0           79.0         76.0   \n",
       "1            0.0           43.0           37.0           40.0         43.0   \n",
       "2            0.0           62.0           43.0           52.5         47.0   \n",
       "3            0.0           60.0           54.0           57.0         57.0   \n",
       "4            4.0           26.0            9.0           17.5         18.0   \n",
       "\n",
       "   lake_temp  ohare_wspd  ohare_prcp  ohare_snfall  ohare_sndpth  \\\n",
       "0     60.116        8.05        1.40           0.0           0.0   \n",
       "1     41.396        8.95        0.10           0.0           0.0   \n",
       "2     44.978        4.03        0.07           0.0           0.0   \n",
       "3     63.644        7.16        1.56           0.0           0.0   \n",
       "4     36.194       11.86        0.01           0.6           3.1   \n",
       "\n",
       "   ohare_maxtmp  ohare_mintmp  ohare_medtmp  \n",
       "0            90            66          78.0  \n",
       "1            44            35          39.5  \n",
       "2            59            43          51.0  \n",
       "3            72            57          64.5  \n",
       "4            26             9          17.5  "
      ]
     },
     "execution_count": 2,
     "metadata": {},
     "output_type": "execute_result"
    }
   ],
   "source": [
    "data = pd.read_csv('data/merged/garden_ohare_lake/jan011995_dec312018_uncorrelated_both_rain.csv')\n",
    "print(data.shape)\n",
    "data.head()"
   ]
  },
  {
   "cell_type": "code",
   "execution_count": 33,
   "metadata": {},
   "outputs": [],
   "source": [
    "from sklearn.preprocessing import StandardScaler\n",
    "from sklearn.model_selection import train_test_split, cross_val_score\n",
    "from sklearn.linear_model import LinearRegression, Ridge, Lasso"
   ]
  },
  {
   "cell_type": "code",
   "execution_count": 4,
   "metadata": {},
   "outputs": [],
   "source": [
    "X = data.drop(columns='target')\n",
    "y = data['target']"
   ]
  },
  {
   "cell_type": "code",
   "execution_count": 5,
   "metadata": {},
   "outputs": [
    {
     "data": {
      "text/plain": [
       "(1648, 18)"
      ]
     },
     "execution_count": 5,
     "metadata": {},
     "output_type": "execute_result"
    }
   ],
   "source": [
    "X.shape"
   ]
  },
  {
   "cell_type": "code",
   "execution_count": 8,
   "metadata": {
    "scrolled": true
   },
   "outputs": [
    {
     "data": {
      "text/plain": [
       "<matplotlib.axes._subplots.AxesSubplot at 0x120d2f630>"
      ]
     },
     "execution_count": 8,
     "metadata": {},
     "output_type": "execute_result"
    },
    {
     "data": {
      "image/png": "[encoded data removed]",
      "text/plain": [
       "<Figure size 432x288 with 1 Axes>"
      ]
     },
     "metadata": {
      "needs_background": "light"
     },
     "output_type": "display_data"
    }
   ],
   "source": [
    "sns.regplot(data.target, data.garden_prcp)"
   ]
  },
  {
   "cell_type": "code",
   "execution_count": 9,
   "metadata": {},
   "outputs": [
    {
     "data": {
      "text/plain": [
       "<matplotlib.axes._subplots.AxesSubplot at 0x122e66898>"
      ]
     },
     "execution_count": 9,
     "metadata": {},
     "output_type": "execute_result"
    },
    {
     "data": {
      "image/png": "[encoded data removed]",
      "text/plain": [
       "<Figure size 432x288 with 1 Axes>"
      ]
     },
     "metadata": {
      "needs_background": "light"
     },
     "output_type": "display_data"
    }
   ],
   "source": [
    "sns.scatterplot(data.target, data.garden_prcp)"
   ]
  },
  {
   "cell_type": "code",
   "execution_count": 10,
   "metadata": {},
   "outputs": [
    {
     "data": {
      "text/plain": [
       "<matplotlib.axes._subplots.AxesSubplot at 0x122efe5f8>"
      ]
     },
     "execution_count": 10,
     "metadata": {},
     "output_type": "execute_result"
    },
    {
     "data": {
      "image/png": "[encoded data removed]",
      "text/plain": [
       "<Figure size 432x288 with 1 Axes>"
      ]
     },
     "metadata": {
      "needs_background": "light"
     },
     "output_type": "display_data"
    }
   ],
   "source": [
    "sns.scatterplot(data.target, data.ohare_prcp)"
   ]
  },
  {
   "cell_type": "code",
   "execution_count": 12,
   "metadata": {},
   "outputs": [
    {
     "data": {
      "text/plain": [
       "<matplotlib.axes._subplots.AxesSubplot at 0x12b5d3f28>"
      ]
     },
     "execution_count": 12,
     "metadata": {},
     "output_type": "execute_result"
    },
    {
     "data": {
      "image/png": "[encoded data removed]",
      "text/plain": [
       "<Figure size 432x288 with 1 Axes>"
      ]
     },
     "metadata": {
      "needs_background": "light"
     },
     "output_type": "display_data"
    }
   ],
   "source": [
    "sns.scatterplot(data.target, data.garden_medtmp, data.lake_temp)"
   ]
  },
  {
   "cell_type": "code",
   "execution_count": 13,
   "metadata": {},
   "outputs": [
    {
     "data": {
      "text/plain": [
       "<matplotlib.axes._subplots.AxesSubplot at 0x12b6a2da0>"
      ]
     },
     "execution_count": 13,
     "metadata": {},
     "output_type": "execute_result"
    },
    {
     "data": {
      "image/png": "[encoded data removed]",
      "text/plain": [
       "<Figure size 432x288 with 2 Axes>"
      ]
     },
     "metadata": {
      "needs_background": "light"
     },
     "output_type": "display_data"
    }
   ],
   "source": [
    "# this will generate a single column heatmap showing the correlations between the target and the remaining variables\n",
    "\n",
    "# need a dataframe called data and a column called 'status'\n",
    "corr = data.corr()\n",
    "corr_sort = corr.sort_values(by = ['target'], axis = 0, ascending=False)\n",
    "corr_sort\n",
    "sns.heatmap(corr_sort[['target']], annot=True, cmap='coolwarm')"
   ]
  },
  {
   "cell_type": "code",
   "execution_count": 14,
   "metadata": {},
   "outputs": [
    {
     "data": {
      "text/plain": [
       "0.0"
      ]
     },
     "execution_count": 14,
     "metadata": {},
     "output_type": "execute_result"
    }
   ],
   "source": [
    "y.min()"
   ]
  },
  {
   "cell_type": "code",
   "execution_count": 15,
   "metadata": {},
   "outputs": [
    {
     "data": {
      "text/plain": [
       "3.72"
      ]
     },
     "execution_count": 15,
     "metadata": {},
     "output_type": "execute_result"
    }
   ],
   "source": [
    "y.max()"
   ]
  },
  {
   "cell_type": "code",
   "execution_count": 16,
   "metadata": {},
   "outputs": [
    {
     "data": {
      "text/plain": [
       "0.00    71\n",
       "0.03    68\n",
       "0.06    41\n",
       "0.04    36\n",
       "0.05    35\n",
       "0.13    32\n",
       "0.11    29\n",
       "0.02    27\n",
       "0.01    26\n",
       "0.01    25\n",
       "0.19    25\n",
       "0.12    25\n",
       "0.14    23\n",
       "0.24    23\n",
       "0.09    22\n",
       "0.10    22\n",
       "0.04    21\n",
       "0.07    21\n",
       "0.20    20\n",
       "0.05    20\n",
       "0.23    19\n",
       "0.25    19\n",
       "0.02    19\n",
       "0.08    19\n",
       "0.16    19\n",
       "0.27    17\n",
       "0.01    17\n",
       "0.26    16\n",
       "0.21    16\n",
       "0.34    15\n",
       "        ..\n",
       "0.89     1\n",
       "1.77     1\n",
       "0.14     1\n",
       "0.79     1\n",
       "1.68     1\n",
       "2.82     1\n",
       "0.82     1\n",
       "1.87     1\n",
       "1.33     1\n",
       "0.78     1\n",
       "1.83     1\n",
       "1.58     1\n",
       "1.17     1\n",
       "0.45     1\n",
       "1.91     1\n",
       "2.85     1\n",
       "0.15     1\n",
       "0.81     1\n",
       "0.35     1\n",
       "0.71     1\n",
       "1.49     1\n",
       "3.13     1\n",
       "1.26     1\n",
       "0.24     1\n",
       "3.44     1\n",
       "0.77     1\n",
       "2.20     1\n",
       "1.47     1\n",
       "0.63     1\n",
       "0.78     1\n",
       "Name: target, Length: 315, dtype: int64"
      ]
     },
     "execution_count": 16,
     "metadata": {},
     "output_type": "execute_result"
    }
   ],
   "source": [
    "y.value_counts()"
   ]
  },
  {
   "cell_type": "code",
   "execution_count": 17,
   "metadata": {},
   "outputs": [],
   "source": [
    "# generate a linear model\n",
    "lm = LinearRegression()"
   ]
  },
  {
   "cell_type": "code",
   "execution_count": 18,
   "metadata": {},
   "outputs": [],
   "source": [
    "X_train, X_test, y_train, y_test = train_test_split(X, y, \n",
    "                                                    random_state=42)"
   ]
  },
  {
   "cell_type": "code",
   "execution_count": 19,
   "metadata": {},
   "outputs": [
    {
     "data": {
      "text/plain": [
       "LinearRegression(copy_X=True, fit_intercept=True, n_jobs=None,\n",
       "         normalize=False)"
      ]
     },
     "execution_count": 19,
     "metadata": {},
     "output_type": "execute_result"
    }
   ],
   "source": [
    "lm.fit(X_train, y_train)"
   ]
  },
  {
   "cell_type": "code",
   "execution_count": 20,
   "metadata": {},
   "outputs": [
    {
     "data": {
      "text/plain": [
       "array([0.28168899, 0.29596534, 0.23367626, ..., 0.16107237, 0.02267161,\n",
       "       0.06422219])"
      ]
     },
     "execution_count": 20,
     "metadata": {},
     "output_type": "execute_result"
    }
   ],
   "source": [
    "preds = lm.predict(X_train)\n",
    "preds"
   ]
  },
  {
   "cell_type": "code",
   "execution_count": 21,
   "metadata": {},
   "outputs": [],
   "source": [
    "def MSE(Y, Yhat):\n",
    "    #calculate the difference between Y and Yhat\n",
    "    diff = Y - Yhat\n",
    "    # Square each element in diff\n",
    "    squared_diff = np.square(diff)\n",
    "    # Calculate the mean of squared_diff\n",
    "    mse = np.mean(squared_diff)\n",
    "    return mse"
   ]
  },
  {
   "cell_type": "code",
   "execution_count": 22,
   "metadata": {},
   "outputs": [
    {
     "data": {
      "text/plain": [
       "0.09880740095192526"
      ]
     },
     "execution_count": 22,
     "metadata": {},
     "output_type": "execute_result"
    }
   ],
   "source": [
    "MSE(y_train, preds)"
   ]
  },
  {
   "cell_type": "code",
   "execution_count": 23,
   "metadata": {},
   "outputs": [
    {
     "data": {
      "text/plain": [
       "0.5357611687238448"
      ]
     },
     "execution_count": 23,
     "metadata": {},
     "output_type": "execute_result"
    }
   ],
   "source": [
    "lm.score(X_train, y_train)"
   ]
  },
  {
   "cell_type": "code",
   "execution_count": 24,
   "metadata": {},
   "outputs": [
    {
     "data": {
      "text/plain": [
       "0.4128771959178896"
      ]
     },
     "execution_count": 24,
     "metadata": {},
     "output_type": "execute_result"
    }
   ],
   "source": [
    "lm.score(X_test, y_test)"
   ]
  },
  {
   "cell_type": "code",
   "execution_count": 25,
   "metadata": {},
   "outputs": [
    {
     "data": {
      "text/plain": [
       "array([1.27525338e+00, 6.38689485e-01, 2.50723033e-01, 3.03148262e-01,\n",
       "       5.47343632e-01, 4.17694202e-01, 3.29099382e-01, 2.99945321e-01,\n",
       "       5.96237059e-01, 3.46697469e-01, 7.64926155e-02, 2.58574919e-01,\n",
       "       1.82899718e-01, 1.37071736e-01, 1.56630422e+00, 1.68599327e-01,\n",
       "       4.14303608e-01, 4.15079546e-01, 2.40867399e-01, 7.98434282e-01,\n",
       "       1.99724038e-01, 6.56698004e-01, 1.95769618e-01, 7.91160571e-02,\n",
       "       2.38722680e-01, 2.93074173e-01, 3.62040600e-01, 4.36228744e-01,\n",
       "       9.25895589e-01, 3.16036265e-01, 1.40838536e-01, 3.31948131e-01,\n",
       "       1.81080930e+00, 8.93959264e-02, 2.56359292e-01, 3.00349988e-01,\n",
       "       4.56424147e-01, 2.61778086e-01, 9.40757659e-02, 2.18864956e-01,\n",
       "       2.37552367e-01, 9.84612876e-02, 9.36833957e-02, 4.23086334e-01,\n",
       "       1.29723669e-01, 3.43095459e-01, 1.25010246e-01, 1.95693674e-01,\n",
       "       8.16005064e-01, 5.47134596e-01, 7.58347944e-01, 4.30789287e-01,\n",
       "       3.70382798e-01, 9.29629882e-01, 1.04363579e-01, 6.05357064e-01,\n",
       "       2.68195035e-01, 5.48860073e-02, 4.16490288e-01, 1.94189284e-01,\n",
       "       6.70299857e-02, 2.10517274e-01, 6.77333681e-02, 3.20818399e-01,\n",
       "       2.12010618e-01, 2.48843579e-01, 3.75688212e-01, 7.42609013e-01,\n",
       "       3.24628942e-01, 7.62777002e-02, 2.51070574e-01, 3.92041168e-01,\n",
       "       3.35804033e-01, 2.45247640e-01, 8.28622640e-02, 1.45213762e+00,\n",
       "       1.67627993e-01, 3.87804611e-02, 1.43088585e-01, 4.51804445e-01,\n",
       "       1.90222541e-01, 7.07494179e-02, 9.79267676e-02, 4.85233266e-02,\n",
       "       7.37522663e-01, 6.44520000e-01, 1.56468599e-01, 5.49298450e-01,\n",
       "       4.57375560e-01, 1.46991686e+00, 6.95881104e-01, 5.05655883e-01,\n",
       "       1.89550396e-01, 7.00467022e-01, 6.76878838e-01, 1.42270675e-01,\n",
       "       4.55146892e-01, 4.17309723e-01, 1.26651135e-01, 2.39779704e-01,\n",
       "       9.89158604e-01, 1.14747385e+00, 1.84819812e-01, 6.62246981e-01,\n",
       "       1.53919668e-01, 7.98097656e-01, 6.39881577e-01, 1.94097083e-01,\n",
       "       2.79990630e-01, 5.43870266e-01, 6.00559828e-01, 3.94682624e-01,\n",
       "       3.04803319e-01, 1.35287993e-01, 4.05307546e-01, 1.51500506e-01,\n",
       "       5.98849334e-02, 2.80447236e-01, 3.61749531e-01, 1.53704132e-01,\n",
       "       9.94449205e-02, 5.07680019e-02, 2.49473802e-01, 3.02443132e-01,\n",
       "       3.00747202e-01, 2.91010237e-01, 5.65029256e-02, 1.61993161e-01,\n",
       "       1.71702794e-01, 4.37180611e+00, 6.34664521e-01, 9.11136960e-02,\n",
       "       6.55080511e-02, 7.95201842e-02, 6.80284592e-01, 3.89325979e-01,\n",
       "       5.34837658e-02, 3.34525965e-01, 1.50545947e-01, 1.11736714e-01,\n",
       "       9.11570515e-02, 3.40254684e-01, 4.16841744e-01, 5.88687113e-01,\n",
       "       9.48745230e-01, 5.93460711e-02, 3.62229166e-01, 2.10802637e-01,\n",
       "       8.58192324e-02, 3.89340982e-01, 2.17231959e-01, 9.69651506e-02,\n",
       "       6.87022095e-01, 6.28045869e-01, 4.46635224e-01, 1.93057753e-01,\n",
       "       9.69784878e-02, 1.03266444e-01, 9.81627324e-02, 4.98281175e-01,\n",
       "       6.76163250e-01, 6.21398735e-01, 3.38956611e-01, 2.79992409e-01,\n",
       "       7.99840770e-01, 3.36591447e-01, 2.23886300e-01, 1.85616560e-01,\n",
       "       5.45332290e-01, 1.00322582e-01, 3.57823834e-01, 3.99011665e-02,\n",
       "       1.34913132e-01, 7.00775002e-01, 1.02343705e+00, 1.14699648e-01,\n",
       "       1.93898105e-01, 2.68746154e-01, 1.15986010e-01, 4.35023415e-01,\n",
       "       1.39613085e-01, 1.55816431e-01, 2.15885340e-01, 1.20027879e-01,\n",
       "       1.60730745e-01, 3.17481929e-01, 5.60235377e-01, 6.70351452e-01,\n",
       "       5.39593750e-01, 1.37071207e-01, 1.66644799e-01, 4.97532252e-01,\n",
       "       2.15309358e-01, 4.28830354e-01, 2.25566789e-01, 5.05160202e-01,\n",
       "       6.68904919e-02, 3.02222461e-01, 1.10720721e-01, 9.05611798e-01,\n",
       "       1.25825582e-01, 1.87590992e-03, 2.05107869e-02, 5.45862671e-01,\n",
       "       1.27296726e-01, 1.18923910e-01, 2.63853654e-01, 3.03869296e-01,\n",
       "       3.94176452e-01, 1.29593472e+00, 8.94512999e-02, 4.13952673e-01,\n",
       "       1.69985208e-01, 1.23040401e-01, 1.21002791e-01, 1.11381412e-01,\n",
       "       2.71996397e-01, 5.51712040e-02, 2.07114295e-01, 2.29359201e-01,\n",
       "       2.68410909e-02, 4.24549033e-01, 3.13298035e-02, 2.18624790e-01,\n",
       "       1.07314502e+00, 1.44500714e-01, 1.06055789e-01, 2.23880667e-01,\n",
       "       3.88353919e+00, 3.16488831e-01, 2.08820218e-01, 4.00822091e-01,\n",
       "       6.94895190e-02, 4.14401505e-01, 6.88225028e-01, 1.38051459e-01,\n",
       "       4.34735255e-01, 4.44720584e-01, 2.02153936e-01, 3.75024525e-01,\n",
       "       1.35445690e+00, 1.93802961e-01, 5.96188009e-01, 2.29858505e-01,\n",
       "       2.83547634e-01, 6.79476928e-01, 2.83168629e-01, 5.64950189e-01,\n",
       "       1.41358731e-01, 9.96438316e-02, 1.10785684e-01, 4.66773072e-01,\n",
       "       5.21509721e-01, 3.05197487e-01, 8.49497798e-02, 1.81513080e-01,\n",
       "       4.74054635e-01, 9.23900463e-02, 1.86643146e-01, 3.19983662e-01,\n",
       "       2.20039122e-01, 2.90859508e-01, 2.72389497e-01, 2.47995429e-01,\n",
       "       4.13593800e-01, 1.29580645e-01, 4.63022658e-02, 2.54522997e-01,\n",
       "       1.22025368e-01, 1.97307852e-01, 1.71101747e-01, 3.19153953e-01,\n",
       "       8.80789191e-02, 7.95971896e-01, 1.06437819e+00, 4.56421207e-01,\n",
       "       8.96639283e-02, 5.21473913e-02, 1.68007723e-01, 1.03636735e-01,\n",
       "       8.10262226e-02, 9.30567026e-01, 1.51163789e-01, 6.31201964e-01,\n",
       "       6.52732113e-02, 2.01627787e-01, 5.54990430e-02, 4.29251737e-01,\n",
       "       6.23920980e-02, 1.81761186e-01, 1.32033137e-01, 3.12549012e-01,\n",
       "       1.92581966e-01, 1.07282902e-01, 2.51698683e-01, 1.57933524e-01,\n",
       "       1.42091852e-01, 6.70507015e-01, 3.31533491e-01, 2.80979833e-01,\n",
       "       3.41501716e-01, 5.68145663e-01, 6.99993078e-02, 1.76887593e-01,\n",
       "       1.20628603e-01, 4.45480705e-01, 1.36538982e-01, 1.27928800e+00,\n",
       "       1.13687196e+00, 8.96187265e-01, 1.20905298e-01, 1.13777535e-01,\n",
       "       1.31114284e-01, 1.41836019e-01, 5.55723830e-01, 1.83991401e-01,\n",
       "       5.77874508e-01, 5.11188811e-01, 5.50659145e-01, 9.04201496e-02,\n",
       "       1.71987827e-01, 1.42359046e+00, 4.99308432e-02, 1.33104226e-01,\n",
       "       9.21515115e-02, 1.62388334e-01, 1.19658031e-01, 5.47888473e-01,\n",
       "       2.74844831e-01, 1.97775554e-01, 1.66500044e-01, 5.40473795e-01,\n",
       "       4.39716597e-02, 4.94173262e-01, 8.52365655e-01, 1.40659608e-01,\n",
       "       4.96614115e-01, 3.48393057e-02, 2.71363159e-01, 1.23296271e-01,\n",
       "       6.24759004e-02, 1.72929644e-01, 4.15062531e-01, 2.98595393e-01,\n",
       "       2.90499938e-01, 2.78989616e-01, 1.55732893e-01, 3.72518762e-01,\n",
       "       8.54355128e-02, 9.79465513e-01, 1.16391345e+00, 8.06303006e-02,\n",
       "       1.14421528e+00, 9.14888792e-01, 3.66660198e-01, 1.84007695e-01,\n",
       "       1.20986782e-01, 6.48003570e-02, 8.11805284e-02, 4.70145193e-01,\n",
       "       6.74599236e-01, 9.67877044e-01, 1.13546072e-01, 1.71400791e-01,\n",
       "       7.72244833e-01, 5.96054495e-01, 6.40417753e-01, 3.20373878e-01,\n",
       "       4.09183929e-01, 2.23599057e-01, 3.23419994e-01, 4.24891537e-02,\n",
       "       7.76690109e-01, 8.48838710e-01, 1.22474061e-01, 1.36538291e-01,\n",
       "       1.64716292e-01, 7.75409208e-01, 8.34741041e-02, 9.09484381e-02,\n",
       "       6.51510222e-01, 1.13258169e-01, 7.37031540e-02, 1.79038715e-01,\n",
       "       6.53650322e-02, 3.23238237e-01, 2.12030417e-01, 2.99215811e-01,\n",
       "       1.66125413e-01, 1.77487355e-01, 3.01944447e-01, 7.56083015e-01,\n",
       "       7.38865756e-01, 1.90207916e-01, 1.06073904e+00, 7.90712420e-02,\n",
       "       4.87011696e-01, 2.33839287e+00, 3.96298851e-01, 2.97851235e-01,\n",
       "       4.05082718e-01, 2.21187539e-01, 1.87560279e-01, 8.35277285e-02,\n",
       "       1.76970166e+00, 2.32800930e-01, 7.34242747e-02, 1.69014572e-01,\n",
       "       7.34126689e-02, 1.42861139e-01, 1.00179219e-01, 4.98900299e-01])"
      ]
     },
     "execution_count": 25,
     "metadata": {},
     "output_type": "execute_result"
    }
   ],
   "source": [
    "preds = lm.predict(X_test)\n",
    "preds"
   ]
  },
  {
   "cell_type": "code",
   "execution_count": 26,
   "metadata": {},
   "outputs": [
    {
     "data": {
      "text/plain": [
       "0.12401051499127547"
      ]
     },
     "execution_count": 26,
     "metadata": {},
     "output_type": "execute_result"
    }
   ],
   "source": [
    "MSE(y_test, preds)"
   ]
  },
  {
   "cell_type": "code",
   "execution_count": 27,
   "metadata": {},
   "outputs": [
    {
     "data": {
      "text/plain": [
       "0.5112498473830641"
      ]
     },
     "execution_count": 27,
     "metadata": {},
     "output_type": "execute_result"
    }
   ],
   "source": [
    "cross_val_score(lm, X_train, y_train, cv=3).mean()"
   ]
  },
  {
   "cell_type": "code",
   "execution_count": 28,
   "metadata": {},
   "outputs": [
    {
     "data": {
      "text/plain": [
       "-0.037492025562221254"
      ]
     },
     "execution_count": 28,
     "metadata": {},
     "output_type": "execute_result"
    }
   ],
   "source": [
    "lm.intercept_"
   ]
  },
  {
   "cell_type": "code",
   "execution_count": 29,
   "metadata": {},
   "outputs": [
    {
     "data": {
      "text/plain": [
       "array([ 0.00000000e+00, -9.06393016e-17,  3.23373995e-03,  4.18037849e-01,\n",
       "       -6.02278995e-03,  1.62235188e-04,  1.57685210e-03, -2.22647832e-03,\n",
       "       -3.24813106e-04, -3.35543888e-04,  1.31138191e-03, -1.02650424e-03,\n",
       "        3.78210730e-01, -1.18558315e-02,  2.01672537e-03, -1.74688276e-03,\n",
       "        3.06305693e-03,  6.58087089e-04])"
      ]
     },
     "execution_count": 29,
     "metadata": {},
     "output_type": "execute_result"
    }
   ],
   "source": [
    "lm.coef_"
   ]
  },
  {
   "cell_type": "code",
   "execution_count": 30,
   "metadata": {},
   "outputs": [
    {
     "data": {
      "text/plain": [
       "Index(['garden_didrain', 'ohare_didrain', 'tmpdiff', 'garden_prcp',\n",
       "       'garden_snfall', 'garden_sndpth', 'garden_maxtmp', 'garden_mintmp',\n",
       "       'garden_medtmp', 'garden_tobs', 'lake_temp', 'ohare_wspd', 'ohare_prcp',\n",
       "       'ohare_snfall', 'ohare_sndpth', 'ohare_maxtmp', 'ohare_mintmp',\n",
       "       'ohare_medtmp'],\n",
       "      dtype='object')"
      ]
     },
     "execution_count": 30,
     "metadata": {},
     "output_type": "execute_result"
    }
   ],
   "source": [
    "X.columns"
   ]
  },
  {
   "cell_type": "code",
   "execution_count": 31,
   "metadata": {},
   "outputs": [
    {
     "name": "stderr",
     "output_type": "stream",
     "text": [
      "/Users/blakewallace/anaconda3/lib/python3.6/site-packages/sklearn/preprocessing/data.py:625: DataConversionWarning: Data with input dtype int64, float64 were all converted to float64 by StandardScaler.\n",
      "  return self.partial_fit(X, y)\n",
      "/Users/blakewallace/anaconda3/lib/python3.6/site-packages/sklearn/base.py:462: DataConversionWarning: Data with input dtype int64, float64 were all converted to float64 by StandardScaler.\n",
      "  return self.fit(X, **fit_params).transform(X)\n",
      "/Users/blakewallace/anaconda3/lib/python3.6/site-packages/ipykernel_launcher.py:3: DataConversionWarning: Data with input dtype int64, float64 were all converted to float64 by StandardScaler.\n",
      "  This is separate from the ipykernel package so we can avoid doing imports until\n"
     ]
    }
   ],
   "source": [
    "ss = StandardScaler()\n",
    "X_train_scaled = ss.fit_transform(X_train)\n",
    "X_test_scaled = ss.transform(X_test)"
   ]
  },
  {
   "cell_type": "code",
   "execution_count": 34,
   "metadata": {},
   "outputs": [
    {
     "name": "stdout",
     "output_type": "stream",
     "text": [
      "LRM train: 0.5357611687238448\n",
      "LRM test: 0.41287719591788835\n",
      "percent difference relative to training data: 22.936%\n",
      "\n",
      "Lasso train: 0.0\n",
      "Lasso test: -0.00297437911631393\n",
      "percent difference relative to training data: 0.555%\n",
      "\n",
      "Ridge train: 0.5357605098543312\n",
      "Ridge test: 0.41313782621308254\n",
      "percent difference relative to training data: 22.888%\n"
     ]
    },
    {
     "data": {
      "text/html": [
       "<div>\n",
       "<style scoped>\n",
       "    .dataframe tbody tr th:only-of-type {\n",
       "        vertical-align: middle;\n",
       "    }\n",
       "\n",
       "    .dataframe tbody tr th {\n",
       "        vertical-align: top;\n",
       "    }\n",
       "\n",
       "    .dataframe thead th {\n",
       "        text-align: right;\n",
       "    }\n",
       "</style>\n",
       "<table border=\"1\" class=\"dataframe\">\n",
       "  <thead>\n",
       "    <tr style=\"text-align: right;\">\n",
       "      <th></th>\n",
       "      <th>Model</th>\n",
       "      <th>train</th>\n",
       "      <th>test</th>\n",
       "      <th>percent_difference</th>\n",
       "    </tr>\n",
       "  </thead>\n",
       "  <tbody>\n",
       "    <tr>\n",
       "      <th>1</th>\n",
       "      <td>Lasso</td>\n",
       "      <td>0.000000</td>\n",
       "      <td>-0.002974</td>\n",
       "      <td>0.555</td>\n",
       "    </tr>\n",
       "    <tr>\n",
       "      <th>2</th>\n",
       "      <td>Ridge</td>\n",
       "      <td>0.535761</td>\n",
       "      <td>0.413138</td>\n",
       "      <td>22.888</td>\n",
       "    </tr>\n",
       "    <tr>\n",
       "      <th>0</th>\n",
       "      <td>LRM</td>\n",
       "      <td>0.535761</td>\n",
       "      <td>0.412877</td>\n",
       "      <td>22.936</td>\n",
       "    </tr>\n",
       "  </tbody>\n",
       "</table>\n",
       "</div>"
      ],
      "text/plain": [
       "   Model     train      test  percent_difference\n",
       "1  Lasso  0.000000 -0.002974               0.555\n",
       "2  Ridge  0.535761  0.413138              22.888\n",
       "0    LRM  0.535761  0.412877              22.936"
      ]
     },
     "execution_count": 34,
     "metadata": {},
     "output_type": "execute_result"
    }
   ],
   "source": [
    "lr = LinearRegression()\n",
    "ridge = Ridge()\n",
    "lasso = Lasso()\n",
    "\n",
    "\n",
    "\n",
    "lr.fit(X_train_scaled, y_train)\n",
    "ridge.fit(X_train_scaled, y_train)\n",
    "lasso.fit(X_train_scaled, y_train)\n",
    "\n",
    "print(f'LRM train: {lr.score(X_train_scaled, y_train)}')\n",
    "print(f'LRM test: {lr.score(X_test_scaled, y_test)}')\n",
    "print(f'percent difference relative to training data: { round(100* (lr.score(X_train_scaled, y_train) - (lr.score(X_test_scaled, y_test)))/ lr.score(X_train_scaled, y_train), 3)}%' )\n",
    "print()\n",
    "\n",
    "print(f'Lasso train: {lasso.score(X_train_scaled, y_train)}')\n",
    "print(f'Lasso test: {lasso.score(X_test_scaled, y_test)}')\n",
    "print(f'percent difference relative to training data: { round(100* (lasso.score(X_train_scaled, y_train) - (lasso.score(X_test_scaled, y_test)))/ lr.score(X_train_scaled, y_train), 3)}%' )\n",
    "print()\n",
    "\n",
    "print(f'Ridge train: {ridge.score(X_train_scaled, y_train)}')\n",
    "print(f'Ridge test: {ridge.score(X_test_scaled, y_test)}')\n",
    "print(f'percent difference relative to training data: { round(100* (ridge.score(X_train_scaled, y_train) - (ridge.score(X_test_scaled, y_test)))/ lr.score(X_train_scaled, y_train), 3)}%' )\n",
    "\n",
    "data_dict = {\n",
    "    'Model' :             ['LRM', 'Lasso', 'Ridge'],\n",
    "           \n",
    "    'train' :             [lr.score(X_train_scaled, y_train), \n",
    "                           lasso.score(X_train_scaled, y_train), \n",
    "                           ridge.score(X_train_scaled, y_train)],\n",
    "    \n",
    "     'test' :             [lr.score(X_test_scaled, y_test),  \n",
    "                           lasso.score(X_test_scaled, y_test), \n",
    "                           ridge.score(X_test_scaled, y_test)],\n",
    "   \n",
    "    'percent_difference': [round(100* (lr.score(X_train_scaled, y_train) - (lr.score(X_test_scaled, y_test)))/ lr.score(X_train_scaled, y_train), 3),\n",
    "                           round(100* (lasso.score(X_train_scaled, y_train) - (lasso.score(X_test_scaled, y_test)))/ lr.score(X_train_scaled, y_train), 3),\n",
    "                           round(100* (ridge.score(X_train_scaled, y_train) - (ridge.score(X_test_scaled, y_test)))/ lr.score(X_train_scaled, y_train), 3)]\n",
    "}\n",
    "\n",
    "train_fit_test = pd.DataFrame(data = data_dict, columns=['Model', 'train', 'test', 'percent_difference'])\n",
    "train_fit_test.sort_values('percent_difference')\n"
   ]
  },
  {
   "cell_type": "code",
   "execution_count": 35,
   "metadata": {},
   "outputs": [
    {
     "name": "stdout",
     "output_type": "stream",
     "text": [
      "LRM test: 0.40659057613045324\n",
      "Lasso test: -7.073578980842932e-05\n",
      "Ridge tes: 0.40686722982835494\n"
     ]
    },
    {
     "name": "stderr",
     "output_type": "stream",
     "text": [
      "/Users/blakewallace/anaconda3/lib/python3.6/site-packages/sklearn/model_selection/_split.py:2179: FutureWarning: From version 0.21, test_size will always complement train_size unless both are specified.\n",
      "  FutureWarning)\n",
      "/Users/blakewallace/anaconda3/lib/python3.6/site-packages/sklearn/preprocessing/data.py:625: DataConversionWarning: Data with input dtype int64, float64 were all converted to float64 by StandardScaler.\n",
      "  return self.partial_fit(X, y)\n",
      "/Users/blakewallace/anaconda3/lib/python3.6/site-packages/ipykernel_launcher.py:13: DataConversionWarning: Data with input dtype int64, float64 were all converted to float64 by StandardScaler.\n",
      "  del sys.path[0]\n",
      "/Users/blakewallace/anaconda3/lib/python3.6/site-packages/ipykernel_launcher.py:15: DataConversionWarning: Data with input dtype int64, float64 were all converted to float64 by StandardScaler.\n",
      "  from ipykernel import kernelapp as app\n"
     ]
    },
    {
     "data": {
      "text/html": [
       "<div>\n",
       "<style scoped>\n",
       "    .dataframe tbody tr th:only-of-type {\n",
       "        vertical-align: middle;\n",
       "    }\n",
       "\n",
       "    .dataframe tbody tr th {\n",
       "        vertical-align: top;\n",
       "    }\n",
       "\n",
       "    .dataframe thead th {\n",
       "        text-align: right;\n",
       "    }\n",
       "</style>\n",
       "<table border=\"1\" class=\"dataframe\">\n",
       "  <thead>\n",
       "    <tr style=\"text-align: right;\">\n",
       "      <th></th>\n",
       "      <th>Model</th>\n",
       "      <th>train</th>\n",
       "      <th>test</th>\n",
       "      <th>percent_difference</th>\n",
       "    </tr>\n",
       "  </thead>\n",
       "  <tbody>\n",
       "    <tr>\n",
       "      <th>1</th>\n",
       "      <td>Lasso</td>\n",
       "      <td>0.000000</td>\n",
       "      <td>-0.000071</td>\n",
       "      <td>0.013</td>\n",
       "    </tr>\n",
       "    <tr>\n",
       "      <th>2</th>\n",
       "      <td>Ridge</td>\n",
       "      <td>0.541024</td>\n",
       "      <td>0.406867</td>\n",
       "      <td>24.797</td>\n",
       "    </tr>\n",
       "    <tr>\n",
       "      <th>0</th>\n",
       "      <td>LRM</td>\n",
       "      <td>0.541024</td>\n",
       "      <td>0.406591</td>\n",
       "      <td>24.848</td>\n",
       "    </tr>\n",
       "  </tbody>\n",
       "</table>\n",
       "</div>"
      ],
      "text/plain": [
       "   Model     train      test  percent_difference\n",
       "1  Lasso  0.000000 -0.000071               0.013\n",
       "2  Ridge  0.541024  0.406867              24.797\n",
       "0    LRM  0.541024  0.406591              24.848"
      ]
     },
     "execution_count": 35,
     "metadata": {},
     "output_type": "execute_result"
    }
   ],
   "source": [
    "# The final output compares the model scores between the training and the test data\n",
    "\n",
    "lr = LinearRegression()\n",
    "ridge = Ridge()\n",
    "lasso = Lasso()\n",
    "\n",
    "X_train, X_test, y_train, y_test = train_test_split(X, \n",
    "                                                    y,\n",
    "                                                    train_size = 0.7,\n",
    "                                                    random_state = 42)\n",
    "ss = StandardScaler()\n",
    "ss.fit(X_train)\n",
    "X_train_scaled = ss.transform(X_train)\n",
    "\n",
    "X_test_scaled = ss.transform(X_test)\n",
    "\n",
    "# instantiate the models\n",
    "lr = LinearRegression()\n",
    "ridge = Ridge()\n",
    "lasso = Lasso()\n",
    "\n",
    "# fith the models to the training data\n",
    "lr.fit(X_train_scaled, y_train)\n",
    "ridge.fit(X_train_scaled, y_train)\n",
    "lasso.fit(X_train_scaled, y_train)\n",
    "\n",
    "# apply each model to the test data and print out the results\n",
    "print(f'LRM test: {lr.score(X_test_scaled, y_test)}')\n",
    "print(f'Lasso test: {lasso.score(X_test_scaled, y_test)}')\n",
    "print(f'Ridge tes: {ridge.score(X_test_scaled, y_test)}')\n",
    "\n",
    "data_dict = {\n",
    "    'Model' :             ['LRM', 'Lasso', 'Ridge'],\n",
    "           \n",
    "    'train' :             [lr.score(X_train_scaled, y_train), \n",
    "                           lasso.score(X_train_scaled, y_train), \n",
    "                           ridge.score(X_train_scaled, y_train)],\n",
    "    \n",
    "     'test' :             [lr.score(X_test_scaled, y_test),  \n",
    "                           lasso.score(X_test_scaled, y_test), \n",
    "                           ridge.score(X_test_scaled, y_test)],\n",
    "   \n",
    "    # this compares the model scores of the training vs the test data\n",
    "    'percent_difference': [round(100* (lr.score(X_train_scaled, y_train) - (lr.score(X_test_scaled, y_test)))/ lr.score(X_train_scaled, y_train), 3),\n",
    "                           round(100* (lasso.score(X_train_scaled, y_train) - (lasso.score(X_test_scaled, y_test)))/ lr.score(X_train_scaled, y_train), 3),\n",
    "                           round(100* (ridge.score(X_train_scaled, y_train) - (ridge.score(X_test_scaled, y_test)))/ lr.score(X_train_scaled, y_train), 3)]\n",
    "}\n",
    "\n",
    "train_fit_test = pd.DataFrame(data = data_dict, columns=['Model', 'train', 'test', 'percent_difference'])\n",
    "train_fit_test.sort_values('percent_difference')\n"
   ]
  },
  {
   "cell_type": "code",
   "execution_count": 37,
   "metadata": {},
   "outputs": [
    {
     "name": "stdout",
     "output_type": "stream",
     "text": [
      "LRM test: 0.40657789961026486\n",
      "Lasso test: -7.073578980842932e-05\n",
      "Ridge tes: 0.40686722982835494\n"
     ]
    },
    {
     "name": "stderr",
     "output_type": "stream",
     "text": [
      "/Users/blakewallace/anaconda3/lib/python3.6/site-packages/sklearn/model_selection/_split.py:2179: FutureWarning: From version 0.21, test_size will always complement train_size unless both are specified.\n",
      "  FutureWarning)\n",
      "/Users/blakewallace/anaconda3/lib/python3.6/site-packages/sklearn/preprocessing/data.py:625: DataConversionWarning: Data with input dtype int64, float64 were all converted to float64 by StandardScaler.\n",
      "  return self.partial_fit(X, y)\n",
      "/Users/blakewallace/anaconda3/lib/python3.6/site-packages/ipykernel_launcher.py:13: DataConversionWarning: Data with input dtype int64, float64 were all converted to float64 by StandardScaler.\n",
      "  del sys.path[0]\n",
      "/Users/blakewallace/anaconda3/lib/python3.6/site-packages/ipykernel_launcher.py:15: DataConversionWarning: Data with input dtype int64, float64 were all converted to float64 by StandardScaler.\n",
      "  from ipykernel import kernelapp as app\n"
     ]
    },
    {
     "data": {
      "text/html": [
       "<div>\n",
       "<style scoped>\n",
       "    .dataframe tbody tr th:only-of-type {\n",
       "        vertical-align: middle;\n",
       "    }\n",
       "\n",
       "    .dataframe tbody tr th {\n",
       "        vertical-align: top;\n",
       "    }\n",
       "\n",
       "    .dataframe thead th {\n",
       "        text-align: right;\n",
       "    }\n",
       "</style>\n",
       "<table border=\"1\" class=\"dataframe\">\n",
       "  <thead>\n",
       "    <tr style=\"text-align: right;\">\n",
       "      <th></th>\n",
       "      <th>Model</th>\n",
       "      <th>train</th>\n",
       "      <th>test</th>\n",
       "      <th>percent_difference</th>\n",
       "    </tr>\n",
       "  </thead>\n",
       "  <tbody>\n",
       "    <tr>\n",
       "      <th>1</th>\n",
       "      <td>Lasso</td>\n",
       "      <td>0.000000</td>\n",
       "      <td>-0.000071</td>\n",
       "      <td>-0.000</td>\n",
       "    </tr>\n",
       "    <tr>\n",
       "      <th>2</th>\n",
       "      <td>Ridge</td>\n",
       "      <td>0.541024</td>\n",
       "      <td>0.406867</td>\n",
       "      <td>-0.000</td>\n",
       "    </tr>\n",
       "    <tr>\n",
       "      <th>0</th>\n",
       "      <td>LRM</td>\n",
       "      <td>0.541037</td>\n",
       "      <td>0.406578</td>\n",
       "      <td>24.852</td>\n",
       "    </tr>\n",
       "  </tbody>\n",
       "</table>\n",
       "</div>"
      ],
      "text/plain": [
       "   Model     train      test  percent_difference\n",
       "1  Lasso  0.000000 -0.000071              -0.000\n",
       "2  Ridge  0.541024  0.406867              -0.000\n",
       "0    LRM  0.541037  0.406578              24.852"
      ]
     },
     "execution_count": 37,
     "metadata": {},
     "output_type": "execute_result"
    }
   ],
   "source": [
    "# The final output compares the model scores between the training and the test data\n",
    "\n",
    "lr = LinearRegression()\n",
    "ridge = Ridge()\n",
    "lasso = Lasso()\n",
    "\n",
    "X_train, X_test, y_train, y_test = train_test_split(X, \n",
    "                                                    y,\n",
    "                                                    train_size = 0.7,\n",
    "                                                    random_state = 42)\n",
    "ss = StandardScaler()\n",
    "ss.fit(X_train)\n",
    "X_train_scaled = ss.transform(X_train)\n",
    "\n",
    "X_test_scaled = ss.transform(X_test)\n",
    "\n",
    "# instantiate the models\n",
    "lr = LinearRegression()\n",
    "ridge = Ridge()\n",
    "lasso = Lasso()\n",
    "\n",
    "# fith the models to the training data\n",
    "lr.fit(X_train, y_train)\n",
    "ridge.fit(X_train_scaled, y_train)\n",
    "lasso.fit(X_train_scaled, y_train)\n",
    "\n",
    "# apply each model to the test data and print out the results\n",
    "print(f'LRM test: {lr.score(X_test, y_test)}')\n",
    "print(f'Lasso test: {lasso.score(X_test_scaled, y_test)}')\n",
    "print(f'Ridge tes: {ridge.score(X_test_scaled, y_test)}')\n",
    "\n",
    "data_dict = {\n",
    "    'Model' :             ['LRM', 'Lasso', 'Ridge'],\n",
    "           \n",
    "    'train' :             [lr.score(X_train, y_train), \n",
    "                           lasso.score(X_train_scaled, y_train), \n",
    "                           ridge.score(X_train_scaled, y_train)],\n",
    "    \n",
    "     'test' :             [lr.score(X_test, y_test),  \n",
    "                           lasso.score(X_test_scaled, y_test), \n",
    "                           ridge.score(X_test_scaled, y_test)],\n",
    "   \n",
    "    # this compares the model scores of the training vs the test data\n",
    "    'percent_difference': [round(100* (lr.score(X_train, y_train) - (lr.score(X_test, y_test)))/ lr.score(X_train, y_train), 3),\n",
    "                           round(100* (lasso.score(X_train_scaled, y_train) - (lasso.score(X_test_scaled, y_test)))/ lr.score(X_train_scaled, y_train), 3),\n",
    "                           round(100* (ridge.score(X_train_scaled, y_train) - (ridge.score(X_test_scaled, y_test)))/ lr.score(X_train_scaled, y_train), 3)]\n",
    "}\n",
    "\n",
    "train_fit_test = pd.DataFrame(data = data_dict, columns=['Model', 'train', 'test', 'percent_difference'])\n",
    "train_fit_test.sort_values('percent_difference')\n"
   ]
  },
  {
   "cell_type": "code",
   "execution_count": null,
   "metadata": {},
   "outputs": [],
   "source": []
  },
  {
   "cell_type": "code",
   "execution_count": 38,
   "metadata": {},
   "outputs": [
    {
     "name": "stdout",
     "output_type": "stream",
     "text": [
      "LRM test: 0.40657789961026486\n",
      "Lasso test: -7.073578980842932e-05\n",
      "Ridge tes: 0.40686722982835494\n"
     ]
    },
    {
     "name": "stderr",
     "output_type": "stream",
     "text": [
      "/Users/blakewallace/anaconda3/lib/python3.6/site-packages/sklearn/model_selection/_split.py:2179: FutureWarning: From version 0.21, test_size will always complement train_size unless both are specified.\n",
      "  FutureWarning)\n",
      "/Users/blakewallace/anaconda3/lib/python3.6/site-packages/sklearn/preprocessing/data.py:625: DataConversionWarning: Data with input dtype int64, float64 were all converted to float64 by StandardScaler.\n",
      "  return self.partial_fit(X, y)\n",
      "/Users/blakewallace/anaconda3/lib/python3.6/site-packages/ipykernel_launcher.py:13: DataConversionWarning: Data with input dtype int64, float64 were all converted to float64 by StandardScaler.\n",
      "  del sys.path[0]\n",
      "/Users/blakewallace/anaconda3/lib/python3.6/site-packages/ipykernel_launcher.py:15: DataConversionWarning: Data with input dtype int64, float64 were all converted to float64 by StandardScaler.\n",
      "  from ipykernel import kernelapp as app\n"
     ]
    },
    {
     "data": {
      "text/html": [
       "<div>\n",
       "<style scoped>\n",
       "    .dataframe tbody tr th:only-of-type {\n",
       "        vertical-align: middle;\n",
       "    }\n",
       "\n",
       "    .dataframe tbody tr th {\n",
       "        vertical-align: top;\n",
       "    }\n",
       "\n",
       "    .dataframe thead th {\n",
       "        text-align: right;\n",
       "    }\n",
       "</style>\n",
       "<table border=\"1\" class=\"dataframe\">\n",
       "  <thead>\n",
       "    <tr style=\"text-align: right;\">\n",
       "      <th></th>\n",
       "      <th>Model</th>\n",
       "      <th>train</th>\n",
       "      <th>test</th>\n",
       "      <th>percent_difference</th>\n",
       "    </tr>\n",
       "  </thead>\n",
       "  <tbody>\n",
       "    <tr>\n",
       "      <th>1</th>\n",
       "      <td>Lasso</td>\n",
       "      <td>0.000000</td>\n",
       "      <td>-0.000071</td>\n",
       "      <td>-0.000</td>\n",
       "    </tr>\n",
       "    <tr>\n",
       "      <th>2</th>\n",
       "      <td>Ridge</td>\n",
       "      <td>0.541024</td>\n",
       "      <td>0.406867</td>\n",
       "      <td>-0.000</td>\n",
       "    </tr>\n",
       "    <tr>\n",
       "      <th>0</th>\n",
       "      <td>LRM</td>\n",
       "      <td>0.541037</td>\n",
       "      <td>0.406578</td>\n",
       "      <td>24.852</td>\n",
       "    </tr>\n",
       "  </tbody>\n",
       "</table>\n",
       "</div>"
      ],
      "text/plain": [
       "   Model     train      test  percent_difference\n",
       "1  Lasso  0.000000 -0.000071              -0.000\n",
       "2  Ridge  0.541024  0.406867              -0.000\n",
       "0    LRM  0.541037  0.406578              24.852"
      ]
     },
     "execution_count": 38,
     "metadata": {},
     "output_type": "execute_result"
    }
   ],
   "source": []
  },
  {
   "cell_type": "code",
   "execution_count": null,
   "metadata": {},
   "outputs": [],
   "source": []
  },
  {
   "cell_type": "markdown",
   "metadata": {},
   "source": [
    "# Well fit Ridge model.  Although, it is heavily biased."
   ]
  },
  {
   "cell_type": "code",
   "execution_count": 41,
   "metadata": {},
   "outputs": [
    {
     "name": "stdout",
     "output_type": "stream",
     "text": [
      "LRM: 0.5226083422829253\n",
      "Lasso: -0.02274463168120011\n",
      "Ridge: 0.5227064373222675\n"
     ]
    },
    {
     "name": "stderr",
     "output_type": "stream",
     "text": [
      "/Users/blakewallace/anaconda3/lib/python3.6/site-packages/sklearn/model_selection/_split.py:2179: FutureWarning: From version 0.21, test_size will always complement train_size unless both are specified.\n",
      "  FutureWarning)\n",
      "/Users/blakewallace/anaconda3/lib/python3.6/site-packages/sklearn/preprocessing/data.py:625: DataConversionWarning: Data with input dtype int64, float64 were all converted to float64 by StandardScaler.\n",
      "  return self.partial_fit(X, y)\n",
      "/Users/blakewallace/anaconda3/lib/python3.6/site-packages/ipykernel_launcher.py:13: DataConversionWarning: Data with input dtype int64, float64 were all converted to float64 by StandardScaler.\n",
      "  del sys.path[0]\n",
      "/Users/blakewallace/anaconda3/lib/python3.6/site-packages/ipykernel_launcher.py:15: DataConversionWarning: Data with input dtype int64, float64 were all converted to float64 by StandardScaler.\n",
      "  from ipykernel import kernelapp as app\n"
     ]
    },
    {
     "data": {
      "text/html": [
       "<div>\n",
       "<style scoped>\n",
       "    .dataframe tbody tr th:only-of-type {\n",
       "        vertical-align: middle;\n",
       "    }\n",
       "\n",
       "    .dataframe tbody tr th {\n",
       "        vertical-align: top;\n",
       "    }\n",
       "\n",
       "    .dataframe thead th {\n",
       "        text-align: right;\n",
       "    }\n",
       "</style>\n",
       "<table border=\"1\" class=\"dataframe\">\n",
       "  <thead>\n",
       "    <tr style=\"text-align: right;\">\n",
       "      <th></th>\n",
       "      <th>Model</th>\n",
       "      <th>train</th>\n",
       "      <th>test</th>\n",
       "      <th>percent_difference</th>\n",
       "    </tr>\n",
       "  </thead>\n",
       "  <tbody>\n",
       "    <tr>\n",
       "      <th>1</th>\n",
       "      <td>Lasso</td>\n",
       "      <td>0.000000</td>\n",
       "      <td>-0.022745</td>\n",
       "      <td>-4.478</td>\n",
       "    </tr>\n",
       "    <tr>\n",
       "      <th>0</th>\n",
       "      <td>LRM</td>\n",
       "      <td>0.507078</td>\n",
       "      <td>0.522608</td>\n",
       "      <td>-3.063</td>\n",
       "    </tr>\n",
       "    <tr>\n",
       "      <th>2</th>\n",
       "      <td>Ridge</td>\n",
       "      <td>0.507078</td>\n",
       "      <td>0.522706</td>\n",
       "      <td>3.077</td>\n",
       "    </tr>\n",
       "  </tbody>\n",
       "</table>\n",
       "</div>"
      ],
      "text/plain": [
       "   Model     train      test  percent_difference\n",
       "1  Lasso  0.000000 -0.022745              -4.478\n",
       "0    LRM  0.507078  0.522608              -3.063\n",
       "2  Ridge  0.507078  0.522706               3.077"
      ]
     },
     "execution_count": 41,
     "metadata": {},
     "output_type": "execute_result"
    }
   ],
   "source": [
    "# The final output compares the model scores between the training and the test data\n",
    "\n",
    "lr = LinearRegression()\n",
    "ridge = Ridge()\n",
    "lasso = Lasso()\n",
    "\n",
    "X_train, X_test, y_train, y_test = train_test_split(X, \n",
    "                                                    y,\n",
    "                                                    train_size = 0.9,\n",
    "                                                    random_state = 42)\n",
    "ss = StandardScaler()\n",
    "ss.fit(X_train)\n",
    "X_train_scaled = ss.transform(X_train)\n",
    "\n",
    "X_test_scaled = ss.transform(X_test)\n",
    "\n",
    "\n",
    "lr.fit(X_train, y_train)\n",
    "ridge.fit(X_train_scaled, y_train)\n",
    "lasso.fit(X_train_scaled, y_train)\n",
    "\n",
    "print(f'LRM: {lr.score(X_test, y_test)}')\n",
    "print(f'Lasso: {lasso.score(X_test_scaled, y_test)}')\n",
    "print(f'Ridge: {ridge.score(X_test_scaled, y_test)}')\n",
    "\n",
    "data_dict = {\n",
    "    'Model' :             ['LRM', 'Lasso', 'Ridge'],\n",
    "           \n",
    "    'train' :             [lr.score(X_train, y_train), \n",
    "                           lasso.score(X_train_scaled, y_train), \n",
    "                           ridge.score(X_train_scaled, y_train)],\n",
    "    \n",
    "     'test' :             [lr.score(X_test, y_test),  \n",
    "                           lasso.score(X_test_scaled, y_test), \n",
    "                           ridge.score(X_test_scaled, y_test)],\n",
    "   \n",
    "    'percent_difference': [round(100* (lr.score(X_train, y_train) - (lr.score(X_test, y_test)))/ lr.score(X_train, y_train), 3),\n",
    "                           round(100* (lasso.score(X_train_scaled, y_train) - (lasso.score(X_test_scaled, y_test)))/ lr.score(X_train_scaled, y_train), 3),\n",
    "                           round(100* (ridge.score(X_train_scaled, y_train) - (ridge.score(X_test_scaled, y_test)))/ lr.score(X_train_scaled, y_train), 3)]\n",
    "}\n",
    "\n",
    "train_fit_test = pd.DataFrame(data = data_dict, columns=['Model', 'train', 'test', 'percent_difference'])\n",
    "train_fit_test.sort_values('percent_difference')\n",
    "\n"
   ]
  },
  {
   "cell_type": "code",
   "execution_count": 42,
   "metadata": {},
   "outputs": [
    {
     "name": "stdout",
     "output_type": "stream",
     "text": [
      "LRM: 0.522608342282925\n",
      "Lasso: -0.02274463168120011\n",
      "Ridge: 0.5227064373222675\n"
     ]
    },
    {
     "name": "stderr",
     "output_type": "stream",
     "text": [
      "/Users/blakewallace/anaconda3/lib/python3.6/site-packages/sklearn/model_selection/_split.py:2179: FutureWarning: From version 0.21, test_size will always complement train_size unless both are specified.\n",
      "  FutureWarning)\n",
      "/Users/blakewallace/anaconda3/lib/python3.6/site-packages/sklearn/preprocessing/data.py:625: DataConversionWarning: Data with input dtype int64, float64 were all converted to float64 by StandardScaler.\n",
      "  return self.partial_fit(X, y)\n",
      "/Users/blakewallace/anaconda3/lib/python3.6/site-packages/ipykernel_launcher.py:13: DataConversionWarning: Data with input dtype int64, float64 were all converted to float64 by StandardScaler.\n",
      "  del sys.path[0]\n",
      "/Users/blakewallace/anaconda3/lib/python3.6/site-packages/ipykernel_launcher.py:15: DataConversionWarning: Data with input dtype int64, float64 were all converted to float64 by StandardScaler.\n",
      "  from ipykernel import kernelapp as app\n"
     ]
    },
    {
     "data": {
      "text/html": [
       "<div>\n",
       "<style scoped>\n",
       "    .dataframe tbody tr th:only-of-type {\n",
       "        vertical-align: middle;\n",
       "    }\n",
       "\n",
       "    .dataframe tbody tr th {\n",
       "        vertical-align: top;\n",
       "    }\n",
       "\n",
       "    .dataframe thead th {\n",
       "        text-align: right;\n",
       "    }\n",
       "</style>\n",
       "<table border=\"1\" class=\"dataframe\">\n",
       "  <thead>\n",
       "    <tr style=\"text-align: right;\">\n",
       "      <th></th>\n",
       "      <th>Model</th>\n",
       "      <th>train</th>\n",
       "      <th>test</th>\n",
       "      <th>percent_difference</th>\n",
       "    </tr>\n",
       "  </thead>\n",
       "  <tbody>\n",
       "    <tr>\n",
       "      <th>2</th>\n",
       "      <td>Ridge</td>\n",
       "      <td>0.507078</td>\n",
       "      <td>0.522706</td>\n",
       "      <td>-3.082</td>\n",
       "    </tr>\n",
       "    <tr>\n",
       "      <th>0</th>\n",
       "      <td>LRM</td>\n",
       "      <td>0.507078</td>\n",
       "      <td>0.522608</td>\n",
       "      <td>-3.063</td>\n",
       "    </tr>\n",
       "    <tr>\n",
       "      <th>1</th>\n",
       "      <td>Lasso</td>\n",
       "      <td>0.000000</td>\n",
       "      <td>-0.022745</td>\n",
       "      <td>4.485</td>\n",
       "    </tr>\n",
       "  </tbody>\n",
       "</table>\n",
       "</div>"
      ],
      "text/plain": [
       "   Model     train      test  percent_difference\n",
       "2  Ridge  0.507078  0.522706              -3.082\n",
       "0    LRM  0.507078  0.522608              -3.063\n",
       "1  Lasso  0.000000 -0.022745               4.485"
      ]
     },
     "execution_count": 42,
     "metadata": {},
     "output_type": "execute_result"
    }
   ],
   "source": [
    "# The final output compares the model scores between the training and the test data\n",
    "\n",
    "lr = LinearRegression()\n",
    "ridge = Ridge()\n",
    "lasso = Lasso()\n",
    "\n",
    "X_train, X_test, y_train, y_test = train_test_split(X, \n",
    "                                                    y,\n",
    "                                                    train_size = 0.9,\n",
    "                                                    random_state = 42)\n",
    "ss = StandardScaler()\n",
    "ss.fit(X_train)\n",
    "X_train_scaled = ss.transform(X_train)\n",
    "\n",
    "X_test_scaled = ss.transform(X_test)\n",
    "\n",
    "\n",
    "lr.fit(X_train_scaled, y_train)\n",
    "ridge.fit(X_train_scaled, y_train)\n",
    "lasso.fit(X_train_scaled, y_train)\n",
    "\n",
    "print(f'LRM: {lr.score(X_test_scaled, y_test)}')\n",
    "print(f'Lasso: {lasso.score(X_test_scaled, y_test)}')\n",
    "print(f'Ridge: {ridge.score(X_test_scaled, y_test)}')\n",
    "\n",
    "data_dict = {\n",
    "    'Model' :             ['LRM', 'Lasso', 'Ridge'],\n",
    "           \n",
    "    'train' :             [lr.score(X_train_scaled, y_train), \n",
    "                           lasso.score(X_train_scaled, y_train), \n",
    "                           ridge.score(X_train_scaled, y_train)],\n",
    "    \n",
    "     'test' :             [lr.score(X_test_scaled, y_test),  \n",
    "                           lasso.score(X_test_scaled, y_test), \n",
    "                           ridge.score(X_test_scaled, y_test)],\n",
    "   \n",
    "    'percent_difference': [round(100* (lr.score(X_train_scaled, y_train) - (lr.score(X_test_scaled, y_test)))/ lr.score(X_train_scaled, y_train), 3),\n",
    "                           round(100* (lasso.score(X_train_scaled, y_train) - (lasso.score(X_test_scaled, y_test)))/ lr.score(X_train_scaled, y_train), 3),\n",
    "                           round(100* (ridge.score(X_train_scaled, y_train) - (ridge.score(X_test_scaled, y_test)))/ lr.score(X_train_scaled, y_train), 3)]\n",
    "}\n",
    "\n",
    "train_fit_test = pd.DataFrame(data = data_dict, columns=['Model', 'train', 'test', 'percent_difference'])\n",
    "train_fit_test.sort_values('percent_difference')\n",
    "\n"
   ]
  },
  {
   "cell_type": "code",
   "execution_count": 44,
   "metadata": {},
   "outputs": [
    {
     "name": "stdout",
     "output_type": "stream",
     "text": [
      "k = 5 folds cross-val on a train set that has 80-20 train/test split\n",
      "\n",
      "LRM: 0.522608342282925\n",
      "cross val: 0.4640265787619054\n",
      "\n",
      "Lasso: -0.02274463168120011\n",
      "cross val: -0.005259225851750804\n",
      "\n",
      "Ridge: 0.5227064373222675\n",
      "cross val: 0.4640398205844651\n"
     ]
    },
    {
     "name": "stderr",
     "output_type": "stream",
     "text": [
      "/Users/blakewallace/anaconda3/lib/python3.6/site-packages/sklearn/model_selection/_split.py:2179: FutureWarning: From version 0.21, test_size will always complement train_size unless both are specified.\n",
      "  FutureWarning)\n",
      "/Users/blakewallace/anaconda3/lib/python3.6/site-packages/sklearn/preprocessing/data.py:625: DataConversionWarning: Data with input dtype int64, float64 were all converted to float64 by StandardScaler.\n",
      "  return self.partial_fit(X, y)\n",
      "/Users/blakewallace/anaconda3/lib/python3.6/site-packages/ipykernel_launcher.py:17: DataConversionWarning: Data with input dtype int64, float64 were all converted to float64 by StandardScaler.\n",
      "/Users/blakewallace/anaconda3/lib/python3.6/site-packages/ipykernel_launcher.py:19: DataConversionWarning: Data with input dtype int64, float64 were all converted to float64 by StandardScaler.\n"
     ]
    },
    {
     "data": {
      "text/html": [
       "<div>\n",
       "<style scoped>\n",
       "    .dataframe tbody tr th:only-of-type {\n",
       "        vertical-align: middle;\n",
       "    }\n",
       "\n",
       "    .dataframe tbody tr th {\n",
       "        vertical-align: top;\n",
       "    }\n",
       "\n",
       "    .dataframe thead th {\n",
       "        text-align: right;\n",
       "    }\n",
       "</style>\n",
       "<table border=\"1\" class=\"dataframe\">\n",
       "  <thead>\n",
       "    <tr style=\"text-align: right;\">\n",
       "      <th></th>\n",
       "      <th>Model</th>\n",
       "      <th>train</th>\n",
       "      <th>test</th>\n",
       "      <th>cross-val</th>\n",
       "      <th>percent_difference</th>\n",
       "    </tr>\n",
       "  </thead>\n",
       "  <tbody>\n",
       "    <tr>\n",
       "      <th>1</th>\n",
       "      <td>Lasso</td>\n",
       "      <td>0.000000</td>\n",
       "      <td>-0.022745</td>\n",
       "      <td>-0.005259</td>\n",
       "      <td>1.037</td>\n",
       "    </tr>\n",
       "    <tr>\n",
       "      <th>2</th>\n",
       "      <td>Ridge</td>\n",
       "      <td>0.507078</td>\n",
       "      <td>0.522706</td>\n",
       "      <td>0.464040</td>\n",
       "      <td>8.487</td>\n",
       "    </tr>\n",
       "    <tr>\n",
       "      <th>0</th>\n",
       "      <td>LRM</td>\n",
       "      <td>0.507078</td>\n",
       "      <td>0.522608</td>\n",
       "      <td>0.464027</td>\n",
       "      <td>8.490</td>\n",
       "    </tr>\n",
       "  </tbody>\n",
       "</table>\n",
       "</div>"
      ],
      "text/plain": [
       "   Model     train      test  cross-val  percent_difference\n",
       "1  Lasso  0.000000 -0.022745  -0.005259               1.037\n",
       "2  Ridge  0.507078  0.522706   0.464040               8.487\n",
       "0    LRM  0.507078  0.522608   0.464027               8.490"
      ]
     },
     "execution_count": 44,
     "metadata": {},
     "output_type": "execute_result"
    }
   ],
   "source": [
    "# The final output compares the \n",
    "\n",
    "# import warnings\n",
    "# warnings.filterwarnings('ignore')\n",
    "\n",
    "#\n",
    "lr = LinearRegression()\n",
    "ridge = Ridge()\n",
    "lasso = Lasso()\n",
    "\n",
    "X_train, X_test, y_train, y_test = train_test_split(X, \n",
    "                                                    y,\n",
    "                                                    train_size = 0.9,\n",
    "                                                    random_state = 42)\n",
    "ss = StandardScaler()\n",
    "ss.fit(X_train)\n",
    "X_train_scaled = ss.transform(X_train)\n",
    "\n",
    "X_test_scaled = ss.transform(X_test)\n",
    "\n",
    "\n",
    "print('k = 5 folds cross-val on a train set that has 80-20 train/test split')\n",
    "print()\n",
    "\n",
    "\n",
    "# The LRM Model\n",
    "lr.fit(X_train_scaled, y_train)\n",
    "lr_cross_val = cross_val_score(LinearRegression(), X_train_scaled, y_train, cv=5).mean()\n",
    "\n",
    "print(f'LRM: {lr.score(X_test_scaled, y_test)}')\n",
    "print(f'cross val: {lr_cross_val}')\n",
    "print()\n",
    "\n",
    "\n",
    "# The Ridge Model\n",
    "lasso.fit(X_train_scaled, y_train)\n",
    "lasso_cross_val = cross_val_score(Lasso(), X_train_scaled, y_train, cv=5).mean()\n",
    "\n",
    "print(f'Lasso: {lasso.score(X_test_scaled, y_test)}')\n",
    "print(f'cross val: {lasso_cross_val}')\n",
    "print()\n",
    "\n",
    "\n",
    "# The Lasso Model\n",
    "ridge.fit(X_train_scaled, y_train)\n",
    "ridge_cross_val = cross_val_score(Ridge(), X_train_scaled, y_train, cv=5).mean()\n",
    "\n",
    "print(f'Ridge: {ridge.score(X_test_scaled, y_test)}')\n",
    "print(f'cross val: {ridge_cross_val}')\n",
    "\n",
    "data_dict = {\n",
    "    'Model' :             ['LRM', 'Lasso', 'Ridge'],\n",
    "           \n",
    "    'train' :             [lr.score(X_train_scaled, y_train), \n",
    "                           lasso.score(X_train_scaled, y_train), \n",
    "                           ridge.score(X_train_scaled, y_train)],\n",
    "    \n",
    "     'test' :             [lr.score(X_test_scaled, y_test),  \n",
    "                           lasso.score(X_test_scaled, y_test), \n",
    "                           ridge.score(X_test_scaled, y_test)],\n",
    "    'cross-val' :         [lr_cross_val,\n",
    "                           lasso_cross_val,\n",
    "                           ridge_cross_val],\n",
    "   \n",
    "    'percent_difference': [round(100* (lr.score(X_train_scaled, y_train) - (lr_cross_val))/ lr.score(X_train_scaled, y_train), 3),\n",
    "                           round(100* (lasso.score(X_train_scaled, y_train) - (lasso_cross_val))/ lr.score(X_train_scaled, y_train), 3),\n",
    "                           round(100* (ridge.score(X_train_scaled, y_train) - (ridge_cross_val))/ lr.score(X_train_scaled, y_train), 3)]\n",
    "}\n",
    "\n",
    "train_fit_test = pd.DataFrame(data = data_dict, columns=['Model', 'train', 'test', 'cross-val', 'percent_difference'])\n",
    "train_fit_test.sort_values('percent_difference')\n"
   ]
  },
  {
   "cell_type": "code",
   "execution_count": 45,
   "metadata": {},
   "outputs": [
    {
     "name": "stderr",
     "output_type": "stream",
     "text": [
      "/Users/blakewallace/anaconda3/lib/python3.6/site-packages/sklearn/model_selection/_split.py:2179: FutureWarning: From version 0.21, test_size will always complement train_size unless both are specified.\n",
      "  FutureWarning)\n",
      "/Users/blakewallace/anaconda3/lib/python3.6/site-packages/sklearn/preprocessing/data.py:625: DataConversionWarning: Data with input dtype int64, float64 were all converted to float64 by StandardScaler.\n",
      "  return self.partial_fit(X, y)\n",
      "/Users/blakewallace/anaconda3/lib/python3.6/site-packages/ipykernel_launcher.py:18: DataConversionWarning: Data with input dtype int64, float64 were all converted to float64 by StandardScaler.\n",
      "/Users/blakewallace/anaconda3/lib/python3.6/site-packages/ipykernel_launcher.py:20: DataConversionWarning: Data with input dtype int64, float64 were all converted to float64 by StandardScaler.\n",
      "/Users/blakewallace/anaconda3/lib/python3.6/site-packages/sklearn/model_selection/_split.py:2179: FutureWarning: From version 0.21, test_size will always complement train_size unless both are specified.\n",
      "  FutureWarning)\n",
      "/Users/blakewallace/anaconda3/lib/python3.6/site-packages/sklearn/preprocessing/data.py:625: DataConversionWarning: Data with input dtype int64, float64 were all converted to float64 by StandardScaler.\n",
      "  return self.partial_fit(X, y)\n",
      "/Users/blakewallace/anaconda3/lib/python3.6/site-packages/ipykernel_launcher.py:18: DataConversionWarning: Data with input dtype int64, float64 were all converted to float64 by StandardScaler.\n",
      "/Users/blakewallace/anaconda3/lib/python3.6/site-packages/ipykernel_launcher.py:20: DataConversionWarning: Data with input dtype int64, float64 were all converted to float64 by StandardScaler.\n"
     ]
    },
    {
     "name": "stdout",
     "output_type": "stream",
     "text": [
      "\n",
      "k = 5 folds cross-val on a train set that has 80-20 train/test split\n",
      "   Model     train      test  cross_val  train-cross_val_%  test-cross_val_%  \\\n",
      "0    LRM  0.507078  0.522608   0.464027              8.490            11.209   \n",
      "1  Lasso  0.000000 -0.022745  -0.005259              1.037            -3.346   \n",
      "2  Ridge  0.507078  0.522706   0.464040              8.487            11.226   \n",
      "\n",
      "   train-test_%  \n",
      "0        -3.063  \n",
      "1         4.485  \n",
      "2        -3.082  \n",
      "\n",
      "k = 6 folds cross-val on a train set that has 80-20 train/test split\n",
      "   Model     train      test  cross_val  train-cross_val_%  test-cross_val_%  \\\n",
      "0    LRM  0.507078  0.522608   0.462317              8.827            11.537   \n",
      "1  Lasso  0.000000 -0.022745  -0.006120              1.207            -3.181   \n",
      "2  Ridge  0.507078  0.522706   0.462411              8.809            11.537   \n",
      "\n",
      "   train-test_%  \n",
      "0        -3.063  \n",
      "1         4.485  \n",
      "2        -3.082  \n",
      "\n",
      "k = 7 folds cross-val on a train set that has 80-20 train/test split\n",
      "   Model     train      test  cross_val  train-cross_val_%  test-cross_val_%  \\\n",
      "0    LRM  0.507078  0.522608   0.467087              7.887            10.624   \n",
      "1  Lasso  0.000000 -0.022745  -0.007454              1.470            -2.926   \n",
      "2  Ridge  0.507078  0.522706   0.467333              7.838            10.596   \n",
      "\n",
      "   train-test_%  \n",
      "0        -3.063  \n",
      "1         4.485  \n",
      "2        -3.082  \n",
      "\n",
      "k = 8 folds cross-val on a train set that has 80-20 train/test split\n"
     ]
    },
    {
     "name": "stderr",
     "output_type": "stream",
     "text": [
      "/Users/blakewallace/anaconda3/lib/python3.6/site-packages/sklearn/model_selection/_split.py:2179: FutureWarning: From version 0.21, test_size will always complement train_size unless both are specified.\n",
      "  FutureWarning)\n",
      "/Users/blakewallace/anaconda3/lib/python3.6/site-packages/sklearn/preprocessing/data.py:625: DataConversionWarning: Data with input dtype int64, float64 were all converted to float64 by StandardScaler.\n",
      "  return self.partial_fit(X, y)\n",
      "/Users/blakewallace/anaconda3/lib/python3.6/site-packages/ipykernel_launcher.py:18: DataConversionWarning: Data with input dtype int64, float64 were all converted to float64 by StandardScaler.\n",
      "/Users/blakewallace/anaconda3/lib/python3.6/site-packages/ipykernel_launcher.py:20: DataConversionWarning: Data with input dtype int64, float64 were all converted to float64 by StandardScaler.\n",
      "/Users/blakewallace/anaconda3/lib/python3.6/site-packages/sklearn/model_selection/_split.py:2179: FutureWarning: From version 0.21, test_size will always complement train_size unless both are specified.\n",
      "  FutureWarning)\n",
      "/Users/blakewallace/anaconda3/lib/python3.6/site-packages/sklearn/preprocessing/data.py:625: DataConversionWarning: Data with input dtype int64, float64 were all converted to float64 by StandardScaler.\n",
      "  return self.partial_fit(X, y)\n",
      "/Users/blakewallace/anaconda3/lib/python3.6/site-packages/ipykernel_launcher.py:18: DataConversionWarning: Data with input dtype int64, float64 were all converted to float64 by StandardScaler.\n",
      "/Users/blakewallace/anaconda3/lib/python3.6/site-packages/ipykernel_launcher.py:20: DataConversionWarning: Data with input dtype int64, float64 were all converted to float64 by StandardScaler.\n"
     ]
    },
    {
     "name": "stdout",
     "output_type": "stream",
     "text": [
      "   Model     train      test  cross_val  train-cross_val_%  test-cross_val_%  \\\n",
      "0    LRM  0.507078  0.522608   0.478122              5.710             8.512   \n",
      "1  Lasso  0.000000 -0.022745  -0.006243              1.231            -3.158   \n",
      "2  Ridge  0.507078  0.522706   0.478198              5.695             8.517   \n",
      "\n",
      "   train-test_%  \n",
      "0        -3.063  \n",
      "1         4.485  \n",
      "2        -3.082  \n",
      "\n",
      "k = 9 folds cross-val on a train set that has 80-20 train/test split\n",
      "   Model     train      test  cross_val  train-cross_val_%  test-cross_val_%  \\\n",
      "0    LRM  0.507078  0.522608   0.473721              6.578             9.355   \n",
      "1  Lasso  0.000000 -0.022745  -0.006839              1.349            -3.043   \n",
      "2  Ridge  0.507078  0.522706   0.473857              6.551             9.347   \n",
      "\n",
      "   train-test_%  \n",
      "0        -3.063  \n",
      "1         4.485  \n",
      "2        -3.082  \n",
      "\n",
      "k = 10 folds cross-val on a train set that has 80-20 train/test split\n"
     ]
    },
    {
     "name": "stderr",
     "output_type": "stream",
     "text": [
      "/Users/blakewallace/anaconda3/lib/python3.6/site-packages/sklearn/model_selection/_split.py:2179: FutureWarning: From version 0.21, test_size will always complement train_size unless both are specified.\n",
      "  FutureWarning)\n",
      "/Users/blakewallace/anaconda3/lib/python3.6/site-packages/sklearn/preprocessing/data.py:625: DataConversionWarning: Data with input dtype int64, float64 were all converted to float64 by StandardScaler.\n",
      "  return self.partial_fit(X, y)\n",
      "/Users/blakewallace/anaconda3/lib/python3.6/site-packages/ipykernel_launcher.py:18: DataConversionWarning: Data with input dtype int64, float64 were all converted to float64 by StandardScaler.\n",
      "/Users/blakewallace/anaconda3/lib/python3.6/site-packages/ipykernel_launcher.py:20: DataConversionWarning: Data with input dtype int64, float64 were all converted to float64 by StandardScaler.\n",
      "/Users/blakewallace/anaconda3/lib/python3.6/site-packages/sklearn/model_selection/_split.py:2179: FutureWarning: From version 0.21, test_size will always complement train_size unless both are specified.\n",
      "  FutureWarning)\n",
      "/Users/blakewallace/anaconda3/lib/python3.6/site-packages/sklearn/preprocessing/data.py:625: DataConversionWarning: Data with input dtype int64, float64 were all converted to float64 by StandardScaler.\n",
      "  return self.partial_fit(X, y)\n",
      "/Users/blakewallace/anaconda3/lib/python3.6/site-packages/ipykernel_launcher.py:18: DataConversionWarning: Data with input dtype int64, float64 were all converted to float64 by StandardScaler.\n",
      "/Users/blakewallace/anaconda3/lib/python3.6/site-packages/ipykernel_launcher.py:20: DataConversionWarning: Data with input dtype int64, float64 were all converted to float64 by StandardScaler.\n"
     ]
    },
    {
     "name": "stdout",
     "output_type": "stream",
     "text": [
      "   Model     train      test  cross_val  train-cross_val_%  test-cross_val_%  \\\n",
      "0    LRM  0.507078  0.522608   0.467305              7.844            10.582   \n",
      "1  Lasso  0.000000 -0.022745  -0.009008              1.777            -2.628   \n",
      "2  Ridge  0.507078  0.522706   0.467348              7.835            10.593   \n",
      "\n",
      "   train-test_%  \n",
      "0        -3.063  \n",
      "1         4.485  \n",
      "2        -3.082  \n"
     ]
    }
   ],
   "source": [
    "for i in range(5, 11):\n",
    "    # import warnings\n",
    "    # warnings.filterwarnings('ignore')\n",
    "    \n",
    "    # fit the different models\n",
    "    lr = LinearRegression()\n",
    "    ridge = Ridge()\n",
    "    lasso = Lasso()\n",
    "\n",
    "# train/test split with 80-20 split\n",
    "    X_train, X_test, y_train, y_test = train_test_split(X, \n",
    "                                                        y,\n",
    "                                                        train_size = 0.90,\n",
    "                                                        random_state = 42)\n",
    "# standard scale fitted to X_train\n",
    "    ss = StandardScaler()\n",
    "    ss.fit(X_train)\n",
    "    X_train_scaled = ss.transform(X_train)\n",
    "\n",
    "    X_test_scaled = ss.transform(X_test)\n",
    "\n",
    "    print()\n",
    "    print(f'k = {i} folds cross-val on a train set that has 80-20 train/test split')\n",
    "    \n",
    "\n",
    "\n",
    "    # The LRM Model\n",
    "    lr_cross_val = cross_val_score(lr, X_train_scaled, y_train, cv=i).mean()\n",
    "    lr.fit(X_train_scaled, y_train)\n",
    "\n",
    "#     print(f'LRM: {lr.score(X_test_scaled, y_test)}')\n",
    "#     print(f'cross val: {lr_cross_val}')\n",
    "#     print()\n",
    "\n",
    "\n",
    "    # The Ridge Model\n",
    "    lasso_cross_val = cross_val_score(lasso, X_train_scaled, y_train, cv=i).mean()\n",
    "    lasso.fit(X_train_scaled, y_train)\n",
    "\n",
    "#     print(f'Lasso: {lasso.score(X_test_scaled, y_test)}')\n",
    "#     print(f'cross val: {lasso_cross_val}')\n",
    "#     print()\n",
    "\n",
    "\n",
    "    # The Lasso Model\n",
    "    ridge_cross_val = cross_val_score(ridge, X_train_scaled, y_train, cv=i).mean()\n",
    "    ridge.fit(X_train_scaled, y_train)\n",
    "\n",
    "#     print(f'Ridge: {ridge.score(X_test_scaled, y_test)}')\n",
    "#     print(f'cross val: {ridge_cross_val}')\n",
    "\n",
    "    data_dict = {\n",
    "        'Model' :             ['LRM', 'Lasso', 'Ridge'],\n",
    "\n",
    "        'train' :             [lr.score(X_train_scaled, y_train), \n",
    "                               lasso.score(X_train_scaled, y_train), \n",
    "                               ridge.score(X_train_scaled, y_train)],\n",
    "\n",
    "         'test' :             [lr.score(X_test_scaled, y_test),  \n",
    "                               lasso.score(X_test_scaled, y_test), \n",
    "                               ridge.score(X_test_scaled, y_test)],\n",
    "        \n",
    "        'cross_val' :         [lr_cross_val,\n",
    "                               lasso_cross_val,\n",
    "                               ridge_cross_val],\n",
    "\n",
    "        'train-cross_val_%': [round(100* (lr.score(X_train_scaled, y_train) - (lr_cross_val))/ lr.score(X_train_scaled, y_train), 3),\n",
    "                                     round(100* (lasso.score(X_train_scaled, y_train) - (lasso_cross_val))/ lr.score(X_train_scaled, y_train), 3),\n",
    "                                     round(100* (ridge.score(X_train_scaled, y_train) - (ridge_cross_val))/ lr.score(X_train_scaled, y_train), 3)],\n",
    "      \n",
    "        'test-cross_val_%': [round(100* (lr.score(X_test_scaled, y_test) - (lr_cross_val))/ lr.score(X_test_scaled, y_test), 3),\n",
    "                                     round(100* (lasso.score(X_test_scaled, y_test) - (lasso_cross_val))/ lr.score(X_test_scaled, y_test), 3),\n",
    "                                     round(100* (ridge.score(X_test_scaled, y_test) - (ridge_cross_val))/ lr.score(X_test_scaled, y_test), 3)],\n",
    "       \n",
    "        'train-test_%': [round(100* (lr.score(X_train_scaled, y_train) - lr.score(X_test_scaled, y_test))/ lr.score(X_train_scaled, y_train), 3),\n",
    "                                    round(100* (lasso.score(X_train_scaled, y_train) - lasso.score(X_test_scaled, y_test))/ lr.score(X_train_scaled, y_train), 3),\n",
    "                                    round(100* (ridge.score(X_train_scaled, y_train) - ridge.score(X_test_scaled, y_test))/ lr.score(X_train_scaled, y_train), 3)]\n",
    "    }\n",
    "\n",
    "    train_fit_test = pd.DataFrame(data = data_dict, columns=['Model', 'train', 'test', 'cross_val', 'train-cross_val_%', 'test-cross_val_%', 'train-test_%'])\n",
    "    train_fit_test.sort_values('train-test_%')\n",
    "    print(train_fit_test)\n"
   ]
  },
  {
   "cell_type": "code",
   "execution_count": 47,
   "metadata": {},
   "outputs": [
    {
     "name": "stdout",
     "output_type": "stream",
     "text": [
      "k = 5 folds cross-val on a train set that has 80-20 train/test split\n",
      "\n",
      "LRM: 0.522608342282925\n",
      "cross val: 0.4640265787619054\n",
      "\n",
      "Lasso: -0.02274463168120011\n",
      "cross val: -0.005259225851750804\n",
      "\n",
      "Ridge: 0.5227064373222675\n",
      "cross val: 0.4640398205844651\n"
     ]
    },
    {
     "name": "stderr",
     "output_type": "stream",
     "text": [
      "/Users/blakewallace/anaconda3/lib/python3.6/site-packages/sklearn/model_selection/_split.py:2179: FutureWarning: From version 0.21, test_size will always complement train_size unless both are specified.\n",
      "  FutureWarning)\n",
      "/Users/blakewallace/anaconda3/lib/python3.6/site-packages/sklearn/preprocessing/data.py:625: DataConversionWarning: Data with input dtype int64, float64 were all converted to float64 by StandardScaler.\n",
      "  return self.partial_fit(X, y)\n",
      "/Users/blakewallace/anaconda3/lib/python3.6/site-packages/ipykernel_launcher.py:14: DataConversionWarning: Data with input dtype int64, float64 were all converted to float64 by StandardScaler.\n",
      "  \n",
      "/Users/blakewallace/anaconda3/lib/python3.6/site-packages/ipykernel_launcher.py:16: DataConversionWarning: Data with input dtype int64, float64 were all converted to float64 by StandardScaler.\n",
      "  app.launch_new_instance()\n"
     ]
    },
    {
     "data": {
      "text/html": [
       "<div>\n",
       "<style scoped>\n",
       "    .dataframe tbody tr th:only-of-type {\n",
       "        vertical-align: middle;\n",
       "    }\n",
       "\n",
       "    .dataframe tbody tr th {\n",
       "        vertical-align: top;\n",
       "    }\n",
       "\n",
       "    .dataframe thead th {\n",
       "        text-align: right;\n",
       "    }\n",
       "</style>\n",
       "<table border=\"1\" class=\"dataframe\">\n",
       "  <thead>\n",
       "    <tr style=\"text-align: right;\">\n",
       "      <th></th>\n",
       "      <th>Model</th>\n",
       "      <th>train</th>\n",
       "      <th>test</th>\n",
       "      <th>percent_difference</th>\n",
       "    </tr>\n",
       "  </thead>\n",
       "  <tbody>\n",
       "    <tr>\n",
       "      <th>1</th>\n",
       "      <td>Lasso</td>\n",
       "      <td>0.000000</td>\n",
       "      <td>-0.022745</td>\n",
       "      <td>1.037</td>\n",
       "    </tr>\n",
       "    <tr>\n",
       "      <th>2</th>\n",
       "      <td>Ridge</td>\n",
       "      <td>0.507078</td>\n",
       "      <td>0.522706</td>\n",
       "      <td>8.487</td>\n",
       "    </tr>\n",
       "    <tr>\n",
       "      <th>0</th>\n",
       "      <td>LRM</td>\n",
       "      <td>0.507078</td>\n",
       "      <td>0.522608</td>\n",
       "      <td>8.490</td>\n",
       "    </tr>\n",
       "  </tbody>\n",
       "</table>\n",
       "</div>"
      ],
      "text/plain": [
       "   Model     train      test  percent_difference\n",
       "1  Lasso  0.000000 -0.022745               1.037\n",
       "2  Ridge  0.507078  0.522706               8.487\n",
       "0    LRM  0.507078  0.522608               8.490"
      ]
     },
     "execution_count": 47,
     "metadata": {},
     "output_type": "execute_result"
    }
   ],
   "source": [
    "# import warnings\n",
    "# warnings.filterwarnings('ignore')\n",
    "\n",
    "lr = LinearRegression()\n",
    "ridge = Ridge()\n",
    "lasso = Lasso()\n",
    "\n",
    "X_train, X_test, y_train, y_test = train_test_split(X, \n",
    "                                                    y,\n",
    "                                                    train_size = 0.9,\n",
    "                                                    random_state = 42)\n",
    "ss = StandardScaler()\n",
    "ss.fit(X_train)\n",
    "X_train_scaled = ss.transform(X_train)\n",
    "\n",
    "X_test_scaled = ss.transform(X_test)\n",
    "\n",
    "\n",
    "print('k = 5 folds cross-val on a train set that has 80-20 train/test split')\n",
    "print()\n",
    "\n",
    "\n",
    "# The LRM Model\n",
    "lr.fit(X_train_scaled, y_train)\n",
    "lr_cross_val = cross_val_score(LinearRegression(), X_train_scaled, y_train, cv=5).mean()\n",
    "\n",
    "print(f'LRM: {lr.score(X_test_scaled, y_test)}')\n",
    "print(f'cross val: {lr_cross_val}')\n",
    "print()\n",
    "\n",
    "\n",
    "# The Ridge Model\n",
    "lasso.fit(X_train_scaled, y_train)\n",
    "lasso_cross_val = cross_val_score(Lasso(), X_train_scaled, y_train, cv=5).mean()\n",
    "\n",
    "print(f'Lasso: {lasso.score(X_test_scaled, y_test)}')\n",
    "print(f'cross val: {lasso_cross_val}')\n",
    "print()\n",
    "\n",
    "\n",
    "# The Lasso Model\n",
    "ridge.fit(X_train_scaled, y_train)\n",
    "ridge_cross_val = cross_val_score(Ridge(), X_train_scaled, y_train, cv=5).mean()\n",
    "\n",
    "print(f'Ridge: {ridge.score(X_test_scaled, y_test)}')\n",
    "print(f'cross val: {ridge_cross_val}')\n",
    "\n",
    "data_dict = {\n",
    "    'Model' :             ['LRM', 'Lasso', 'Ridge'],\n",
    "           \n",
    "    'train' :             [lr.score(X_train_scaled, y_train), \n",
    "                           lasso.score(X_train_scaled, y_train), \n",
    "                           ridge.score(X_train_scaled, y_train)],\n",
    "    \n",
    "     'test' :             [lr.score(X_test_scaled, y_test),  \n",
    "                           lasso.score(X_test_scaled, y_test), \n",
    "                           ridge.score(X_test_scaled, y_test)],\n",
    "    'cross-val' :         [lr_cross_val,\n",
    "                           lasso_cross_val,\n",
    "                           ridge_cross_val],\n",
    "   \n",
    "    'percent_difference': [round(100* (lr.score(X_train_scaled, y_train) - (lr_cross_val))/ lr.score(X_train_scaled, y_train), 3),\n",
    "                           round(100* (lasso.score(X_train_scaled, y_train) - (lasso_cross_val))/ lr.score(X_train_scaled, y_train), 3),\n",
    "                           round(100* (ridge.score(X_train_scaled, y_train) - (ridge_cross_val))/ lr.score(X_train_scaled, y_train), 3)]\n",
    "}\n",
    "\n",
    "train_fit_test = pd.DataFrame(data = data_dict, columns=['Model', 'train', 'test', 'percent_difference'])\n",
    "train_fit_test.sort_values('percent_difference')\n"
   ]
  },
  {
   "cell_type": "code",
   "execution_count": null,
   "metadata": {},
   "outputs": [],
   "source": []
  },
  {
   "cell_type": "code",
   "execution_count": 61,
   "metadata": {},
   "outputs": [],
   "source": [
    "# Train/test split R-SQUARED ONLY\n",
    "\n",
    "def opt_r2_split(features_data, target, perc_to_train):\n",
    "    \n",
    "    import warnings\n",
    "    warnings.filterwarnings('ignore')\n",
    "    \n",
    "    # code copied from stack overflow, and will be used to generate a run time of the functions below. \n",
    "    import time\n",
    "    start_time = time.time()\n",
    "    \n",
    "    \n",
    "    X = features_data\n",
    "    y = target\n",
    "    lst_to_optimize = []\n",
    "    cross_val_optimization = []\n",
    "    \n",
    "    for k in range(1, len(X.columns)+1): # eventually will be len(X)\n",
    "\n",
    "        index = itertools.combinations(list(X.columns), k)\n",
    "        \n",
    "        for col_combination in index:\n",
    "    \n",
    "            # instantiate models\n",
    "            lr = LinearRegression()\n",
    "            ridge = RidgeCV()\n",
    "            lasso = LassoCV(cv=5)\n",
    "            \n",
    "            # split the data using train/test\n",
    "            X_train, X_test, y_train, y_test = train_test_split(X[list(col_combination)], \n",
    "                                                                y,\n",
    "                                                                train_size = perc_to_train,\n",
    "                                                                random_state = 42)\n",
    "    \n",
    "            # put a standard scale on the plit data\n",
    "            ss = StandardScaler()\n",
    "            ss.fit(X_train)\n",
    "            X_train_scaled = ss.transform(X_train)\n",
    "\n",
    "            X_test_scaled = ss.transform(X_test)\n",
    "\n",
    "            \n",
    "            # cross-val calculations for each model\n",
    "            lr_cross_val = cross_val_score(lr, X_train_scaled, y_train, cv=6).mean()\n",
    "            lasso_cross_val = cross_val_score(lasso, X_train_scaled, y_train, cv=6).mean()\n",
    "            ridge_cross_val = cross_val_score(ridge, X_train_scaled, y_train, cv=6).mean()\n",
    "\n",
    "            # fit our models with the training data\n",
    "            lr.fit(X_train_scaled, y_train)\n",
    "            lasso.fit(X_train_scaled, y_train)\n",
    "            ridge.fit(X_train_scaled, y_train)\n",
    "            \n",
    "            # build a list of maximums that includes a single maximum from each pass through the loop\n",
    "            lst_to_optimize.append(max( lr.score(X_test_scaled, y_test),\n",
    "                                        lasso.score(X_test_scaled, y_test),\n",
    "                                        ridge.score(X_test_scaled, y_test)\n",
    "                                        ))\n",
    "            cross_val_optimization.append(min(abs(round(100* (lr.score(X_train_scaled, y_train) - (lr_cross_val))/ lr.score(X_train_scaled, y_train), 3)),\n",
    "                                             abs(round(100* (lasso.score(X_train_scaled, y_train) - (lasso_cross_val))/ lr.score(X_train_scaled, y_train), 3)),\n",
    "                                             abs(round(100* (ridge.score(X_train_scaled, y_train) - (ridge_cross_val))/ lr.score(X_train_scaled, y_train), 3))\n",
    "                                             ))\n",
    "            \n",
    "    print(f'total number of features in the combination of greatest length = {k}')\n",
    "    print(f'The maximum R-squared score using train/test split: {max(lst_to_optimize)}')\n",
    "    print(f'The minimum absolute percentage difference between the fit train data and the cross-val score is: {min(cross_val_optimization)}')\n",
    "    return f'Run time: {round(time.time() - start_time, 2)} seconds'\n",
    "\n",
    "# for i in range(5, 11):\n",
    "#     # import warnings\n",
    "#     # warnings.filterwarnings('ignore')\n",
    "    \n",
    "#     # fit the different models\n",
    "#     lr = LinearRegression()\n",
    "#     ridge = Ridge()\n",
    "#     lasso = Lasso()\n",
    "\n",
    "# # train/test split with 80-20 split\n",
    "#     X_train, X_test, y_train, y_test = train_test_split(X[['CRIM', 'AGE', 'TAX', 'LSTAT']], \n",
    "#                                                         y,\n",
    "#                                                         train_size = 0.80,\n",
    "#                                                         random_state = 42)\n",
    "# # standard scale fitted to X_train\n",
    "#     ss = StandardScaler()\n",
    "#     ss.fit(X_train)\n",
    "#     X_train_scaled = ss.transform(X_train)\n",
    "\n",
    "#     X_test_scaled = ss.transform(X_test)\n",
    "\n",
    "#     print()\n",
    "#     print(f'k = {i} folds cross-val on a train set that has 80-20 train/test split')\n",
    "    \n",
    "\n",
    "\n",
    "#     # The LRM Model\n",
    "#     lr_cross_val = cross_val_score(lr, X_train_scaled, y_train, cv=i).mean()\n",
    "#     lr.fit(X_train_scaled, y_train)\n",
    "\n",
    "# #     print(f'LRM: {lr.score(X_test_scaled, y_test)}')\n",
    "# #     print(f'cross val: {lr_cross_val}')\n",
    "# #     print()\n",
    "\n",
    "\n",
    "#     # The Ridge Model\n",
    "#     lasso_cross_val = cross_val_score(lasso, X_train_scaled, y_train, cv=i).mean()\n",
    "#     lasso.fit(X_train_scaled, y_train)\n",
    "\n",
    "# #     print(f'Lasso: {lasso.score(X_test_scaled, y_test)}')\n",
    "# #     print(f'cross val: {lasso_cross_val}')\n",
    "# #     print()\n",
    "\n",
    "\n",
    "#     # The Lasso Model\n",
    "#     ridge_cross_val = cross_val_score(ridge, X_train_scaled, y_train, cv=i).mean()\n",
    "#     ridge.fit(X_train_scaled, y_train)\n",
    "\n",
    "# #     print(f'Ridge: {ridge.score(X_test_scaled, y_test)}')\n",
    "# #     print(f'cross val: {ridge_cross_val}')\n",
    "\n",
    "#     data_dict = {\n",
    "#         'Model' :             ['LRM', 'Lasso', 'Ridge'],\n",
    "\n",
    "#         'train' :             [lr.score(X_train_scaled, y_train), \n",
    "#                                lasso.score(X_train_scaled, y_train), \n",
    "#                                ridge.score(X_train_scaled, y_train)],\n",
    "\n",
    "#          'test' :             [lr.score(X_test_scaled, y_test),  \n",
    "#                                lasso.score(X_test_scaled, y_test), \n",
    "#                                ridge.score(X_test_scaled, y_test)],\n",
    "        \n",
    "#         'cross_val' :         [lr_cross_val,\n",
    "#                                lasso_cross_val,\n",
    "#                                ridge_cross_val],\n",
    "\n",
    "#         'train-cross_val_%': [round(100* (lr.score(X_train_scaled, y_train) - (lr_cross_val))/ lr.score(X_train_scaled, y_train), 3),\n",
    "#                                      round(100* (lasso.score(X_train_scaled, y_train) - (lasso_cross_val))/ lr.score(X_train_scaled, y_train), 3),\n",
    "#                                      round(100* (ridge.score(X_train_scaled, y_train) - (ridge_cross_val))/ lr.score(X_train_scaled, y_train), 3)],\n",
    "      \n",
    "#         'test-cross_val_%': [round(100* (lr.score(X_test_scaled, y_test) - (lr_cross_val))/ lr.score(X_test_scaled, y_test), 3),\n",
    "#                                      round(100* (lasso.score(X_test_scaled, y_test) - (lasso_cross_val))/ lr.score(X_test_scaled, y_test), 3),\n",
    "#                                      round(100* (ridge.score(X_test_scaled, y_test) - (ridge_cross_val))/ lr.score(X_test_scaled, y_test), 3)],\n",
    "       \n",
    "#         'train-test_%': [round(100* (lr.score(X_train_scaled, y_train) - lr.score(X_test_scaled, y_test))/ lr.score(X_train_scaled, y_train), 3),\n",
    "#                                     round(100* (lasso.score(X_train_scaled, y_train) - lasso.score(X_test_scaled, y_test))/ lr.score(X_train_scaled, y_train), 3),\n",
    "#                                     round(100* (ridge.score(X_train_scaled, y_train) - ridge.score(X_test_scaled, y_test))/ lr.score(X_train_scaled, y_train), 3)]\n",
    "#     }\n",
    "\n",
    "#     train_fit_test = pd.DataFrame(data = data_dict, columns=['Model', 'train', 'test', 'cross_val', 'train-cross_val_%', 'test-cross_val_%', 'train-test_%'])\n",
    "#     train_fit_test.sort_values('train-test_%')\n",
    "#     print(train_fit_test)\n"
   ]
  },
  {
   "cell_type": "code",
   "execution_count": 62,
   "metadata": {},
   "outputs": [],
   "source": [
    "import itertools"
   ]
  },
  {
   "cell_type": "code",
   "execution_count": 63,
   "metadata": {},
   "outputs": [],
   "source": [
    "from sklearn.linear_model import RidgeCV, LassoCV\n"
   ]
  },
  {
   "cell_type": "code",
   "execution_count": null,
   "metadata": {
    "scrolled": true
   },
   "outputs": [],
   "source": [
    "opt_r2_split(X, y, 80)"
   ]
  },
  {
   "cell_type": "code",
   "execution_count": null,
   "metadata": {},
   "outputs": [],
   "source": []
  }
 ],
 "metadata": {
  "kernelspec": {
   "display_name": "Python 3",
   "language": "python",
   "name": "python3"
  },
  "language_info": {
   "codemirror_mode": {
    "name": "ipython",
    "version": 3
   },
   "file_extension": ".py",
   "mimetype": "text/x-python",
   "name": "python",
   "nbconvert_exporter": "python",
   "pygments_lexer": "ipython3",
   "version": "3.6.8"
  }
 },
 "nbformat": 4,
 "nbformat_minor": 2
}
