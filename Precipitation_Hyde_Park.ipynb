{
 "cells": [
  {
   "cell_type": "code",
   "execution_count": 1,
   "metadata": {},
   "outputs": [],
   "source": [
    "import pandas as pd\n",
    "import numpy as np\n",
    "import matplotlib.pyplot as plt\n",
    "\n",
    "%matplotlib inline"
   ]
  },
  {
   "cell_type": "code",
   "execution_count": 2,
   "metadata": {},
   "outputs": [
    {
     "data": {
      "text/html": [
       "<div>\n",
       "<style scoped>\n",
       "    .dataframe tbody tr th:only-of-type {\n",
       "        vertical-align: middle;\n",
       "    }\n",
       "\n",
       "    .dataframe tbody tr th {\n",
       "        vertical-align: top;\n",
       "    }\n",
       "\n",
       "    .dataframe thead th {\n",
       "        text-align: right;\n",
       "    }\n",
       "</style>\n",
       "<table border=\"1\" class=\"dataframe\">\n",
       "  <thead>\n",
       "    <tr style=\"text-align: right;\">\n",
       "      <th></th>\n",
       "      <th>STATION</th>\n",
       "      <th>NAME</th>\n",
       "      <th>LATITUDE</th>\n",
       "      <th>LONGITUDE</th>\n",
       "      <th>ELEVATION</th>\n",
       "      <th>DATE</th>\n",
       "      <th>PRCP</th>\n",
       "      <th>PRCP_ATTRIBUTES</th>\n",
       "      <th>SNOW</th>\n",
       "      <th>SNOW_ATTRIBUTES</th>\n",
       "      <th>SNWD</th>\n",
       "      <th>SNWD_ATTRIBUTES</th>\n",
       "      <th>WESD</th>\n",
       "      <th>WESD_ATTRIBUTES</th>\n",
       "      <th>WESF</th>\n",
       "      <th>WESF_ATTRIBUTES</th>\n",
       "    </tr>\n",
       "  </thead>\n",
       "  <tbody>\n",
       "    <tr>\n",
       "      <th>0</th>\n",
       "      <td>US1ILCK0014</td>\n",
       "      <td>CHICAGO 5.5 ESE, IL US</td>\n",
       "      <td>41.8008</td>\n",
       "      <td>-87.5903</td>\n",
       "      <td>182.9</td>\n",
       "      <td>2007-03-15</td>\n",
       "      <td>0.37</td>\n",
       "      <td>,,N</td>\n",
       "      <td>0.0</td>\n",
       "      <td>T,,N</td>\n",
       "      <td>NaN</td>\n",
       "      <td>NaN</td>\n",
       "      <td>NaN</td>\n",
       "      <td>NaN</td>\n",
       "      <td>NaN</td>\n",
       "      <td>NaN</td>\n",
       "    </tr>\n",
       "    <tr>\n",
       "      <th>1</th>\n",
       "      <td>US1ILCK0014</td>\n",
       "      <td>CHICAGO 5.5 ESE, IL US</td>\n",
       "      <td>41.8008</td>\n",
       "      <td>-87.5903</td>\n",
       "      <td>182.9</td>\n",
       "      <td>2007-03-16</td>\n",
       "      <td>0.00</td>\n",
       "      <td>,,N</td>\n",
       "      <td>0.0</td>\n",
       "      <td>,,N</td>\n",
       "      <td>NaN</td>\n",
       "      <td>NaN</td>\n",
       "      <td>NaN</td>\n",
       "      <td>NaN</td>\n",
       "      <td>NaN</td>\n",
       "      <td>NaN</td>\n",
       "    </tr>\n",
       "    <tr>\n",
       "      <th>2</th>\n",
       "      <td>US1ILCK0014</td>\n",
       "      <td>CHICAGO 5.5 ESE, IL US</td>\n",
       "      <td>41.8008</td>\n",
       "      <td>-87.5903</td>\n",
       "      <td>182.9</td>\n",
       "      <td>2007-03-17</td>\n",
       "      <td>0.00</td>\n",
       "      <td>,,N</td>\n",
       "      <td>0.0</td>\n",
       "      <td>,,N</td>\n",
       "      <td>NaN</td>\n",
       "      <td>NaN</td>\n",
       "      <td>NaN</td>\n",
       "      <td>NaN</td>\n",
       "      <td>NaN</td>\n",
       "      <td>NaN</td>\n",
       "    </tr>\n",
       "    <tr>\n",
       "      <th>3</th>\n",
       "      <td>US1ILCK0014</td>\n",
       "      <td>CHICAGO 5.5 ESE, IL US</td>\n",
       "      <td>41.8008</td>\n",
       "      <td>-87.5903</td>\n",
       "      <td>182.9</td>\n",
       "      <td>2007-03-18</td>\n",
       "      <td>0.00</td>\n",
       "      <td>,,N</td>\n",
       "      <td>0.0</td>\n",
       "      <td>,,N</td>\n",
       "      <td>NaN</td>\n",
       "      <td>NaN</td>\n",
       "      <td>NaN</td>\n",
       "      <td>NaN</td>\n",
       "      <td>NaN</td>\n",
       "      <td>NaN</td>\n",
       "    </tr>\n",
       "    <tr>\n",
       "      <th>4</th>\n",
       "      <td>US1ILCK0014</td>\n",
       "      <td>CHICAGO 5.5 ESE, IL US</td>\n",
       "      <td>41.8008</td>\n",
       "      <td>-87.5903</td>\n",
       "      <td>182.9</td>\n",
       "      <td>2007-03-19</td>\n",
       "      <td>0.34</td>\n",
       "      <td>,,N</td>\n",
       "      <td>0.0</td>\n",
       "      <td>,,N</td>\n",
       "      <td>NaN</td>\n",
       "      <td>NaN</td>\n",
       "      <td>NaN</td>\n",
       "      <td>NaN</td>\n",
       "      <td>NaN</td>\n",
       "      <td>NaN</td>\n",
       "    </tr>\n",
       "  </tbody>\n",
       "</table>\n",
       "</div>"
      ],
      "text/plain": [
       "       STATION                    NAME  LATITUDE  LONGITUDE  ELEVATION  \\\n",
       "0  US1ILCK0014  CHICAGO 5.5 ESE, IL US   41.8008   -87.5903      182.9   \n",
       "1  US1ILCK0014  CHICAGO 5.5 ESE, IL US   41.8008   -87.5903      182.9   \n",
       "2  US1ILCK0014  CHICAGO 5.5 ESE, IL US   41.8008   -87.5903      182.9   \n",
       "3  US1ILCK0014  CHICAGO 5.5 ESE, IL US   41.8008   -87.5903      182.9   \n",
       "4  US1ILCK0014  CHICAGO 5.5 ESE, IL US   41.8008   -87.5903      182.9   \n",
       "\n",
       "         DATE  PRCP PRCP_ATTRIBUTES  SNOW SNOW_ATTRIBUTES  SNWD  \\\n",
       "0  2007-03-15  0.37             ,,N   0.0            T,,N   NaN   \n",
       "1  2007-03-16  0.00             ,,N   0.0             ,,N   NaN   \n",
       "2  2007-03-17  0.00             ,,N   0.0             ,,N   NaN   \n",
       "3  2007-03-18  0.00             ,,N   0.0             ,,N   NaN   \n",
       "4  2007-03-19  0.34             ,,N   0.0             ,,N   NaN   \n",
       "\n",
       "  SNWD_ATTRIBUTES  WESD WESD_ATTRIBUTES  WESF WESF_ATTRIBUTES  \n",
       "0             NaN   NaN             NaN   NaN             NaN  \n",
       "1             NaN   NaN             NaN   NaN             NaN  \n",
       "2             NaN   NaN             NaN   NaN             NaN  \n",
       "3             NaN   NaN             NaN   NaN             NaN  \n",
       "4             NaN   NaN             NaN   NaN             NaN  "
      ]
     },
     "execution_count": 2,
     "metadata": {},
     "output_type": "execute_result"
    }
   ],
   "source": [
    "df = pd.read_csv('data/Precipitation_data/Precipitation_Hyde_Park.csv')\n",
    "df.head()"
   ]
  },
  {
   "cell_type": "code",
   "execution_count": 3,
   "metadata": {},
   "outputs": [
    {
     "data": {
      "text/plain": [
       "(4207, 16)"
      ]
     },
     "execution_count": 3,
     "metadata": {},
     "output_type": "execute_result"
    }
   ],
   "source": [
    "df.shape"
   ]
  },
  {
   "cell_type": "markdown",
   "metadata": {},
   "source": [
    "<font color = blue size = 5.5>Precipitation has no nulls</font>"
   ]
  },
  {
   "cell_type": "code",
   "execution_count": 4,
   "metadata": {},
   "outputs": [
    {
     "data": {
      "text/plain": [
       "STATION               0\n",
       "NAME                  0\n",
       "LATITUDE              0\n",
       "LONGITUDE             0\n",
       "ELEVATION             0\n",
       "DATE                  0\n",
       "PRCP                  0\n",
       "PRCP_ATTRIBUTES       0\n",
       "SNOW                789\n",
       "SNOW_ATTRIBUTES     789\n",
       "SNWD               2398\n",
       "SNWD_ATTRIBUTES    2398\n",
       "WESD               4205\n",
       "WESD_ATTRIBUTES    4205\n",
       "WESF               4201\n",
       "WESF_ATTRIBUTES    4201\n",
       "dtype: int64"
      ]
     },
     "execution_count": 4,
     "metadata": {},
     "output_type": "execute_result"
    }
   ],
   "source": [
    "df.isnull().sum()"
   ]
  },
  {
   "cell_type": "code",
   "execution_count": 5,
   "metadata": {},
   "outputs": [
    {
     "data": {
      "image/png": "[encoded data removed]",
      "text/plain": [
       "<Figure size 432x288 with 1 Axes>"
      ]
     },
     "metadata": {
      "needs_background": "light"
     },
     "output_type": "display_data"
    }
   ],
   "source": [
    "plt.hist(df['PRCP']);"
   ]
  },
  {
   "cell_type": "code",
   "execution_count": 6,
   "metadata": {},
   "outputs": [
    {
     "data": {
      "image/png": "[encoded data removed]",
      "text/plain": [
       "<Figure size 432x288 with 1 Axes>"
      ]
     },
     "metadata": {
      "needs_background": "light"
     },
     "output_type": "display_data"
    }
   ],
   "source": [
    "df[['PRCP', 'SNOW']].plot(kind='hist', x='PRCP');"
   ]
  },
  {
   "cell_type": "code",
   "execution_count": 7,
   "metadata": {},
   "outputs": [
    {
     "data": {
      "text/plain": [
       "STATION             object\n",
       "NAME                object\n",
       "LATITUDE           float64\n",
       "LONGITUDE          float64\n",
       "ELEVATION          float64\n",
       "DATE                object\n",
       "PRCP               float64\n",
       "PRCP_ATTRIBUTES     object\n",
       "SNOW               float64\n",
       "SNOW_ATTRIBUTES     object\n",
       "SNWD               float64\n",
       "SNWD_ATTRIBUTES     object\n",
       "WESD               float64\n",
       "WESD_ATTRIBUTES     object\n",
       "WESF               float64\n",
       "WESF_ATTRIBUTES     object\n",
       "dtype: object"
      ]
     },
     "execution_count": 7,
     "metadata": {},
     "output_type": "execute_result"
    }
   ],
   "source": [
    "df.dtypes"
   ]
  },
  {
   "cell_type": "code",
   "execution_count": null,
   "metadata": {},
   "outputs": [],
   "source": []
  }
 ],
 "metadata": {
  "kernelspec": {
   "display_name": "Python 3",
   "language": "python",
   "name": "python3"
  },
  "language_info": {
   "codemirror_mode": {
    "name": "ipython",
    "version": 3
   },
   "file_extension": ".py",
   "mimetype": "text/x-python",
   "name": "python",
   "nbconvert_exporter": "python",
   "pygments_lexer": "ipython3",
   "version": "3.6.8"
  }
 },
 "nbformat": 4,
 "nbformat_minor": 2
}
