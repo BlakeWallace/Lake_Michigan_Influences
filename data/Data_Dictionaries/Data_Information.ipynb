{
 "cells": [
  {
   "cell_type": "markdown",
   "metadata": {},
   "source": [
    "## Data Information\n",
    "\n",
    "### Data Sources\n",
    "#### [CHICAGO OHARE INTERNATIONAL AIRPORT, IL US](https://www.ncdc.noaa.gov/cdo-web/datasets/GHCND/stations/GHCND:USW00094846/detail)\n",
    " - Source: [National Centers for Environmental Information](https://www.ncdc.noaa.gov/cdo-web/search)  \n",
    " - [GHCN (Global Historical Climatology Network) – Daily Documentation](https://www1.ncdc.noaa.gov/pub/data/cdo/documentation/GHCND_documentation.pdf)\n",
    "  - ID\tGHCND:USW00094846  \n",
    "    41.995 N 87.9336 W \n",
    " - [Airport Information](https://www.flychicago.com/ohare/home/pages/default.aspx)\n",
    "\n",
    "#### [CHICAGO BOTANIC GARDEN, IL US](https://www.ncdc.noaa.gov/cdo-web/datasets/GHCND/stations/GHCND:USC00111497/detail)\n",
    " - Source: [National Centers for Environmental Information](https://www.ncdc.noaa.gov/cdo-web/search)\n",
    " - [GHCN (Global Historical Climatology Network) – Daily Documentation](https://www1.ncdc.noaa.gov/pub/data/cdo/documentation/GHCND_documentation.pdf)\n",
    "  - ID GHCND:USC00111497\n",
    "    42.13987 N 87.78537 W\n",
    " - [Garden Information](https://www.chicagobotanic.org/?gclid=CjwKCAjw8e7mBRBsEiwAPVxxiFAzbi0I4VKZUO1z3uxcDI36xORzYwbOtmUWGVoUqxRHEi8elJFV2RoCmaoQAvD_BwE)\n",
    "\n",
    "    \n",
    "#### [Lake Michigan](https://www.google.com/search?q=lake+michigan&oq=lake+michigan&aqs=chrome.0.69i59j69i60l3j69i59j0.3015j0j9&sourceid=chrome&ie=UTF-8)\n",
    " - Source: [Great Lakes Statistics: Average Surface Water Temperature from the Great Lakes Surface Environmental Analysis (GLSEA)][Source](https://coastwatch.glerl.noaa.gov/statistic/statistic.html)\n",
    " - 44.0 -87.0 (44° 00' 0.00\" N 87° 00' 0.00\" W)\n",
    " - [Data Set for 2018](https://coastwatch.glerl.noaa.gov/ftp/glsea/avgtemps/2018/glsea-temps2018_1024.dat)  \n",
    " \n",
    "#### [Station FSTI2 - Foster Ave., Chicago, IL](https://www.ndbc.noaa.gov/station_page.php?station=fsti2)\n",
    " - Source: [National Data Buoy Center](https://www.ndbc.noaa.gov/)\n",
    "\n",
    " - Owned and maintained by [Chicago Park District](https://www.ndbc.noaa.gov/ndbcexit.php?url=https://wqdatalive.com/public/16&blurb=Chicago+Park+District)  \n",
    "    41.976 N 87.648 W (41°58'35\" N 87°38'51\" W)"
   ]
  },
  {
   "cell_type": "code",
   "execution_count": null,
   "metadata": {},
   "outputs": [],
   "source": []
  }
 ],
 "metadata": {
  "kernelspec": {
   "display_name": "Python 3",
   "language": "python",
   "name": "python3"
  },
  "language_info": {
   "codemirror_mode": {
    "name": "ipython",
    "version": 3
   },
   "file_extension": ".py",
   "mimetype": "text/x-python",
   "name": "python",
   "nbconvert_exporter": "python",
   "pygments_lexer": "ipython3",
   "version": "3.6.8"
  }
 },
 "nbformat": 4,
 "nbformat_minor": 2
}
