{
 "cells": [
  {
   "cell_type": "markdown",
   "metadata": {},
   "source": [
    "## Data Dictionary\n",
    "\n",
    " - **lake_temp** - Average Daily Surface Water Temperature for Lake Michigan (Fahrenheit)\n",
    " \n",
    " - **garden_prcp** - Precipitation (PRCP) (inches)\n",
    " - **garden_maxtmp** - Maximum temperature (TMAX) (Fahrenheit)\n",
    " - **garden_mintmp** - Minimum temperature (TMIN) (Fahrenheit)\n",
    " - **garden_tobs** - Temperature at time of observation (TOBS) (Fahrenheit) \n",
    " - **ohare_wspd** - Average daily wind speed (AWND) (miles per hour) \n",
    " - **ohare_atmp** - Average Temperature (TAVG) (Fahrenheit)\n",
    " - **ohare_w2dir** - Direction of fastest 2-minute wind (WDF2) (the direction the wind is coming from in degrees clockwise from true N)  \n",
    " - **ohare_w2spd** - Fastest 2-minute wind speed (WSF2) (miles per hour)\n",
    "\n",
    " \"The five core values are:\"\n",
    " - **ohare_prcp** - Precipitation (PRCP) (inches)\n",
    " - **ohare_snfall** - Snowfall (SNOW) (inches)\n",
    " - **ohare_sndpth** - Snow depth (SNWD) (inches) \n",
    " - **ohare_maxtmp** - Maximum temperature (TMAX) (Fahrenheit)\n",
    " - **ohare_mintmp** - Minimum temperature (TMIN) (Fahrenheit)\n",
    " \n",
    " Feature Engineering\n",
    " - **target** - absolute difference between the precipitation measurements at Ohare and the garden ( ohare_prcp - garden_prcp )\n",
    " - **garden_didrain** - categorical, 1 for yes, 0 for no\n",
    " - **ohare_didrain** - categorical, 1 for yes, 0 for no\n",
    " - **garden_medtmp** - Median daily temperature at the Garden/ midpoint between the max and min temperatures ( (garden_maxtmp + garden_mintmp)/2 )\n",
    " - **ohare_medtmp** - Median daily temperature at ohare/ midpoint between the max and min temperatures ( (ohare_maxtmp + ohare_mintmp)/2 )\n",
    " - **tmpdiff** - difference between the median temperatures at ohare and the garden ( ohare_medtmp - garden_medtmp )\n",
    "   \n",
    " [O'Hare Airport Data Dictionary](https://www1.ncdc.noaa.gov/pub/data/ghcn/daily/readme.txt)  \n",
    " [Botanical Garden Data Dictionary](https://www1.ncdc.noaa.gov/pub/data/ghcn/daily/readme.txt)"
   ]
  }
 ],
 "metadata": {
  "kernelspec": {
   "display_name": "Python 3",
   "language": "python",
   "name": "python3"
  },
  "language_info": {
   "codemirror_mode": {
    "name": "ipython",
    "version": 3
   },
   "file_extension": ".py",
   "mimetype": "text/x-python",
   "name": "python",
   "nbconvert_exporter": "python",
   "pygments_lexer": "ipython3",
   "version": "3.6.8"
  }
 },
 "nbformat": 4,
 "nbformat_minor": 2
}
