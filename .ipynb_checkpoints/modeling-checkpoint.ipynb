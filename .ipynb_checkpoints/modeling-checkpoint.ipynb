{
 "cells": [
  {
   "cell_type": "markdown",
   "metadata": {},
   "source": [
    "## In this notebook we build a plethora of models.  Here is the list and the scores generated from this."
   ]
  },
  {
   "cell_type": "markdown",
   "metadata": {},
   "source": [
    "### Models with score\n",
    "\n",
    "|       Model       | Training score | Testing score | Training MSE | Testing MSE | cross validation |\n",
    "|:-----------------:|:--------------:|:-------------:|:------------:|:-----------:|:----------------:|\n",
    "|   Linear no poly  |     0.0825     |     0.1052    |    0.0933    |    0.0683   |      0.0785      |\n",
    "|     Linear gs     |     0.1222     |     0.1329    |    0.0893    |    0.0662   |                  |\n",
    "|   Decision Tree   |     0.1139     |     0.0752    |    0.0901    |    0.0706   |                  |\n",
    "|  Decision Tree gs |     0.0613     |     0.0506    |              |             |      0.0434      |\n",
    "|   Random Forest   |     0.8614     |     0.0517    |    0.0134    |    0.0724   |      0.0554      |\n",
    "|   Random Forest   |     0.8711     |     0.1078    |    0.0131    |    0.0681   |      0.0770      |\n",
    "|  Random Forest gs |     0.8658     |     0.0905    |    0.0136    |    0.0694   |      0.0651      |\n",
    "|   Random Forest   |     0.8677     |     0.0682    |    0.0135    |    0.0711   |      0.0660      |\n",
    "|   Random Forest   |     0.8704     |     0.1153    |    0.0132    |    0.0676   |      0.0767      |\n",
    "|   Random Forest   |     0.8080     |     0.0957    |    0.0195    |    0.0690   |      0.0787      |\n",
    "| Random Forest ada |     0.9547     |     0.0549    |    0.0331    |    0.0722   |      0.0331      |\n",
    "| Random Forest ada |     0.9445     |     0.0525    |    0.0056    |    0.0723   |      0.0283      |\n",
    "| Random Forest bag |     0.6735     |     0.1130    |    0.0332    |    0.0677   |      0.0928      |\n",
    "| Random Forest bag |     0.6705     |     0.1239    |    0.0335    |    0.0669   |      0.0943      |"
   ]
  },
  {
   "cell_type": "code",
   "execution_count": 1,
   "metadata": {},
   "outputs": [],
   "source": [
    "import pandas as pd\n",
    "import numpy as np\n",
    "import matplotlib.pyplot as plt\n",
    "import seaborn as sns\n",
    "\n",
    "%matplotlib inline"
   ]
  },
  {
   "cell_type": "markdown",
   "metadata": {},
   "source": [
    "## Pulling data, five datasets\n",
    "\n",
    " - The combined data\n",
    " - When it rains at both locations\n",
    " - When it does not rain at either location\n",
    " - When it rains only at ohare\n",
    " - When it rains only at the Garden"
   ]
  },
  {
   "cell_type": "markdown",
   "metadata": {},
   "source": [
    "### The combined data"
   ]
  },
  {
   "cell_type": "code",
   "execution_count": 2,
   "metadata": {},
   "outputs": [
    {
     "name": "stdout",
     "output_type": "stream",
     "text": [
      "(7923, 19)\n",
      "\n",
      "Index(['target', 'garden_didrain', 'ohare_didrain', 'tmpdiff', 'garden_prcp',\n",
      "       'garden_snfall', 'garden_sndpth', 'garden_maxtmp', 'garden_mintmp',\n",
      "       'garden_medtmp', 'garden_tobs', 'lake_temp', 'ohare_wspd', 'ohare_prcp',\n",
      "       'ohare_snfall', 'ohare_sndpth', 'ohare_maxtmp', 'ohare_mintmp',\n",
      "       'ohare_medtmp'],\n",
      "      dtype='object')\n",
      "\n",
      "target            float64\n",
      "garden_didrain      int64\n",
      "ohare_didrain       int64\n",
      "tmpdiff           float64\n",
      "garden_prcp       float64\n",
      "garden_snfall     float64\n",
      "garden_sndpth     float64\n",
      "garden_maxtmp     float64\n",
      "garden_mintmp     float64\n",
      "garden_medtmp     float64\n",
      "garden_tobs       float64\n",
      "lake_temp         float64\n",
      "ohare_wspd        float64\n",
      "ohare_prcp        float64\n",
      "ohare_snfall      float64\n",
      "ohare_sndpth      float64\n",
      "ohare_maxtmp        int64\n",
      "ohare_mintmp        int64\n",
      "ohare_medtmp      float64\n",
      "dtype: object\n"
     ]
    },
    {
     "data": {
      "text/html": [
       "<div>\n",
       "<style scoped>\n",
       "    .dataframe tbody tr th:only-of-type {\n",
       "        vertical-align: middle;\n",
       "    }\n",
       "\n",
       "    .dataframe tbody tr th {\n",
       "        vertical-align: top;\n",
       "    }\n",
       "\n",
       "    .dataframe thead th {\n",
       "        text-align: right;\n",
       "    }\n",
       "</style>\n",
       "<table border=\"1\" class=\"dataframe\">\n",
       "  <thead>\n",
       "    <tr style=\"text-align: right;\">\n",
       "      <th></th>\n",
       "      <th>target</th>\n",
       "      <th>garden_didrain</th>\n",
       "      <th>ohare_didrain</th>\n",
       "      <th>tmpdiff</th>\n",
       "      <th>garden_prcp</th>\n",
       "      <th>garden_snfall</th>\n",
       "      <th>garden_sndpth</th>\n",
       "      <th>garden_maxtmp</th>\n",
       "      <th>garden_mintmp</th>\n",
       "      <th>garden_medtmp</th>\n",
       "      <th>garden_tobs</th>\n",
       "      <th>lake_temp</th>\n",
       "      <th>ohare_wspd</th>\n",
       "      <th>ohare_prcp</th>\n",
       "      <th>ohare_snfall</th>\n",
       "      <th>ohare_sndpth</th>\n",
       "      <th>ohare_maxtmp</th>\n",
       "      <th>ohare_mintmp</th>\n",
       "      <th>ohare_medtmp</th>\n",
       "    </tr>\n",
       "  </thead>\n",
       "  <tbody>\n",
       "    <tr>\n",
       "      <th>0</th>\n",
       "      <td>0.09</td>\n",
       "      <td>1</td>\n",
       "      <td>1</td>\n",
       "      <td>9.5</td>\n",
       "      <td>0.11</td>\n",
       "      <td>1.5</td>\n",
       "      <td>3.0</td>\n",
       "      <td>36.0</td>\n",
       "      <td>21.0</td>\n",
       "      <td>28.5</td>\n",
       "      <td>24.0</td>\n",
       "      <td>5.02</td>\n",
       "      <td>16.11</td>\n",
       "      <td>0.02</td>\n",
       "      <td>0.2</td>\n",
       "      <td>1.0</td>\n",
       "      <td>27</td>\n",
       "      <td>11</td>\n",
       "      <td>19.0</td>\n",
       "    </tr>\n",
       "    <tr>\n",
       "      <th>1</th>\n",
       "      <td>0.00</td>\n",
       "      <td>0</td>\n",
       "      <td>0</td>\n",
       "      <td>1.0</td>\n",
       "      <td>0.00</td>\n",
       "      <td>0.0</td>\n",
       "      <td>1.0</td>\n",
       "      <td>24.0</td>\n",
       "      <td>7.0</td>\n",
       "      <td>15.5</td>\n",
       "      <td>12.0</td>\n",
       "      <td>4.95</td>\n",
       "      <td>14.09</td>\n",
       "      <td>0.00</td>\n",
       "      <td>0.0</td>\n",
       "      <td>1.0</td>\n",
       "      <td>21</td>\n",
       "      <td>8</td>\n",
       "      <td>14.5</td>\n",
       "    </tr>\n",
       "    <tr>\n",
       "      <th>2</th>\n",
       "      <td>0.00</td>\n",
       "      <td>0</td>\n",
       "      <td>0</td>\n",
       "      <td>7.0</td>\n",
       "      <td>0.00</td>\n",
       "      <td>0.0</td>\n",
       "      <td>1.0</td>\n",
       "      <td>25.0</td>\n",
       "      <td>10.0</td>\n",
       "      <td>17.5</td>\n",
       "      <td>11.0</td>\n",
       "      <td>0.20</td>\n",
       "      <td>12.53</td>\n",
       "      <td>0.00</td>\n",
       "      <td>0.0</td>\n",
       "      <td>1.0</td>\n",
       "      <td>18</td>\n",
       "      <td>3</td>\n",
       "      <td>10.5</td>\n",
       "    </tr>\n",
       "    <tr>\n",
       "      <th>3</th>\n",
       "      <td>0.00</td>\n",
       "      <td>0</td>\n",
       "      <td>0</td>\n",
       "      <td>5.5</td>\n",
       "      <td>0.00</td>\n",
       "      <td>0.0</td>\n",
       "      <td>1.0</td>\n",
       "      <td>18.0</td>\n",
       "      <td>-1.0</td>\n",
       "      <td>8.5</td>\n",
       "      <td>1.0</td>\n",
       "      <td>0.20</td>\n",
       "      <td>12.30</td>\n",
       "      <td>0.00</td>\n",
       "      <td>0.0</td>\n",
       "      <td>1.0</td>\n",
       "      <td>7</td>\n",
       "      <td>-1</td>\n",
       "      <td>3.0</td>\n",
       "    </tr>\n",
       "    <tr>\n",
       "      <th>4</th>\n",
       "      <td>0.00</td>\n",
       "      <td>0</td>\n",
       "      <td>0</td>\n",
       "      <td>6.5</td>\n",
       "      <td>0.00</td>\n",
       "      <td>0.0</td>\n",
       "      <td>1.0</td>\n",
       "      <td>6.0</td>\n",
       "      <td>-1.0</td>\n",
       "      <td>2.5</td>\n",
       "      <td>3.0</td>\n",
       "      <td>0.20</td>\n",
       "      <td>16.33</td>\n",
       "      <td>0.00</td>\n",
       "      <td>0.0</td>\n",
       "      <td>0.0</td>\n",
       "      <td>19</td>\n",
       "      <td>-1</td>\n",
       "      <td>9.0</td>\n",
       "    </tr>\n",
       "  </tbody>\n",
       "</table>\n",
       "</div>"
      ],
      "text/plain": [
       "   target  garden_didrain  ohare_didrain  tmpdiff  garden_prcp  garden_snfall  \\\n",
       "0    0.09               1              1      9.5         0.11            1.5   \n",
       "1    0.00               0              0      1.0         0.00            0.0   \n",
       "2    0.00               0              0      7.0         0.00            0.0   \n",
       "3    0.00               0              0      5.5         0.00            0.0   \n",
       "4    0.00               0              0      6.5         0.00            0.0   \n",
       "\n",
       "   garden_sndpth  garden_maxtmp  garden_mintmp  garden_medtmp  garden_tobs  \\\n",
       "0            3.0           36.0           21.0           28.5         24.0   \n",
       "1            1.0           24.0            7.0           15.5         12.0   \n",
       "2            1.0           25.0           10.0           17.5         11.0   \n",
       "3            1.0           18.0           -1.0            8.5          1.0   \n",
       "4            1.0            6.0           -1.0            2.5          3.0   \n",
       "\n",
       "   lake_temp  ohare_wspd  ohare_prcp  ohare_snfall  ohare_sndpth  \\\n",
       "0       5.02       16.11        0.02           0.2           1.0   \n",
       "1       4.95       14.09        0.00           0.0           1.0   \n",
       "2       0.20       12.53        0.00           0.0           1.0   \n",
       "3       0.20       12.30        0.00           0.0           1.0   \n",
       "4       0.20       16.33        0.00           0.0           0.0   \n",
       "\n",
       "   ohare_maxtmp  ohare_mintmp  ohare_medtmp  \n",
       "0            27            11          19.0  \n",
       "1            21             8          14.5  \n",
       "2            18             3          10.5  \n",
       "3             7            -1           3.0  \n",
       "4            19            -1           9.0  "
      ]
     },
     "execution_count": 2,
     "metadata": {},
     "output_type": "execute_result"
    }
   ],
   "source": [
    "# Uncorrelated, all the data\n",
    "data = pd.read_csv('data/merged/garden_ohare_lake/jan011995_dec312018_uncorrelated_but_clean.csv')\n",
    "\n",
    "print(data.shape)\n",
    "print()\n",
    "print(data.columns)\n",
    "print()\n",
    "print(data.dtypes)\n",
    "data.head()"
   ]
  },
  {
   "cell_type": "markdown",
   "metadata": {},
   "source": [
    "### Both raining"
   ]
  },
  {
   "cell_type": "code",
   "execution_count": 3,
   "metadata": {},
   "outputs": [
    {
     "name": "stdout",
     "output_type": "stream",
     "text": [
      "(1648, 19)\n",
      "\n",
      "Index(['target', 'garden_didrain', 'ohare_didrain', 'tmpdiff', 'garden_prcp',\n",
      "       'garden_snfall', 'garden_sndpth', 'garden_maxtmp', 'garden_mintmp',\n",
      "       'garden_medtmp', 'garden_tobs', 'lake_temp', 'ohare_wspd', 'ohare_prcp',\n",
      "       'ohare_snfall', 'ohare_sndpth', 'ohare_maxtmp', 'ohare_mintmp',\n",
      "       'ohare_medtmp'],\n",
      "      dtype='object')\n",
      "\n",
      "target            float64\n",
      "garden_didrain      int64\n",
      "ohare_didrain       int64\n",
      "tmpdiff           float64\n",
      "garden_prcp       float64\n",
      "garden_snfall     float64\n",
      "garden_sndpth     float64\n",
      "garden_maxtmp     float64\n",
      "garden_mintmp     float64\n",
      "garden_medtmp     float64\n",
      "garden_tobs       float64\n",
      "lake_temp         float64\n",
      "ohare_wspd        float64\n",
      "ohare_prcp        float64\n",
      "ohare_snfall      float64\n",
      "ohare_sndpth      float64\n",
      "ohare_maxtmp        int64\n",
      "ohare_mintmp        int64\n",
      "ohare_medtmp      float64\n",
      "dtype: object\n"
     ]
    },
    {
     "data": {
      "text/html": [
       "<div>\n",
       "<style scoped>\n",
       "    .dataframe tbody tr th:only-of-type {\n",
       "        vertical-align: middle;\n",
       "    }\n",
       "\n",
       "    .dataframe tbody tr th {\n",
       "        vertical-align: top;\n",
       "    }\n",
       "\n",
       "    .dataframe thead th {\n",
       "        text-align: right;\n",
       "    }\n",
       "</style>\n",
       "<table border=\"1\" class=\"dataframe\">\n",
       "  <thead>\n",
       "    <tr style=\"text-align: right;\">\n",
       "      <th></th>\n",
       "      <th>target</th>\n",
       "      <th>garden_didrain</th>\n",
       "      <th>ohare_didrain</th>\n",
       "      <th>tmpdiff</th>\n",
       "      <th>garden_prcp</th>\n",
       "      <th>garden_snfall</th>\n",
       "      <th>garden_sndpth</th>\n",
       "      <th>garden_maxtmp</th>\n",
       "      <th>garden_mintmp</th>\n",
       "      <th>garden_medtmp</th>\n",
       "      <th>garden_tobs</th>\n",
       "      <th>lake_temp</th>\n",
       "      <th>ohare_wspd</th>\n",
       "      <th>ohare_prcp</th>\n",
       "      <th>ohare_snfall</th>\n",
       "      <th>ohare_sndpth</th>\n",
       "      <th>ohare_maxtmp</th>\n",
       "      <th>ohare_mintmp</th>\n",
       "      <th>ohare_medtmp</th>\n",
       "    </tr>\n",
       "  </thead>\n",
       "  <tbody>\n",
       "    <tr>\n",
       "      <th>0</th>\n",
       "      <td>0.09</td>\n",
       "      <td>1</td>\n",
       "      <td>1</td>\n",
       "      <td>9.5</td>\n",
       "      <td>0.11</td>\n",
       "      <td>1.5</td>\n",
       "      <td>3.0</td>\n",
       "      <td>36.0</td>\n",
       "      <td>21.0</td>\n",
       "      <td>28.5</td>\n",
       "      <td>24.0</td>\n",
       "      <td>5.02</td>\n",
       "      <td>16.11</td>\n",
       "      <td>0.02</td>\n",
       "      <td>0.2</td>\n",
       "      <td>1.0</td>\n",
       "      <td>27</td>\n",
       "      <td>11</td>\n",
       "      <td>19.0</td>\n",
       "    </tr>\n",
       "    <tr>\n",
       "      <th>1</th>\n",
       "      <td>0.22</td>\n",
       "      <td>1</td>\n",
       "      <td>1</td>\n",
       "      <td>9.0</td>\n",
       "      <td>0.03</td>\n",
       "      <td>0.3</td>\n",
       "      <td>1.0</td>\n",
       "      <td>24.0</td>\n",
       "      <td>3.0</td>\n",
       "      <td>13.5</td>\n",
       "      <td>24.0</td>\n",
       "      <td>0.20</td>\n",
       "      <td>10.51</td>\n",
       "      <td>0.25</td>\n",
       "      <td>3.3</td>\n",
       "      <td>1.0</td>\n",
       "      <td>27</td>\n",
       "      <td>18</td>\n",
       "      <td>22.5</td>\n",
       "    </tr>\n",
       "    <tr>\n",
       "      <th>2</th>\n",
       "      <td>0.82</td>\n",
       "      <td>1</td>\n",
       "      <td>1</td>\n",
       "      <td>4.5</td>\n",
       "      <td>0.02</td>\n",
       "      <td>0.0</td>\n",
       "      <td>0.0</td>\n",
       "      <td>48.0</td>\n",
       "      <td>32.0</td>\n",
       "      <td>40.0</td>\n",
       "      <td>33.0</td>\n",
       "      <td>3.63</td>\n",
       "      <td>9.40</td>\n",
       "      <td>0.84</td>\n",
       "      <td>0.0</td>\n",
       "      <td>0.0</td>\n",
       "      <td>38</td>\n",
       "      <td>33</td>\n",
       "      <td>35.5</td>\n",
       "    </tr>\n",
       "    <tr>\n",
       "      <th>3</th>\n",
       "      <td>1.14</td>\n",
       "      <td>1</td>\n",
       "      <td>1</td>\n",
       "      <td>2.5</td>\n",
       "      <td>1.94</td>\n",
       "      <td>0.0</td>\n",
       "      <td>0.0</td>\n",
       "      <td>37.0</td>\n",
       "      <td>32.0</td>\n",
       "      <td>34.5</td>\n",
       "      <td>36.0</td>\n",
       "      <td>3.52</td>\n",
       "      <td>17.00</td>\n",
       "      <td>0.80</td>\n",
       "      <td>0.0</td>\n",
       "      <td>0.0</td>\n",
       "      <td>39</td>\n",
       "      <td>35</td>\n",
       "      <td>37.0</td>\n",
       "    </tr>\n",
       "    <tr>\n",
       "      <th>4</th>\n",
       "      <td>0.63</td>\n",
       "      <td>1</td>\n",
       "      <td>1</td>\n",
       "      <td>0.0</td>\n",
       "      <td>0.18</td>\n",
       "      <td>0.8</td>\n",
       "      <td>1.0</td>\n",
       "      <td>39.0</td>\n",
       "      <td>29.0</td>\n",
       "      <td>34.0</td>\n",
       "      <td>35.0</td>\n",
       "      <td>3.03</td>\n",
       "      <td>19.01</td>\n",
       "      <td>0.81</td>\n",
       "      <td>2.4</td>\n",
       "      <td>1.0</td>\n",
       "      <td>36</td>\n",
       "      <td>32</td>\n",
       "      <td>34.0</td>\n",
       "    </tr>\n",
       "  </tbody>\n",
       "</table>\n",
       "</div>"
      ],
      "text/plain": [
       "   target  garden_didrain  ohare_didrain  tmpdiff  garden_prcp  garden_snfall  \\\n",
       "0    0.09               1              1      9.5         0.11            1.5   \n",
       "1    0.22               1              1      9.0         0.03            0.3   \n",
       "2    0.82               1              1      4.5         0.02            0.0   \n",
       "3    1.14               1              1      2.5         1.94            0.0   \n",
       "4    0.63               1              1      0.0         0.18            0.8   \n",
       "\n",
       "   garden_sndpth  garden_maxtmp  garden_mintmp  garden_medtmp  garden_tobs  \\\n",
       "0            3.0           36.0           21.0           28.5         24.0   \n",
       "1            1.0           24.0            3.0           13.5         24.0   \n",
       "2            0.0           48.0           32.0           40.0         33.0   \n",
       "3            0.0           37.0           32.0           34.5         36.0   \n",
       "4            1.0           39.0           29.0           34.0         35.0   \n",
       "\n",
       "   lake_temp  ohare_wspd  ohare_prcp  ohare_snfall  ohare_sndpth  \\\n",
       "0       5.02       16.11        0.02           0.2           1.0   \n",
       "1       0.20       10.51        0.25           3.3           1.0   \n",
       "2       3.63        9.40        0.84           0.0           0.0   \n",
       "3       3.52       17.00        0.80           0.0           0.0   \n",
       "4       3.03       19.01        0.81           2.4           1.0   \n",
       "\n",
       "   ohare_maxtmp  ohare_mintmp  ohare_medtmp  \n",
       "0            27            11          19.0  \n",
       "1            27            18          22.5  \n",
       "2            38            33          35.5  \n",
       "3            39            35          37.0  \n",
       "4            36            32          34.0  "
      ]
     },
     "execution_count": 3,
     "metadata": {},
     "output_type": "execute_result"
    }
   ],
   "source": [
    "# Uncorrelated, both rain\n",
    "data_both_rain = pd.read_csv('data/merged/garden_ohare_lake/jan011995_dec312018_uncorrelated_both_rain.csv')\n",
    "\n",
    "print(data_both_rain.shape)\n",
    "print()\n",
    "print(data_both_rain.columns)\n",
    "print()\n",
    "print(data_both_rain.dtypes)\n",
    "data_both_rain.head()"
   ]
  },
  {
   "cell_type": "markdown",
   "metadata": {},
   "source": [
    "### Data, both not raining"
   ]
  },
  {
   "cell_type": "code",
   "execution_count": 4,
   "metadata": {},
   "outputs": [
    {
     "name": "stdout",
     "output_type": "stream",
     "text": [
      "(4022, 19)\n",
      "\n",
      "Index(['target', 'garden_didrain', 'ohare_didrain', 'tmpdiff', 'garden_prcp',\n",
      "       'garden_snfall', 'garden_sndpth', 'garden_maxtmp', 'garden_mintmp',\n",
      "       'garden_medtmp', 'garden_tobs', 'lake_temp', 'ohare_wspd', 'ohare_prcp',\n",
      "       'ohare_snfall', 'ohare_sndpth', 'ohare_maxtmp', 'ohare_mintmp',\n",
      "       'ohare_medtmp'],\n",
      "      dtype='object')\n",
      "\n",
      "target            float64\n",
      "garden_didrain      int64\n",
      "ohare_didrain       int64\n",
      "tmpdiff           float64\n",
      "garden_prcp       float64\n",
      "garden_snfall     float64\n",
      "garden_sndpth     float64\n",
      "garden_maxtmp     float64\n",
      "garden_mintmp     float64\n",
      "garden_medtmp     float64\n",
      "garden_tobs       float64\n",
      "lake_temp         float64\n",
      "ohare_wspd        float64\n",
      "ohare_prcp        float64\n",
      "ohare_snfall      float64\n",
      "ohare_sndpth      float64\n",
      "ohare_maxtmp        int64\n",
      "ohare_mintmp        int64\n",
      "ohare_medtmp      float64\n",
      "dtype: object\n"
     ]
    },
    {
     "data": {
      "text/html": [
       "<div>\n",
       "<style scoped>\n",
       "    .dataframe tbody tr th:only-of-type {\n",
       "        vertical-align: middle;\n",
       "    }\n",
       "\n",
       "    .dataframe tbody tr th {\n",
       "        vertical-align: top;\n",
       "    }\n",
       "\n",
       "    .dataframe thead th {\n",
       "        text-align: right;\n",
       "    }\n",
       "</style>\n",
       "<table border=\"1\" class=\"dataframe\">\n",
       "  <thead>\n",
       "    <tr style=\"text-align: right;\">\n",
       "      <th></th>\n",
       "      <th>target</th>\n",
       "      <th>garden_didrain</th>\n",
       "      <th>ohare_didrain</th>\n",
       "      <th>tmpdiff</th>\n",
       "      <th>garden_prcp</th>\n",
       "      <th>garden_snfall</th>\n",
       "      <th>garden_sndpth</th>\n",
       "      <th>garden_maxtmp</th>\n",
       "      <th>garden_mintmp</th>\n",
       "      <th>garden_medtmp</th>\n",
       "      <th>garden_tobs</th>\n",
       "      <th>lake_temp</th>\n",
       "      <th>ohare_wspd</th>\n",
       "      <th>ohare_prcp</th>\n",
       "      <th>ohare_snfall</th>\n",
       "      <th>ohare_sndpth</th>\n",
       "      <th>ohare_maxtmp</th>\n",
       "      <th>ohare_mintmp</th>\n",
       "      <th>ohare_medtmp</th>\n",
       "    </tr>\n",
       "  </thead>\n",
       "  <tbody>\n",
       "    <tr>\n",
       "      <th>0</th>\n",
       "      <td>0.0</td>\n",
       "      <td>0</td>\n",
       "      <td>0</td>\n",
       "      <td>1.0</td>\n",
       "      <td>0.0</td>\n",
       "      <td>0.0</td>\n",
       "      <td>1.0</td>\n",
       "      <td>24.0</td>\n",
       "      <td>7.0</td>\n",
       "      <td>15.5</td>\n",
       "      <td>12.0</td>\n",
       "      <td>4.95</td>\n",
       "      <td>14.09</td>\n",
       "      <td>0.0</td>\n",
       "      <td>0.0</td>\n",
       "      <td>1.0</td>\n",
       "      <td>21</td>\n",
       "      <td>8</td>\n",
       "      <td>14.5</td>\n",
       "    </tr>\n",
       "    <tr>\n",
       "      <th>1</th>\n",
       "      <td>0.0</td>\n",
       "      <td>0</td>\n",
       "      <td>0</td>\n",
       "      <td>7.0</td>\n",
       "      <td>0.0</td>\n",
       "      <td>0.0</td>\n",
       "      <td>1.0</td>\n",
       "      <td>25.0</td>\n",
       "      <td>10.0</td>\n",
       "      <td>17.5</td>\n",
       "      <td>11.0</td>\n",
       "      <td>0.20</td>\n",
       "      <td>12.53</td>\n",
       "      <td>0.0</td>\n",
       "      <td>0.0</td>\n",
       "      <td>1.0</td>\n",
       "      <td>18</td>\n",
       "      <td>3</td>\n",
       "      <td>10.5</td>\n",
       "    </tr>\n",
       "    <tr>\n",
       "      <th>2</th>\n",
       "      <td>0.0</td>\n",
       "      <td>0</td>\n",
       "      <td>0</td>\n",
       "      <td>5.5</td>\n",
       "      <td>0.0</td>\n",
       "      <td>0.0</td>\n",
       "      <td>1.0</td>\n",
       "      <td>18.0</td>\n",
       "      <td>-1.0</td>\n",
       "      <td>8.5</td>\n",
       "      <td>1.0</td>\n",
       "      <td>0.20</td>\n",
       "      <td>12.30</td>\n",
       "      <td>0.0</td>\n",
       "      <td>0.0</td>\n",
       "      <td>1.0</td>\n",
       "      <td>7</td>\n",
       "      <td>-1</td>\n",
       "      <td>3.0</td>\n",
       "    </tr>\n",
       "    <tr>\n",
       "      <th>3</th>\n",
       "      <td>0.0</td>\n",
       "      <td>0</td>\n",
       "      <td>0</td>\n",
       "      <td>6.5</td>\n",
       "      <td>0.0</td>\n",
       "      <td>0.0</td>\n",
       "      <td>1.0</td>\n",
       "      <td>6.0</td>\n",
       "      <td>-1.0</td>\n",
       "      <td>2.5</td>\n",
       "      <td>3.0</td>\n",
       "      <td>0.20</td>\n",
       "      <td>16.33</td>\n",
       "      <td>0.0</td>\n",
       "      <td>0.0</td>\n",
       "      <td>0.0</td>\n",
       "      <td>19</td>\n",
       "      <td>-1</td>\n",
       "      <td>9.0</td>\n",
       "    </tr>\n",
       "    <tr>\n",
       "      <th>4</th>\n",
       "      <td>0.0</td>\n",
       "      <td>0</td>\n",
       "      <td>0</td>\n",
       "      <td>5.5</td>\n",
       "      <td>0.0</td>\n",
       "      <td>0.0</td>\n",
       "      <td>3.0</td>\n",
       "      <td>28.0</td>\n",
       "      <td>6.0</td>\n",
       "      <td>17.0</td>\n",
       "      <td>9.0</td>\n",
       "      <td>0.20</td>\n",
       "      <td>8.50</td>\n",
       "      <td>0.0</td>\n",
       "      <td>0.0</td>\n",
       "      <td>3.0</td>\n",
       "      <td>19</td>\n",
       "      <td>4</td>\n",
       "      <td>11.5</td>\n",
       "    </tr>\n",
       "  </tbody>\n",
       "</table>\n",
       "</div>"
      ],
      "text/plain": [
       "   target  garden_didrain  ohare_didrain  tmpdiff  garden_prcp  garden_snfall  \\\n",
       "0     0.0               0              0      1.0          0.0            0.0   \n",
       "1     0.0               0              0      7.0          0.0            0.0   \n",
       "2     0.0               0              0      5.5          0.0            0.0   \n",
       "3     0.0               0              0      6.5          0.0            0.0   \n",
       "4     0.0               0              0      5.5          0.0            0.0   \n",
       "\n",
       "   garden_sndpth  garden_maxtmp  garden_mintmp  garden_medtmp  garden_tobs  \\\n",
       "0            1.0           24.0            7.0           15.5         12.0   \n",
       "1            1.0           25.0           10.0           17.5         11.0   \n",
       "2            1.0           18.0           -1.0            8.5          1.0   \n",
       "3            1.0            6.0           -1.0            2.5          3.0   \n",
       "4            3.0           28.0            6.0           17.0          9.0   \n",
       "\n",
       "   lake_temp  ohare_wspd  ohare_prcp  ohare_snfall  ohare_sndpth  \\\n",
       "0       4.95       14.09         0.0           0.0           1.0   \n",
       "1       0.20       12.53         0.0           0.0           1.0   \n",
       "2       0.20       12.30         0.0           0.0           1.0   \n",
       "3       0.20       16.33         0.0           0.0           0.0   \n",
       "4       0.20        8.50         0.0           0.0           3.0   \n",
       "\n",
       "   ohare_maxtmp  ohare_mintmp  ohare_medtmp  \n",
       "0            21             8          14.5  \n",
       "1            18             3          10.5  \n",
       "2             7            -1           3.0  \n",
       "3            19            -1           9.0  \n",
       "4            19             4          11.5  "
      ]
     },
     "execution_count": 4,
     "metadata": {},
     "output_type": "execute_result"
    }
   ],
   "source": [
    "# Uncorrelated, both rain\n",
    "data_both_not_rain = pd.read_csv('data/merged/garden_ohare_lake/jan011995_dec312018_uncorrelated_both_not_rain.csv')\n",
    "\n",
    "print(data_both_not_rain.shape)\n",
    "print()\n",
    "print(data_both_not_rain.columns)\n",
    "print()\n",
    "print(data_both_not_rain.dtypes)\n",
    "data_both_not_rain.head()"
   ]
  },
  {
   "cell_type": "markdown",
   "metadata": {},
   "source": [
    "# We begin by running some t-tests to check for potential significant differences between the garden and ohare."
   ]
  },
  {
   "cell_type": "code",
   "execution_count": 5,
   "metadata": {},
   "outputs": [],
   "source": [
    "import scipy.stats as stats"
   ]
  },
  {
   "cell_type": "markdown",
   "metadata": {},
   "source": [
    "## Temperature\n",
    "\n",
    "#### Note, there is a statistically significant difference between the max temperatures when the whether is similar at both locations."
   ]
  },
  {
   "cell_type": "code",
   "execution_count": 6,
   "metadata": {},
   "outputs": [
    {
     "data": {
      "text/plain": [
       "Ttest_indResult(statistic=0.5875989949892636, pvalue=0.5568098596678298)"
      ]
     },
     "execution_count": 6,
     "metadata": {},
     "output_type": "execute_result"
    }
   ],
   "source": [
    "# max temperatures, full dataset\n",
    "stats.ttest_ind(data.ohare_maxtmp, data.garden_maxtmp)"
   ]
  },
  {
   "cell_type": "code",
   "execution_count": 7,
   "metadata": {},
   "outputs": [
    {
     "data": {
      "image/png": "[encoded data removed]",
      "text/plain": [
       "<Figure size 432x288 with 1 Axes>"
      ]
     },
     "metadata": {
      "needs_background": "light"
     },
     "output_type": "display_data"
    }
   ],
   "source": [
    "sns.scatterplot(data.ohare_maxtmp, data.garden_maxtmp);\n",
    "plt.title('Temperature/ Full Data (in)', size=20);\n",
    "plt.xlabel('Ohare', size=16)\n",
    "plt.ylabel('Garden', size=16);"
   ]
  },
  {
   "cell_type": "code",
   "execution_count": 8,
   "metadata": {},
   "outputs": [
    {
     "data": {
      "text/plain": [
       "Ttest_indResult(statistic=-2.629078013403157, pvalue=0.008601459111375994)"
      ]
     },
     "execution_count": 8,
     "metadata": {},
     "output_type": "execute_result"
    }
   ],
   "source": [
    "# max temperatures, both raining\n",
    "stats.ttest_ind(data_both_rain.ohare_maxtmp, data_both_rain.garden_maxtmp)"
   ]
  },
  {
   "cell_type": "code",
   "execution_count": 9,
   "metadata": {},
   "outputs": [
    {
     "data": {
      "image/png": "[encoded data removed]",
      "text/plain": [
       "<Figure size 432x288 with 1 Axes>"
      ]
     },
     "metadata": {
      "needs_background": "light"
     },
     "output_type": "display_data"
    }
   ],
   "source": [
    "sns.scatterplot(data_both_rain.ohare_maxtmp, data_both_rain.garden_maxtmp);\n",
    "plt.title('Temperature/ Raining (in)', size=20);\n",
    "plt.xlabel('Ohare', size=16)\n",
    "plt.ylabel('Garden', size=16);"
   ]
  },
  {
   "cell_type": "code",
   "execution_count": 10,
   "metadata": {},
   "outputs": [
    {
     "name": "stdout",
     "output_type": "stream",
     "text": [
      "The average maximum temperature at Ohare on days when there was rain: 57.7 degrees F.\n",
      "The average maximum temperature at the Garden on days when there was rain: 59.48 degrees F.\n"
     ]
    }
   ],
   "source": [
    "print(f\"The average maximum temperature at Ohare on days when there was rain: {round(data_both_rain['ohare_maxtmp'].mean(), 2)} degrees F.\")\n",
    "print(f\"The average maximum temperature at the Garden on days when there was rain: {round(data_both_rain['garden_maxtmp'].mean(), 2)} degrees F.\")\n",
    "      \n",
    "      "
   ]
  },
  {
   "cell_type": "code",
   "execution_count": 11,
   "metadata": {},
   "outputs": [
    {
     "data": {
      "text/plain": [
       "Ttest_indResult(statistic=3.2850453166245197, pvalue=0.0010240231591212275)"
      ]
     },
     "execution_count": 11,
     "metadata": {},
     "output_type": "execute_result"
    }
   ],
   "source": [
    "# max temperatures, both not raining\n",
    "stats.ttest_ind(data_both_not_rain.ohare_maxtmp, data_both_not_rain.garden_maxtmp)"
   ]
  },
  {
   "cell_type": "code",
   "execution_count": 12,
   "metadata": {},
   "outputs": [
    {
     "data": {
      "image/png": "[encoded data removed]",
      "text/plain": [
       "<Figure size 432x288 with 1 Axes>"
      ]
     },
     "metadata": {
      "needs_background": "light"
     },
     "output_type": "display_data"
    }
   ],
   "source": [
    "sns.scatterplot(data_both_not_rain.ohare_maxtmp, data_both_not_rain.garden_maxtmp);\n",
    "plt.title('Temperature/ Not Raining (in)', size=20);\n",
    "plt.xlabel('Ohare', size=16)\n",
    "plt.ylabel('Garden', size=16);"
   ]
  },
  {
   "cell_type": "code",
   "execution_count": 13,
   "metadata": {},
   "outputs": [
    {
     "name": "stdout",
     "output_type": "stream",
     "text": [
      "The average maximum temperature at Ohare on days when there was no rain: 60.57 degrees F.\n",
      "The average maximum temperature at the Garden on days when there was no rain: 58.99 degrees F.\n"
     ]
    }
   ],
   "source": [
    "print(f\"The average maximum temperature at Ohare on days when there was no rain: {round(data_both_not_rain['ohare_maxtmp'].mean(), 2)} degrees F.\")\n",
    "print(f\"The average maximum temperature at the Garden on days when there was no rain: {round(data_both_not_rain['garden_maxtmp'].mean(), 2)} degrees F.\")\n",
    "      \n",
    "      "
   ]
  },
  {
   "cell_type": "markdown",
   "metadata": {},
   "source": [
    "## Precipitation"
   ]
  },
  {
   "cell_type": "code",
   "execution_count": 14,
   "metadata": {},
   "outputs": [
    {
     "data": {
      "text/plain": [
       "Ttest_indResult(statistic=-0.9356247321324567, pvalue=0.34948069590263486)"
      ]
     },
     "execution_count": 14,
     "metadata": {},
     "output_type": "execute_result"
    }
   ],
   "source": [
    "# precipitation, full data\n",
    "stats.ttest_ind(data.ohare_prcp, data.garden_prcp)"
   ]
  },
  {
   "cell_type": "code",
   "execution_count": 15,
   "metadata": {},
   "outputs": [
    {
     "data": {
      "image/png": "[encoded data removed]",
      "text/plain": [
       "<Figure size 432x288 with 1 Axes>"
      ]
     },
     "metadata": {
      "needs_background": "light"
     },
     "output_type": "display_data"
    }
   ],
   "source": [
    "sns.scatterplot(data.ohare_prcp, data.garden_prcp);\n",
    "plt.title('Precipitation/ Full Data (in)', size=20);\n",
    "plt.xlabel('Ohare', size=16)\n",
    "plt.ylabel('Garden', size=16);"
   ]
  },
  {
   "cell_type": "code",
   "execution_count": 16,
   "metadata": {},
   "outputs": [
    {
     "data": {
      "text/plain": [
       "Ttest_indResult(statistic=-1.2185034953971952, pvalue=0.2231199584735155)"
      ]
     },
     "execution_count": 16,
     "metadata": {},
     "output_type": "execute_result"
    }
   ],
   "source": [
    "# precipitation, both raining\n",
    "stats.ttest_ind(data_both_rain.ohare_prcp, data_both_rain.garden_prcp)"
   ]
  },
  {
   "cell_type": "code",
   "execution_count": 17,
   "metadata": {},
   "outputs": [
    {
     "data": {
      "image/png": "[encoded data removed]",
      "text/plain": [
       "<Figure size 432x288 with 1 Axes>"
      ]
     },
     "metadata": {
      "needs_background": "light"
     },
     "output_type": "display_data"
    }
   ],
   "source": [
    "sns.scatterplot(data_both_rain.ohare_prcp, data_both_rain.garden_prcp);\n",
    "plt.title('Precipitation/ Both Raining (in)', size=20);\n",
    "plt.xlabel('Ohare', size=16)\n",
    "plt.ylabel('Garden', size=16);"
   ]
  },
  {
   "cell_type": "markdown",
   "metadata": {},
   "source": [
    "#### These are both large p-values, indicating that there is no reason, based on the given data, to think there is a statistically significant difference in average precipitation between the two locations."
   ]
  },
  {
   "cell_type": "code",
   "execution_count": 18,
   "metadata": {},
   "outputs": [
    {
     "data": {
      "image/png": "[encoded data removed]",
      "text/plain": [
       "<Figure size 1152x576 with 1 Axes>"
      ]
     },
     "metadata": {
      "needs_background": "light"
     },
     "output_type": "display_data"
    }
   ],
   "source": [
    "plt.figure(figsize=(16, 8))\n",
    "\n",
    "plt.plot((data.garden_prcp - data.ohare_prcp))\n",
    "plt.title('Difference in Prec', size=24)\n",
    "plt.xlabel('Index', size=16)\n",
    "plt.ylabel('Amount of Rainfall', size=16);"
   ]
  },
  {
   "cell_type": "markdown",
   "metadata": {},
   "source": [
    "### Comparing the difference between the temperature difference and Lake Michigan temperature."
   ]
  },
  {
   "cell_type": "code",
   "execution_count": 22,
   "metadata": {},
   "outputs": [
    {
     "data": {
      "text/plain": [
       "Ttest_indResult(statistic=-117.44188661377726, pvalue=0.0)"
      ]
     },
     "execution_count": 22,
     "metadata": {},
     "output_type": "execute_result"
    }
   ],
   "source": [
    "stats.ttest_ind(data.target, data.lake_temp)"
   ]
  },
  {
   "cell_type": "code",
   "execution_count": 23,
   "metadata": {
    "scrolled": true
   },
   "outputs": [
    {
     "data": {
      "image/png": "[encoded data removed]",
      "text/plain": [
       "<Figure size 432x288 with 1 Axes>"
      ]
     },
     "metadata": {
      "needs_background": "light"
     },
     "output_type": "display_data"
    }
   ],
   "source": [
    "sns.regplot(data.ohare_prcp, data.garden_prcp);"
   ]
  },
  {
   "cell_type": "code",
   "execution_count": null,
   "metadata": {},
   "outputs": [],
   "source": []
  },
  {
   "cell_type": "code",
   "execution_count": 24,
   "metadata": {},
   "outputs": [
    {
     "data": {
      "image/png": "[encoded data removed]",
      "text/plain": [
       "<Figure size 432x288 with 1 Axes>"
      ]
     },
     "metadata": {
      "needs_background": "light"
     },
     "output_type": "display_data"
    }
   ],
   "source": [
    "sns.scatterplot(data.target, data.ohare_maxtmp, data.lake_temp);"
   ]
  },
  {
   "cell_type": "code",
   "execution_count": 25,
   "metadata": {},
   "outputs": [
    {
     "data": {
      "image/png": "[encoded data removed]",
      "text/plain": [
       "<Figure size 432x288 with 1 Axes>"
      ]
     },
     "metadata": {
      "needs_background": "light"
     },
     "output_type": "display_data"
    }
   ],
   "source": [
    "sns.scatterplot(data.target, data.garden_maxtmp, data.lake_temp);"
   ]
  },
  {
   "cell_type": "code",
   "execution_count": 26,
   "metadata": {},
   "outputs": [
    {
     "data": {
      "image/png": "[encoded data removed]",
      "text/plain": [
       "<Figure size 432x288 with 2 Axes>"
      ]
     },
     "metadata": {
      "needs_background": "light"
     },
     "output_type": "display_data"
    }
   ],
   "source": [
    "# this will generate a single column heatmap showing the correlations between the target and the remaining variables\n",
    "\n",
    "# need a dataframe called data and a column called 'status'\n",
    "corr = data.corr()\n",
    "corr_sort = corr.sort_values(by = ['target'], axis = 0, ascending=False)\n",
    "corr_sort\n",
    "sns.heatmap(corr_sort[['target']], annot=True, cmap='coolwarm');"
   ]
  },
  {
   "cell_type": "code",
   "execution_count": null,
   "metadata": {},
   "outputs": [],
   "source": []
  },
  {
   "cell_type": "code",
   "execution_count": 27,
   "metadata": {},
   "outputs": [
    {
     "data": {
      "text/plain": [
       "Index(['target', 'garden_didrain', 'ohare_didrain', 'tmpdiff', 'garden_prcp',\n",
       "       'garden_snfall', 'garden_sndpth', 'garden_maxtmp', 'garden_mintmp',\n",
       "       'garden_medtmp', 'garden_tobs', 'lake_temp', 'ohare_wspd', 'ohare_prcp',\n",
       "       'ohare_snfall', 'ohare_sndpth', 'ohare_maxtmp', 'ohare_mintmp',\n",
       "       'ohare_medtmp'],\n",
       "      dtype='object')"
      ]
     },
     "execution_count": 27,
     "metadata": {},
     "output_type": "execute_result"
    }
   ],
   "source": [
    "data.columns"
   ]
  },
  {
   "cell_type": "code",
   "execution_count": 28,
   "metadata": {},
   "outputs": [
    {
     "name": "stdout",
     "output_type": "stream",
     "text": [
      "(7923, 15)\n",
      "\n",
      "Index(['target', 'tmpdiff', 'garden_snfall', 'garden_sndpth', 'garden_maxtmp',\n",
      "       'garden_mintmp', 'garden_medtmp', 'garden_tobs', 'lake_temp',\n",
      "       'ohare_wspd', 'ohare_snfall', 'ohare_sndpth', 'ohare_maxtmp',\n",
      "       'ohare_mintmp', 'ohare_medtmp'],\n",
      "      dtype='object')\n",
      "\n",
      "target           float64\n",
      "tmpdiff          float64\n",
      "garden_snfall    float64\n",
      "garden_sndpth    float64\n",
      "garden_maxtmp    float64\n",
      "garden_mintmp    float64\n",
      "garden_medtmp    float64\n",
      "garden_tobs      float64\n",
      "lake_temp        float64\n",
      "ohare_wspd       float64\n",
      "ohare_snfall     float64\n",
      "ohare_sndpth     float64\n",
      "ohare_maxtmp       int64\n",
      "ohare_mintmp       int64\n",
      "ohare_medtmp     float64\n",
      "dtype: object\n"
     ]
    },
    {
     "data": {
      "text/html": [
       "<div>\n",
       "<style scoped>\n",
       "    .dataframe tbody tr th:only-of-type {\n",
       "        vertical-align: middle;\n",
       "    }\n",
       "\n",
       "    .dataframe tbody tr th {\n",
       "        vertical-align: top;\n",
       "    }\n",
       "\n",
       "    .dataframe thead th {\n",
       "        text-align: right;\n",
       "    }\n",
       "</style>\n",
       "<table border=\"1\" class=\"dataframe\">\n",
       "  <thead>\n",
       "    <tr style=\"text-align: right;\">\n",
       "      <th></th>\n",
       "      <th>target</th>\n",
       "      <th>tmpdiff</th>\n",
       "      <th>garden_snfall</th>\n",
       "      <th>garden_sndpth</th>\n",
       "      <th>garden_maxtmp</th>\n",
       "      <th>garden_mintmp</th>\n",
       "      <th>garden_medtmp</th>\n",
       "      <th>garden_tobs</th>\n",
       "      <th>lake_temp</th>\n",
       "      <th>ohare_wspd</th>\n",
       "      <th>ohare_snfall</th>\n",
       "      <th>ohare_sndpth</th>\n",
       "      <th>ohare_maxtmp</th>\n",
       "      <th>ohare_mintmp</th>\n",
       "      <th>ohare_medtmp</th>\n",
       "    </tr>\n",
       "  </thead>\n",
       "  <tbody>\n",
       "    <tr>\n",
       "      <th>0</th>\n",
       "      <td>0.09</td>\n",
       "      <td>9.5</td>\n",
       "      <td>1.5</td>\n",
       "      <td>3.0</td>\n",
       "      <td>36.0</td>\n",
       "      <td>21.0</td>\n",
       "      <td>28.5</td>\n",
       "      <td>24.0</td>\n",
       "      <td>5.02</td>\n",
       "      <td>16.11</td>\n",
       "      <td>0.2</td>\n",
       "      <td>1.0</td>\n",
       "      <td>27</td>\n",
       "      <td>11</td>\n",
       "      <td>19.0</td>\n",
       "    </tr>\n",
       "    <tr>\n",
       "      <th>1</th>\n",
       "      <td>0.00</td>\n",
       "      <td>1.0</td>\n",
       "      <td>0.0</td>\n",
       "      <td>1.0</td>\n",
       "      <td>24.0</td>\n",
       "      <td>7.0</td>\n",
       "      <td>15.5</td>\n",
       "      <td>12.0</td>\n",
       "      <td>4.95</td>\n",
       "      <td>14.09</td>\n",
       "      <td>0.0</td>\n",
       "      <td>1.0</td>\n",
       "      <td>21</td>\n",
       "      <td>8</td>\n",
       "      <td>14.5</td>\n",
       "    </tr>\n",
       "    <tr>\n",
       "      <th>2</th>\n",
       "      <td>0.00</td>\n",
       "      <td>7.0</td>\n",
       "      <td>0.0</td>\n",
       "      <td>1.0</td>\n",
       "      <td>25.0</td>\n",
       "      <td>10.0</td>\n",
       "      <td>17.5</td>\n",
       "      <td>11.0</td>\n",
       "      <td>0.20</td>\n",
       "      <td>12.53</td>\n",
       "      <td>0.0</td>\n",
       "      <td>1.0</td>\n",
       "      <td>18</td>\n",
       "      <td>3</td>\n",
       "      <td>10.5</td>\n",
       "    </tr>\n",
       "    <tr>\n",
       "      <th>3</th>\n",
       "      <td>0.00</td>\n",
       "      <td>5.5</td>\n",
       "      <td>0.0</td>\n",
       "      <td>1.0</td>\n",
       "      <td>18.0</td>\n",
       "      <td>-1.0</td>\n",
       "      <td>8.5</td>\n",
       "      <td>1.0</td>\n",
       "      <td>0.20</td>\n",
       "      <td>12.30</td>\n",
       "      <td>0.0</td>\n",
       "      <td>1.0</td>\n",
       "      <td>7</td>\n",
       "      <td>-1</td>\n",
       "      <td>3.0</td>\n",
       "    </tr>\n",
       "    <tr>\n",
       "      <th>4</th>\n",
       "      <td>0.00</td>\n",
       "      <td>6.5</td>\n",
       "      <td>0.0</td>\n",
       "      <td>1.0</td>\n",
       "      <td>6.0</td>\n",
       "      <td>-1.0</td>\n",
       "      <td>2.5</td>\n",
       "      <td>3.0</td>\n",
       "      <td>0.20</td>\n",
       "      <td>16.33</td>\n",
       "      <td>0.0</td>\n",
       "      <td>0.0</td>\n",
       "      <td>19</td>\n",
       "      <td>-1</td>\n",
       "      <td>9.0</td>\n",
       "    </tr>\n",
       "  </tbody>\n",
       "</table>\n",
       "</div>"
      ],
      "text/plain": [
       "   target  tmpdiff  garden_snfall  garden_sndpth  garden_maxtmp  \\\n",
       "0    0.09      9.5            1.5            3.0           36.0   \n",
       "1    0.00      1.0            0.0            1.0           24.0   \n",
       "2    0.00      7.0            0.0            1.0           25.0   \n",
       "3    0.00      5.5            0.0            1.0           18.0   \n",
       "4    0.00      6.5            0.0            1.0            6.0   \n",
       "\n",
       "   garden_mintmp  garden_medtmp  garden_tobs  lake_temp  ohare_wspd  \\\n",
       "0           21.0           28.5         24.0       5.02       16.11   \n",
       "1            7.0           15.5         12.0       4.95       14.09   \n",
       "2           10.0           17.5         11.0       0.20       12.53   \n",
       "3           -1.0            8.5          1.0       0.20       12.30   \n",
       "4           -1.0            2.5          3.0       0.20       16.33   \n",
       "\n",
       "   ohare_snfall  ohare_sndpth  ohare_maxtmp  ohare_mintmp  ohare_medtmp  \n",
       "0           0.2           1.0            27            11          19.0  \n",
       "1           0.0           1.0            21             8          14.5  \n",
       "2           0.0           1.0            18             3          10.5  \n",
       "3           0.0           1.0             7            -1           3.0  \n",
       "4           0.0           0.0            19            -1           9.0  "
      ]
     },
     "execution_count": 28,
     "metadata": {},
     "output_type": "execute_result"
    }
   ],
   "source": [
    "# Now, remove all of the unnecessary columns\n",
    "data = data.drop(columns=['garden_didrain', 'ohare_didrain', 'garden_prcp', 'ohare_prcp'])\n",
    "\n",
    "print(data.shape)\n",
    "print()\n",
    "print(data.columns)\n",
    "print()\n",
    "print(data.dtypes)\n",
    "data.head()"
   ]
  },
  {
   "cell_type": "code",
   "execution_count": 29,
   "metadata": {},
   "outputs": [
    {
     "data": {
      "image/png": "[encoded data removed]",
      "text/plain": [
       "<Figure size 432x288 with 2 Axes>"
      ]
     },
     "metadata": {
      "needs_background": "light"
     },
     "output_type": "display_data"
    }
   ],
   "source": [
    "corr = data.corr()\n",
    "corr_sort = corr.sort_values(by = ['target'], axis = 0, ascending=False)\n",
    "corr_sort\n",
    "sns.heatmap(corr_sort[['target']], annot=True, cmap='coolwarm');"
   ]
  },
  {
   "cell_type": "code",
   "execution_count": 30,
   "metadata": {},
   "outputs": [],
   "source": [
    "from sklearn.preprocessing import StandardScaler, PolynomialFeatures\n",
    "from sklearn.pipeline import Pipeline\n",
    "from sklearn.metrics import mean_squared_error, r2_score\n",
    "\n",
    "from sklearn.model_selection import train_test_split, cross_val_score, GridSearchCV\n",
    "from sklearn.linear_model import LinearRegression, Ridge, Lasso\n",
    "from sklearn.ensemble import AdaBoostRegressor"
   ]
  },
  {
   "cell_type": "markdown",
   "metadata": {},
   "source": [
    "### Create our `feature` and `target` variables for modeling, using the full data set."
   ]
  },
  {
   "cell_type": "code",
   "execution_count": 31,
   "metadata": {},
   "outputs": [
    {
     "data": {
      "text/plain": [
       "(7923, 14)"
      ]
     },
     "execution_count": 31,
     "metadata": {},
     "output_type": "execute_result"
    }
   ],
   "source": [
    "X = data.drop(columns='target')\n",
    "y = data['target']\n",
    "\n",
    "X.shape"
   ]
  },
  {
   "cell_type": "code",
   "execution_count": null,
   "metadata": {},
   "outputs": [],
   "source": []
  },
  {
   "cell_type": "code",
   "execution_count": 32,
   "metadata": {},
   "outputs": [
    {
     "data": {
      "text/plain": [
       "0.0"
      ]
     },
     "execution_count": 32,
     "metadata": {},
     "output_type": "execute_result"
    }
   ],
   "source": [
    "y.min()"
   ]
  },
  {
   "cell_type": "code",
   "execution_count": 33,
   "metadata": {},
   "outputs": [
    {
     "data": {
      "text/plain": [
       "4.31"
      ]
     },
     "execution_count": 33,
     "metadata": {},
     "output_type": "execute_result"
    }
   ],
   "source": [
    "y.max()"
   ]
  },
  {
   "cell_type": "code",
   "execution_count": 34,
   "metadata": {},
   "outputs": [
    {
     "data": {
      "text/plain": [
       "0.00    4093\n",
       "0.01     401\n",
       "0.02     264\n",
       "0.03     222\n",
       "0.05     134\n",
       "0.04     127\n",
       "0.06     107\n",
       "0.07      87\n",
       "0.08      85\n",
       "0.11      77\n",
       "0.10      77\n",
       "0.12      74\n",
       "0.09      72\n",
       "0.13      70\n",
       "0.14      52\n",
       "0.20      51\n",
       "0.16      49\n",
       "0.19      46\n",
       "0.25      43\n",
       "0.15      40\n",
       "0.24      39\n",
       "0.23      35\n",
       "0.21      35\n",
       "0.18      34\n",
       "0.22      33\n",
       "0.34      32\n",
       "0.26      31\n",
       "0.31      30\n",
       "0.27      28\n",
       "0.17      25\n",
       "        ... \n",
       "1.79       1\n",
       "1.90       1\n",
       "0.07       1\n",
       "0.08       1\n",
       "3.59       1\n",
       "3.44       1\n",
       "0.61       1\n",
       "1.59       1\n",
       "0.10       1\n",
       "3.18       1\n",
       "0.25       1\n",
       "1.58       1\n",
       "0.53       1\n",
       "3.13       1\n",
       "0.13       1\n",
       "0.02       1\n",
       "0.99       1\n",
       "1.18       1\n",
       "3.20       1\n",
       "1.96       1\n",
       "0.72       1\n",
       "0.88       1\n",
       "1.05       1\n",
       "0.83       1\n",
       "1.91       1\n",
       "1.53       1\n",
       "0.64       1\n",
       "1.33       1\n",
       "1.92       1\n",
       "0.61       1\n",
       "Name: target, Length: 339, dtype: int64"
      ]
     },
     "execution_count": 34,
     "metadata": {},
     "output_type": "execute_result"
    }
   ],
   "source": [
    "y.value_counts()"
   ]
  },
  {
   "cell_type": "markdown",
   "metadata": {},
   "source": [
    "## Train/ Test Split"
   ]
  },
  {
   "cell_type": "code",
   "execution_count": 35,
   "metadata": {},
   "outputs": [],
   "source": [
    "X_train, X_test, y_train, y_test = train_test_split(X, y, \n",
    "                                                    random_state=42)"
   ]
  },
  {
   "cell_type": "markdown",
   "metadata": {},
   "source": [
    "# Generate a Linear Model"
   ]
  },
  {
   "cell_type": "code",
   "execution_count": 36,
   "metadata": {},
   "outputs": [],
   "source": [
    "# generate a linear model\n",
    "lm = LinearRegression()"
   ]
  },
  {
   "cell_type": "code",
   "execution_count": 37,
   "metadata": {},
   "outputs": [
    {
     "data": {
      "text/plain": [
       "LinearRegression(copy_X=True, fit_intercept=True, n_jobs=None,\n",
       "         normalize=False)"
      ]
     },
     "execution_count": 37,
     "metadata": {},
     "output_type": "execute_result"
    }
   ],
   "source": [
    "lm.fit(X_train, y_train)"
   ]
  },
  {
   "cell_type": "code",
   "execution_count": 38,
   "metadata": {},
   "outputs": [
    {
     "data": {
      "text/plain": [
       "array([ 0.13749012, -0.07643048,  0.18582996, ..., -0.05251232,\n",
       "        0.09391102,  0.00415119])"
      ]
     },
     "execution_count": 38,
     "metadata": {},
     "output_type": "execute_result"
    }
   ],
   "source": [
    "preds = lm.predict(X_train)\n",
    "preds"
   ]
  },
  {
   "cell_type": "code",
   "execution_count": 39,
   "metadata": {},
   "outputs": [
    {
     "data": {
      "text/plain": [
       "0.09330136238880786"
      ]
     },
     "execution_count": 39,
     "metadata": {},
     "output_type": "execute_result"
    }
   ],
   "source": [
    "mean_squared_error(y_train, preds)"
   ]
  },
  {
   "cell_type": "code",
   "execution_count": 40,
   "metadata": {},
   "outputs": [
    {
     "data": {
      "text/plain": [
       "0.08245567744681348"
      ]
     },
     "execution_count": 40,
     "metadata": {},
     "output_type": "execute_result"
    }
   ],
   "source": [
    "lm.score(X_train, y_train)"
   ]
  },
  {
   "cell_type": "code",
   "execution_count": 41,
   "metadata": {},
   "outputs": [
    {
     "data": {
      "text/plain": [
       "0.1051645456010546"
      ]
     },
     "execution_count": 41,
     "metadata": {},
     "output_type": "execute_result"
    }
   ],
   "source": [
    "lm.score(X_test, y_test)"
   ]
  },
  {
   "cell_type": "code",
   "execution_count": 42,
   "metadata": {},
   "outputs": [
    {
     "data": {
      "text/plain": [
       "array([-0.03902355, -0.03044811,  0.10697254, ...,  0.20243152,\n",
       "        0.27030262,  0.19449695])"
      ]
     },
     "execution_count": 42,
     "metadata": {},
     "output_type": "execute_result"
    }
   ],
   "source": [
    "preds = lm.predict(X_test)\n",
    "preds"
   ]
  },
  {
   "cell_type": "code",
   "execution_count": 43,
   "metadata": {},
   "outputs": [
    {
     "data": {
      "text/plain": [
       "0.0683234398484013"
      ]
     },
     "execution_count": 43,
     "metadata": {},
     "output_type": "execute_result"
    }
   ],
   "source": [
    "mean_squared_error(y_test, preds)"
   ]
  },
  {
   "cell_type": "code",
   "execution_count": 44,
   "metadata": {},
   "outputs": [
    {
     "data": {
      "text/plain": [
       "0.07852580804819927"
      ]
     },
     "execution_count": 44,
     "metadata": {},
     "output_type": "execute_result"
    }
   ],
   "source": [
    "cross_val_score(lm, X_train, y_train, cv=3).mean()"
   ]
  },
  {
   "cell_type": "code",
   "execution_count": 45,
   "metadata": {},
   "outputs": [
    {
     "data": {
      "text/plain": [
       "-0.020102655750378673"
      ]
     },
     "execution_count": 45,
     "metadata": {},
     "output_type": "execute_result"
    }
   ],
   "source": [
    "lm.intercept_"
   ]
  },
  {
   "cell_type": "code",
   "execution_count": 46,
   "metadata": {},
   "outputs": [
    {
     "data": {
      "text/plain": [
       "array([ 5.46011325e-03,  4.02331235e-02, -2.60436379e-04,  8.18797520e+09,\n",
       "        8.18797520e+09, -1.63759504e+10, -6.76503823e-04, -3.80692969e-03,\n",
       "        7.16322668e-03,  1.76644316e-02,  3.36992250e-03, -4.20960542e+09,\n",
       "       -4.20960542e+09,  8.41921084e+09])"
      ]
     },
     "execution_count": 46,
     "metadata": {},
     "output_type": "execute_result"
    }
   ],
   "source": [
    "lm.coef_"
   ]
  },
  {
   "cell_type": "code",
   "execution_count": 47,
   "metadata": {},
   "outputs": [
    {
     "data": {
      "text/plain": [
       "Index(['tmpdiff', 'garden_snfall', 'garden_sndpth', 'garden_maxtmp',\n",
       "       'garden_mintmp', 'garden_medtmp', 'garden_tobs', 'lake_temp',\n",
       "       'ohare_wspd', 'ohare_snfall', 'ohare_sndpth', 'ohare_maxtmp',\n",
       "       'ohare_mintmp', 'ohare_medtmp'],\n",
       "      dtype='object')"
      ]
     },
     "execution_count": 47,
     "metadata": {},
     "output_type": "execute_result"
    }
   ],
   "source": [
    "X.columns"
   ]
  },
  {
   "cell_type": "code",
   "execution_count": null,
   "metadata": {},
   "outputs": [],
   "source": []
  },
  {
   "cell_type": "markdown",
   "metadata": {},
   "source": [
    "## Let's gridsearch and include polynomial features"
   ]
  },
  {
   "cell_type": "code",
   "execution_count": 35,
   "metadata": {},
   "outputs": [
    {
     "name": "stdout",
     "output_type": "stream",
     "text": [
      "Fitting 3 folds for each of 5 candidates, totalling 15 fits\n"
     ]
    },
    {
     "name": "stderr",
     "output_type": "stream",
     "text": [
      "[Parallel(n_jobs=1)]: Using backend SequentialBackend with 1 concurrent workers.\n",
      "[Parallel(n_jobs=1)]: Done  15 out of  15 | elapsed:  3.7min finished\n",
      "/Users/blakewallace/anaconda3/lib/python3.6/site-packages/sklearn/model_selection/_search.py:841: DeprecationWarning: The default of the `iid` parameter will change from True to False in version 0.22 and will be removed in 0.24. This will change numeric results when test-set sizes are unequal.\n",
      "  DeprecationWarning)\n"
     ]
    },
    {
     "data": {
      "text/plain": [
       "GridSearchCV(cv=3, error_score='raise-deprecating',\n",
       "       estimator=Pipeline(memory=None,\n",
       "     steps=[('poly', PolynomialFeatures(degree=2, include_bias=True, interaction_only=False)), ('lr', LinearRegression(copy_X=True, fit_intercept=True, n_jobs=None,\n",
       "         normalize=False))]),\n",
       "       fit_params=None, iid='warn', n_jobs=None,\n",
       "       param_grid={'poly__degree': [1, 2, 3, 4, 5], 'poly__interaction_only': [False], 'poly__include_bias': [True]},\n",
       "       pre_dispatch='2*n_jobs', refit=True, return_train_score='warn',\n",
       "       scoring=None, verbose=1)"
      ]
     },
     "execution_count": 35,
     "metadata": {},
     "output_type": "execute_result"
    }
   ],
   "source": [
    "# train/test split\n",
    "X_train, X_test, y_train, y_test = train_test_split(X, y, random_state=42)\n",
    "\n",
    "\n",
    "# Pipeline\n",
    "pipe = Pipeline([\n",
    "    ('poly', PolynomialFeatures()),\n",
    "    ('lr', LinearRegression())\n",
    "])\n",
    "\n",
    "poly_params = {\n",
    "    'poly__degree': [1, 2, 3, 4, 5],\n",
    "    'poly__interaction_only':[False],\n",
    "    'poly__include_bias':[True]\n",
    "}\n",
    "\n",
    "gs_poly = GridSearchCV(\n",
    "                    pipe,\n",
    "                    param_grid=poly_params,\n",
    "                    cv=3,\n",
    "                    verbose=1\n",
    "                )\n",
    "\n",
    "gs_poly.fit(X_train, y_train)"
   ]
  },
  {
   "cell_type": "code",
   "execution_count": 36,
   "metadata": {},
   "outputs": [
    {
     "data": {
      "text/plain": [
       "{'poly__degree': 2,\n",
       " 'poly__include_bias': True,\n",
       " 'poly__interaction_only': False}"
      ]
     },
     "execution_count": 36,
     "metadata": {},
     "output_type": "execute_result"
    }
   ],
   "source": [
    "gs_poly.best_params_"
   ]
  },
  {
   "cell_type": "code",
   "execution_count": 37,
   "metadata": {},
   "outputs": [
    {
     "data": {
      "text/plain": [
       "0.09836865815627213"
      ]
     },
     "execution_count": 37,
     "metadata": {},
     "output_type": "execute_result"
    }
   ],
   "source": [
    "gs_poly.best_score_"
   ]
  },
  {
   "cell_type": "code",
   "execution_count": 39,
   "metadata": {},
   "outputs": [
    {
     "data": {
      "text/plain": [
       "0.12215572694908305"
      ]
     },
     "execution_count": 39,
     "metadata": {},
     "output_type": "execute_result"
    }
   ],
   "source": [
    "# training score\n",
    "gs_poly.score(X_train, y_train)"
   ]
  },
  {
   "cell_type": "code",
   "execution_count": 40,
   "metadata": {},
   "outputs": [
    {
     "data": {
      "text/plain": [
       "0.13288793431803958"
      ]
     },
     "execution_count": 40,
     "metadata": {},
     "output_type": "execute_result"
    }
   ],
   "source": [
    "# testing score\n",
    "gs_poly.score(X_test, y_test)"
   ]
  },
  {
   "cell_type": "markdown",
   "metadata": {},
   "source": [
    "### We are a bit over fit, and not accounting for much of the variance with our model thus far."
   ]
  },
  {
   "cell_type": "code",
   "execution_count": 43,
   "metadata": {},
   "outputs": [],
   "source": [
    "# predictions (training)\n",
    "train_predictions = gs_poly.predict(X_train)"
   ]
  },
  {
   "cell_type": "code",
   "execution_count": 44,
   "metadata": {},
   "outputs": [
    {
     "data": {
      "text/plain": [
       "0.08926442530095388"
      ]
     },
     "execution_count": 44,
     "metadata": {},
     "output_type": "execute_result"
    }
   ],
   "source": [
    "mean_squared_error(y_train, train_predictions)"
   ]
  },
  {
   "cell_type": "code",
   "execution_count": 45,
   "metadata": {},
   "outputs": [],
   "source": [
    "# predictions (testing)\n",
    "test_predictions = gs_poly.predict(X_test)"
   ]
  },
  {
   "cell_type": "code",
   "execution_count": 46,
   "metadata": {},
   "outputs": [
    {
     "data": {
      "text/plain": [
       "0.06620667383059617"
      ]
     },
     "execution_count": 46,
     "metadata": {},
     "output_type": "execute_result"
    }
   ],
   "source": [
    "mean_squared_error(y_test, test_predictions)"
   ]
  },
  {
   "cell_type": "markdown",
   "metadata": {},
   "source": [
    "# Since we have a weak learner, we will incorporate polynomial features and attempt to boost the score with an AdaBoost model."
   ]
  },
  {
   "cell_type": "markdown",
   "metadata": {},
   "source": [
    "## Polynomial Features"
   ]
  },
  {
   "cell_type": "code",
   "execution_count": 37,
   "metadata": {},
   "outputs": [],
   "source": [
    "poly = PolynomialFeatures(degree=2)"
   ]
  },
  {
   "cell_type": "code",
   "execution_count": 38,
   "metadata": {},
   "outputs": [],
   "source": [
    "X_train_poly_array = poly.fit_transform(X_train)"
   ]
  },
  {
   "cell_type": "code",
   "execution_count": 39,
   "metadata": {},
   "outputs": [
    {
     "name": "stdout",
     "output_type": "stream",
     "text": [
      "(5942, 120)\n"
     ]
    },
    {
     "data": {
      "text/html": [
       "<div>\n",
       "<style scoped>\n",
       "    .dataframe tbody tr th:only-of-type {\n",
       "        vertical-align: middle;\n",
       "    }\n",
       "\n",
       "    .dataframe tbody tr th {\n",
       "        vertical-align: top;\n",
       "    }\n",
       "\n",
       "    .dataframe thead th {\n",
       "        text-align: right;\n",
       "    }\n",
       "</style>\n",
       "<table border=\"1\" class=\"dataframe\">\n",
       "  <thead>\n",
       "    <tr style=\"text-align: right;\">\n",
       "      <th></th>\n",
       "      <th>0</th>\n",
       "      <th>1</th>\n",
       "      <th>2</th>\n",
       "      <th>3</th>\n",
       "      <th>4</th>\n",
       "      <th>5</th>\n",
       "      <th>6</th>\n",
       "      <th>7</th>\n",
       "      <th>8</th>\n",
       "      <th>9</th>\n",
       "      <th>...</th>\n",
       "      <th>110</th>\n",
       "      <th>111</th>\n",
       "      <th>112</th>\n",
       "      <th>113</th>\n",
       "      <th>114</th>\n",
       "      <th>115</th>\n",
       "      <th>116</th>\n",
       "      <th>117</th>\n",
       "      <th>118</th>\n",
       "      <th>119</th>\n",
       "    </tr>\n",
       "  </thead>\n",
       "  <tbody>\n",
       "    <tr>\n",
       "      <th>0</th>\n",
       "      <td>1.0</td>\n",
       "      <td>3.5</td>\n",
       "      <td>0.0</td>\n",
       "      <td>0.0</td>\n",
       "      <td>84.0</td>\n",
       "      <td>65.0</td>\n",
       "      <td>74.5</td>\n",
       "      <td>78.0</td>\n",
       "      <td>21.27</td>\n",
       "      <td>6.04</td>\n",
       "      <td>...</td>\n",
       "      <td>0.00</td>\n",
       "      <td>0.0</td>\n",
       "      <td>0.0</td>\n",
       "      <td>0.0</td>\n",
       "      <td>8100.0</td>\n",
       "      <td>5940.0</td>\n",
       "      <td>7020.0</td>\n",
       "      <td>4356.0</td>\n",
       "      <td>5148.0</td>\n",
       "      <td>6084.00</td>\n",
       "    </tr>\n",
       "    <tr>\n",
       "      <th>1</th>\n",
       "      <td>1.0</td>\n",
       "      <td>3.0</td>\n",
       "      <td>0.0</td>\n",
       "      <td>1.0</td>\n",
       "      <td>7.0</td>\n",
       "      <td>-8.0</td>\n",
       "      <td>-0.5</td>\n",
       "      <td>1.0</td>\n",
       "      <td>1.46</td>\n",
       "      <td>6.04</td>\n",
       "      <td>...</td>\n",
       "      <td>0.00</td>\n",
       "      <td>0.0</td>\n",
       "      <td>-0.0</td>\n",
       "      <td>0.0</td>\n",
       "      <td>100.0</td>\n",
       "      <td>-50.0</td>\n",
       "      <td>25.0</td>\n",
       "      <td>25.0</td>\n",
       "      <td>-12.5</td>\n",
       "      <td>6.25</td>\n",
       "    </tr>\n",
       "    <tr>\n",
       "      <th>2</th>\n",
       "      <td>1.0</td>\n",
       "      <td>5.0</td>\n",
       "      <td>0.0</td>\n",
       "      <td>0.0</td>\n",
       "      <td>33.0</td>\n",
       "      <td>21.0</td>\n",
       "      <td>27.0</td>\n",
       "      <td>22.0</td>\n",
       "      <td>3.64</td>\n",
       "      <td>13.42</td>\n",
       "      <td>...</td>\n",
       "      <td>0.00</td>\n",
       "      <td>0.0</td>\n",
       "      <td>0.0</td>\n",
       "      <td>0.0</td>\n",
       "      <td>625.0</td>\n",
       "      <td>475.0</td>\n",
       "      <td>550.0</td>\n",
       "      <td>361.0</td>\n",
       "      <td>418.0</td>\n",
       "      <td>484.00</td>\n",
       "    </tr>\n",
       "    <tr>\n",
       "      <th>3</th>\n",
       "      <td>1.0</td>\n",
       "      <td>6.0</td>\n",
       "      <td>0.0</td>\n",
       "      <td>0.0</td>\n",
       "      <td>55.0</td>\n",
       "      <td>34.0</td>\n",
       "      <td>44.5</td>\n",
       "      <td>48.0</td>\n",
       "      <td>3.63</td>\n",
       "      <td>4.47</td>\n",
       "      <td>...</td>\n",
       "      <td>0.00</td>\n",
       "      <td>0.0</td>\n",
       "      <td>0.0</td>\n",
       "      <td>0.0</td>\n",
       "      <td>3844.0</td>\n",
       "      <td>2418.0</td>\n",
       "      <td>3131.0</td>\n",
       "      <td>1521.0</td>\n",
       "      <td>1969.5</td>\n",
       "      <td>2550.25</td>\n",
       "    </tr>\n",
       "    <tr>\n",
       "      <th>4</th>\n",
       "      <td>1.0</td>\n",
       "      <td>4.5</td>\n",
       "      <td>0.0</td>\n",
       "      <td>13.0</td>\n",
       "      <td>32.0</td>\n",
       "      <td>11.0</td>\n",
       "      <td>21.5</td>\n",
       "      <td>13.0</td>\n",
       "      <td>0.37</td>\n",
       "      <td>9.84</td>\n",
       "      <td>...</td>\n",
       "      <td>82.81</td>\n",
       "      <td>200.2</td>\n",
       "      <td>109.2</td>\n",
       "      <td>154.7</td>\n",
       "      <td>484.0</td>\n",
       "      <td>264.0</td>\n",
       "      <td>374.0</td>\n",
       "      <td>144.0</td>\n",
       "      <td>204.0</td>\n",
       "      <td>289.00</td>\n",
       "    </tr>\n",
       "  </tbody>\n",
       "</table>\n",
       "<p>5 rows × 120 columns</p>\n",
       "</div>"
      ],
      "text/plain": [
       "   0    1    2     3     4     5     6     7      8      9    ...    110  \\\n",
       "0  1.0  3.5  0.0   0.0  84.0  65.0  74.5  78.0  21.27   6.04  ...   0.00   \n",
       "1  1.0  3.0  0.0   1.0   7.0  -8.0  -0.5   1.0   1.46   6.04  ...   0.00   \n",
       "2  1.0  5.0  0.0   0.0  33.0  21.0  27.0  22.0   3.64  13.42  ...   0.00   \n",
       "3  1.0  6.0  0.0   0.0  55.0  34.0  44.5  48.0   3.63   4.47  ...   0.00   \n",
       "4  1.0  4.5  0.0  13.0  32.0  11.0  21.5  13.0   0.37   9.84  ...  82.81   \n",
       "\n",
       "     111    112    113     114     115     116     117     118      119  \n",
       "0    0.0    0.0    0.0  8100.0  5940.0  7020.0  4356.0  5148.0  6084.00  \n",
       "1    0.0   -0.0    0.0   100.0   -50.0    25.0    25.0   -12.5     6.25  \n",
       "2    0.0    0.0    0.0   625.0   475.0   550.0   361.0   418.0   484.00  \n",
       "3    0.0    0.0    0.0  3844.0  2418.0  3131.0  1521.0  1969.5  2550.25  \n",
       "4  200.2  109.2  154.7   484.0   264.0   374.0   144.0   204.0   289.00  \n",
       "\n",
       "[5 rows x 120 columns]"
      ]
     },
     "execution_count": 39,
     "metadata": {},
     "output_type": "execute_result"
    }
   ],
   "source": [
    "X_train_poly_df = pd.DataFrame(X_train_poly_array)\n",
    "print(X_train_poly_df.shape)\n",
    "X_train_poly_df.head()"
   ]
  },
  {
   "cell_type": "code",
   "execution_count": null,
   "metadata": {},
   "outputs": [],
   "source": []
  },
  {
   "cell_type": "markdown",
   "metadata": {},
   "source": [
    "## AdaBoost"
   ]
  },
  {
   "cell_type": "code",
   "execution_count": 67,
   "metadata": {},
   "outputs": [
    {
     "name": "stdout",
     "output_type": "stream",
     "text": [
      "-1.2221022818018292\n"
     ]
    },
    {
     "data": {
      "text/plain": [
       "{'base_estimator': None, 'n_estimators': 40}"
      ]
     },
     "execution_count": 67,
     "metadata": {},
     "output_type": "execute_result"
    }
   ],
   "source": [
    "# using the default decision stump\n",
    "ada = AdaBoostRegressor()  # we are not limited to only decision trees with this model 'base_estimator' max_depth=1 is high bias\n",
    "                            # we are not limited to the number of \n",
    "\n",
    "ada_params = {\n",
    "    'base_estimator': [None],\n",
    "    'n_estimators': [40, 50, 60]\n",
    "}\n",
    "\n",
    "gs = GridSearchCV(ada, param_grid=ada_params, cv=3)\n",
    "gs.fit(X_train_poly_df, y_train)\n",
    "print(gs.best_score_)\n",
    "gs.best_params_"
   ]
  },
  {
   "cell_type": "markdown",
   "metadata": {},
   "source": [
    "### AdaBoost didn't help at all!"
   ]
  },
  {
   "cell_type": "code",
   "execution_count": null,
   "metadata": {},
   "outputs": [],
   "source": []
  },
  {
   "cell_type": "code",
   "execution_count": null,
   "metadata": {},
   "outputs": [],
   "source": []
  },
  {
   "cell_type": "markdown",
   "metadata": {},
   "source": [
    "## Now, we try several iterations of regularization using Lasso and Ridge, along side Ordinary Linear Models.  None of them are worth mentioning, but are included here for completeness."
   ]
  },
  {
   "cell_type": "code",
   "execution_count": 31,
   "metadata": {
    "scrolled": true
   },
   "outputs": [
    {
     "name": "stderr",
     "output_type": "stream",
     "text": [
      "/Users/blakewallace/anaconda3/lib/python3.6/site-packages/sklearn/preprocessing/data.py:625: DataConversionWarning: Data with input dtype int64, float64 were all converted to float64 by StandardScaler.\n",
      "  return self.partial_fit(X, y)\n",
      "/Users/blakewallace/anaconda3/lib/python3.6/site-packages/sklearn/base.py:462: DataConversionWarning: Data with input dtype int64, float64 were all converted to float64 by StandardScaler.\n",
      "  return self.fit(X, **fit_params).transform(X)\n",
      "/Users/blakewallace/anaconda3/lib/python3.6/site-packages/ipykernel_launcher.py:3: DataConversionWarning: Data with input dtype int64, float64 were all converted to float64 by StandardScaler.\n",
      "  This is separate from the ipykernel package so we can avoid doing imports until\n"
     ]
    }
   ],
   "source": [
    "ss = StandardScaler()\n",
    "X_train_scaled = ss.fit_transform(X_train)\n",
    "X_test_scaled = ss.transform(X_test)"
   ]
  },
  {
   "cell_type": "code",
   "execution_count": 32,
   "metadata": {},
   "outputs": [
    {
     "name": "stdout",
     "output_type": "stream",
     "text": [
      "LRM train: 0.0627513677279058\n",
      "LRM test: 0.08450829784686775\n",
      "percent difference relative to training data: -34.672%\n",
      "\n",
      "Lasso train: 0.0\n",
      "Lasso test: -0.0006548825984520334\n",
      "percent difference relative to training data: 1.044%\n",
      "\n",
      "Ridge train: 0.06274982967202725\n",
      "Ridge test: 0.08447905245887066\n",
      "percent difference relative to training data: -34.627%\n"
     ]
    },
    {
     "data": {
      "text/html": [
       "<div>\n",
       "<style scoped>\n",
       "    .dataframe tbody tr th:only-of-type {\n",
       "        vertical-align: middle;\n",
       "    }\n",
       "\n",
       "    .dataframe tbody tr th {\n",
       "        vertical-align: top;\n",
       "    }\n",
       "\n",
       "    .dataframe thead th {\n",
       "        text-align: right;\n",
       "    }\n",
       "</style>\n",
       "<table border=\"1\" class=\"dataframe\">\n",
       "  <thead>\n",
       "    <tr style=\"text-align: right;\">\n",
       "      <th></th>\n",
       "      <th>Model</th>\n",
       "      <th>train</th>\n",
       "      <th>test</th>\n",
       "      <th>percent_difference</th>\n",
       "    </tr>\n",
       "  </thead>\n",
       "  <tbody>\n",
       "    <tr>\n",
       "      <th>0</th>\n",
       "      <td>LRM</td>\n",
       "      <td>0.062751</td>\n",
       "      <td>0.084508</td>\n",
       "      <td>-34.672</td>\n",
       "    </tr>\n",
       "    <tr>\n",
       "      <th>2</th>\n",
       "      <td>Ridge</td>\n",
       "      <td>0.062750</td>\n",
       "      <td>0.084479</td>\n",
       "      <td>-34.627</td>\n",
       "    </tr>\n",
       "    <tr>\n",
       "      <th>1</th>\n",
       "      <td>Lasso</td>\n",
       "      <td>0.000000</td>\n",
       "      <td>-0.000655</td>\n",
       "      <td>1.044</td>\n",
       "    </tr>\n",
       "  </tbody>\n",
       "</table>\n",
       "</div>"
      ],
      "text/plain": [
       "   Model     train      test  percent_difference\n",
       "0    LRM  0.062751  0.084508             -34.672\n",
       "2  Ridge  0.062750  0.084479             -34.627\n",
       "1  Lasso  0.000000 -0.000655               1.044"
      ]
     },
     "execution_count": 32,
     "metadata": {},
     "output_type": "execute_result"
    }
   ],
   "source": [
    "lr = LinearRegression()\n",
    "ridge = Ridge()\n",
    "lasso = Lasso()\n",
    "\n",
    "\n",
    "\n",
    "lr.fit(X_train_scaled, y_train)\n",
    "ridge.fit(X_train_scaled, y_train)\n",
    "lasso.fit(X_train_scaled, y_train)\n",
    "\n",
    "print(f'LRM train: {lr.score(X_train_scaled, y_train)}')\n",
    "print(f'LRM test: {lr.score(X_test_scaled, y_test)}')\n",
    "print(f'percent difference relative to training data: { round(100* (lr.score(X_train_scaled, y_train) - (lr.score(X_test_scaled, y_test)))/ lr.score(X_train_scaled, y_train), 3)}%' )\n",
    "print()\n",
    "\n",
    "print(f'Lasso train: {lasso.score(X_train_scaled, y_train)}')\n",
    "print(f'Lasso test: {lasso.score(X_test_scaled, y_test)}')\n",
    "print(f'percent difference relative to training data: { round(100* (lasso.score(X_train_scaled, y_train) - (lasso.score(X_test_scaled, y_test)))/ lr.score(X_train_scaled, y_train), 3)}%' )\n",
    "print()\n",
    "\n",
    "print(f'Ridge train: {ridge.score(X_train_scaled, y_train)}')\n",
    "print(f'Ridge test: {ridge.score(X_test_scaled, y_test)}')\n",
    "print(f'percent difference relative to training data: { round(100* (ridge.score(X_train_scaled, y_train) - (ridge.score(X_test_scaled, y_test)))/ lr.score(X_train_scaled, y_train), 3)}%' )\n",
    "\n",
    "data_dict = {\n",
    "    'Model' :             ['LRM', 'Lasso', 'Ridge'],\n",
    "           \n",
    "    'train' :             [lr.score(X_train_scaled, y_train), \n",
    "                           lasso.score(X_train_scaled, y_train), \n",
    "                           ridge.score(X_train_scaled, y_train)],\n",
    "    \n",
    "     'test' :             [lr.score(X_test_scaled, y_test),  \n",
    "                           lasso.score(X_test_scaled, y_test), \n",
    "                           ridge.score(X_test_scaled, y_test)],\n",
    "   \n",
    "    'percent_difference': [round(100* (lr.score(X_train_scaled, y_train) - (lr.score(X_test_scaled, y_test)))/ lr.score(X_train_scaled, y_train), 3),\n",
    "                           round(100* (lasso.score(X_train_scaled, y_train) - (lasso.score(X_test_scaled, y_test)))/ lr.score(X_train_scaled, y_train), 3),\n",
    "                           round(100* (ridge.score(X_train_scaled, y_train) - (ridge.score(X_test_scaled, y_test)))/ lr.score(X_train_scaled, y_train), 3)]\n",
    "}\n",
    "\n",
    "train_fit_test = pd.DataFrame(data = data_dict, columns=['Model', 'train', 'test', 'percent_difference'])\n",
    "train_fit_test.sort_values('percent_difference')\n"
   ]
  },
  {
   "cell_type": "code",
   "execution_count": 31,
   "metadata": {},
   "outputs": [
    {
     "name": "stdout",
     "output_type": "stream",
     "text": [
      "LRM test: 0.044778699052197106\n",
      "Lasso test: -0.0032797622831102213\n",
      "Ridge tes: 0.044761374817803186\n"
     ]
    },
    {
     "name": "stderr",
     "output_type": "stream",
     "text": [
      "/Users/blakewallace/anaconda3/lib/python3.6/site-packages/sklearn/model_selection/_split.py:2179: FutureWarning: From version 0.21, test_size will always complement train_size unless both are specified.\n",
      "  FutureWarning)\n"
     ]
    },
    {
     "data": {
      "text/html": [
       "<div>\n",
       "<style scoped>\n",
       "    .dataframe tbody tr th:only-of-type {\n",
       "        vertical-align: middle;\n",
       "    }\n",
       "\n",
       "    .dataframe tbody tr th {\n",
       "        vertical-align: top;\n",
       "    }\n",
       "\n",
       "    .dataframe thead th {\n",
       "        text-align: right;\n",
       "    }\n",
       "</style>\n",
       "<table border=\"1\" class=\"dataframe\">\n",
       "  <thead>\n",
       "    <tr style=\"text-align: right;\">\n",
       "      <th></th>\n",
       "      <th>Model</th>\n",
       "      <th>train</th>\n",
       "      <th>test</th>\n",
       "      <th>percent_difference</th>\n",
       "    </tr>\n",
       "  </thead>\n",
       "  <tbody>\n",
       "    <tr>\n",
       "      <th>0</th>\n",
       "      <td>LRM</td>\n",
       "      <td>0.038803</td>\n",
       "      <td>0.044779</td>\n",
       "      <td>-15.402</td>\n",
       "    </tr>\n",
       "    <tr>\n",
       "      <th>2</th>\n",
       "      <td>Ridge</td>\n",
       "      <td>0.038802</td>\n",
       "      <td>0.044761</td>\n",
       "      <td>-15.357</td>\n",
       "    </tr>\n",
       "    <tr>\n",
       "      <th>1</th>\n",
       "      <td>Lasso</td>\n",
       "      <td>0.000000</td>\n",
       "      <td>-0.003280</td>\n",
       "      <td>8.452</td>\n",
       "    </tr>\n",
       "  </tbody>\n",
       "</table>\n",
       "</div>"
      ],
      "text/plain": [
       "   Model     train      test  percent_difference\n",
       "0    LRM  0.038803  0.044779             -15.402\n",
       "2  Ridge  0.038802  0.044761             -15.357\n",
       "1  Lasso  0.000000 -0.003280               8.452"
      ]
     },
     "execution_count": 31,
     "metadata": {},
     "output_type": "execute_result"
    }
   ],
   "source": [
    "# The final output compares the model scores between the training and the test data\n",
    "\n",
    "lr = LinearRegression()\n",
    "ridge = Ridge()\n",
    "lasso = Lasso()\n",
    "\n",
    "X_train, X_test, y_train, y_test = train_test_split(X, \n",
    "                                                    y,\n",
    "                                                    train_size = 0.7,\n",
    "                                                    random_state = 42)\n",
    "ss = StandardScaler()\n",
    "ss.fit(X_train)\n",
    "X_train_scaled = ss.transform(X_train)\n",
    "\n",
    "X_test_scaled = ss.transform(X_test)\n",
    "\n",
    "# instantiate the models\n",
    "lr = LinearRegression()\n",
    "ridge = Ridge()\n",
    "lasso = Lasso()\n",
    "\n",
    "# fith the models to the training data\n",
    "lr.fit(X_train_scaled, y_train)\n",
    "ridge.fit(X_train_scaled, y_train)\n",
    "lasso.fit(X_train_scaled, y_train)\n",
    "\n",
    "# apply each model to the test data and print out the results\n",
    "print(f'LRM test: {lr.score(X_test_scaled, y_test)}')\n",
    "print(f'Lasso test: {lasso.score(X_test_scaled, y_test)}')\n",
    "print(f'Ridge tes: {ridge.score(X_test_scaled, y_test)}')\n",
    "\n",
    "data_dict = {\n",
    "    'Model' :             ['LRM', 'Lasso', 'Ridge'],\n",
    "           \n",
    "    'train' :             [lr.score(X_train_scaled, y_train), \n",
    "                           lasso.score(X_train_scaled, y_train), \n",
    "                           ridge.score(X_train_scaled, y_train)],\n",
    "    \n",
    "     'test' :             [lr.score(X_test_scaled, y_test),  \n",
    "                           lasso.score(X_test_scaled, y_test), \n",
    "                           ridge.score(X_test_scaled, y_test)],\n",
    "   \n",
    "    # this compares the model scores of the training vs the test data\n",
    "    'percent_difference': [round(100* (lr.score(X_train_scaled, y_train) - (lr.score(X_test_scaled, y_test)))/ lr.score(X_train_scaled, y_train), 3),\n",
    "                           round(100* (lasso.score(X_train_scaled, y_train) - (lasso.score(X_test_scaled, y_test)))/ lr.score(X_train_scaled, y_train), 3),\n",
    "                           round(100* (ridge.score(X_train_scaled, y_train) - (ridge.score(X_test_scaled, y_test)))/ lr.score(X_train_scaled, y_train), 3)]\n",
    "}\n",
    "\n",
    "train_fit_test = pd.DataFrame(data = data_dict, columns=['Model', 'train', 'test', 'percent_difference'])\n",
    "train_fit_test.sort_values('percent_difference')\n"
   ]
  },
  {
   "cell_type": "code",
   "execution_count": 32,
   "metadata": {},
   "outputs": [
    {
     "name": "stdout",
     "output_type": "stream",
     "text": [
      "LRM test: 0.044778699052197\n",
      "Lasso test: -0.0032797622831102213\n",
      "Ridge tes: 0.044761374817803186\n"
     ]
    },
    {
     "name": "stderr",
     "output_type": "stream",
     "text": [
      "/Users/blakewallace/anaconda3/lib/python3.6/site-packages/sklearn/model_selection/_split.py:2179: FutureWarning: From version 0.21, test_size will always complement train_size unless both are specified.\n",
      "  FutureWarning)\n"
     ]
    },
    {
     "data": {
      "text/html": [
       "<div>\n",
       "<style scoped>\n",
       "    .dataframe tbody tr th:only-of-type {\n",
       "        vertical-align: middle;\n",
       "    }\n",
       "\n",
       "    .dataframe tbody tr th {\n",
       "        vertical-align: top;\n",
       "    }\n",
       "\n",
       "    .dataframe thead th {\n",
       "        text-align: right;\n",
       "    }\n",
       "</style>\n",
       "<table border=\"1\" class=\"dataframe\">\n",
       "  <thead>\n",
       "    <tr style=\"text-align: right;\">\n",
       "      <th></th>\n",
       "      <th>Model</th>\n",
       "      <th>train</th>\n",
       "      <th>test</th>\n",
       "      <th>percent_difference</th>\n",
       "    </tr>\n",
       "  </thead>\n",
       "  <tbody>\n",
       "    <tr>\n",
       "      <th>0</th>\n",
       "      <td>LRM</td>\n",
       "      <td>0.038803</td>\n",
       "      <td>0.044779</td>\n",
       "      <td>-15.402</td>\n",
       "    </tr>\n",
       "    <tr>\n",
       "      <th>1</th>\n",
       "      <td>Lasso</td>\n",
       "      <td>0.000000</td>\n",
       "      <td>-0.003280</td>\n",
       "      <td>-0.400</td>\n",
       "    </tr>\n",
       "    <tr>\n",
       "      <th>2</th>\n",
       "      <td>Ridge</td>\n",
       "      <td>0.038802</td>\n",
       "      <td>0.044761</td>\n",
       "      <td>0.728</td>\n",
       "    </tr>\n",
       "  </tbody>\n",
       "</table>\n",
       "</div>"
      ],
      "text/plain": [
       "   Model     train      test  percent_difference\n",
       "0    LRM  0.038803  0.044779             -15.402\n",
       "1  Lasso  0.000000 -0.003280              -0.400\n",
       "2  Ridge  0.038802  0.044761               0.728"
      ]
     },
     "execution_count": 32,
     "metadata": {},
     "output_type": "execute_result"
    }
   ],
   "source": [
    "# The final output compares the model scores between the training and the test data\n",
    "\n",
    "lr = LinearRegression()\n",
    "ridge = Ridge()\n",
    "lasso = Lasso()\n",
    "\n",
    "X_train, X_test, y_train, y_test = train_test_split(X, \n",
    "                                                    y,\n",
    "                                                    train_size = 0.7,\n",
    "                                                    random_state = 42)\n",
    "ss = StandardScaler()\n",
    "ss.fit(X_train)\n",
    "X_train_scaled = ss.transform(X_train)\n",
    "\n",
    "X_test_scaled = ss.transform(X_test)\n",
    "\n",
    "# instantiate the models\n",
    "lr = LinearRegression()\n",
    "ridge = Ridge()\n",
    "lasso = Lasso()\n",
    "\n",
    "# fith the models to the training data\n",
    "lr.fit(X_train, y_train)\n",
    "ridge.fit(X_train_scaled, y_train)\n",
    "lasso.fit(X_train_scaled, y_train)\n",
    "\n",
    "# apply each model to the test data and print out the results\n",
    "print(f'LRM test: {lr.score(X_test, y_test)}')\n",
    "print(f'Lasso test: {lasso.score(X_test_scaled, y_test)}')\n",
    "print(f'Ridge tes: {ridge.score(X_test_scaled, y_test)}')\n",
    "\n",
    "data_dict = {\n",
    "    'Model' :             ['LRM', 'Lasso', 'Ridge'],\n",
    "           \n",
    "    'train' :             [lr.score(X_train, y_train), \n",
    "                           lasso.score(X_train_scaled, y_train), \n",
    "                           ridge.score(X_train_scaled, y_train)],\n",
    "    \n",
    "     'test' :             [lr.score(X_test, y_test),  \n",
    "                           lasso.score(X_test_scaled, y_test), \n",
    "                           ridge.score(X_test_scaled, y_test)],\n",
    "   \n",
    "    # this compares the model scores of the training vs the test data\n",
    "    'percent_difference': [round(100* (lr.score(X_train, y_train) - (lr.score(X_test, y_test)))/ lr.score(X_train, y_train), 3),\n",
    "                           round(100* (lasso.score(X_train_scaled, y_train) - (lasso.score(X_test_scaled, y_test)))/ lr.score(X_train_scaled, y_train), 3),\n",
    "                           round(100* (ridge.score(X_train_scaled, y_train) - (ridge.score(X_test_scaled, y_test)))/ lr.score(X_train_scaled, y_train), 3)]\n",
    "}\n",
    "\n",
    "train_fit_test = pd.DataFrame(data = data_dict, columns=['Model', 'train', 'test', 'percent_difference'])\n",
    "train_fit_test.sort_values('percent_difference')\n"
   ]
  },
  {
   "cell_type": "code",
   "execution_count": null,
   "metadata": {},
   "outputs": [],
   "source": []
  },
  {
   "cell_type": "code",
   "execution_count": null,
   "metadata": {},
   "outputs": [],
   "source": []
  },
  {
   "cell_type": "code",
   "execution_count": null,
   "metadata": {},
   "outputs": [],
   "source": []
  },
  {
   "cell_type": "code",
   "execution_count": 33,
   "metadata": {},
   "outputs": [
    {
     "name": "stdout",
     "output_type": "stream",
     "text": [
      "LRM: 0.024200191785356928\n",
      "Lasso: -0.005144595557388554\n",
      "Ridge: 0.02421270030342937\n"
     ]
    },
    {
     "name": "stderr",
     "output_type": "stream",
     "text": [
      "/Users/blakewallace/anaconda3/lib/python3.6/site-packages/sklearn/model_selection/_split.py:2179: FutureWarning: From version 0.21, test_size will always complement train_size unless both are specified.\n",
      "  FutureWarning)\n"
     ]
    },
    {
     "data": {
      "text/html": [
       "<div>\n",
       "<style scoped>\n",
       "    .dataframe tbody tr th:only-of-type {\n",
       "        vertical-align: middle;\n",
       "    }\n",
       "\n",
       "    .dataframe tbody tr th {\n",
       "        vertical-align: top;\n",
       "    }\n",
       "\n",
       "    .dataframe thead th {\n",
       "        text-align: right;\n",
       "    }\n",
       "</style>\n",
       "<table border=\"1\" class=\"dataframe\">\n",
       "  <thead>\n",
       "    <tr style=\"text-align: right;\">\n",
       "      <th></th>\n",
       "      <th>Model</th>\n",
       "      <th>train</th>\n",
       "      <th>test</th>\n",
       "      <th>percent_difference</th>\n",
       "    </tr>\n",
       "  </thead>\n",
       "  <tbody>\n",
       "    <tr>\n",
       "      <th>2</th>\n",
       "      <td>Ridge</td>\n",
       "      <td>0.043234</td>\n",
       "      <td>0.024213</td>\n",
       "      <td>-1.811</td>\n",
       "    </tr>\n",
       "    <tr>\n",
       "      <th>1</th>\n",
       "      <td>Lasso</td>\n",
       "      <td>0.000000</td>\n",
       "      <td>-0.005145</td>\n",
       "      <td>-0.490</td>\n",
       "    </tr>\n",
       "    <tr>\n",
       "      <th>0</th>\n",
       "      <td>LRM</td>\n",
       "      <td>0.043234</td>\n",
       "      <td>0.024200</td>\n",
       "      <td>44.025</td>\n",
       "    </tr>\n",
       "  </tbody>\n",
       "</table>\n",
       "</div>"
      ],
      "text/plain": [
       "   Model     train      test  percent_difference\n",
       "2  Ridge  0.043234  0.024213              -1.811\n",
       "1  Lasso  0.000000 -0.005145              -0.490\n",
       "0    LRM  0.043234  0.024200              44.025"
      ]
     },
     "execution_count": 33,
     "metadata": {},
     "output_type": "execute_result"
    }
   ],
   "source": [
    "# The final output compares the model scores between the training and the test data\n",
    "\n",
    "lr = LinearRegression()\n",
    "ridge = Ridge()\n",
    "lasso = Lasso()\n",
    "\n",
    "X_train, X_test, y_train, y_test = train_test_split(X, \n",
    "                                                    y,\n",
    "                                                    train_size = 0.9,\n",
    "                                                    random_state = 42)\n",
    "ss = StandardScaler()\n",
    "ss.fit(X_train)\n",
    "X_train_scaled = ss.transform(X_train)\n",
    "\n",
    "X_test_scaled = ss.transform(X_test)\n",
    "\n",
    "\n",
    "lr.fit(X_train, y_train)\n",
    "ridge.fit(X_train_scaled, y_train)\n",
    "lasso.fit(X_train_scaled, y_train)\n",
    "\n",
    "print(f'LRM: {lr.score(X_test, y_test)}')\n",
    "print(f'Lasso: {lasso.score(X_test_scaled, y_test)}')\n",
    "print(f'Ridge: {ridge.score(X_test_scaled, y_test)}')\n",
    "\n",
    "data_dict = {\n",
    "    'Model' :             ['LRM', 'Lasso', 'Ridge'],\n",
    "           \n",
    "    'train' :             [lr.score(X_train, y_train), \n",
    "                           lasso.score(X_train_scaled, y_train), \n",
    "                           ridge.score(X_train_scaled, y_train)],\n",
    "    \n",
    "     'test' :             [lr.score(X_test, y_test),  \n",
    "                           lasso.score(X_test_scaled, y_test), \n",
    "                           ridge.score(X_test_scaled, y_test)],\n",
    "   \n",
    "    'percent_difference': [round(100* (lr.score(X_train, y_train) - (lr.score(X_test, y_test)))/ lr.score(X_train, y_train), 3),\n",
    "                           round(100* (lasso.score(X_train_scaled, y_train) - (lasso.score(X_test_scaled, y_test)))/ lr.score(X_train_scaled, y_train), 3),\n",
    "                           round(100* (ridge.score(X_train_scaled, y_train) - (ridge.score(X_test_scaled, y_test)))/ lr.score(X_train_scaled, y_train), 3)]\n",
    "}\n",
    "\n",
    "train_fit_test = pd.DataFrame(data = data_dict, columns=['Model', 'train', 'test', 'percent_difference'])\n",
    "train_fit_test.sort_values('percent_difference')\n",
    "\n"
   ]
  },
  {
   "cell_type": "code",
   "execution_count": 34,
   "metadata": {},
   "outputs": [
    {
     "name": "stdout",
     "output_type": "stream",
     "text": [
      "LRM: 0.024200191785356928\n",
      "Lasso: -0.005144595557388554\n",
      "Ridge: 0.02421270030342937\n"
     ]
    },
    {
     "name": "stderr",
     "output_type": "stream",
     "text": [
      "/Users/blakewallace/anaconda3/lib/python3.6/site-packages/sklearn/model_selection/_split.py:2179: FutureWarning: From version 0.21, test_size will always complement train_size unless both are specified.\n",
      "  FutureWarning)\n"
     ]
    },
    {
     "data": {
      "text/html": [
       "<div>\n",
       "<style scoped>\n",
       "    .dataframe tbody tr th:only-of-type {\n",
       "        vertical-align: middle;\n",
       "    }\n",
       "\n",
       "    .dataframe tbody tr th {\n",
       "        vertical-align: top;\n",
       "    }\n",
       "\n",
       "    .dataframe thead th {\n",
       "        text-align: right;\n",
       "    }\n",
       "</style>\n",
       "<table border=\"1\" class=\"dataframe\">\n",
       "  <thead>\n",
       "    <tr style=\"text-align: right;\">\n",
       "      <th></th>\n",
       "      <th>Model</th>\n",
       "      <th>train</th>\n",
       "      <th>test</th>\n",
       "      <th>percent_difference</th>\n",
       "    </tr>\n",
       "  </thead>\n",
       "  <tbody>\n",
       "    <tr>\n",
       "      <th>1</th>\n",
       "      <td>Lasso</td>\n",
       "      <td>0.000000</td>\n",
       "      <td>-0.005145</td>\n",
       "      <td>11.900</td>\n",
       "    </tr>\n",
       "    <tr>\n",
       "      <th>2</th>\n",
       "      <td>Ridge</td>\n",
       "      <td>0.043234</td>\n",
       "      <td>0.024213</td>\n",
       "      <td>43.995</td>\n",
       "    </tr>\n",
       "    <tr>\n",
       "      <th>0</th>\n",
       "      <td>LRM</td>\n",
       "      <td>0.043234</td>\n",
       "      <td>0.024200</td>\n",
       "      <td>44.025</td>\n",
       "    </tr>\n",
       "  </tbody>\n",
       "</table>\n",
       "</div>"
      ],
      "text/plain": [
       "   Model     train      test  percent_difference\n",
       "1  Lasso  0.000000 -0.005145              11.900\n",
       "2  Ridge  0.043234  0.024213              43.995\n",
       "0    LRM  0.043234  0.024200              44.025"
      ]
     },
     "execution_count": 34,
     "metadata": {},
     "output_type": "execute_result"
    }
   ],
   "source": [
    "# The final output compares the model scores between the training and the test data\n",
    "\n",
    "lr = LinearRegression()\n",
    "ridge = Ridge()\n",
    "lasso = Lasso()\n",
    "\n",
    "X_train, X_test, y_train, y_test = train_test_split(X, \n",
    "                                                    y,\n",
    "                                                    train_size = 0.9,\n",
    "                                                    random_state = 42)\n",
    "ss = StandardScaler()\n",
    "ss.fit(X_train)\n",
    "X_train_scaled = ss.transform(X_train)\n",
    "\n",
    "X_test_scaled = ss.transform(X_test)\n",
    "\n",
    "\n",
    "lr.fit(X_train_scaled, y_train)\n",
    "ridge.fit(X_train_scaled, y_train)\n",
    "lasso.fit(X_train_scaled, y_train)\n",
    "\n",
    "print(f'LRM: {lr.score(X_test_scaled, y_test)}')\n",
    "print(f'Lasso: {lasso.score(X_test_scaled, y_test)}')\n",
    "print(f'Ridge: {ridge.score(X_test_scaled, y_test)}')\n",
    "\n",
    "data_dict = {\n",
    "    'Model' :             ['LRM', 'Lasso', 'Ridge'],\n",
    "           \n",
    "    'train' :             [lr.score(X_train_scaled, y_train), \n",
    "                           lasso.score(X_train_scaled, y_train), \n",
    "                           ridge.score(X_train_scaled, y_train)],\n",
    "    \n",
    "     'test' :             [lr.score(X_test_scaled, y_test),  \n",
    "                           lasso.score(X_test_scaled, y_test), \n",
    "                           ridge.score(X_test_scaled, y_test)],\n",
    "   \n",
    "    'percent_difference': [round(100* (lr.score(X_train_scaled, y_train) - (lr.score(X_test_scaled, y_test)))/ lr.score(X_train_scaled, y_train), 3),\n",
    "                           round(100* (lasso.score(X_train_scaled, y_train) - (lasso.score(X_test_scaled, y_test)))/ lr.score(X_train_scaled, y_train), 3),\n",
    "                           round(100* (ridge.score(X_train_scaled, y_train) - (ridge.score(X_test_scaled, y_test)))/ lr.score(X_train_scaled, y_train), 3)]\n",
    "}\n",
    "\n",
    "train_fit_test = pd.DataFrame(data = data_dict, columns=['Model', 'train', 'test', 'percent_difference'])\n",
    "train_fit_test.sort_values('percent_difference')\n",
    "\n"
   ]
  },
  {
   "cell_type": "code",
   "execution_count": 35,
   "metadata": {},
   "outputs": [
    {
     "name": "stdout",
     "output_type": "stream",
     "text": [
      "k = 5 folds cross-val on a train set that has 80-20 train/test split\n",
      "\n",
      "LRM: 0.024200191785356928\n",
      "cross val: 0.032449492958471236\n",
      "\n",
      "Lasso: -0.005144595557388554\n",
      "cross val: -0.00313456252311326\n",
      "\n",
      "Ridge: 0.02421270030342937\n",
      "cross val: 0.03246142289094291\n"
     ]
    },
    {
     "name": "stderr",
     "output_type": "stream",
     "text": [
      "/Users/blakewallace/anaconda3/lib/python3.6/site-packages/sklearn/model_selection/_split.py:2179: FutureWarning: From version 0.21, test_size will always complement train_size unless both are specified.\n",
      "  FutureWarning)\n"
     ]
    },
    {
     "data": {
      "text/html": [
       "<div>\n",
       "<style scoped>\n",
       "    .dataframe tbody tr th:only-of-type {\n",
       "        vertical-align: middle;\n",
       "    }\n",
       "\n",
       "    .dataframe tbody tr th {\n",
       "        vertical-align: top;\n",
       "    }\n",
       "\n",
       "    .dataframe thead th {\n",
       "        text-align: right;\n",
       "    }\n",
       "</style>\n",
       "<table border=\"1\" class=\"dataframe\">\n",
       "  <thead>\n",
       "    <tr style=\"text-align: right;\">\n",
       "      <th></th>\n",
       "      <th>Model</th>\n",
       "      <th>train</th>\n",
       "      <th>test</th>\n",
       "      <th>cross-val</th>\n",
       "      <th>percent_difference</th>\n",
       "    </tr>\n",
       "  </thead>\n",
       "  <tbody>\n",
       "    <tr>\n",
       "      <th>1</th>\n",
       "      <td>Lasso</td>\n",
       "      <td>0.000000</td>\n",
       "      <td>-0.005145</td>\n",
       "      <td>-0.003135</td>\n",
       "      <td>7.250</td>\n",
       "    </tr>\n",
       "    <tr>\n",
       "      <th>2</th>\n",
       "      <td>Ridge</td>\n",
       "      <td>0.043234</td>\n",
       "      <td>0.024213</td>\n",
       "      <td>0.032461</td>\n",
       "      <td>24.916</td>\n",
       "    </tr>\n",
       "    <tr>\n",
       "      <th>0</th>\n",
       "      <td>LRM</td>\n",
       "      <td>0.043234</td>\n",
       "      <td>0.024200</td>\n",
       "      <td>0.032449</td>\n",
       "      <td>24.944</td>\n",
       "    </tr>\n",
       "  </tbody>\n",
       "</table>\n",
       "</div>"
      ],
      "text/plain": [
       "   Model     train      test  cross-val  percent_difference\n",
       "1  Lasso  0.000000 -0.005145  -0.003135               7.250\n",
       "2  Ridge  0.043234  0.024213   0.032461              24.916\n",
       "0    LRM  0.043234  0.024200   0.032449              24.944"
      ]
     },
     "execution_count": 35,
     "metadata": {},
     "output_type": "execute_result"
    }
   ],
   "source": [
    "# The final output compares the \n",
    "\n",
    "# import warnings\n",
    "# warnings.filterwarnings('ignore')\n",
    "\n",
    "#\n",
    "lr = LinearRegression()\n",
    "ridge = Ridge()\n",
    "lasso = Lasso()\n",
    "\n",
    "X_train, X_test, y_train, y_test = train_test_split(X, \n",
    "                                                    y,\n",
    "                                                    train_size = 0.9,\n",
    "                                                    random_state = 42)\n",
    "ss = StandardScaler()\n",
    "ss.fit(X_train)\n",
    "X_train_scaled = ss.transform(X_train)\n",
    "\n",
    "X_test_scaled = ss.transform(X_test)\n",
    "\n",
    "\n",
    "print('k = 5 folds cross-val on a train set that has 80-20 train/test split')\n",
    "print()\n",
    "\n",
    "\n",
    "# The LRM Model\n",
    "lr.fit(X_train_scaled, y_train)\n",
    "lr_cross_val = cross_val_score(LinearRegression(), X_train_scaled, y_train, cv=5).mean()\n",
    "\n",
    "print(f'LRM: {lr.score(X_test_scaled, y_test)}')\n",
    "print(f'cross val: {lr_cross_val}')\n",
    "print()\n",
    "\n",
    "\n",
    "# The Ridge Model\n",
    "lasso.fit(X_train_scaled, y_train)\n",
    "lasso_cross_val = cross_val_score(Lasso(), X_train_scaled, y_train, cv=5).mean()\n",
    "\n",
    "print(f'Lasso: {lasso.score(X_test_scaled, y_test)}')\n",
    "print(f'cross val: {lasso_cross_val}')\n",
    "print()\n",
    "\n",
    "\n",
    "# The Lasso Model\n",
    "ridge.fit(X_train_scaled, y_train)\n",
    "ridge_cross_val = cross_val_score(Ridge(), X_train_scaled, y_train, cv=5).mean()\n",
    "\n",
    "print(f'Ridge: {ridge.score(X_test_scaled, y_test)}')\n",
    "print(f'cross val: {ridge_cross_val}')\n",
    "\n",
    "data_dict = {\n",
    "    'Model' :             ['LRM', 'Lasso', 'Ridge'],\n",
    "           \n",
    "    'train' :             [lr.score(X_train_scaled, y_train), \n",
    "                           lasso.score(X_train_scaled, y_train), \n",
    "                           ridge.score(X_train_scaled, y_train)],\n",
    "    \n",
    "     'test' :             [lr.score(X_test_scaled, y_test),  \n",
    "                           lasso.score(X_test_scaled, y_test), \n",
    "                           ridge.score(X_test_scaled, y_test)],\n",
    "    'cross-val' :         [lr_cross_val,\n",
    "                           lasso_cross_val,\n",
    "                           ridge_cross_val],\n",
    "   \n",
    "    'percent_difference': [round(100* (lr.score(X_train_scaled, y_train) - (lr_cross_val))/ lr.score(X_train_scaled, y_train), 3),\n",
    "                           round(100* (lasso.score(X_train_scaled, y_train) - (lasso_cross_val))/ lr.score(X_train_scaled, y_train), 3),\n",
    "                           round(100* (ridge.score(X_train_scaled, y_train) - (ridge_cross_val))/ lr.score(X_train_scaled, y_train), 3)]\n",
    "}\n",
    "\n",
    "train_fit_test = pd.DataFrame(data = data_dict, columns=['Model', 'train', 'test', 'cross-val', 'percent_difference'])\n",
    "train_fit_test.sort_values('percent_difference')\n"
   ]
  },
  {
   "cell_type": "code",
   "execution_count": 36,
   "metadata": {},
   "outputs": [
    {
     "name": "stderr",
     "output_type": "stream",
     "text": [
      "/Users/blakewallace/anaconda3/lib/python3.6/site-packages/sklearn/model_selection/_split.py:2179: FutureWarning: From version 0.21, test_size will always complement train_size unless both are specified.\n",
      "  FutureWarning)\n",
      "/Users/blakewallace/anaconda3/lib/python3.6/site-packages/sklearn/model_selection/_split.py:2179: FutureWarning: From version 0.21, test_size will always complement train_size unless both are specified.\n",
      "  FutureWarning)\n",
      "/Users/blakewallace/anaconda3/lib/python3.6/site-packages/sklearn/model_selection/_split.py:2179: FutureWarning: From version 0.21, test_size will always complement train_size unless both are specified.\n",
      "  FutureWarning)\n"
     ]
    },
    {
     "name": "stdout",
     "output_type": "stream",
     "text": [
      "\n",
      "k = 5 folds cross-val on a train set that has 80-20 train/test split\n",
      "   Model     train      test  cross_val  train-cross_val_%  test-cross_val_%  \\\n",
      "0    LRM  0.043234  0.024200   0.032449             24.944           -34.088   \n",
      "1  Lasso  0.000000 -0.005145  -0.003135              7.250            -8.306   \n",
      "2  Ridge  0.043234  0.024213   0.032461             24.916           -34.085   \n",
      "\n",
      "   train-test_%  \n",
      "0        44.025  \n",
      "1        11.900  \n",
      "2        43.995  \n",
      "\n",
      "k = 6 folds cross-val on a train set that has 80-20 train/test split\n",
      "   Model     train      test  cross_val  train-cross_val_%  test-cross_val_%  \\\n",
      "0    LRM  0.043234  0.024200   0.029998             30.613           -23.959   \n",
      "1  Lasso  0.000000 -0.005145  -0.006689             15.472             6.381   \n",
      "2  Ridge  0.043234  0.024213   0.030005             30.597           -23.937   \n",
      "\n",
      "   train-test_%  \n",
      "0        44.025  \n",
      "1        11.900  \n",
      "2        43.995  \n",
      "\n",
      "k = 7 folds cross-val on a train set that has 80-20 train/test split\n",
      "   Model     train      test  cross_val  train-cross_val_%  test-cross_val_%  \\\n",
      "0    LRM  0.043234  0.024200   0.029163             32.546           -20.506   \n",
      "1  Lasso  0.000000 -0.005145  -0.005809             13.436             2.744   \n",
      "2  Ridge  0.043234  0.024213   0.029172             32.526           -20.491   \n",
      "\n",
      "   train-test_%  \n",
      "0        44.025  \n",
      "1        11.900  \n",
      "2        43.995  \n",
      "\n",
      "k = 8 folds cross-val on a train set that has 80-20 train/test split\n",
      "   Model     train      test  cross_val  train-cross_val_%  test-cross_val_%  \\\n",
      "0    LRM  0.043234  0.024200   0.023730             45.111             1.941   \n",
      "1  Lasso  0.000000 -0.005145  -0.013646             31.565            35.132   \n",
      "2  Ridge  0.043234  0.024213   0.023739             45.092             1.959   \n",
      "\n",
      "   train-test_%  \n",
      "0        44.025  \n",
      "1        11.900  \n",
      "2        43.995  \n",
      "\n",
      "k = 9 folds cross-val on a train set that has 80-20 train/test split\n"
     ]
    },
    {
     "name": "stderr",
     "output_type": "stream",
     "text": [
      "/Users/blakewallace/anaconda3/lib/python3.6/site-packages/sklearn/model_selection/_split.py:2179: FutureWarning: From version 0.21, test_size will always complement train_size unless both are specified.\n",
      "  FutureWarning)\n",
      "/Users/blakewallace/anaconda3/lib/python3.6/site-packages/sklearn/model_selection/_split.py:2179: FutureWarning: From version 0.21, test_size will always complement train_size unless both are specified.\n",
      "  FutureWarning)\n"
     ]
    },
    {
     "name": "stdout",
     "output_type": "stream",
     "text": [
      "   Model     train      test  cross_val  train-cross_val_%  test-cross_val_%  \\\n",
      "0    LRM  0.043234  0.024200   0.029758             31.170           -22.964   \n",
      "1  Lasso  0.000000 -0.005145  -0.010378             24.004            21.624   \n",
      "2  Ridge  0.043234  0.024213   0.029762             31.160           -22.931   \n",
      "\n",
      "   train-test_%  \n",
      "0        44.025  \n",
      "1        11.900  \n",
      "2        43.995  \n",
      "\n",
      "k = 10 folds cross-val on a train set that has 80-20 train/test split\n",
      "   Model     train      test  cross_val  train-cross_val_%  test-cross_val_%  \\\n",
      "0    LRM  0.043234  0.024200   0.027162             37.173           -12.240   \n",
      "1  Lasso  0.000000 -0.005145  -0.012746             29.481            31.409   \n",
      "2  Ridge  0.043234  0.024213   0.027167             37.161           -12.210   \n",
      "\n",
      "   train-test_%  \n",
      "0        44.025  \n",
      "1        11.900  \n",
      "2        43.995  \n"
     ]
    },
    {
     "name": "stderr",
     "output_type": "stream",
     "text": [
      "/Users/blakewallace/anaconda3/lib/python3.6/site-packages/sklearn/model_selection/_split.py:2179: FutureWarning: From version 0.21, test_size will always complement train_size unless both are specified.\n",
      "  FutureWarning)\n"
     ]
    }
   ],
   "source": [
    "for i in range(5, 11):\n",
    "    # import warnings\n",
    "    # warnings.filterwarnings('ignore')\n",
    "    \n",
    "    # fit the different models\n",
    "    lr = LinearRegression()\n",
    "    ridge = Ridge()\n",
    "    lasso = Lasso()\n",
    "\n",
    "# train/test split with 80-20 split\n",
    "    X_train, X_test, y_train, y_test = train_test_split(X, \n",
    "                                                        y,\n",
    "                                                        train_size = 0.90,\n",
    "                                                        random_state = 42)\n",
    "# standard scale fitted to X_train\n",
    "    ss = StandardScaler()\n",
    "    ss.fit(X_train)\n",
    "    X_train_scaled = ss.transform(X_train)\n",
    "\n",
    "    X_test_scaled = ss.transform(X_test)\n",
    "\n",
    "    print()\n",
    "    print(f'k = {i} folds cross-val on a train set that has 80-20 train/test split')\n",
    "    \n",
    "\n",
    "\n",
    "    # The LRM Model\n",
    "    lr_cross_val = cross_val_score(lr, X_train_scaled, y_train, cv=i).mean()\n",
    "    lr.fit(X_train_scaled, y_train)\n",
    "\n",
    "#     print(f'LRM: {lr.score(X_test_scaled, y_test)}')\n",
    "#     print(f'cross val: {lr_cross_val}')\n",
    "#     print()\n",
    "\n",
    "\n",
    "    # The Ridge Model\n",
    "    lasso_cross_val = cross_val_score(lasso, X_train_scaled, y_train, cv=i).mean()\n",
    "    lasso.fit(X_train_scaled, y_train)\n",
    "\n",
    "#     print(f'Lasso: {lasso.score(X_test_scaled, y_test)}')\n",
    "#     print(f'cross val: {lasso_cross_val}')\n",
    "#     print()\n",
    "\n",
    "\n",
    "    # The Lasso Model\n",
    "    ridge_cross_val = cross_val_score(ridge, X_train_scaled, y_train, cv=i).mean()\n",
    "    ridge.fit(X_train_scaled, y_train)\n",
    "\n",
    "#     print(f'Ridge: {ridge.score(X_test_scaled, y_test)}')\n",
    "#     print(f'cross val: {ridge_cross_val}')\n",
    "\n",
    "    data_dict = {\n",
    "        'Model' :             ['LRM', 'Lasso', 'Ridge'],\n",
    "\n",
    "        'train' :             [lr.score(X_train_scaled, y_train), \n",
    "                               lasso.score(X_train_scaled, y_train), \n",
    "                               ridge.score(X_train_scaled, y_train)],\n",
    "\n",
    "         'test' :             [lr.score(X_test_scaled, y_test),  \n",
    "                               lasso.score(X_test_scaled, y_test), \n",
    "                               ridge.score(X_test_scaled, y_test)],\n",
    "        \n",
    "        'cross_val' :         [lr_cross_val,\n",
    "                               lasso_cross_val,\n",
    "                               ridge_cross_val],\n",
    "\n",
    "        'train-cross_val_%': [round(100* (lr.score(X_train_scaled, y_train) - (lr_cross_val))/ lr.score(X_train_scaled, y_train), 3),\n",
    "                                     round(100* (lasso.score(X_train_scaled, y_train) - (lasso_cross_val))/ lr.score(X_train_scaled, y_train), 3),\n",
    "                                     round(100* (ridge.score(X_train_scaled, y_train) - (ridge_cross_val))/ lr.score(X_train_scaled, y_train), 3)],\n",
    "      \n",
    "        'test-cross_val_%': [round(100* (lr.score(X_test_scaled, y_test) - (lr_cross_val))/ lr.score(X_test_scaled, y_test), 3),\n",
    "                                     round(100* (lasso.score(X_test_scaled, y_test) - (lasso_cross_val))/ lr.score(X_test_scaled, y_test), 3),\n",
    "                                     round(100* (ridge.score(X_test_scaled, y_test) - (ridge_cross_val))/ lr.score(X_test_scaled, y_test), 3)],\n",
    "       \n",
    "        'train-test_%': [round(100* (lr.score(X_train_scaled, y_train) - lr.score(X_test_scaled, y_test))/ lr.score(X_train_scaled, y_train), 3),\n",
    "                                    round(100* (lasso.score(X_train_scaled, y_train) - lasso.score(X_test_scaled, y_test))/ lr.score(X_train_scaled, y_train), 3),\n",
    "                                    round(100* (ridge.score(X_train_scaled, y_train) - ridge.score(X_test_scaled, y_test))/ lr.score(X_train_scaled, y_train), 3)]\n",
    "    }\n",
    "\n",
    "    train_fit_test = pd.DataFrame(data = data_dict, columns=['Model', 'train', 'test', 'cross_val', 'train-cross_val_%', 'test-cross_val_%', 'train-test_%'])\n",
    "    train_fit_test.sort_values('train-test_%')\n",
    "    print(train_fit_test)\n"
   ]
  },
  {
   "cell_type": "code",
   "execution_count": 37,
   "metadata": {},
   "outputs": [
    {
     "name": "stdout",
     "output_type": "stream",
     "text": [
      "k = 5 folds cross-val on a train set that has 80-20 train/test split\n",
      "\n"
     ]
    },
    {
     "name": "stderr",
     "output_type": "stream",
     "text": [
      "/Users/blakewallace/anaconda3/lib/python3.6/site-packages/sklearn/model_selection/_split.py:2179: FutureWarning: From version 0.21, test_size will always complement train_size unless both are specified.\n",
      "  FutureWarning)\n"
     ]
    },
    {
     "name": "stdout",
     "output_type": "stream",
     "text": [
      "LRM: 0.024200191785356928\n",
      "cross val: 0.032449492958471236\n",
      "\n",
      "Lasso: -0.005144595557388554\n",
      "cross val: -0.00313456252311326\n",
      "\n",
      "Ridge: 0.02421270030342937\n",
      "cross val: 0.03246142289094291\n"
     ]
    },
    {
     "data": {
      "text/html": [
       "<div>\n",
       "<style scoped>\n",
       "    .dataframe tbody tr th:only-of-type {\n",
       "        vertical-align: middle;\n",
       "    }\n",
       "\n",
       "    .dataframe tbody tr th {\n",
       "        vertical-align: top;\n",
       "    }\n",
       "\n",
       "    .dataframe thead th {\n",
       "        text-align: right;\n",
       "    }\n",
       "</style>\n",
       "<table border=\"1\" class=\"dataframe\">\n",
       "  <thead>\n",
       "    <tr style=\"text-align: right;\">\n",
       "      <th></th>\n",
       "      <th>Model</th>\n",
       "      <th>train</th>\n",
       "      <th>test</th>\n",
       "      <th>percent_difference</th>\n",
       "    </tr>\n",
       "  </thead>\n",
       "  <tbody>\n",
       "    <tr>\n",
       "      <th>1</th>\n",
       "      <td>Lasso</td>\n",
       "      <td>0.000000</td>\n",
       "      <td>-0.005145</td>\n",
       "      <td>7.250</td>\n",
       "    </tr>\n",
       "    <tr>\n",
       "      <th>2</th>\n",
       "      <td>Ridge</td>\n",
       "      <td>0.043234</td>\n",
       "      <td>0.024213</td>\n",
       "      <td>24.916</td>\n",
       "    </tr>\n",
       "    <tr>\n",
       "      <th>0</th>\n",
       "      <td>LRM</td>\n",
       "      <td>0.043234</td>\n",
       "      <td>0.024200</td>\n",
       "      <td>24.944</td>\n",
       "    </tr>\n",
       "  </tbody>\n",
       "</table>\n",
       "</div>"
      ],
      "text/plain": [
       "   Model     train      test  percent_difference\n",
       "1  Lasso  0.000000 -0.005145               7.250\n",
       "2  Ridge  0.043234  0.024213              24.916\n",
       "0    LRM  0.043234  0.024200              24.944"
      ]
     },
     "execution_count": 37,
     "metadata": {},
     "output_type": "execute_result"
    }
   ],
   "source": [
    "# import warnings\n",
    "# warnings.filterwarnings('ignore')\n",
    "\n",
    "lr = LinearRegression()\n",
    "ridge = Ridge()\n",
    "lasso = Lasso()\n",
    "\n",
    "X_train, X_test, y_train, y_test = train_test_split(X, \n",
    "                                                    y,\n",
    "                                                    train_size = 0.9,\n",
    "                                                    random_state = 42)\n",
    "ss = StandardScaler()\n",
    "ss.fit(X_train)\n",
    "X_train_scaled = ss.transform(X_train)\n",
    "\n",
    "X_test_scaled = ss.transform(X_test)\n",
    "\n",
    "\n",
    "print('k = 5 folds cross-val on a train set that has 80-20 train/test split')\n",
    "print()\n",
    "\n",
    "\n",
    "# The LRM Model\n",
    "lr.fit(X_train_scaled, y_train)\n",
    "lr_cross_val = cross_val_score(LinearRegression(), X_train_scaled, y_train, cv=5).mean()\n",
    "\n",
    "print(f'LRM: {lr.score(X_test_scaled, y_test)}')\n",
    "print(f'cross val: {lr_cross_val}')\n",
    "print()\n",
    "\n",
    "\n",
    "# The Ridge Model\n",
    "lasso.fit(X_train_scaled, y_train)\n",
    "lasso_cross_val = cross_val_score(Lasso(), X_train_scaled, y_train, cv=5).mean()\n",
    "\n",
    "print(f'Lasso: {lasso.score(X_test_scaled, y_test)}')\n",
    "print(f'cross val: {lasso_cross_val}')\n",
    "print()\n",
    "\n",
    "\n",
    "# The Lasso Model\n",
    "ridge.fit(X_train_scaled, y_train)\n",
    "ridge_cross_val = cross_val_score(Ridge(), X_train_scaled, y_train, cv=5).mean()\n",
    "\n",
    "print(f'Ridge: {ridge.score(X_test_scaled, y_test)}')\n",
    "print(f'cross val: {ridge_cross_val}')\n",
    "\n",
    "data_dict = {\n",
    "    'Model' :             ['LRM', 'Lasso', 'Ridge'],\n",
    "           \n",
    "    'train' :             [lr.score(X_train_scaled, y_train), \n",
    "                           lasso.score(X_train_scaled, y_train), \n",
    "                           ridge.score(X_train_scaled, y_train)],\n",
    "    \n",
    "     'test' :             [lr.score(X_test_scaled, y_test),  \n",
    "                           lasso.score(X_test_scaled, y_test), \n",
    "                           ridge.score(X_test_scaled, y_test)],\n",
    "    'cross-val' :         [lr_cross_val,\n",
    "                           lasso_cross_val,\n",
    "                           ridge_cross_val],\n",
    "   \n",
    "    'percent_difference': [round(100* (lr.score(X_train_scaled, y_train) - (lr_cross_val))/ lr.score(X_train_scaled, y_train), 3),\n",
    "                           round(100* (lasso.score(X_train_scaled, y_train) - (lasso_cross_val))/ lr.score(X_train_scaled, y_train), 3),\n",
    "                           round(100* (ridge.score(X_train_scaled, y_train) - (ridge_cross_val))/ lr.score(X_train_scaled, y_train), 3)]\n",
    "}\n",
    "\n",
    "train_fit_test = pd.DataFrame(data = data_dict, columns=['Model', 'train', 'test', 'percent_difference'])\n",
    "train_fit_test.sort_values('percent_difference')\n"
   ]
  },
  {
   "cell_type": "code",
   "execution_count": null,
   "metadata": {},
   "outputs": [],
   "source": []
  },
  {
   "cell_type": "code",
   "execution_count": 38,
   "metadata": {},
   "outputs": [],
   "source": [
    "# Train/test split R-SQUARED ONLY\n",
    "\n",
    "def opt_r2_split(features_data, target, perc_to_train):\n",
    "    \n",
    "    import warnings\n",
    "    warnings.filterwarnings('ignore')\n",
    "    \n",
    "    # code copied from stack overflow, and will be used to generate a run time of the functions below. \n",
    "    import time\n",
    "    start_time = time.time()\n",
    "    \n",
    "    \n",
    "    X = features_data\n",
    "    y = target\n",
    "    lst_to_optimize = []\n",
    "    cross_val_optimization = []\n",
    "    \n",
    "    for k in range(1, len(X.columns)+1): # eventually will be len(X)\n",
    "\n",
    "        index = itertools.combinations(list(X.columns), k)\n",
    "        \n",
    "        for col_combination in index:\n",
    "    \n",
    "            # instantiate models\n",
    "            lr = LinearRegression()\n",
    "            ridge = RidgeCV()\n",
    "            lasso = LassoCV(cv=5)\n",
    "            \n",
    "            # split the data using train/test\n",
    "            X_train, X_test, y_train, y_test = train_test_split(X[list(col_combination)], \n",
    "                                                                y,\n",
    "                                                                train_size = perc_to_train,\n",
    "                                                                random_state = 42)\n",
    "    \n",
    "            # put a standard scale on the plit data\n",
    "            ss = StandardScaler()\n",
    "            ss.fit(X_train)\n",
    "            X_train_scaled = ss.transform(X_train)\n",
    "\n",
    "            X_test_scaled = ss.transform(X_test)\n",
    "\n",
    "            \n",
    "            # cross-val calculations for each model\n",
    "            lr_cross_val = cross_val_score(lr, X_train_scaled, y_train, cv=6).mean()\n",
    "            lasso_cross_val = cross_val_score(lasso, X_train_scaled, y_train, cv=6).mean()\n",
    "            ridge_cross_val = cross_val_score(ridge, X_train_scaled, y_train, cv=6).mean()\n",
    "\n",
    "            # fit our models with the training data\n",
    "            lr.fit(X_train_scaled, y_train)\n",
    "            lasso.fit(X_train_scaled, y_train)\n",
    "            ridge.fit(X_train_scaled, y_train)\n",
    "            \n",
    "            # build a list of maximums that includes a single maximum from each pass through the loop\n",
    "            lst_to_optimize.append(max( lr.score(X_test_scaled, y_test),\n",
    "                                        lasso.score(X_test_scaled, y_test),\n",
    "                                        ridge.score(X_test_scaled, y_test)\n",
    "                                        ))\n",
    "            cross_val_optimization.append(min(abs(round(100* (lr.score(X_train_scaled, y_train) - (lr_cross_val))/ lr.score(X_train_scaled, y_train), 3)),\n",
    "                                             abs(round(100* (lasso.score(X_train_scaled, y_train) - (lasso_cross_val))/ lr.score(X_train_scaled, y_train), 3)),\n",
    "                                             abs(round(100* (ridge.score(X_train_scaled, y_train) - (ridge_cross_val))/ lr.score(X_train_scaled, y_train), 3))\n",
    "                                             ))\n",
    "            \n",
    "    print(f'total number of features in the combination of greatest length = {k}')\n",
    "    print(f'The maximum R-squared score using train/test split: {max(lst_to_optimize)}')\n",
    "    print(f'The minimum absolute percentage difference between the fit train data and the cross-val score is: {min(cross_val_optimization)}')\n",
    "    return f'Run time: {round(time.time() - start_time, 2)} seconds'\n"
   ]
  },
  {
   "cell_type": "code",
   "execution_count": 39,
   "metadata": {},
   "outputs": [],
   "source": [
    "import itertools"
   ]
  },
  {
   "cell_type": "code",
   "execution_count": 40,
   "metadata": {},
   "outputs": [],
   "source": [
    "from sklearn.linear_model import RidgeCV, LassoCV\n"
   ]
  },
  {
   "cell_type": "code",
   "execution_count": 41,
   "metadata": {
    "scrolled": true
   },
   "outputs": [
    {
     "name": "stdout",
     "output_type": "stream",
     "text": [
      "total number of features in the combination of greatest length = 7\n",
      "The maximum R-squared score using train/test split: -0.08849811404954266\n",
      "The minimum absolute percentage difference between the fit train data and the cross-val score is: 171.722\n"
     ]
    },
    {
     "data": {
      "text/plain": [
       "'Run time: 59.1 seconds'"
      ]
     },
     "execution_count": 41,
     "metadata": {},
     "output_type": "execute_result"
    }
   ],
   "source": [
    "opt_r2_split(X, y, 80)"
   ]
  },
  {
   "cell_type": "code",
   "execution_count": null,
   "metadata": {},
   "outputs": [],
   "source": []
  },
  {
   "cell_type": "code",
   "execution_count": null,
   "metadata": {},
   "outputs": [],
   "source": []
  },
  {
   "cell_type": "markdown",
   "metadata": {},
   "source": [
    "## Let's build a Decision Tree Regressor."
   ]
  },
  {
   "cell_type": "code",
   "execution_count": 302,
   "metadata": {},
   "outputs": [],
   "source": [
    "from sklearn.tree import DecisionTreeRegressor"
   ]
  },
  {
   "cell_type": "code",
   "execution_count": 303,
   "metadata": {},
   "outputs": [],
   "source": [
    "# train/test split\n",
    "X_train, X_test, y_train, y_test = train_test_split(X, y, random_state=42)"
   ]
  },
  {
   "cell_type": "code",
   "execution_count": 304,
   "metadata": {},
   "outputs": [],
   "source": [
    "# build polynomial features\n",
    "poly = PolynomialFeatures()\n",
    "X_train_poly_array = poly.fit_transform(X_train)"
   ]
  },
  {
   "cell_type": "code",
   "execution_count": 305,
   "metadata": {},
   "outputs": [],
   "source": [
    "# instantiate a decision tree\n",
    "regressor = DecisionTreeRegressor(criterion='mse',\n",
    "                                  max_depth=5)\n",
    "\n",
    "# fit the model to the training data\n",
    "regressor.fit(X_train_poly_df, y_train)\n",
    "\n",
    "# generate training predictions\n",
    "y_pred = regressor.predict(X_train_poly_df)"
   ]
  },
  {
   "cell_type": "code",
   "execution_count": 306,
   "metadata": {},
   "outputs": [
    {
     "data": {
      "text/plain": [
       "0.0901071761024286"
      ]
     },
     "execution_count": 306,
     "metadata": {},
     "output_type": "execute_result"
    }
   ],
   "source": [
    "# training MSE score\n",
    "mean_squared_error(y_train, y_pred)"
   ]
  },
  {
   "cell_type": "code",
   "execution_count": 307,
   "metadata": {},
   "outputs": [
    {
     "data": {
      "text/plain": [
       "0.07061203129891347"
      ]
     },
     "execution_count": 307,
     "metadata": {},
     "output_type": "execute_result"
    }
   ],
   "source": [
    "# generate an MSE score on new data\n",
    "y_predictions = regressor.predict(poly.transform(X_test))\n",
    "mean_squared_error(y_test, y_predictions)"
   ]
  },
  {
   "cell_type": "code",
   "execution_count": 308,
   "metadata": {},
   "outputs": [
    {
     "data": {
      "text/plain": [
       "0.11386794643419808"
      ]
     },
     "execution_count": 308,
     "metadata": {},
     "output_type": "execute_result"
    }
   ],
   "source": [
    "# training R2 score\n",
    "regressor.score(X_train_poly_df, y_train)"
   ]
  },
  {
   "cell_type": "code",
   "execution_count": 309,
   "metadata": {},
   "outputs": [
    {
     "data": {
      "text/plain": [
       "0.07519075073510251"
      ]
     },
     "execution_count": 309,
     "metadata": {},
     "output_type": "execute_result"
    }
   ],
   "source": [
    "# testing R2 score\n",
    "regressor.score(poly.transform(X_test), y_test)"
   ]
  },
  {
   "cell_type": "code",
   "execution_count": null,
   "metadata": {},
   "outputs": [],
   "source": []
  },
  {
   "cell_type": "code",
   "execution_count": null,
   "metadata": {},
   "outputs": [],
   "source": []
  },
  {
   "cell_type": "code",
   "execution_count": null,
   "metadata": {},
   "outputs": [],
   "source": []
  },
  {
   "cell_type": "code",
   "execution_count": null,
   "metadata": {},
   "outputs": [],
   "source": []
  },
  {
   "cell_type": "markdown",
   "metadata": {},
   "source": [
    "## Now, let's grid search over a decision tree, to see if we can get our scores up a bit."
   ]
  },
  {
   "cell_type": "code",
   "execution_count": 66,
   "metadata": {},
   "outputs": [
    {
     "name": "stdout",
     "output_type": "stream",
     "text": [
      "Fitting 5 folds for each of 12 candidates, totalling 60 fits\n"
     ]
    },
    {
     "name": "stderr",
     "output_type": "stream",
     "text": [
      "[Parallel(n_jobs=1)]: Using backend SequentialBackend with 1 concurrent workers.\n",
      "[Parallel(n_jobs=1)]: Done  60 out of  60 | elapsed:   13.2s finished\n"
     ]
    },
    {
     "data": {
      "text/plain": [
       "GridSearchCV(cv=5, error_score='raise-deprecating',\n",
       "       estimator=DecisionTreeRegressor(criterion='mse', max_depth=None, max_features=None,\n",
       "           max_leaf_nodes=None, min_impurity_decrease=0.0,\n",
       "           min_impurity_split=None, min_samples_leaf=1,\n",
       "           min_samples_split=2, min_weight_fraction_leaf=0.0,\n",
       "           presort=False, random_state=None, splitter='best'),\n",
       "       fit_params=None, iid='warn', n_jobs=None,\n",
       "       param_grid={'max_depth': [None, 2, 3, 4, 5, 6, 7, 8, 9, 10, 100, 1000]},\n",
       "       pre_dispatch='2*n_jobs', refit=True, return_train_score='warn',\n",
       "       scoring=None, verbose=1)"
      ]
     },
     "execution_count": 66,
     "metadata": {},
     "output_type": "execute_result"
    }
   ],
   "source": [
    "dtr = DecisionTreeRegressor()\n",
    "\n",
    "dtr_params = {\n",
    "    'max_depth':[None, 2, 3, 4, 5, 6, 7, 8, 9, 10, 100, 1000]\n",
    "}\n",
    "\n",
    "dtr_grid = GridSearchCV(dtr, param_grid=dtr_params, verbose=1, cv=5)\n",
    "dtr_grid.fit(X_train_poly_df, y_train)"
   ]
  },
  {
   "cell_type": "code",
   "execution_count": 67,
   "metadata": {},
   "outputs": [
    {
     "name": "stdout",
     "output_type": "stream",
     "text": [
      "0.04338886034621114\n"
     ]
    },
    {
     "data": {
      "text/plain": [
       "{'max_depth': 2}"
      ]
     },
     "execution_count": 67,
     "metadata": {},
     "output_type": "execute_result"
    }
   ],
   "source": [
    "# mean cross validation score of the best estimator\n",
    "print(dtr_grid.best_score_)\n",
    "dtr_grid.best_params_"
   ]
  },
  {
   "cell_type": "code",
   "execution_count": 68,
   "metadata": {},
   "outputs": [
    {
     "data": {
      "text/plain": [
       "0.06127334500602055"
      ]
     },
     "execution_count": 68,
     "metadata": {},
     "output_type": "execute_result"
    }
   ],
   "source": [
    "# training R2 score\n",
    "dtr_grid.score(X_train_poly_df, y_train)"
   ]
  },
  {
   "cell_type": "code",
   "execution_count": 69,
   "metadata": {},
   "outputs": [
    {
     "data": {
      "text/plain": [
       "0.05057966843094719"
      ]
     },
     "execution_count": 69,
     "metadata": {},
     "output_type": "execute_result"
    }
   ],
   "source": [
    "# testing R2 score\n",
    "dtr_grid.score(poly.transform(X_test), y_test)"
   ]
  },
  {
   "cell_type": "code",
   "execution_count": null,
   "metadata": {},
   "outputs": [],
   "source": []
  },
  {
   "cell_type": "code",
   "execution_count": null,
   "metadata": {},
   "outputs": [],
   "source": []
  },
  {
   "cell_type": "code",
   "execution_count": null,
   "metadata": {},
   "outputs": [],
   "source": []
  },
  {
   "cell_type": "code",
   "execution_count": null,
   "metadata": {},
   "outputs": [],
   "source": []
  },
  {
   "cell_type": "markdown",
   "metadata": {},
   "source": [
    "### Now, let's try a Random Forest model."
   ]
  },
  {
   "cell_type": "code",
   "execution_count": 296,
   "metadata": {},
   "outputs": [],
   "source": [
    "from sklearn.ensemble import RandomForestRegressor"
   ]
  },
  {
   "cell_type": "code",
   "execution_count": 297,
   "metadata": {},
   "outputs": [],
   "source": [
    "forest = RandomForestRegressor(n_estimators=100)\n",
    "\n",
    "forest.fit(X_train_poly_df, y_train)\n",
    "\n",
    "pred = forest.predict(X_train_poly_df)"
   ]
  },
  {
   "cell_type": "code",
   "execution_count": 298,
   "metadata": {},
   "outputs": [
    {
     "name": "stdout",
     "output_type": "stream",
     "text": [
      "MSE on predictions:\n",
      "training: 0.013382963071356526.\n",
      "testing: 0.07240893040888448.\n",
      "\n",
      "R-squared score\n",
      "training: 0.8683892553048607.\n",
      "testing: 0.05165667465304269.\n",
      "\n",
      "cross validation\n"
     ]
    }
   ],
   "source": [
    "print(\"MSE on predictions:\")\n",
    "print(f\"training: {mean_squared_error(y_train, pred)}.\")\n",
    "prediction = forest.predict(poly.transform(X_test))\n",
    "print(f\"testing: {mean_squared_error(y_test, prediction)}.\")\n",
    "print()\n",
    "print(\"R-squared score\")\n",
    "print(f\"training: {forest.score(X_train_poly_df, y_train)}.\")\n",
    "print(f\"testing: {forest.score(poly.transform(X_test), y_test)}.\")\n",
    "print()\n",
    "print('cross validation')\n",
    "print(f\"{cross_val_score(forest, X_train_poly_df, y_train, cv=3).mean()}\")"
   ]
  },
  {
   "cell_type": "code",
   "execution_count": 300,
   "metadata": {},
   "outputs": [
    {
     "data": {
      "text/plain": [
       "0.055396946458716144"
      ]
     },
     "execution_count": 300,
     "metadata": {},
     "output_type": "execute_result"
    }
   ],
   "source": [
    "cross_val_score(forest, X_train_poly_df, y_train, cv=3).mean()"
   ]
  },
  {
   "cell_type": "code",
   "execution_count": null,
   "metadata": {},
   "outputs": [],
   "source": []
  },
  {
   "cell_type": "code",
   "execution_count": null,
   "metadata": {},
   "outputs": [],
   "source": []
  },
  {
   "cell_type": "code",
   "execution_count": null,
   "metadata": {},
   "outputs": [],
   "source": []
  },
  {
   "cell_type": "code",
   "execution_count": null,
   "metadata": {},
   "outputs": [],
   "source": []
  },
  {
   "cell_type": "markdown",
   "metadata": {},
   "source": [
    "### We build another Random Forest, this time putting a restriction on the `max_features`."
   ]
  },
  {
   "cell_type": "code",
   "execution_count": 310,
   "metadata": {},
   "outputs": [],
   "source": [
    "forest = RandomForestRegressor(n_estimators=100,\n",
    "                               max_features='sqrt')\n",
    "\n",
    "forest.fit(X_train_poly_df, y_train)\n",
    "\n",
    "pred = forest.predict(X_train_poly_df)"
   ]
  },
  {
   "cell_type": "code",
   "execution_count": 311,
   "metadata": {},
   "outputs": [
    {
     "name": "stdout",
     "output_type": "stream",
     "text": [
      "The training MSE: 0.01310380403567824.\n",
      "The testing MSE: 0.06812164109540635.\n"
     ]
    }
   ],
   "source": [
    "print(f\"The training MSE: {mean_squared_error(y_train, pred)}.\")\n",
    "prediction = forest.predict(poly.transform(X_test))\n",
    "print(f\"The testing MSE: {mean_squared_error(y_test, prediction)}.\")"
   ]
  },
  {
   "cell_type": "code",
   "execution_count": 312,
   "metadata": {},
   "outputs": [
    {
     "name": "stdout",
     "output_type": "stream",
     "text": [
      "The training score: 0.8711345612866596.\n",
      "The testing score: 0.10780751380104624.\n"
     ]
    }
   ],
   "source": [
    "print(f\"The training score: {forest.score(X_train_poly_df, y_train)}.\")\n",
    "print(f\"The testing score: {forest.score(poly.transform(X_test), y_test)}.\")"
   ]
  },
  {
   "cell_type": "code",
   "execution_count": 313,
   "metadata": {},
   "outputs": [
    {
     "name": "stdout",
     "output_type": "stream",
     "text": [
      "0.07695300918220493\n"
     ]
    }
   ],
   "source": [
    "print(f\"{cross_val_score(forest, X_train_poly_df, y_train, cv=3).mean()}\")"
   ]
  },
  {
   "cell_type": "code",
   "execution_count": null,
   "metadata": {},
   "outputs": [],
   "source": []
  },
  {
   "cell_type": "code",
   "execution_count": null,
   "metadata": {},
   "outputs": [],
   "source": []
  },
  {
   "cell_type": "code",
   "execution_count": null,
   "metadata": {},
   "outputs": [],
   "source": []
  },
  {
   "cell_type": "code",
   "execution_count": null,
   "metadata": {},
   "outputs": [],
   "source": []
  },
  {
   "cell_type": "markdown",
   "metadata": {},
   "source": [
    "### Now, we gridSearch over a Random Forest, to check that the `max_features` choice is good."
   ]
  },
  {
   "cell_type": "code",
   "execution_count": 320,
   "metadata": {},
   "outputs": [
    {
     "name": "stdout",
     "output_type": "stream",
     "text": [
      "Fitting 5 folds for each of 4 candidates, totalling 20 fits\n"
     ]
    },
    {
     "name": "stderr",
     "output_type": "stream",
     "text": [
      "[Parallel(n_jobs=1)]: Using backend SequentialBackend with 1 concurrent workers.\n",
      "[Parallel(n_jobs=1)]: Done  20 out of  20 | elapsed:  3.2min finished\n"
     ]
    },
    {
     "data": {
      "text/plain": [
       "GridSearchCV(cv=5, error_score='raise-deprecating',\n",
       "       estimator=RandomForestRegressor(bootstrap=True, criterion='mse', max_depth=None,\n",
       "           max_features='auto', max_leaf_nodes=None,\n",
       "           min_impurity_decrease=0.0, min_impurity_split=None,\n",
       "           min_samples_leaf=1, min_samples_split=2,\n",
       "           min_weight_fraction_leaf=0.0, n_estimators='warn', n_jobs=None,\n",
       "           oob_score=False, random_state=None, verbose=0, warm_start=False),\n",
       "       fit_params=None, iid='warn', n_jobs=None,\n",
       "       param_grid={'n_estimators': [100], 'max_depth': [None], 'min_samples_split': [2], 'max_features': ['auto', 'sqrt', 0.1, 0.2]},\n",
       "       pre_dispatch='2*n_jobs', refit=True, return_train_score='warn',\n",
       "       scoring=None, verbose=1)"
      ]
     },
     "execution_count": 320,
     "metadata": {},
     "output_type": "execute_result"
    }
   ],
   "source": [
    "# Note that all parameters are set to the default, except the `max_features` parameter.\n",
    "rfr = RandomForestRegressor()\n",
    "\n",
    "rfr_params = {\n",
    "    'n_estimators':[100],\n",
    "    'max_depth':[None],\n",
    "    'min_samples_split': [2],\n",
    "    'max_features': [\"auto\", \"sqrt\", 0.1, 0.2]\n",
    "}\n",
    "\n",
    "rfr_grid = GridSearchCV(rfr, param_grid=rfr_params, cv=5, verbose=1)\n",
    "rfr_grid.fit(X_train_poly_df, y_train)"
   ]
  },
  {
   "cell_type": "code",
   "execution_count": 321,
   "metadata": {
    "scrolled": true
   },
   "outputs": [
    {
     "name": "stdout",
     "output_type": "stream",
     "text": [
      "0.06513206745297248\n",
      "RandomForestRegressor(bootstrap=True, criterion='mse', max_depth=None,\n",
      "           max_features=0.2, max_leaf_nodes=None,\n",
      "           min_impurity_decrease=0.0, min_impurity_split=None,\n",
      "           min_samples_leaf=1, min_samples_split=2,\n",
      "           min_weight_fraction_leaf=0.0, n_estimators=100, n_jobs=None,\n",
      "           oob_score=False, random_state=None, verbose=0, warm_start=False)\n"
     ]
    },
    {
     "data": {
      "text/plain": [
       "{'max_depth': None,\n",
       " 'max_features': 0.2,\n",
       " 'min_samples_split': 2,\n",
       " 'n_estimators': 100}"
      ]
     },
     "execution_count": 321,
     "metadata": {},
     "output_type": "execute_result"
    }
   ],
   "source": [
    "print(rfr_grid.best_score_)\n",
    "print(rfr_grid.best_estimator_)\n",
    "rfr_grid.best_params_\n"
   ]
  },
  {
   "cell_type": "code",
   "execution_count": 322,
   "metadata": {
    "scrolled": true
   },
   "outputs": [
    {
     "data": {
      "text/plain": [
       "0.8657786095197147"
      ]
     },
     "execution_count": 322,
     "metadata": {},
     "output_type": "execute_result"
    }
   ],
   "source": [
    "# training R2 score\n",
    "rfr_grid.score(X_train_poly_df, y_train)"
   ]
  },
  {
   "cell_type": "code",
   "execution_count": 323,
   "metadata": {},
   "outputs": [
    {
     "data": {
      "text/plain": [
       "0.0905017374701339"
      ]
     },
     "execution_count": 323,
     "metadata": {},
     "output_type": "execute_result"
    }
   ],
   "source": [
    "# testing R2 score\n",
    "rfr_grid.score(poly.transform(X_test), y_test)"
   ]
  },
  {
   "cell_type": "code",
   "execution_count": 324,
   "metadata": {},
   "outputs": [
    {
     "data": {
      "text/plain": [
       "0.013648429057556404"
      ]
     },
     "execution_count": 324,
     "metadata": {},
     "output_type": "execute_result"
    }
   ],
   "source": [
    "# training MSE\n",
    "rfr_pred_train = rfr_grid.predict(X_train_poly_df)\n",
    "mean_squared_error(y_train, rfr_pred_train)"
   ]
  },
  {
   "cell_type": "code",
   "execution_count": 325,
   "metadata": {},
   "outputs": [
    {
     "data": {
      "text/plain": [
       "0.06944299035840487"
      ]
     },
     "execution_count": 325,
     "metadata": {},
     "output_type": "execute_result"
    }
   ],
   "source": [
    "# testing MSE\n",
    "rfr_pred_test = rfr_grid.predict(poly.transform(X_test))\n",
    "mean_squared_error(y_test, rfr_pred_test)"
   ]
  },
  {
   "cell_type": "markdown",
   "metadata": {},
   "source": [
    "### Visually inspecting the scores of the above model with those generated using the `max_features` = 'sqrt' shows that the choice of that value is a good one."
   ]
  },
  {
   "cell_type": "code",
   "execution_count": null,
   "metadata": {},
   "outputs": [],
   "source": []
  },
  {
   "cell_type": "code",
   "execution_count": null,
   "metadata": {},
   "outputs": [],
   "source": []
  },
  {
   "cell_type": "code",
   "execution_count": null,
   "metadata": {},
   "outputs": [],
   "source": []
  },
  {
   "cell_type": "code",
   "execution_count": null,
   "metadata": {},
   "outputs": [],
   "source": []
  },
  {
   "cell_type": "markdown",
   "metadata": {},
   "source": [
    "### Here we fit a Random Forest with a `max_feature` of 0.25."
   ]
  },
  {
   "cell_type": "code",
   "execution_count": 328,
   "metadata": {},
   "outputs": [],
   "source": [
    "forest = RandomForestRegressor(n_estimators=100,\n",
    "                               max_features=0.25)\n",
    "\n",
    "forest.fit(X_train_poly_df, y_train)\n",
    "\n",
    "pred = forest.predict(X_train_poly_df)"
   ]
  },
  {
   "cell_type": "code",
   "execution_count": 329,
   "metadata": {},
   "outputs": [
    {
     "name": "stdout",
     "output_type": "stream",
     "text": [
      "MSE on predictions:\n",
      "training: 0.013451306836082184.\n",
      "testing: 0.07114629758707722.\n",
      "\n",
      "R-squared score\n",
      "training: 0.8677171490065128.\n",
      "testing: 0.06819343886379947.\n",
      "\n",
      "cross validation score\n",
      "0.06602575178369159\n"
     ]
    }
   ],
   "source": [
    "print(\"MSE on predictions:\")\n",
    "print(f\"training: {mean_squared_error(y_train, pred)}.\")\n",
    "prediction = forest.predict(poly.transform(X_test))\n",
    "print(f\"testing: {mean_squared_error(y_test, prediction)}.\")\n",
    "print()\n",
    "print(\"R-squared score\")\n",
    "print(f\"training: {forest.score(X_train_poly_df, y_train)}.\")\n",
    "print(f\"testing: {forest.score(poly.transform(X_test), y_test)}.\")\n",
    "print()\n",
    "print(\"cross validation score\")\n",
    "print(f\"{cross_val_score(forest, X_train_poly_df, y_train, cv=3).mean()}\")"
   ]
  },
  {
   "cell_type": "code",
   "execution_count": 330,
   "metadata": {},
   "outputs": [
    {
     "data": {
      "text/plain": [
       "array([0.00000000e+00, 5.35724404e-03, 2.11656414e-03, 2.35230935e-04,\n",
       "       9.15180714e-03, 1.15071978e-02, 7.91842865e-03, 1.20724564e-02,\n",
       "       1.34998231e-02, 1.20599774e-02, 6.55058962e-04, 2.85045280e-04,\n",
       "       1.35166332e-02, 1.03453600e-02, 8.87596157e-03, 5.31717040e-03,\n",
       "       1.20336671e-03, 2.26228720e-04, 1.27074537e-02, 1.38001952e-02,\n",
       "       1.24235190e-02, 1.40730023e-02, 1.76086164e-02, 1.19671331e-02,\n",
       "       1.47954609e-03, 1.93604486e-04, 1.25374577e-02, 1.45390171e-02,\n",
       "       1.14924417e-02, 1.55562761e-03, 5.52994379e-04, 3.04685865e-03,\n",
       "       1.41113093e-03, 3.87811634e-03, 1.06129821e-03, 3.13712223e-03,\n",
       "       1.32639831e-03, 8.26188807e-05, 4.94894413e-04, 1.58234418e-03,\n",
       "       6.64054480e-04, 8.51965013e-04, 3.27823462e-04, 5.45753007e-04,\n",
       "       3.56437493e-04, 4.23660563e-04, 2.09764456e-04, 5.02956170e-04,\n",
       "       2.16206630e-04, 2.42749856e-04, 1.98976619e-04, 3.50542842e-04,\n",
       "       3.34900064e-04, 3.10010804e-04, 1.10134893e-02, 1.11248929e-02,\n",
       "       1.10935803e-02, 1.44080636e-02, 1.41489532e-02, 2.63474962e-02,\n",
       "       1.76646286e-03, 2.32470640e-04, 1.50711372e-02, 1.28726806e-02,\n",
       "       1.22320407e-02, 9.98150547e-03, 1.44629000e-02, 1.59756139e-02,\n",
       "       1.36570419e-02, 4.15869335e-02, 9.80797817e-04, 3.44023516e-04,\n",
       "       1.52032996e-02, 1.60602696e-02, 1.18986366e-02, 7.53622357e-03,\n",
       "       1.32289221e-02, 1.17335071e-02, 2.96218998e-02, 1.33627017e-03,\n",
       "       2.60484590e-04, 1.53988627e-02, 1.27803867e-02, 1.12708781e-02,\n",
       "       9.67397019e-03, 1.45275257e-02, 3.49315081e-02, 1.38590619e-03,\n",
       "       2.42605274e-04, 1.68889195e-02, 1.48772905e-02, 1.38644692e-02,\n",
       "       1.50419671e-02, 1.90312005e-02, 1.89929139e-03, 6.53510261e-04,\n",
       "       1.48948107e-02, 1.46024323e-02, 1.31222118e-02, 9.80965204e-03,\n",
       "       9.32460027e-04, 1.70747949e-04, 2.94583438e-02, 3.65081845e-02,\n",
       "       2.41287988e-02, 8.09171212e-04, 1.38618879e-04, 1.16054021e-03,\n",
       "       5.78831393e-04, 1.27878529e-03, 1.36277206e-04, 2.77010204e-04,\n",
       "       2.90528939e-04, 1.62413228e-04, 1.21770122e-02, 1.33962295e-02,\n",
       "       1.47011773e-02, 1.16772055e-02, 1.39140982e-02, 8.19582453e-03])"
      ]
     },
     "execution_count": 330,
     "metadata": {},
     "output_type": "execute_result"
    }
   ],
   "source": [
    "# we explore the feature importances of the output from this Random Forest.\n",
    "forest.feature_importances_"
   ]
  },
  {
   "cell_type": "code",
   "execution_count": 331,
   "metadata": {},
   "outputs": [
    {
     "data": {
      "text/plain": [
       "0.04158693347832492"
      ]
     },
     "execution_count": 331,
     "metadata": {},
     "output_type": "execute_result"
    }
   ],
   "source": [
    "forest.feature_importances_.max()"
   ]
  },
  {
   "cell_type": "code",
   "execution_count": 332,
   "metadata": {
    "scrolled": false
   },
   "outputs": [
    {
     "data": {
      "text/plain": [
       "69"
      ]
     },
     "execution_count": 332,
     "metadata": {},
     "output_type": "execute_result"
    }
   ],
   "source": [
    "list(forest.feature_importances_).index(forest.feature_importances_.max())"
   ]
  },
  {
   "cell_type": "code",
   "execution_count": 334,
   "metadata": {},
   "outputs": [
    {
     "data": {
      "text/plain": [
       "'x4 x8'"
      ]
     },
     "execution_count": 334,
     "metadata": {},
     "output_type": "execute_result"
    }
   ],
   "source": [
    "poly.get_feature_names()[69]"
   ]
  },
  {
   "cell_type": "code",
   "execution_count": null,
   "metadata": {},
   "outputs": [],
   "source": []
  },
  {
   "cell_type": "code",
   "execution_count": null,
   "metadata": {},
   "outputs": [],
   "source": []
  },
  {
   "cell_type": "code",
   "execution_count": null,
   "metadata": {},
   "outputs": [],
   "source": []
  },
  {
   "cell_type": "code",
   "execution_count": null,
   "metadata": {},
   "outputs": [],
   "source": []
  },
  {
   "cell_type": "code",
   "execution_count": 335,
   "metadata": {},
   "outputs": [
    {
     "name": "stdout",
     "output_type": "stream",
     "text": [
      "MSE on predictions:\n",
      "training: 0.01318193681420398.\n",
      "testing: 0.06755123939424547.\n",
      "\n",
      "R-squared score\n",
      "training: 0.8703661878620266.\n",
      "testing: 0.11527809295486037.\n",
      "\n",
      "cross validation score\n",
      "0.07667325435534227\n"
     ]
    }
   ],
   "source": [
    "forest = RandomForestRegressor(n_estimators=100,\n",
    "                               max_features='sqrt')\n",
    "\n",
    "forest.fit(X_train_poly_df, y_train)\n",
    "\n",
    "pred = forest.predict(X_train_poly_df)\n",
    "print(\"MSE on predictions:\")\n",
    "print(f\"training: {mean_squared_error(y_train, pred)}.\")\n",
    "prediction = forest.predict(poly.transform(X_test))\n",
    "print(f\"testing: {mean_squared_error(y_test, prediction)}.\")\n",
    "print()\n",
    "print(\"R-squared score\")\n",
    "print(f\"training: {forest.score(X_train_poly_df, y_train)}.\")\n",
    "print(f\"testing: {forest.score(poly.transform(X_test), y_test)}.\")\n",
    "print()\n",
    "print(\"cross validation score\")\n",
    "print(f\"{cross_val_score(forest, X_train_poly_df, y_train, cv=3).mean()}\")"
   ]
  },
  {
   "cell_type": "code",
   "execution_count": null,
   "metadata": {},
   "outputs": [],
   "source": []
  },
  {
   "cell_type": "code",
   "execution_count": null,
   "metadata": {},
   "outputs": [],
   "source": []
  },
  {
   "cell_type": "code",
   "execution_count": null,
   "metadata": {},
   "outputs": [],
   "source": []
  },
  {
   "cell_type": "code",
   "execution_count": null,
   "metadata": {},
   "outputs": [],
   "source": []
  },
  {
   "cell_type": "code",
   "execution_count": 336,
   "metadata": {},
   "outputs": [
    {
     "name": "stdout",
     "output_type": "stream",
     "text": [
      "MSE on predictions:\n",
      "training: 0.019526492684490485.\n",
      "testing: 0.06904285842920788.\n",
      "\n",
      "R-squared score\n",
      "training: 0.8079725521330674.\n",
      "testing: 0.0957422850402938.\n",
      "\n",
      "cross validation score\n",
      "0.07873069143130025\n"
     ]
    }
   ],
   "source": [
    "forest = RandomForestRegressor(n_estimators=100,\n",
    "                               max_features='sqrt',\n",
    "                               min_samples_split=4)\n",
    "\n",
    "forest.fit(X_train_poly_df, y_train)\n",
    "\n",
    "pred = forest.predict(X_train_poly_df)\n",
    "print(\"MSE on predictions:\")\n",
    "print(f\"training: {mean_squared_error(y_train, pred)}.\")\n",
    "prediction = forest.predict(poly.transform(X_test))\n",
    "print(f\"testing: {mean_squared_error(y_test, prediction)}.\")\n",
    "print()\n",
    "print(\"R-squared score\")\n",
    "print(f\"training: {forest.score(X_train_poly_df, y_train)}.\")\n",
    "print(f\"testing: {forest.score(poly.transform(X_test), y_test)}.\")\n",
    "print()\n",
    "print(\"cross validation score\")\n",
    "print(f\"{cross_val_score(forest, X_train_poly_df, y_train, cv=3).mean()}\")"
   ]
  },
  {
   "cell_type": "code",
   "execution_count": null,
   "metadata": {},
   "outputs": [],
   "source": []
  },
  {
   "cell_type": "code",
   "execution_count": null,
   "metadata": {},
   "outputs": [],
   "source": []
  },
  {
   "cell_type": "code",
   "execution_count": null,
   "metadata": {},
   "outputs": [],
   "source": []
  },
  {
   "cell_type": "code",
   "execution_count": null,
   "metadata": {},
   "outputs": [],
   "source": []
  },
  {
   "cell_type": "markdown",
   "metadata": {},
   "source": [
    "### Now, we will try an AdaBoost over our Random Forest."
   ]
  },
  {
   "cell_type": "code",
   "execution_count": 150,
   "metadata": {},
   "outputs": [
    {
     "name": "stdout",
     "output_type": "stream",
     "text": [
      "Fitting 3 folds for each of 3 candidates, totalling 9 fits\n"
     ]
    },
    {
     "name": "stderr",
     "output_type": "stream",
     "text": [
      "[Parallel(n_jobs=1)]: Using backend SequentialBackend with 1 concurrent workers.\n",
      "[Parallel(n_jobs=1)]: Done   9 out of   9 | elapsed: 10.1min finished\n"
     ]
    },
    {
     "name": "stdout",
     "output_type": "stream",
     "text": [
      "0.03309920639410132\n"
     ]
    },
    {
     "data": {
      "text/plain": [
       "{'n_estimators': 40}"
      ]
     },
     "execution_count": 150,
     "metadata": {},
     "output_type": "execute_result"
    }
   ],
   "source": [
    "# adding the max_features\n",
    "ada = AdaBoostRegressor(RandomForestRegressor(n_estimators=100,\n",
    "                                              max_features='sqrt'))\n",
    "\n",
    "# set the parameters for the gridsearch\n",
    "ada_params = {\n",
    "    'n_estimators': [40, 50, 60]\n",
    "}\n",
    "\n",
    "# build the gridsearch\n",
    "gs = GridSearchCV(ada, \n",
    "                  param_grid=ada_params, \n",
    "                  cv=3,\n",
    "                  verbose=1)\n",
    "\n",
    "# fit the gridsearch\n",
    "gs.fit(X_train_poly_df, y_train)\n",
    "print(gs.best_score_)\n",
    "gs.best_params_"
   ]
  },
  {
   "cell_type": "code",
   "execution_count": 151,
   "metadata": {},
   "outputs": [
    {
     "name": "stdout",
     "output_type": "stream",
     "text": [
      "MSE on predictions:\n",
      "training: 0.004608908386065302.\n",
      "testing: 0.0721612022211003.\n",
      "\n",
      "R-squared score\n",
      "training: 0.9546750699611513.\n",
      "testing: 0.05490118292099466.\n"
     ]
    }
   ],
   "source": [
    "ada_pred = gs.predict(X_train_poly_df)\n",
    "print(\"MSE on predictions:\")\n",
    "print(f\"training: {mean_squared_error(y_train, ada_pred)}.\")\n",
    "ada_prediction = gs.predict(poly.transform(X_test))\n",
    "print(f\"testing: {mean_squared_error(y_test, ada_prediction)}.\")\n",
    "print()\n",
    "print(\"R-squared score\")\n",
    "print(f\"training: {gs.score(X_train_poly_df, y_train)}.\")\n",
    "print(f\"testing: {gs.score(poly.transform(X_test), y_test)}.\")"
   ]
  },
  {
   "cell_type": "code",
   "execution_count": null,
   "metadata": {},
   "outputs": [],
   "source": []
  },
  {
   "cell_type": "code",
   "execution_count": null,
   "metadata": {},
   "outputs": [],
   "source": []
  },
  {
   "cell_type": "code",
   "execution_count": null,
   "metadata": {},
   "outputs": [],
   "source": []
  },
  {
   "cell_type": "code",
   "execution_count": null,
   "metadata": {},
   "outputs": [],
   "source": []
  },
  {
   "cell_type": "markdown",
   "metadata": {},
   "source": []
  },
  {
   "cell_type": "code",
   "execution_count": 153,
   "metadata": {},
   "outputs": [
    {
     "name": "stdout",
     "output_type": "stream",
     "text": [
      "Fitting 3 folds for each of 1 candidates, totalling 3 fits\n"
     ]
    },
    {
     "name": "stderr",
     "output_type": "stream",
     "text": [
      "[Parallel(n_jobs=1)]: Using backend SequentialBackend with 1 concurrent workers.\n",
      "[Parallel(n_jobs=1)]: Done   3 out of   3 | elapsed:  2.9min finished\n"
     ]
    },
    {
     "name": "stdout",
     "output_type": "stream",
     "text": [
      "0.028311415692848788\n"
     ]
    },
    {
     "data": {
      "text/plain": [
       "{'n_estimators': 40}"
      ]
     },
     "execution_count": 153,
     "metadata": {},
     "output_type": "execute_result"
    }
   ],
   "source": [
    "# adding a min_samples_split\n",
    "ada = AdaBoostRegressor(RandomForestRegressor(n_estimators=100,\n",
    "                                              max_features='sqrt',\n",
    "                                              min_samples_split=4))\n",
    "\n",
    "# set the parameters for the gridsearch\n",
    "ada_params = {\n",
    "    'n_estimators': [40]\n",
    "}\n",
    "\n",
    "# build the gridsearch\n",
    "gs = GridSearchCV(ada, \n",
    "                  param_grid=ada_params, \n",
    "                  cv=3,\n",
    "                  verbose=1)\n",
    "\n",
    "# fit the gridsearch\n",
    "gs.fit(X_train_poly_df, y_train)\n",
    "print(gs.best_score_)\n",
    "gs.best_params_"
   ]
  },
  {
   "cell_type": "code",
   "execution_count": 154,
   "metadata": {},
   "outputs": [
    {
     "name": "stdout",
     "output_type": "stream",
     "text": [
      "MSE on predictions:\n",
      "training: 0.0056413051413186375.\n",
      "testing: 0.07234766095176837.\n",
      "\n",
      "R-squared score\n",
      "training: 0.9445222730763907.\n",
      "testing: 0.052459123748418324.\n"
     ]
    }
   ],
   "source": [
    "ada_pred = gs.predict(X_train_poly_df)\n",
    "print(\"MSE on predictions:\")\n",
    "print(f\"training: {mean_squared_error(y_train, ada_pred)}.\")\n",
    "ada_prediction = gs.predict(poly.transform(X_test))\n",
    "print(f\"testing: {mean_squared_error(y_test, ada_prediction)}.\")\n",
    "print()\n",
    "print(\"R-squared score\")\n",
    "print(f\"training: {gs.score(X_train_poly_df, y_train)}.\")\n",
    "print(f\"testing: {gs.score(poly.transform(X_test), y_test)}.\")"
   ]
  },
  {
   "cell_type": "markdown",
   "metadata": {},
   "source": [
    "<font color = blue> Not much change from including the `min_samples_split` parameter. </font>"
   ]
  },
  {
   "cell_type": "code",
   "execution_count": null,
   "metadata": {},
   "outputs": [],
   "source": []
  },
  {
   "cell_type": "code",
   "execution_count": null,
   "metadata": {},
   "outputs": [],
   "source": []
  },
  {
   "cell_type": "code",
   "execution_count": null,
   "metadata": {},
   "outputs": [],
   "source": []
  },
  {
   "cell_type": "code",
   "execution_count": null,
   "metadata": {},
   "outputs": [],
   "source": []
  },
  {
   "cell_type": "markdown",
   "metadata": {},
   "source": [
    "### Up to this point our models have been pretty high variance.  Let's try to bag some of this variance."
   ]
  },
  {
   "cell_type": "code",
   "execution_count": 155,
   "metadata": {},
   "outputs": [],
   "source": [
    "from sklearn.ensemble import BaggingRegressor"
   ]
  },
  {
   "cell_type": "code",
   "execution_count": 171,
   "metadata": {},
   "outputs": [
    {
     "name": "stdout",
     "output_type": "stream",
     "text": [
      "Fitting 3 folds for each of 3 candidates, totalling 9 fits\n"
     ]
    },
    {
     "name": "stderr",
     "output_type": "stream",
     "text": [
      "[Parallel(n_jobs=1)]: Using backend SequentialBackend with 1 concurrent workers.\n",
      "[Parallel(n_jobs=1)]: Done   9 out of   9 | elapsed:  1.9min finished\n"
     ]
    },
    {
     "name": "stdout",
     "output_type": "stream",
     "text": [
      "0.09275016667612324\n"
     ]
    },
    {
     "data": {
      "text/plain": [
       "{'n_estimators': 10}"
      ]
     },
     "execution_count": 171,
     "metadata": {},
     "output_type": "execute_result"
    }
   ],
   "source": [
    "bag = BaggingRegressor(base_estimator=RandomForestRegressor(n_estimators=100,\n",
    "                                              max_features='sqrt'))\n",
    "\n",
    "# set the parameters for the gridsearch\n",
    "bag_params = {\n",
    "    'n_estimators': [8, 10, 12]\n",
    "}\n",
    "\n",
    "# build the gridsearch\n",
    "gs = GridSearchCV(bag, \n",
    "                  param_grid=bag_params, \n",
    "                  cv=3,\n",
    "                  verbose=1)\n",
    "\n",
    "# fit the gridsearch\n",
    "gs.fit(X_train_poly_df, y_train)\n",
    "print(gs.best_score_)\n",
    "gs.best_params_"
   ]
  },
  {
   "cell_type": "code",
   "execution_count": 172,
   "metadata": {},
   "outputs": [
    {
     "name": "stdout",
     "output_type": "stream",
     "text": [
      "MSE on predictions:\n",
      "training: 0.033204888051514656.\n",
      "testing: 0.06772672610797582.\n",
      "\n",
      "R-squared score\n",
      "training: 0.6734564669514824.\n",
      "testing: 0.11297973482812694.\n"
     ]
    }
   ],
   "source": [
    "bag_pred = gs.predict(X_train_poly_df)\n",
    "print(\"MSE on predictions:\")\n",
    "print(f\"training: {mean_squared_error(y_train, bag_pred)}.\")\n",
    "bag_prediction = gs.predict(poly.transform(X_test))\n",
    "print(f\"testing: {mean_squared_error(y_test, bag_prediction)}.\")\n",
    "print()\n",
    "print(\"R-squared score\")\n",
    "print(f\"training: {gs.score(X_train_poly_df, y_train)}.\")\n",
    "print(f\"testing: {gs.score(poly.transform(X_test), y_test)}.\")"
   ]
  },
  {
   "cell_type": "code",
   "execution_count": null,
   "metadata": {},
   "outputs": [],
   "source": []
  },
  {
   "cell_type": "code",
   "execution_count": null,
   "metadata": {},
   "outputs": [],
   "source": []
  },
  {
   "cell_type": "code",
   "execution_count": null,
   "metadata": {},
   "outputs": [],
   "source": []
  },
  {
   "cell_type": "code",
   "execution_count": null,
   "metadata": {},
   "outputs": [],
   "source": []
  },
  {
   "cell_type": "code",
   "execution_count": 173,
   "metadata": {},
   "outputs": [
    {
     "name": "stdout",
     "output_type": "stream",
     "text": [
      "Fitting 3 folds for each of 3 candidates, totalling 9 fits\n"
     ]
    },
    {
     "name": "stderr",
     "output_type": "stream",
     "text": [
      "[Parallel(n_jobs=1)]: Using backend SequentialBackend with 1 concurrent workers.\n",
      "[Parallel(n_jobs=1)]: Done   9 out of   9 | elapsed:  3.9min finished\n"
     ]
    },
    {
     "name": "stdout",
     "output_type": "stream",
     "text": [
      "0.09433580376851548\n"
     ]
    },
    {
     "data": {
      "text/plain": [
       "{'n_estimators': 30}"
      ]
     },
     "execution_count": 173,
     "metadata": {},
     "output_type": "execute_result"
    }
   ],
   "source": [
    "bag = BaggingRegressor(base_estimator=RandomForestRegressor(n_estimators=100,\n",
    "                                              max_features='sqrt'))\n",
    "\n",
    "# set the parameters for the gridsearch\n",
    "bag_params = {\n",
    "    'n_estimators': [10, 20, 30]\n",
    "}\n",
    "\n",
    "# build the gridsearch\n",
    "gs = GridSearchCV(bag, \n",
    "                  param_grid=bag_params, \n",
    "                  cv=3,\n",
    "                  verbose=1)\n",
    "\n",
    "# fit the gridsearch\n",
    "gs.fit(X_train_poly_df, y_train)\n",
    "print(gs.best_score_)\n",
    "gs.best_params_"
   ]
  },
  {
   "cell_type": "code",
   "execution_count": 174,
   "metadata": {},
   "outputs": [
    {
     "name": "stdout",
     "output_type": "stream",
     "text": [
      "MSE on predictions:\n",
      "training: 0.03350757331198245.\n",
      "testing: 0.06689167463662005.\n",
      "\n",
      "R-squared score\n",
      "training: 0.670479799353581.\n",
      "testing: 0.12391644504756326.\n"
     ]
    }
   ],
   "source": [
    "bag_pred = gs.predict(X_train_poly_df)\n",
    "print(\"MSE on predictions:\")\n",
    "print(f\"training: {mean_squared_error(y_train, bag_pred)}.\")\n",
    "bag_prediction = gs.predict(poly.transform(X_test))\n",
    "print(f\"testing: {mean_squared_error(y_test, bag_prediction)}.\")\n",
    "print()\n",
    "print(\"R-squared score\")\n",
    "print(f\"training: {gs.score(X_train_poly_df, y_train)}.\")\n",
    "print(f\"testing: {gs.score(poly.transform(X_test), y_test)}.\")"
   ]
  },
  {
   "cell_type": "code",
   "execution_count": null,
   "metadata": {},
   "outputs": [],
   "source": []
  },
  {
   "cell_type": "code",
   "execution_count": null,
   "metadata": {},
   "outputs": [],
   "source": []
  },
  {
   "cell_type": "code",
   "execution_count": null,
   "metadata": {},
   "outputs": [],
   "source": []
  },
  {
   "cell_type": "code",
   "execution_count": null,
   "metadata": {},
   "outputs": [],
   "source": []
  },
  {
   "cell_type": "markdown",
   "metadata": {},
   "source": [
    "### Now, let's try a neural network, just to see what happens."
   ]
  },
  {
   "cell_type": "code",
   "execution_count": 356,
   "metadata": {},
   "outputs": [],
   "source": [
    "from keras.models import Sequential\n",
    "from keras.layers import Dense\n",
    "from keras import regularizers\n",
    "\n",
    "from sklearn.metrics import r2_score"
   ]
  },
  {
   "cell_type": "code",
   "execution_count": 360,
   "metadata": {},
   "outputs": [
    {
     "name": "stdout",
     "output_type": "stream",
     "text": [
      "Train on 5942 samples, validate on 1981 samples\n",
      "Epoch 1/10\n",
      "5942/5942 [==============================] - 4s 722us/step - loss: 163.6769 - val_loss: 5.2567\n",
      "Epoch 2/10\n",
      "5942/5942 [==============================] - 3s 428us/step - loss: 23.3756 - val_loss: 2112.5542\n",
      "Epoch 3/10\n",
      "5942/5942 [==============================] - 2s 396us/step - loss: 30.7167 - val_loss: 3.4116\n",
      "Epoch 4/10\n",
      "5942/5942 [==============================] - 2s 374us/step - loss: 4.1167 - val_loss: 17.5201\n",
      "Epoch 5/10\n",
      "5942/5942 [==============================] - 2s 362us/step - loss: 11.0800 - val_loss: 8.3932\n",
      "Epoch 6/10\n",
      "5942/5942 [==============================] - 2s 407us/step - loss: 2.6357 - val_loss: 5.8438\n",
      "Epoch 7/10\n",
      "5942/5942 [==============================] - 3s 422us/step - loss: 2.6237 - val_loss: 1.7707\n",
      "Epoch 8/10\n",
      "5942/5942 [==============================] - 3s 433us/step - loss: 15.6837 - val_loss: 1.5862\n",
      "Epoch 9/10\n",
      "5942/5942 [==============================] - 3s 473us/step - loss: 1.7818 - val_loss: 1.2998\n",
      "Epoch 10/10\n",
      "5942/5942 [==============================] - 3s 484us/step - loss: 2.2954 - val_loss: 1.2121\n"
     ]
    },
    {
     "data": {
      "text/plain": [
       "<keras.callbacks.History at 0x13dfec3c8>"
      ]
     },
     "execution_count": 360,
     "metadata": {},
     "output_type": "execute_result"
    }
   ],
   "source": [
    "model = Sequential()\n",
    "\n",
    "model.add(Dense(128,\n",
    "                activation='relu',\n",
    "                input_shape=(120,),\n",
    "                kernel_regularizer=regularizers.l2(0.01)))\n",
    "\n",
    "model.add(Dense(64,\n",
    "                activation='relu',\n",
    "                kernel_regularizer=regularizers.l2(0.01)))\n",
    "\n",
    "model.add(Dense(32,\n",
    "                activation='relu',\n",
    "                kernel_regularizer=regularizers.l2(0.01)))\n",
    "\n",
    "model.add(Dense(16,\n",
    "                activation='relu',\n",
    "                kernel_regularizer=regularizers.l2(0.01)))\n",
    "\n",
    "model.add(Dense(1,\n",
    "                kernel_regularizer=regularizers.l2(0.01)))\n",
    "\n",
    "model.compile(loss='mean_squared_error', \n",
    "              optimizer='adam')\n",
    "\n",
    "model.fit(X_train_poly_df, y_train, validation_data=(poly.transform(X_test), y_test), epochs=10, batch_size=8)"
   ]
  },
  {
   "cell_type": "code",
   "execution_count": 361,
   "metadata": {},
   "outputs": [
    {
     "data": {
      "image/png": "[encoded data removed]",
      "text/plain": [
       "<Figure size 432x288 with 1 Axes>"
      ]
     },
     "metadata": {
      "needs_background": "light"
     },
     "output_type": "display_data"
    }
   ],
   "source": [
    "plt.plot(model.history.history['loss'], label='Train loss')\n",
    "plt.plot(model.history.history['val_loss'], label='Test loss')\n",
    "plt.legend();"
   ]
  },
  {
   "cell_type": "code",
   "execution_count": 362,
   "metadata": {},
   "outputs": [
    {
     "name": "stdout",
     "output_type": "stream",
     "text": [
      "(5942, 2)\n"
     ]
    },
    {
     "data": {
      "text/html": [
       "<div>\n",
       "<style scoped>\n",
       "    .dataframe tbody tr th:only-of-type {\n",
       "        vertical-align: middle;\n",
       "    }\n",
       "\n",
       "    .dataframe tbody tr th {\n",
       "        vertical-align: top;\n",
       "    }\n",
       "\n",
       "    .dataframe thead th {\n",
       "        text-align: right;\n",
       "    }\n",
       "</style>\n",
       "<table border=\"1\" class=\"dataframe\">\n",
       "  <thead>\n",
       "    <tr style=\"text-align: right;\">\n",
       "      <th></th>\n",
       "      <th>item</th>\n",
       "      <th>predictions</th>\n",
       "    </tr>\n",
       "  </thead>\n",
       "  <tbody>\n",
       "    <tr>\n",
       "      <th>0</th>\n",
       "      <td>0</td>\n",
       "      <td>0.095289</td>\n",
       "    </tr>\n",
       "    <tr>\n",
       "      <th>1</th>\n",
       "      <td>1</td>\n",
       "      <td>-0.104788</td>\n",
       "    </tr>\n",
       "    <tr>\n",
       "      <th>2</th>\n",
       "      <td>2</td>\n",
       "      <td>0.354588</td>\n",
       "    </tr>\n",
       "    <tr>\n",
       "      <th>3</th>\n",
       "      <td>3</td>\n",
       "      <td>-0.007420</td>\n",
       "    </tr>\n",
       "    <tr>\n",
       "      <th>4</th>\n",
       "      <td>4</td>\n",
       "      <td>0.148909</td>\n",
       "    </tr>\n",
       "  </tbody>\n",
       "</table>\n",
       "</div>"
      ],
      "text/plain": [
       "   item  predictions\n",
       "0     0     0.095289\n",
       "1     1    -0.104788\n",
       "2     2     0.354588\n",
       "3     3    -0.007420\n",
       "4     4     0.148909"
      ]
     },
     "execution_count": 362,
     "metadata": {},
     "output_type": "execute_result"
    }
   ],
   "source": [
    "ffnn_pred = model.predict(X_train_poly_df)\n",
    "\n",
    "ffnn_pred_dict = {\n",
    "    'item': [num for num in range(len(ffnn_pred))],\n",
    "    'predictions': [ffnn_pred[num][0] for num in [num for num in range(len(ffnn_pred))]]\n",
    "}\n",
    "\n",
    "ffnn_pred_df = pd.DataFrame(ffnn_pred_dict)\n",
    "print(ffnn_pred_df.shape)\n",
    "ffnn_pred_df.head()"
   ]
  },
  {
   "cell_type": "code",
   "execution_count": 363,
   "metadata": {},
   "outputs": [
    {
     "data": {
      "text/plain": [
       "0.15595847232749618"
      ]
     },
     "execution_count": 363,
     "metadata": {},
     "output_type": "execute_result"
    }
   ],
   "source": [
    "mean_squared_error(y_train, ffnn_pred_df['predictions'])"
   ]
  },
  {
   "cell_type": "code",
   "execution_count": 364,
   "metadata": {},
   "outputs": [
    {
     "data": {
      "text/plain": [
       "-0.33472005287531004"
      ]
     },
     "execution_count": 364,
     "metadata": {},
     "output_type": "execute_result"
    }
   ],
   "source": [
    "r2_score(y_train, ffnn_pred_df['predictions'])"
   ]
  },
  {
   "cell_type": "code",
   "execution_count": 365,
   "metadata": {},
   "outputs": [
    {
     "name": "stdout",
     "output_type": "stream",
     "text": [
      "(1981, 2)\n"
     ]
    },
    {
     "data": {
      "text/html": [
       "<div>\n",
       "<style scoped>\n",
       "    .dataframe tbody tr th:only-of-type {\n",
       "        vertical-align: middle;\n",
       "    }\n",
       "\n",
       "    .dataframe tbody tr th {\n",
       "        vertical-align: top;\n",
       "    }\n",
       "\n",
       "    .dataframe thead th {\n",
       "        text-align: right;\n",
       "    }\n",
       "</style>\n",
       "<table border=\"1\" class=\"dataframe\">\n",
       "  <thead>\n",
       "    <tr style=\"text-align: right;\">\n",
       "      <th></th>\n",
       "      <th>item</th>\n",
       "      <th>predictions</th>\n",
       "    </tr>\n",
       "  </thead>\n",
       "  <tbody>\n",
       "    <tr>\n",
       "      <th>0</th>\n",
       "      <td>0</td>\n",
       "      <td>-0.118483</td>\n",
       "    </tr>\n",
       "    <tr>\n",
       "      <th>1</th>\n",
       "      <td>1</td>\n",
       "      <td>-0.057721</td>\n",
       "    </tr>\n",
       "    <tr>\n",
       "      <th>2</th>\n",
       "      <td>2</td>\n",
       "      <td>-0.003220</td>\n",
       "    </tr>\n",
       "    <tr>\n",
       "      <th>3</th>\n",
       "      <td>3</td>\n",
       "      <td>0.072557</td>\n",
       "    </tr>\n",
       "    <tr>\n",
       "      <th>4</th>\n",
       "      <td>4</td>\n",
       "      <td>0.453739</td>\n",
       "    </tr>\n",
       "  </tbody>\n",
       "</table>\n",
       "</div>"
      ],
      "text/plain": [
       "   item  predictions\n",
       "0     0    -0.118483\n",
       "1     1    -0.057721\n",
       "2     2    -0.003220\n",
       "3     3     0.072557\n",
       "4     4     0.453739"
      ]
     },
     "execution_count": 365,
     "metadata": {},
     "output_type": "execute_result"
    }
   ],
   "source": [
    "ffnn_pred = model.predict(poly.transform(X_test))\n",
    "\n",
    "ffnn_pred_dict = {\n",
    "    'item': [num for num in range(len(ffnn_pred))],\n",
    "    'predictions': [ffnn_pred[num][0] for num in [num for num in range(len(ffnn_pred))]]\n",
    "}\n",
    "\n",
    "ffnn_pred_df = pd.DataFrame(ffnn_pred_dict)\n",
    "print(ffnn_pred_df.shape)\n",
    "ffnn_pred_df.head()"
   ]
  },
  {
   "cell_type": "code",
   "execution_count": 366,
   "metadata": {},
   "outputs": [
    {
     "data": {
      "text/plain": [
       "0.13166303385796432"
      ]
     },
     "execution_count": 366,
     "metadata": {},
     "output_type": "execute_result"
    }
   ],
   "source": [
    "mean_squared_error(y_test, ffnn_pred_df['predictions'])"
   ]
  },
  {
   "cell_type": "code",
   "execution_count": 367,
   "metadata": {},
   "outputs": [
    {
     "data": {
      "text/plain": [
       "-0.6455531647310391"
      ]
     },
     "execution_count": 367,
     "metadata": {},
     "output_type": "execute_result"
    }
   ],
   "source": [
    "r2_score(y_test, ffnn_pred_df['predictions'])"
   ]
  },
  {
   "cell_type": "code",
   "execution_count": null,
   "metadata": {},
   "outputs": [],
   "source": []
  },
  {
   "cell_type": "code",
   "execution_count": null,
   "metadata": {},
   "outputs": [],
   "source": []
  },
  {
   "cell_type": "code",
   "execution_count": null,
   "metadata": {},
   "outputs": [],
   "source": []
  },
  {
   "cell_type": "code",
   "execution_count": null,
   "metadata": {},
   "outputs": [],
   "source": []
  },
  {
   "cell_type": "code",
   "execution_count": 482,
   "metadata": {},
   "outputs": [
    {
     "name": "stdout",
     "output_type": "stream",
     "text": [
      "Train on 5942 samples, validate on 1981 samples\n",
      "Epoch 1/10\n",
      "5942/5942 [==============================] - 6s 1ms/step - loss: 275.6491 - val_loss: 13.7153\n",
      "Epoch 2/10\n",
      "5942/5942 [==============================] - 3s 464us/step - loss: 13.5172 - val_loss: 11.2210\n",
      "Epoch 3/10\n",
      "5942/5942 [==============================] - 3s 488us/step - loss: 29.4635 - val_loss: 4.8262\n",
      "Epoch 4/10\n",
      "5942/5942 [==============================] - 3s 466us/step - loss: 33.6741 - val_loss: 3.5455\n",
      "Epoch 5/10\n",
      "5942/5942 [==============================] - 3s 466us/step - loss: 8.4792 - val_loss: 3.1086\n",
      "Epoch 6/10\n",
      "5942/5942 [==============================] - 3s 489us/step - loss: 3.4504 - val_loss: 2.3160\n",
      "Epoch 7/10\n",
      "5942/5942 [==============================] - 3s 513us/step - loss: 12.8952 - val_loss: 2.6772\n",
      "Epoch 8/10\n",
      "5942/5942 [==============================] - 3s 512us/step - loss: 4.6896 - val_loss: 3.3987\n",
      "Epoch 9/10\n",
      "5942/5942 [==============================] - 3s 531us/step - loss: 3.2340 - val_loss: 1.5862\n",
      "Epoch 10/10\n",
      "5942/5942 [==============================] - 3s 560us/step - loss: 2.1497 - val_loss: 1.8308\n"
     ]
    },
    {
     "data": {
      "text/plain": [
       "<keras.callbacks.History at 0x19e073080>"
      ]
     },
     "execution_count": 482,
     "metadata": {},
     "output_type": "execute_result"
    }
   ],
   "source": [
    "model = Sequential()\n",
    "\n",
    "model.add(Dense(128,\n",
    "                activation='relu',\n",
    "                input_shape=(120,),\n",
    "                kernel_regularizer=regularizers.l2(0.01)))\n",
    "\n",
    "model.add(Dense(64,\n",
    "                activation='relu',\n",
    "                kernel_regularizer=regularizers.l2(0.01)))\n",
    "\n",
    "model.add(Dense(32,\n",
    "                activation='relu',\n",
    "                kernel_regularizer=regularizers.l2(0.01)))\n",
    "\n",
    "model.add(Dense(16,\n",
    "                activation='relu',\n",
    "                kernel_regularizer=regularizers.l2(0.01)))\n",
    "\n",
    "model.add(Dense(1,\n",
    "                kernel_regularizer=regularizers.l2(0.01)))\n",
    "\n",
    "model.compile(loss='mean_squared_error', \n",
    "              optimizer='adam')\n",
    "\n",
    "model.fit(X_train_poly_df, y_train, validation_data=(poly.transform(X_test), y_test), epochs=10, batch_size=8)"
   ]
  },
  {
   "cell_type": "code",
   "execution_count": 483,
   "metadata": {},
   "outputs": [
    {
     "data": {
      "image/png": "[encoded data removed]",
      "text/plain": [
       "<Figure size 432x288 with 1 Axes>"
      ]
     },
     "metadata": {
      "needs_background": "light"
     },
     "output_type": "display_data"
    }
   ],
   "source": [
    "plt.plot(model.history.history['loss'], label='Train loss')\n",
    "plt.plot(model.history.history['val_loss'], label='Test loss')\n",
    "plt.legend();"
   ]
  },
  {
   "cell_type": "code",
   "execution_count": 484,
   "metadata": {},
   "outputs": [
    {
     "name": "stdout",
     "output_type": "stream",
     "text": [
      "(5942, 2)\n"
     ]
    },
    {
     "data": {
      "text/html": [
       "<div>\n",
       "<style scoped>\n",
       "    .dataframe tbody tr th:only-of-type {\n",
       "        vertical-align: middle;\n",
       "    }\n",
       "\n",
       "    .dataframe tbody tr th {\n",
       "        vertical-align: top;\n",
       "    }\n",
       "\n",
       "    .dataframe thead th {\n",
       "        text-align: right;\n",
       "    }\n",
       "</style>\n",
       "<table border=\"1\" class=\"dataframe\">\n",
       "  <thead>\n",
       "    <tr style=\"text-align: right;\">\n",
       "      <th></th>\n",
       "      <th>item</th>\n",
       "      <th>predictions</th>\n",
       "    </tr>\n",
       "  </thead>\n",
       "  <tbody>\n",
       "    <tr>\n",
       "      <th>0</th>\n",
       "      <td>0</td>\n",
       "      <td>-0.288395</td>\n",
       "    </tr>\n",
       "    <tr>\n",
       "      <th>1</th>\n",
       "      <td>1</td>\n",
       "      <td>-0.014078</td>\n",
       "    </tr>\n",
       "    <tr>\n",
       "      <th>2</th>\n",
       "      <td>2</td>\n",
       "      <td>0.407560</td>\n",
       "    </tr>\n",
       "    <tr>\n",
       "      <th>3</th>\n",
       "      <td>3</td>\n",
       "      <td>1.071213</td>\n",
       "    </tr>\n",
       "    <tr>\n",
       "      <th>4</th>\n",
       "      <td>4</td>\n",
       "      <td>0.710559</td>\n",
       "    </tr>\n",
       "  </tbody>\n",
       "</table>\n",
       "</div>"
      ],
      "text/plain": [
       "   item  predictions\n",
       "0     0    -0.288395\n",
       "1     1    -0.014078\n",
       "2     2     0.407560\n",
       "3     3     1.071213\n",
       "4     4     0.710559"
      ]
     },
     "execution_count": 484,
     "metadata": {},
     "output_type": "execute_result"
    }
   ],
   "source": [
    "ffnn_pred = model.predict(X_train_poly_df)\n",
    "\n",
    "ffnn_pred_dict = {\n",
    "    'item': [num for num in range(len(ffnn_pred))],\n",
    "    'predictions': [ffnn_pred[num][0] for num in [num for num in range(len(ffnn_pred))]]\n",
    "}\n",
    "\n",
    "ffnn_pred_df = pd.DataFrame(ffnn_pred_dict)\n",
    "print(ffnn_pred_df.shape)\n",
    "ffnn_pred_df.head()"
   ]
  },
  {
   "cell_type": "code",
   "execution_count": 485,
   "metadata": {},
   "outputs": [
    {
     "data": {
      "text/plain": [
       "0.5095604597866484"
      ]
     },
     "execution_count": 485,
     "metadata": {},
     "output_type": "execute_result"
    }
   ],
   "source": [
    "mean_squared_error(y_train, ffnn_pred_df['predictions'])"
   ]
  },
  {
   "cell_type": "code",
   "execution_count": 486,
   "metadata": {},
   "outputs": [
    {
     "data": {
      "text/plain": [
       "-3.721538879151339"
      ]
     },
     "execution_count": 486,
     "metadata": {},
     "output_type": "execute_result"
    }
   ],
   "source": [
    "r2_score(y_train, ffnn_pred_df['predictions'])"
   ]
  },
  {
   "cell_type": "code",
   "execution_count": 487,
   "metadata": {},
   "outputs": [
    {
     "name": "stdout",
     "output_type": "stream",
     "text": [
      "(1981, 2)\n"
     ]
    },
    {
     "data": {
      "text/html": [
       "<div>\n",
       "<style scoped>\n",
       "    .dataframe tbody tr th:only-of-type {\n",
       "        vertical-align: middle;\n",
       "    }\n",
       "\n",
       "    .dataframe tbody tr th {\n",
       "        vertical-align: top;\n",
       "    }\n",
       "\n",
       "    .dataframe thead th {\n",
       "        text-align: right;\n",
       "    }\n",
       "</style>\n",
       "<table border=\"1\" class=\"dataframe\">\n",
       "  <thead>\n",
       "    <tr style=\"text-align: right;\">\n",
       "      <th></th>\n",
       "      <th>item</th>\n",
       "      <th>predictions</th>\n",
       "    </tr>\n",
       "  </thead>\n",
       "  <tbody>\n",
       "    <tr>\n",
       "      <th>0</th>\n",
       "      <td>0</td>\n",
       "      <td>0.823540</td>\n",
       "    </tr>\n",
       "    <tr>\n",
       "      <th>1</th>\n",
       "      <td>1</td>\n",
       "      <td>0.295280</td>\n",
       "    </tr>\n",
       "    <tr>\n",
       "      <th>2</th>\n",
       "      <td>2</td>\n",
       "      <td>0.210594</td>\n",
       "    </tr>\n",
       "    <tr>\n",
       "      <th>3</th>\n",
       "      <td>3</td>\n",
       "      <td>-0.032749</td>\n",
       "    </tr>\n",
       "    <tr>\n",
       "      <th>4</th>\n",
       "      <td>4</td>\n",
       "      <td>-0.405081</td>\n",
       "    </tr>\n",
       "  </tbody>\n",
       "</table>\n",
       "</div>"
      ],
      "text/plain": [
       "   item  predictions\n",
       "0     0     0.823540\n",
       "1     1     0.295280\n",
       "2     2     0.210594\n",
       "3     3    -0.032749\n",
       "4     4    -0.405081"
      ]
     },
     "execution_count": 487,
     "metadata": {},
     "output_type": "execute_result"
    }
   ],
   "source": [
    "ffnn_pred = model.predict(poly.transform(X_test))\n",
    "\n",
    "ffnn_pred_dict = {\n",
    "    'item': [num for num in range(len(ffnn_pred))],\n",
    "    'predictions': [ffnn_pred[num][0] for num in [num for num in range(len(ffnn_pred))]]\n",
    "}\n",
    "\n",
    "ffnn_pred_df = pd.DataFrame(ffnn_pred_dict)\n",
    "print(ffnn_pred_df.shape)\n",
    "ffnn_pred_df.head()"
   ]
  },
  {
   "cell_type": "code",
   "execution_count": 488,
   "metadata": {},
   "outputs": [
    {
     "data": {
      "text/plain": [
       "0.477399368469126"
      ]
     },
     "execution_count": 488,
     "metadata": {},
     "output_type": "execute_result"
    }
   ],
   "source": [
    "mean_squared_error(y_test, ffnn_pred_df['predictions'])"
   ]
  },
  {
   "cell_type": "code",
   "execution_count": 489,
   "metadata": {},
   "outputs": [
    {
     "data": {
      "text/plain": [
       "-5.781494205589388"
      ]
     },
     "execution_count": 489,
     "metadata": {},
     "output_type": "execute_result"
    }
   ],
   "source": [
    "r2_score(y_test, ffnn_pred_df['predictions'])"
   ]
  },
  {
   "cell_type": "code",
   "execution_count": null,
   "metadata": {},
   "outputs": [],
   "source": []
  },
  {
   "cell_type": "code",
   "execution_count": null,
   "metadata": {},
   "outputs": [],
   "source": []
  },
  {
   "cell_type": "code",
   "execution_count": null,
   "metadata": {},
   "outputs": [],
   "source": []
  },
  {
   "cell_type": "code",
   "execution_count": null,
   "metadata": {},
   "outputs": [],
   "source": []
  },
  {
   "cell_type": "code",
   "execution_count": 506,
   "metadata": {},
   "outputs": [
    {
     "name": "stdout",
     "output_type": "stream",
     "text": [
      "Train on 5942 samples, validate on 1981 samples\n",
      "Epoch 1/15\n",
      "5942/5942 [==============================] - 6s 1ms/step - loss: 243.5808 - val_loss: 6.9352\n",
      "Epoch 2/15\n",
      "5942/5942 [==============================] - 3s 492us/step - loss: 10.5225 - val_loss: 42.4723\n",
      "Epoch 3/15\n",
      "5942/5942 [==============================] - 3s 491us/step - loss: 8.0777 - val_loss: 2.5885\n",
      "Epoch 4/15\n",
      "5942/5942 [==============================] - 3s 481us/step - loss: 24.4448 - val_loss: 1.9427\n",
      "Epoch 5/15\n",
      "5942/5942 [==============================] - 3s 488us/step - loss: 1.9682 - val_loss: 1.7960\n",
      "Epoch 6/15\n",
      "5942/5942 [==============================] - 3s 492us/step - loss: 1.8750 - val_loss: 3.5974\n",
      "Epoch 7/15\n",
      "5942/5942 [==============================] - 3s 503us/step - loss: 2.0725 - val_loss: 1.6810\n",
      "Epoch 8/15\n",
      "5942/5942 [==============================] - 3s 519us/step - loss: 1.9055 - val_loss: 1.6617\n",
      "Epoch 9/15\n",
      "5942/5942 [==============================] - 3s 541us/step - loss: 3.8300 - val_loss: 1.3262\n",
      "Epoch 10/15\n",
      "5942/5942 [==============================] - 3s 549us/step - loss: 3.9484 - val_loss: 1.3770\n",
      "Epoch 11/15\n",
      "5942/5942 [==============================] - 3s 561us/step - loss: 1.2721 - val_loss: 1.2204\n",
      "Epoch 12/15\n",
      "5942/5942 [==============================] - 3s 575us/step - loss: 1.1991 - val_loss: 1.0732\n",
      "Epoch 13/15\n",
      "5942/5942 [==============================] - 3s 562us/step - loss: 1.1374 - val_loss: 1.6072\n",
      "Epoch 14/15\n",
      "5942/5942 [==============================] - 3s 567us/step - loss: 1.1213 - val_loss: 0.9763\n",
      "Epoch 15/15\n",
      "5942/5942 [==============================] - 4s 620us/step - loss: 1.0067 - val_loss: 1.0461\n"
     ]
    },
    {
     "data": {
      "text/plain": [
       "<keras.callbacks.History at 0x19f1d8ba8>"
      ]
     },
     "execution_count": 506,
     "metadata": {},
     "output_type": "execute_result"
    }
   ],
   "source": [
    "model = Sequential()\n",
    "\n",
    "model.add(Dense(128,\n",
    "                activation='relu',\n",
    "                input_shape=(120,),\n",
    "                kernel_regularizer=regularizers.l2(0.01)))\n",
    "\n",
    "model.add(Dense(64,\n",
    "                activation='relu',\n",
    "                kernel_regularizer=regularizers.l2(0.01)))\n",
    "\n",
    "model.add(Dense(32,\n",
    "                activation='relu',\n",
    "                kernel_regularizer=regularizers.l2(0.01)))\n",
    "\n",
    "model.add(Dense(16,\n",
    "                activation='relu',\n",
    "                kernel_regularizer=regularizers.l2(0.01)))\n",
    "\n",
    "model.add(Dense(1,\n",
    "                kernel_regularizer=regularizers.l2(0.01)))\n",
    "\n",
    "model.compile(loss='mean_squared_error', \n",
    "              optimizer='adam')\n",
    "\n",
    "model.fit(X_train_poly_df, y_train, validation_data=(poly.transform(X_test), y_test), epochs=15, batch_size=8)"
   ]
  },
  {
   "cell_type": "code",
   "execution_count": 507,
   "metadata": {},
   "outputs": [
    {
     "data": {
      "image/png": "[encoded data removed]",
      "text/plain": [
       "<Figure size 432x288 with 1 Axes>"
      ]
     },
     "metadata": {
      "needs_background": "light"
     },
     "output_type": "display_data"
    }
   ],
   "source": [
    "plt.plot(model.history.history['loss'], label='Train loss')\n",
    "plt.plot(model.history.history['val_loss'], label='Test loss')\n",
    "plt.xlim((1, 16))\n",
    "plt.ylim(0, 30)\n",
    "plt.legend();"
   ]
  },
  {
   "cell_type": "code",
   "execution_count": 508,
   "metadata": {},
   "outputs": [
    {
     "name": "stdout",
     "output_type": "stream",
     "text": [
      "(5942, 2)\n"
     ]
    },
    {
     "data": {
      "text/html": [
       "<div>\n",
       "<style scoped>\n",
       "    .dataframe tbody tr th:only-of-type {\n",
       "        vertical-align: middle;\n",
       "    }\n",
       "\n",
       "    .dataframe tbody tr th {\n",
       "        vertical-align: top;\n",
       "    }\n",
       "\n",
       "    .dataframe thead th {\n",
       "        text-align: right;\n",
       "    }\n",
       "</style>\n",
       "<table border=\"1\" class=\"dataframe\">\n",
       "  <thead>\n",
       "    <tr style=\"text-align: right;\">\n",
       "      <th></th>\n",
       "      <th>item</th>\n",
       "      <th>predictions</th>\n",
       "    </tr>\n",
       "  </thead>\n",
       "  <tbody>\n",
       "    <tr>\n",
       "      <th>0</th>\n",
       "      <td>0</td>\n",
       "      <td>0.780566</td>\n",
       "    </tr>\n",
       "    <tr>\n",
       "      <th>1</th>\n",
       "      <td>1</td>\n",
       "      <td>0.016580</td>\n",
       "    </tr>\n",
       "    <tr>\n",
       "      <th>2</th>\n",
       "      <td>2</td>\n",
       "      <td>0.188610</td>\n",
       "    </tr>\n",
       "    <tr>\n",
       "      <th>3</th>\n",
       "      <td>3</td>\n",
       "      <td>0.261966</td>\n",
       "    </tr>\n",
       "    <tr>\n",
       "      <th>4</th>\n",
       "      <td>4</td>\n",
       "      <td>0.129126</td>\n",
       "    </tr>\n",
       "  </tbody>\n",
       "</table>\n",
       "</div>"
      ],
      "text/plain": [
       "   item  predictions\n",
       "0     0     0.780566\n",
       "1     1     0.016580\n",
       "2     2     0.188610\n",
       "3     3     0.261966\n",
       "4     4     0.129126"
      ]
     },
     "execution_count": 508,
     "metadata": {},
     "output_type": "execute_result"
    }
   ],
   "source": [
    "ffnn_pred = model.predict(X_train_poly_df)\n",
    "\n",
    "ffnn_pred_dict = {\n",
    "    'item': [num for num in range(len(ffnn_pred))],\n",
    "    'predictions': [ffnn_pred[num][0] for num in [num for num in range(len(ffnn_pred))]]\n",
    "}\n",
    "\n",
    "ffnn_pred_df = pd.DataFrame(ffnn_pred_dict)\n",
    "print(ffnn_pred_df.shape)\n",
    "ffnn_pred_df.head()"
   ]
  },
  {
   "cell_type": "code",
   "execution_count": 509,
   "metadata": {},
   "outputs": [
    {
     "data": {
      "text/plain": [
       "0.25498288595654306"
      ]
     },
     "execution_count": 509,
     "metadata": {},
     "output_type": "execute_result"
    }
   ],
   "source": [
    "mean_squared_error(y_train, ffnn_pred_df['predictions'])"
   ]
  },
  {
   "cell_type": "code",
   "execution_count": 510,
   "metadata": {},
   "outputs": [
    {
     "data": {
      "text/plain": [
       "-1.1504073253822034"
      ]
     },
     "execution_count": 510,
     "metadata": {},
     "output_type": "execute_result"
    }
   ],
   "source": [
    "r2_score(y_train, ffnn_pred_df['predictions'])"
   ]
  },
  {
   "cell_type": "code",
   "execution_count": 511,
   "metadata": {},
   "outputs": [
    {
     "name": "stdout",
     "output_type": "stream",
     "text": [
      "(1981, 2)\n"
     ]
    },
    {
     "data": {
      "text/html": [
       "<div>\n",
       "<style scoped>\n",
       "    .dataframe tbody tr th:only-of-type {\n",
       "        vertical-align: middle;\n",
       "    }\n",
       "\n",
       "    .dataframe tbody tr th {\n",
       "        vertical-align: top;\n",
       "    }\n",
       "\n",
       "    .dataframe thead th {\n",
       "        text-align: right;\n",
       "    }\n",
       "</style>\n",
       "<table border=\"1\" class=\"dataframe\">\n",
       "  <thead>\n",
       "    <tr style=\"text-align: right;\">\n",
       "      <th></th>\n",
       "      <th>item</th>\n",
       "      <th>predictions</th>\n",
       "    </tr>\n",
       "  </thead>\n",
       "  <tbody>\n",
       "    <tr>\n",
       "      <th>0</th>\n",
       "      <td>0</td>\n",
       "      <td>0.157874</td>\n",
       "    </tr>\n",
       "    <tr>\n",
       "      <th>1</th>\n",
       "      <td>1</td>\n",
       "      <td>0.066224</td>\n",
       "    </tr>\n",
       "    <tr>\n",
       "      <th>2</th>\n",
       "      <td>2</td>\n",
       "      <td>0.306763</td>\n",
       "    </tr>\n",
       "    <tr>\n",
       "      <th>3</th>\n",
       "      <td>3</td>\n",
       "      <td>0.630421</td>\n",
       "    </tr>\n",
       "    <tr>\n",
       "      <th>4</th>\n",
       "      <td>4</td>\n",
       "      <td>0.250091</td>\n",
       "    </tr>\n",
       "  </tbody>\n",
       "</table>\n",
       "</div>"
      ],
      "text/plain": [
       "   item  predictions\n",
       "0     0     0.157874\n",
       "1     1     0.066224\n",
       "2     2     0.306763\n",
       "3     3     0.630421\n",
       "4     4     0.250091"
      ]
     },
     "execution_count": 511,
     "metadata": {},
     "output_type": "execute_result"
    }
   ],
   "source": [
    "ffnn_pred = model.predict(poly.transform(X_test))\n",
    "\n",
    "ffnn_pred_dict = {\n",
    "    'item': [num for num in range(len(ffnn_pred))],\n",
    "    'predictions': [ffnn_pred[num][0] for num in [num for num in range(len(ffnn_pred))]]\n",
    "}\n",
    "\n",
    "ffnn_pred_df = pd.DataFrame(ffnn_pred_dict)\n",
    "print(ffnn_pred_df.shape)\n",
    "ffnn_pred_df.head()"
   ]
  },
  {
   "cell_type": "code",
   "execution_count": 512,
   "metadata": {},
   "outputs": [
    {
     "data": {
      "text/plain": [
       "0.21598201918790333"
      ]
     },
     "execution_count": 512,
     "metadata": {},
     "output_type": "execute_result"
    }
   ],
   "source": [
    "mean_squared_error(y_test, ffnn_pred_df['predictions'])"
   ]
  },
  {
   "cell_type": "code",
   "execution_count": 513,
   "metadata": {},
   "outputs": [
    {
     "data": {
      "text/plain": [
       "-1.6095388397133066"
      ]
     },
     "execution_count": 513,
     "metadata": {},
     "output_type": "execute_result"
    }
   ],
   "source": [
    "r2_score(y_test, ffnn_pred_df['predictions'])"
   ]
  },
  {
   "cell_type": "code",
   "execution_count": null,
   "metadata": {},
   "outputs": [],
   "source": []
  },
  {
   "cell_type": "code",
   "execution_count": null,
   "metadata": {},
   "outputs": [],
   "source": []
  },
  {
   "cell_type": "code",
   "execution_count": null,
   "metadata": {},
   "outputs": [],
   "source": []
  },
  {
   "cell_type": "code",
   "execution_count": null,
   "metadata": {},
   "outputs": [],
   "source": []
  },
  {
   "cell_type": "code",
   "execution_count": null,
   "metadata": {},
   "outputs": [],
   "source": []
  }
 ],
 "metadata": {
  "kernelspec": {
   "display_name": "Python 3",
   "language": "python",
   "name": "python3"
  },
  "language_info": {
   "codemirror_mode": {
    "name": "ipython",
    "version": 3
   },
   "file_extension": ".py",
   "mimetype": "text/x-python",
   "name": "python",
   "nbconvert_exporter": "python",
   "pygments_lexer": "ipython3",
   "version": "3.6.8"
  }
 },
 "nbformat": 4,
 "nbformat_minor": 2
}
