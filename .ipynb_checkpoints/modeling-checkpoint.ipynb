{
 "cells": [
  {
   "cell_type": "code",
   "execution_count": 1,
   "metadata": {},
   "outputs": [],
   "source": [
    "import pandas as pd\n",
    "import numpy as np\n",
    "import matplotlib.pyplot as plt\n",
    "import seaborn as sns\n",
    "\n",
    "%matplotlib inline"
   ]
  },
  {
   "cell_type": "code",
   "execution_count": 2,
   "metadata": {},
   "outputs": [
    {
     "name": "stdout",
     "output_type": "stream",
     "text": [
      "(7923, 19)\n",
      "\n",
      "Index(['target', 'garden_didrain', 'ohare_didrain', 'tmpdiff', 'garden_prcp',\n",
      "       'garden_snfall', 'garden_sndpth', 'garden_maxtmp', 'garden_mintmp',\n",
      "       'garden_medtmp', 'garden_tobs', 'lake_temp', 'ohare_wspd', 'ohare_prcp',\n",
      "       'ohare_snfall', 'ohare_sndpth', 'ohare_maxtmp', 'ohare_mintmp',\n",
      "       'ohare_medtmp'],\n",
      "      dtype='object')\n",
      "\n",
      "target            float64\n",
      "garden_didrain      int64\n",
      "ohare_didrain       int64\n",
      "tmpdiff           float64\n",
      "garden_prcp       float64\n",
      "garden_snfall     float64\n",
      "garden_sndpth     float64\n",
      "garden_maxtmp     float64\n",
      "garden_mintmp     float64\n",
      "garden_medtmp     float64\n",
      "garden_tobs       float64\n",
      "lake_temp         float64\n",
      "ohare_wspd        float64\n",
      "ohare_prcp        float64\n",
      "ohare_snfall      float64\n",
      "ohare_sndpth      float64\n",
      "ohare_maxtmp        int64\n",
      "ohare_mintmp        int64\n",
      "ohare_medtmp      float64\n",
      "dtype: object\n"
     ]
    },
    {
     "data": {
      "text/html": [
       "<div>\n",
       "<style scoped>\n",
       "    .dataframe tbody tr th:only-of-type {\n",
       "        vertical-align: middle;\n",
       "    }\n",
       "\n",
       "    .dataframe tbody tr th {\n",
       "        vertical-align: top;\n",
       "    }\n",
       "\n",
       "    .dataframe thead th {\n",
       "        text-align: right;\n",
       "    }\n",
       "</style>\n",
       "<table border=\"1\" class=\"dataframe\">\n",
       "  <thead>\n",
       "    <tr style=\"text-align: right;\">\n",
       "      <th></th>\n",
       "      <th>target</th>\n",
       "      <th>garden_didrain</th>\n",
       "      <th>ohare_didrain</th>\n",
       "      <th>tmpdiff</th>\n",
       "      <th>garden_prcp</th>\n",
       "      <th>garden_snfall</th>\n",
       "      <th>garden_sndpth</th>\n",
       "      <th>garden_maxtmp</th>\n",
       "      <th>garden_mintmp</th>\n",
       "      <th>garden_medtmp</th>\n",
       "      <th>garden_tobs</th>\n",
       "      <th>lake_temp</th>\n",
       "      <th>ohare_wspd</th>\n",
       "      <th>ohare_prcp</th>\n",
       "      <th>ohare_snfall</th>\n",
       "      <th>ohare_sndpth</th>\n",
       "      <th>ohare_maxtmp</th>\n",
       "      <th>ohare_mintmp</th>\n",
       "      <th>ohare_medtmp</th>\n",
       "    </tr>\n",
       "  </thead>\n",
       "  <tbody>\n",
       "    <tr>\n",
       "      <th>0</th>\n",
       "      <td>0.09</td>\n",
       "      <td>1</td>\n",
       "      <td>1</td>\n",
       "      <td>9.5</td>\n",
       "      <td>0.11</td>\n",
       "      <td>1.5</td>\n",
       "      <td>3.0</td>\n",
       "      <td>36.0</td>\n",
       "      <td>21.0</td>\n",
       "      <td>28.5</td>\n",
       "      <td>24.0</td>\n",
       "      <td>5.02</td>\n",
       "      <td>16.11</td>\n",
       "      <td>0.02</td>\n",
       "      <td>0.2</td>\n",
       "      <td>1.0</td>\n",
       "      <td>27</td>\n",
       "      <td>11</td>\n",
       "      <td>19.0</td>\n",
       "    </tr>\n",
       "    <tr>\n",
       "      <th>1</th>\n",
       "      <td>0.00</td>\n",
       "      <td>0</td>\n",
       "      <td>0</td>\n",
       "      <td>1.0</td>\n",
       "      <td>0.00</td>\n",
       "      <td>0.0</td>\n",
       "      <td>1.0</td>\n",
       "      <td>24.0</td>\n",
       "      <td>7.0</td>\n",
       "      <td>15.5</td>\n",
       "      <td>12.0</td>\n",
       "      <td>4.95</td>\n",
       "      <td>14.09</td>\n",
       "      <td>0.00</td>\n",
       "      <td>0.0</td>\n",
       "      <td>1.0</td>\n",
       "      <td>21</td>\n",
       "      <td>8</td>\n",
       "      <td>14.5</td>\n",
       "    </tr>\n",
       "    <tr>\n",
       "      <th>2</th>\n",
       "      <td>0.00</td>\n",
       "      <td>0</td>\n",
       "      <td>0</td>\n",
       "      <td>7.0</td>\n",
       "      <td>0.00</td>\n",
       "      <td>0.0</td>\n",
       "      <td>1.0</td>\n",
       "      <td>25.0</td>\n",
       "      <td>10.0</td>\n",
       "      <td>17.5</td>\n",
       "      <td>11.0</td>\n",
       "      <td>0.20</td>\n",
       "      <td>12.53</td>\n",
       "      <td>0.00</td>\n",
       "      <td>0.0</td>\n",
       "      <td>1.0</td>\n",
       "      <td>18</td>\n",
       "      <td>3</td>\n",
       "      <td>10.5</td>\n",
       "    </tr>\n",
       "    <tr>\n",
       "      <th>3</th>\n",
       "      <td>0.00</td>\n",
       "      <td>0</td>\n",
       "      <td>0</td>\n",
       "      <td>5.5</td>\n",
       "      <td>0.00</td>\n",
       "      <td>0.0</td>\n",
       "      <td>1.0</td>\n",
       "      <td>18.0</td>\n",
       "      <td>-1.0</td>\n",
       "      <td>8.5</td>\n",
       "      <td>1.0</td>\n",
       "      <td>0.20</td>\n",
       "      <td>12.30</td>\n",
       "      <td>0.00</td>\n",
       "      <td>0.0</td>\n",
       "      <td>1.0</td>\n",
       "      <td>7</td>\n",
       "      <td>-1</td>\n",
       "      <td>3.0</td>\n",
       "    </tr>\n",
       "    <tr>\n",
       "      <th>4</th>\n",
       "      <td>0.00</td>\n",
       "      <td>0</td>\n",
       "      <td>0</td>\n",
       "      <td>6.5</td>\n",
       "      <td>0.00</td>\n",
       "      <td>0.0</td>\n",
       "      <td>1.0</td>\n",
       "      <td>6.0</td>\n",
       "      <td>-1.0</td>\n",
       "      <td>2.5</td>\n",
       "      <td>3.0</td>\n",
       "      <td>0.20</td>\n",
       "      <td>16.33</td>\n",
       "      <td>0.00</td>\n",
       "      <td>0.0</td>\n",
       "      <td>0.0</td>\n",
       "      <td>19</td>\n",
       "      <td>-1</td>\n",
       "      <td>9.0</td>\n",
       "    </tr>\n",
       "  </tbody>\n",
       "</table>\n",
       "</div>"
      ],
      "text/plain": [
       "   target  garden_didrain  ohare_didrain  tmpdiff  garden_prcp  garden_snfall  \\\n",
       "0    0.09               1              1      9.5         0.11            1.5   \n",
       "1    0.00               0              0      1.0         0.00            0.0   \n",
       "2    0.00               0              0      7.0         0.00            0.0   \n",
       "3    0.00               0              0      5.5         0.00            0.0   \n",
       "4    0.00               0              0      6.5         0.00            0.0   \n",
       "\n",
       "   garden_sndpth  garden_maxtmp  garden_mintmp  garden_medtmp  garden_tobs  \\\n",
       "0            3.0           36.0           21.0           28.5         24.0   \n",
       "1            1.0           24.0            7.0           15.5         12.0   \n",
       "2            1.0           25.0           10.0           17.5         11.0   \n",
       "3            1.0           18.0           -1.0            8.5          1.0   \n",
       "4            1.0            6.0           -1.0            2.5          3.0   \n",
       "\n",
       "   lake_temp  ohare_wspd  ohare_prcp  ohare_snfall  ohare_sndpth  \\\n",
       "0       5.02       16.11        0.02           0.2           1.0   \n",
       "1       4.95       14.09        0.00           0.0           1.0   \n",
       "2       0.20       12.53        0.00           0.0           1.0   \n",
       "3       0.20       12.30        0.00           0.0           1.0   \n",
       "4       0.20       16.33        0.00           0.0           0.0   \n",
       "\n",
       "   ohare_maxtmp  ohare_mintmp  ohare_medtmp  \n",
       "0            27            11          19.0  \n",
       "1            21             8          14.5  \n",
       "2            18             3          10.5  \n",
       "3             7            -1           3.0  \n",
       "4            19            -1           9.0  "
      ]
     },
     "execution_count": 2,
     "metadata": {},
     "output_type": "execute_result"
    }
   ],
   "source": [
    "# data = pd.read_csv('data/merged/garden_ohare_lake/jan011995_dec312018_uncorrelated_both_rain.csv')\n",
    "data = pd.read_csv('data/merged/garden_ohare_lake/jan011995_dec312018_uncorrelated_but_clean.csv')\n",
    "\n",
    "print(data.shape)\n",
    "print()\n",
    "print(data.columns)\n",
    "print()\n",
    "print(data.dtypes)\n",
    "data.head()"
   ]
  },
  {
   "cell_type": "code",
   "execution_count": 3,
   "metadata": {
    "scrolled": true
   },
   "outputs": [
    {
     "data": {
      "text/plain": [
       "<matplotlib.axes._subplots.AxesSubplot at 0x115322f28>"
      ]
     },
     "execution_count": 3,
     "metadata": {},
     "output_type": "execute_result"
    },
    {
     "data": {
      "image/png": "[encoded data removed]",
      "text/plain": [
       "<Figure size 432x288 with 1 Axes>"
      ]
     },
     "metadata": {
      "needs_background": "light"
     },
     "output_type": "display_data"
    }
   ],
   "source": [
    "sns.regplot(data.target, data.garden_prcp)"
   ]
  },
  {
   "cell_type": "code",
   "execution_count": 4,
   "metadata": {},
   "outputs": [
    {
     "data": {
      "text/plain": [
       "<matplotlib.axes._subplots.AxesSubplot at 0x10328f7b8>"
      ]
     },
     "execution_count": 4,
     "metadata": {},
     "output_type": "execute_result"
    },
    {
     "data": {
      "image/png": "[encoded data removed]",
      "text/plain": [
       "<Figure size 432x288 with 1 Axes>"
      ]
     },
     "metadata": {
      "needs_background": "light"
     },
     "output_type": "display_data"
    }
   ],
   "source": [
    "sns.scatterplot(data.target, data.garden_prcp)"
   ]
  },
  {
   "cell_type": "code",
   "execution_count": 5,
   "metadata": {},
   "outputs": [
    {
     "data": {
      "text/plain": [
       "<matplotlib.axes._subplots.AxesSubplot at 0x1155669b0>"
      ]
     },
     "execution_count": 5,
     "metadata": {},
     "output_type": "execute_result"
    },
    {
     "data": {
      "image/png": "[encoded data removed]",
      "text/plain": [
       "<Figure size 432x288 with 1 Axes>"
      ]
     },
     "metadata": {
      "needs_background": "light"
     },
     "output_type": "display_data"
    }
   ],
   "source": [
    "sns.scatterplot(data.target, data.ohare_prcp)"
   ]
  },
  {
   "cell_type": "code",
   "execution_count": 6,
   "metadata": {},
   "outputs": [
    {
     "data": {
      "text/plain": [
       "<matplotlib.axes._subplots.AxesSubplot at 0x115627208>"
      ]
     },
     "execution_count": 6,
     "metadata": {},
     "output_type": "execute_result"
    },
    {
     "data": {
      "image/png": "[encoded data removed]",
      "text/plain": [
       "<Figure size 432x288 with 1 Axes>"
      ]
     },
     "metadata": {
      "needs_background": "light"
     },
     "output_type": "display_data"
    }
   ],
   "source": [
    "sns.scatterplot(data.target, data.garden_medtmp, data.lake_temp)"
   ]
  },
  {
   "cell_type": "code",
   "execution_count": 7,
   "metadata": {},
   "outputs": [
    {
     "data": {
      "text/plain": [
       "<matplotlib.axes._subplots.AxesSubplot at 0x115bb2358>"
      ]
     },
     "execution_count": 7,
     "metadata": {},
     "output_type": "execute_result"
    },
    {
     "data": {
      "image/png": "[encoded data removed]",
      "text/plain": [
       "<Figure size 432x288 with 2 Axes>"
      ]
     },
     "metadata": {
      "needs_background": "light"
     },
     "output_type": "display_data"
    }
   ],
   "source": [
    "# this will generate a single column heatmap showing the correlations between the target and the remaining variables\n",
    "\n",
    "# need a dataframe called data and a column called 'status'\n",
    "corr = data.corr()\n",
    "corr_sort = corr.sort_values(by = ['target'], axis = 0, ascending=False)\n",
    "corr_sort\n",
    "sns.heatmap(corr_sort[['target']], annot=True, cmap='coolwarm')"
   ]
  },
  {
   "cell_type": "code",
   "execution_count": null,
   "metadata": {},
   "outputs": [],
   "source": []
  },
  {
   "cell_type": "code",
   "execution_count": 65,
   "metadata": {},
   "outputs": [],
   "source": [
    "# # Now, remove all of the unnecessary columns\n",
    "# data = data[['target', 'tmpdiff', 'garden_snfall', 'garden_sndpth', \n",
    "#       'lake_temp', 'ohare_wspd', 'ohare_snfall', 'ohare_sndpth']]\n",
    "\n",
    "# print(data.shape)\n",
    "# print()\n",
    "# print(data.columns)\n",
    "# print()\n",
    "# print(data.dtypes)\n",
    "# data.head()"
   ]
  },
  {
   "cell_type": "code",
   "execution_count": 11,
   "metadata": {},
   "outputs": [
    {
     "data": {
      "text/plain": [
       "Index(['target', 'garden_didrain', 'ohare_didrain', 'tmpdiff', 'garden_prcp',\n",
       "       'garden_snfall', 'garden_sndpth', 'garden_maxtmp', 'garden_mintmp',\n",
       "       'garden_medtmp', 'garden_tobs', 'lake_temp', 'ohare_wspd', 'ohare_prcp',\n",
       "       'ohare_snfall', 'ohare_sndpth', 'ohare_maxtmp', 'ohare_mintmp',\n",
       "       'ohare_medtmp'],\n",
       "      dtype='object')"
      ]
     },
     "execution_count": 11,
     "metadata": {},
     "output_type": "execute_result"
    }
   ],
   "source": [
    "data.columns"
   ]
  },
  {
   "cell_type": "code",
   "execution_count": 12,
   "metadata": {},
   "outputs": [
    {
     "name": "stdout",
     "output_type": "stream",
     "text": [
      "(7923, 15)\n",
      "\n",
      "Index(['target', 'tmpdiff', 'garden_snfall', 'garden_sndpth', 'garden_maxtmp',\n",
      "       'garden_mintmp', 'garden_medtmp', 'garden_tobs', 'lake_temp',\n",
      "       'ohare_wspd', 'ohare_snfall', 'ohare_sndpth', 'ohare_maxtmp',\n",
      "       'ohare_mintmp', 'ohare_medtmp'],\n",
      "      dtype='object')\n",
      "\n",
      "target           float64\n",
      "tmpdiff          float64\n",
      "garden_snfall    float64\n",
      "garden_sndpth    float64\n",
      "garden_maxtmp    float64\n",
      "garden_mintmp    float64\n",
      "garden_medtmp    float64\n",
      "garden_tobs      float64\n",
      "lake_temp        float64\n",
      "ohare_wspd       float64\n",
      "ohare_snfall     float64\n",
      "ohare_sndpth     float64\n",
      "ohare_maxtmp       int64\n",
      "ohare_mintmp       int64\n",
      "ohare_medtmp     float64\n",
      "dtype: object\n"
     ]
    },
    {
     "data": {
      "text/html": [
       "<div>\n",
       "<style scoped>\n",
       "    .dataframe tbody tr th:only-of-type {\n",
       "        vertical-align: middle;\n",
       "    }\n",
       "\n",
       "    .dataframe tbody tr th {\n",
       "        vertical-align: top;\n",
       "    }\n",
       "\n",
       "    .dataframe thead th {\n",
       "        text-align: right;\n",
       "    }\n",
       "</style>\n",
       "<table border=\"1\" class=\"dataframe\">\n",
       "  <thead>\n",
       "    <tr style=\"text-align: right;\">\n",
       "      <th></th>\n",
       "      <th>target</th>\n",
       "      <th>tmpdiff</th>\n",
       "      <th>garden_snfall</th>\n",
       "      <th>garden_sndpth</th>\n",
       "      <th>garden_maxtmp</th>\n",
       "      <th>garden_mintmp</th>\n",
       "      <th>garden_medtmp</th>\n",
       "      <th>garden_tobs</th>\n",
       "      <th>lake_temp</th>\n",
       "      <th>ohare_wspd</th>\n",
       "      <th>ohare_snfall</th>\n",
       "      <th>ohare_sndpth</th>\n",
       "      <th>ohare_maxtmp</th>\n",
       "      <th>ohare_mintmp</th>\n",
       "      <th>ohare_medtmp</th>\n",
       "    </tr>\n",
       "  </thead>\n",
       "  <tbody>\n",
       "    <tr>\n",
       "      <th>0</th>\n",
       "      <td>0.09</td>\n",
       "      <td>9.5</td>\n",
       "      <td>1.5</td>\n",
       "      <td>3.0</td>\n",
       "      <td>36.0</td>\n",
       "      <td>21.0</td>\n",
       "      <td>28.5</td>\n",
       "      <td>24.0</td>\n",
       "      <td>5.02</td>\n",
       "      <td>16.11</td>\n",
       "      <td>0.2</td>\n",
       "      <td>1.0</td>\n",
       "      <td>27</td>\n",
       "      <td>11</td>\n",
       "      <td>19.0</td>\n",
       "    </tr>\n",
       "    <tr>\n",
       "      <th>1</th>\n",
       "      <td>0.00</td>\n",
       "      <td>1.0</td>\n",
       "      <td>0.0</td>\n",
       "      <td>1.0</td>\n",
       "      <td>24.0</td>\n",
       "      <td>7.0</td>\n",
       "      <td>15.5</td>\n",
       "      <td>12.0</td>\n",
       "      <td>4.95</td>\n",
       "      <td>14.09</td>\n",
       "      <td>0.0</td>\n",
       "      <td>1.0</td>\n",
       "      <td>21</td>\n",
       "      <td>8</td>\n",
       "      <td>14.5</td>\n",
       "    </tr>\n",
       "    <tr>\n",
       "      <th>2</th>\n",
       "      <td>0.00</td>\n",
       "      <td>7.0</td>\n",
       "      <td>0.0</td>\n",
       "      <td>1.0</td>\n",
       "      <td>25.0</td>\n",
       "      <td>10.0</td>\n",
       "      <td>17.5</td>\n",
       "      <td>11.0</td>\n",
       "      <td>0.20</td>\n",
       "      <td>12.53</td>\n",
       "      <td>0.0</td>\n",
       "      <td>1.0</td>\n",
       "      <td>18</td>\n",
       "      <td>3</td>\n",
       "      <td>10.5</td>\n",
       "    </tr>\n",
       "    <tr>\n",
       "      <th>3</th>\n",
       "      <td>0.00</td>\n",
       "      <td>5.5</td>\n",
       "      <td>0.0</td>\n",
       "      <td>1.0</td>\n",
       "      <td>18.0</td>\n",
       "      <td>-1.0</td>\n",
       "      <td>8.5</td>\n",
       "      <td>1.0</td>\n",
       "      <td>0.20</td>\n",
       "      <td>12.30</td>\n",
       "      <td>0.0</td>\n",
       "      <td>1.0</td>\n",
       "      <td>7</td>\n",
       "      <td>-1</td>\n",
       "      <td>3.0</td>\n",
       "    </tr>\n",
       "    <tr>\n",
       "      <th>4</th>\n",
       "      <td>0.00</td>\n",
       "      <td>6.5</td>\n",
       "      <td>0.0</td>\n",
       "      <td>1.0</td>\n",
       "      <td>6.0</td>\n",
       "      <td>-1.0</td>\n",
       "      <td>2.5</td>\n",
       "      <td>3.0</td>\n",
       "      <td>0.20</td>\n",
       "      <td>16.33</td>\n",
       "      <td>0.0</td>\n",
       "      <td>0.0</td>\n",
       "      <td>19</td>\n",
       "      <td>-1</td>\n",
       "      <td>9.0</td>\n",
       "    </tr>\n",
       "  </tbody>\n",
       "</table>\n",
       "</div>"
      ],
      "text/plain": [
       "   target  tmpdiff  garden_snfall  garden_sndpth  garden_maxtmp  \\\n",
       "0    0.09      9.5            1.5            3.0           36.0   \n",
       "1    0.00      1.0            0.0            1.0           24.0   \n",
       "2    0.00      7.0            0.0            1.0           25.0   \n",
       "3    0.00      5.5            0.0            1.0           18.0   \n",
       "4    0.00      6.5            0.0            1.0            6.0   \n",
       "\n",
       "   garden_mintmp  garden_medtmp  garden_tobs  lake_temp  ohare_wspd  \\\n",
       "0           21.0           28.5         24.0       5.02       16.11   \n",
       "1            7.0           15.5         12.0       4.95       14.09   \n",
       "2           10.0           17.5         11.0       0.20       12.53   \n",
       "3           -1.0            8.5          1.0       0.20       12.30   \n",
       "4           -1.0            2.5          3.0       0.20       16.33   \n",
       "\n",
       "   ohare_snfall  ohare_sndpth  ohare_maxtmp  ohare_mintmp  ohare_medtmp  \n",
       "0           0.2           1.0            27            11          19.0  \n",
       "1           0.0           1.0            21             8          14.5  \n",
       "2           0.0           1.0            18             3          10.5  \n",
       "3           0.0           1.0             7            -1           3.0  \n",
       "4           0.0           0.0            19            -1           9.0  "
      ]
     },
     "execution_count": 12,
     "metadata": {},
     "output_type": "execute_result"
    }
   ],
   "source": [
    "# Now, remove all of the unnecessary columns\n",
    "data = data.drop(columns=['garden_didrain', 'ohare_didrain', 'garden_prcp', 'ohare_prcp'])\n",
    "\n",
    "print(data.shape)\n",
    "print()\n",
    "print(data.columns)\n",
    "print()\n",
    "print(data.dtypes)\n",
    "data.head()"
   ]
  },
  {
   "cell_type": "code",
   "execution_count": 13,
   "metadata": {},
   "outputs": [
    {
     "data": {
      "text/plain": [
       "<matplotlib.axes._subplots.AxesSubplot at 0x12136ce80>"
      ]
     },
     "execution_count": 13,
     "metadata": {},
     "output_type": "execute_result"
    },
    {
     "data": {
      "image/png": "[encoded data removed]",
      "text/plain": [
       "<Figure size 432x288 with 2 Axes>"
      ]
     },
     "metadata": {
      "needs_background": "light"
     },
     "output_type": "display_data"
    }
   ],
   "source": [
    "corr = data.corr()\n",
    "corr_sort = corr.sort_values(by = ['target'], axis = 0, ascending=False)\n",
    "corr_sort\n",
    "sns.heatmap(corr_sort[['target']], annot=True, cmap='coolwarm')"
   ]
  },
  {
   "cell_type": "code",
   "execution_count": 47,
   "metadata": {},
   "outputs": [],
   "source": [
    "from sklearn.preprocessing import StandardScaler, PolynomialFeatures\n",
    "from sklearn.pipeline import Pipeline\n",
    "\n",
    "from sklearn.model_selection import train_test_split, cross_val_score, GridSearchCV\n",
    "from sklearn.linear_model import LinearRegression, Ridge, Lasso\n",
    "from sklearn.ensemble import AdaBoostRegressor"
   ]
  },
  {
   "cell_type": "code",
   "execution_count": 15,
   "metadata": {},
   "outputs": [
    {
     "data": {
      "text/plain": [
       "(7923, 14)"
      ]
     },
     "execution_count": 15,
     "metadata": {},
     "output_type": "execute_result"
    }
   ],
   "source": [
    "X = data.drop(columns='target')\n",
    "y = data['target']\n",
    "\n",
    "X.shape"
   ]
  },
  {
   "cell_type": "code",
   "execution_count": null,
   "metadata": {},
   "outputs": [],
   "source": []
  },
  {
   "cell_type": "code",
   "execution_count": 16,
   "metadata": {},
   "outputs": [
    {
     "data": {
      "text/plain": [
       "0.0"
      ]
     },
     "execution_count": 16,
     "metadata": {},
     "output_type": "execute_result"
    }
   ],
   "source": [
    "y.min()"
   ]
  },
  {
   "cell_type": "code",
   "execution_count": 17,
   "metadata": {},
   "outputs": [
    {
     "data": {
      "text/plain": [
       "4.31"
      ]
     },
     "execution_count": 17,
     "metadata": {},
     "output_type": "execute_result"
    }
   ],
   "source": [
    "y.max()"
   ]
  },
  {
   "cell_type": "code",
   "execution_count": 18,
   "metadata": {},
   "outputs": [
    {
     "data": {
      "text/plain": [
       "0.00    4093\n",
       "0.01     401\n",
       "0.02     264\n",
       "0.03     222\n",
       "0.05     134\n",
       "0.04     127\n",
       "0.06     107\n",
       "0.07      87\n",
       "0.08      85\n",
       "0.11      77\n",
       "0.10      77\n",
       "0.12      74\n",
       "0.09      72\n",
       "0.13      70\n",
       "0.14      52\n",
       "0.20      51\n",
       "0.16      49\n",
       "0.19      46\n",
       "0.25      43\n",
       "0.15      40\n",
       "0.24      39\n",
       "0.23      35\n",
       "0.21      35\n",
       "0.18      34\n",
       "0.22      33\n",
       "0.34      32\n",
       "0.26      31\n",
       "0.31      30\n",
       "0.27      28\n",
       "0.17      25\n",
       "        ... \n",
       "1.79       1\n",
       "1.90       1\n",
       "0.07       1\n",
       "0.08       1\n",
       "3.59       1\n",
       "3.44       1\n",
       "0.61       1\n",
       "1.59       1\n",
       "0.10       1\n",
       "3.18       1\n",
       "0.25       1\n",
       "1.58       1\n",
       "0.53       1\n",
       "3.13       1\n",
       "0.13       1\n",
       "0.02       1\n",
       "0.99       1\n",
       "1.18       1\n",
       "3.20       1\n",
       "1.96       1\n",
       "0.72       1\n",
       "0.88       1\n",
       "1.05       1\n",
       "0.83       1\n",
       "1.91       1\n",
       "1.53       1\n",
       "0.64       1\n",
       "1.33       1\n",
       "1.92       1\n",
       "0.61       1\n",
       "Name: target, Length: 339, dtype: int64"
      ]
     },
     "execution_count": 18,
     "metadata": {},
     "output_type": "execute_result"
    }
   ],
   "source": [
    "y.value_counts()"
   ]
  },
  {
   "cell_type": "code",
   "execution_count": 19,
   "metadata": {},
   "outputs": [],
   "source": [
    "def MSE(Y, Yhat):\n",
    "    #calculate the difference between Y and Yhat\n",
    "    diff = Y - Yhat\n",
    "    # Square each element in diff\n",
    "    squared_diff = np.square(diff)\n",
    "    # Calculate the mean of squared_diff\n",
    "    mse = np.mean(squared_diff)\n",
    "    return mse"
   ]
  },
  {
   "cell_type": "code",
   "execution_count": 20,
   "metadata": {},
   "outputs": [],
   "source": [
    "# generate a linear model\n",
    "lm = LinearRegression()"
   ]
  },
  {
   "cell_type": "code",
   "execution_count": 21,
   "metadata": {},
   "outputs": [],
   "source": [
    "X_train, X_test, y_train, y_test = train_test_split(X, y, \n",
    "                                                    random_state=42)"
   ]
  },
  {
   "cell_type": "code",
   "execution_count": 22,
   "metadata": {},
   "outputs": [
    {
     "data": {
      "text/plain": [
       "LinearRegression(copy_X=True, fit_intercept=True, n_jobs=None,\n",
       "         normalize=False)"
      ]
     },
     "execution_count": 22,
     "metadata": {},
     "output_type": "execute_result"
    }
   ],
   "source": [
    "lm.fit(X_train, y_train)"
   ]
  },
  {
   "cell_type": "code",
   "execution_count": 23,
   "metadata": {},
   "outputs": [
    {
     "data": {
      "text/plain": [
       "array([ 0.13749012, -0.07643048,  0.18582996, ..., -0.05251232,\n",
       "        0.09391102,  0.00415119])"
      ]
     },
     "execution_count": 23,
     "metadata": {},
     "output_type": "execute_result"
    }
   ],
   "source": [
    "preds = lm.predict(X_train)\n",
    "preds"
   ]
  },
  {
   "cell_type": "code",
   "execution_count": null,
   "metadata": {},
   "outputs": [],
   "source": []
  },
  {
   "cell_type": "code",
   "execution_count": 24,
   "metadata": {},
   "outputs": [
    {
     "data": {
      "text/plain": [
       "0.09330136238880764"
      ]
     },
     "execution_count": 24,
     "metadata": {},
     "output_type": "execute_result"
    }
   ],
   "source": [
    "MSE(y_train, preds)"
   ]
  },
  {
   "cell_type": "code",
   "execution_count": 25,
   "metadata": {},
   "outputs": [
    {
     "data": {
      "text/plain": [
       "0.08245567744681348"
      ]
     },
     "execution_count": 25,
     "metadata": {},
     "output_type": "execute_result"
    }
   ],
   "source": [
    "lm.score(X_train, y_train)"
   ]
  },
  {
   "cell_type": "code",
   "execution_count": 26,
   "metadata": {},
   "outputs": [
    {
     "data": {
      "text/plain": [
       "0.1051645456010546"
      ]
     },
     "execution_count": 26,
     "metadata": {},
     "output_type": "execute_result"
    }
   ],
   "source": [
    "lm.score(X_test, y_test)"
   ]
  },
  {
   "cell_type": "code",
   "execution_count": 27,
   "metadata": {},
   "outputs": [
    {
     "data": {
      "text/plain": [
       "array([-0.03902355, -0.03044811,  0.10697254, ...,  0.20243152,\n",
       "        0.27030262,  0.19449695])"
      ]
     },
     "execution_count": 27,
     "metadata": {},
     "output_type": "execute_result"
    }
   ],
   "source": [
    "preds = lm.predict(X_test)\n",
    "preds"
   ]
  },
  {
   "cell_type": "code",
   "execution_count": 28,
   "metadata": {},
   "outputs": [
    {
     "data": {
      "text/plain": [
       "0.0683234398484013"
      ]
     },
     "execution_count": 28,
     "metadata": {},
     "output_type": "execute_result"
    }
   ],
   "source": [
    "MSE(y_test, preds)"
   ]
  },
  {
   "cell_type": "code",
   "execution_count": 29,
   "metadata": {},
   "outputs": [
    {
     "data": {
      "text/plain": [
       "0.07852580804819927"
      ]
     },
     "execution_count": 29,
     "metadata": {},
     "output_type": "execute_result"
    }
   ],
   "source": [
    "cross_val_score(lm, X_train, y_train, cv=3).mean()"
   ]
  },
  {
   "cell_type": "code",
   "execution_count": 30,
   "metadata": {},
   "outputs": [
    {
     "data": {
      "text/plain": [
       "-0.020102655750378673"
      ]
     },
     "execution_count": 30,
     "metadata": {},
     "output_type": "execute_result"
    }
   ],
   "source": [
    "lm.intercept_"
   ]
  },
  {
   "cell_type": "code",
   "execution_count": 31,
   "metadata": {},
   "outputs": [
    {
     "data": {
      "text/plain": [
       "array([ 5.46011325e-03,  4.02331235e-02, -2.60436379e-04,  8.18797520e+09,\n",
       "        8.18797520e+09, -1.63759504e+10, -6.76503823e-04, -3.80692969e-03,\n",
       "        7.16322668e-03,  1.76644316e-02,  3.36992250e-03, -4.20960542e+09,\n",
       "       -4.20960542e+09,  8.41921084e+09])"
      ]
     },
     "execution_count": 31,
     "metadata": {},
     "output_type": "execute_result"
    }
   ],
   "source": [
    "lm.coef_"
   ]
  },
  {
   "cell_type": "code",
   "execution_count": 32,
   "metadata": {},
   "outputs": [
    {
     "data": {
      "text/plain": [
       "Index(['tmpdiff', 'garden_snfall', 'garden_sndpth', 'garden_maxtmp',\n",
       "       'garden_mintmp', 'garden_medtmp', 'garden_tobs', 'lake_temp',\n",
       "       'ohare_wspd', 'ohare_snfall', 'ohare_sndpth', 'ohare_maxtmp',\n",
       "       'ohare_mintmp', 'ohare_medtmp'],\n",
       "      dtype='object')"
      ]
     },
     "execution_count": 32,
     "metadata": {},
     "output_type": "execute_result"
    }
   ],
   "source": [
    "X.columns"
   ]
  },
  {
   "cell_type": "markdown",
   "metadata": {},
   "source": [
    "## Let's gridsearch and include polynomial features"
   ]
  },
  {
   "cell_type": "code",
   "execution_count": 35,
   "metadata": {},
   "outputs": [
    {
     "name": "stdout",
     "output_type": "stream",
     "text": [
      "Fitting 3 folds for each of 5 candidates, totalling 15 fits\n"
     ]
    },
    {
     "name": "stderr",
     "output_type": "stream",
     "text": [
      "[Parallel(n_jobs=1)]: Using backend SequentialBackend with 1 concurrent workers.\n",
      "[Parallel(n_jobs=1)]: Done  15 out of  15 | elapsed:  3.7min finished\n",
      "/Users/blakewallace/anaconda3/lib/python3.6/site-packages/sklearn/model_selection/_search.py:841: DeprecationWarning: The default of the `iid` parameter will change from True to False in version 0.22 and will be removed in 0.24. This will change numeric results when test-set sizes are unequal.\n",
      "  DeprecationWarning)\n"
     ]
    },
    {
     "data": {
      "text/plain": [
       "GridSearchCV(cv=3, error_score='raise-deprecating',\n",
       "       estimator=Pipeline(memory=None,\n",
       "     steps=[('poly', PolynomialFeatures(degree=2, include_bias=True, interaction_only=False)), ('lr', LinearRegression(copy_X=True, fit_intercept=True, n_jobs=None,\n",
       "         normalize=False))]),\n",
       "       fit_params=None, iid='warn', n_jobs=None,\n",
       "       param_grid={'poly__degree': [1, 2, 3, 4, 5], 'poly__interaction_only': [False], 'poly__include_bias': [True]},\n",
       "       pre_dispatch='2*n_jobs', refit=True, return_train_score='warn',\n",
       "       scoring=None, verbose=1)"
      ]
     },
     "execution_count": 35,
     "metadata": {},
     "output_type": "execute_result"
    }
   ],
   "source": [
    "# train/test split\n",
    "X_train, X_test, y_train, y_test = train_test_split(X, y, random_state=42)\n",
    "\n",
    "\n",
    "# Pipeline\n",
    "pipe = Pipeline([\n",
    "    ('poly', PolynomialFeatures()),\n",
    "    ('lr', LinearRegression())\n",
    "])\n",
    "\n",
    "poly_params = {\n",
    "    'poly__degree': [1, 2, 3, 4, 5],\n",
    "    'poly__interaction_only':[False],\n",
    "    'poly__include_bias':[True]\n",
    "}\n",
    "\n",
    "gs_poly = GridSearchCV(\n",
    "                    pipe,\n",
    "                    param_grid=poly_params,\n",
    "                    cv=3,\n",
    "                    verbose=1\n",
    "                )\n",
    "\n",
    "gs_poly.fit(X_train, y_train)"
   ]
  },
  {
   "cell_type": "code",
   "execution_count": 36,
   "metadata": {},
   "outputs": [
    {
     "data": {
      "text/plain": [
       "{'poly__degree': 2,\n",
       " 'poly__include_bias': True,\n",
       " 'poly__interaction_only': False}"
      ]
     },
     "execution_count": 36,
     "metadata": {},
     "output_type": "execute_result"
    }
   ],
   "source": [
    "gs_poly.best_params_"
   ]
  },
  {
   "cell_type": "code",
   "execution_count": 37,
   "metadata": {},
   "outputs": [
    {
     "data": {
      "text/plain": [
       "0.09836865815627213"
      ]
     },
     "execution_count": 37,
     "metadata": {},
     "output_type": "execute_result"
    }
   ],
   "source": [
    "gs_poly.best_score_"
   ]
  },
  {
   "cell_type": "code",
   "execution_count": 39,
   "metadata": {},
   "outputs": [
    {
     "data": {
      "text/plain": [
       "0.12215572694908305"
      ]
     },
     "execution_count": 39,
     "metadata": {},
     "output_type": "execute_result"
    }
   ],
   "source": [
    "# training score\n",
    "gs_poly.score(X_train, y_train)"
   ]
  },
  {
   "cell_type": "code",
   "execution_count": 40,
   "metadata": {},
   "outputs": [
    {
     "data": {
      "text/plain": [
       "0.13288793431803958"
      ]
     },
     "execution_count": 40,
     "metadata": {},
     "output_type": "execute_result"
    }
   ],
   "source": [
    "# testing score\n",
    "gs_poly.score(X_test, y_test)"
   ]
  },
  {
   "cell_type": "markdown",
   "metadata": {},
   "source": [
    "### We are a bit over fit, and not accounting for much of the variance with our model thus far."
   ]
  },
  {
   "cell_type": "code",
   "execution_count": 43,
   "metadata": {},
   "outputs": [],
   "source": [
    "# predictions (training)\n",
    "train_predictions = gs_poly.predict(X_train)"
   ]
  },
  {
   "cell_type": "code",
   "execution_count": 44,
   "metadata": {},
   "outputs": [
    {
     "data": {
      "text/plain": [
       "0.08926442530095388"
      ]
     },
     "execution_count": 44,
     "metadata": {},
     "output_type": "execute_result"
    }
   ],
   "source": [
    "MSE(y_train, train_predictions)"
   ]
  },
  {
   "cell_type": "code",
   "execution_count": 45,
   "metadata": {},
   "outputs": [],
   "source": [
    "# predictions (testing)\n",
    "test_predictions = gs_poly.predict(X_test)"
   ]
  },
  {
   "cell_type": "code",
   "execution_count": 46,
   "metadata": {},
   "outputs": [
    {
     "data": {
      "text/plain": [
       "0.06620667383059617"
      ]
     },
     "execution_count": 46,
     "metadata": {},
     "output_type": "execute_result"
    }
   ],
   "source": [
    "MSE(y_test, test_predictions)"
   ]
  },
  {
   "cell_type": "markdown",
   "metadata": {},
   "source": [
    "### Since we have a weak learner, we will attempt to boost the score with an AdaBoost model."
   ]
  },
  {
   "cell_type": "code",
   "execution_count": 61,
   "metadata": {},
   "outputs": [],
   "source": [
    "poly = PolynomialFeatures(degree=2)"
   ]
  },
  {
   "cell_type": "code",
   "execution_count": 65,
   "metadata": {},
   "outputs": [],
   "source": [
    "X_train_poly_array = poly.fit_transform(X_train)"
   ]
  },
  {
   "cell_type": "code",
   "execution_count": 66,
   "metadata": {},
   "outputs": [
    {
     "name": "stdout",
     "output_type": "stream",
     "text": [
      "(5942, 120)\n"
     ]
    },
    {
     "data": {
      "text/html": [
       "<div>\n",
       "<style scoped>\n",
       "    .dataframe tbody tr th:only-of-type {\n",
       "        vertical-align: middle;\n",
       "    }\n",
       "\n",
       "    .dataframe tbody tr th {\n",
       "        vertical-align: top;\n",
       "    }\n",
       "\n",
       "    .dataframe thead th {\n",
       "        text-align: right;\n",
       "    }\n",
       "</style>\n",
       "<table border=\"1\" class=\"dataframe\">\n",
       "  <thead>\n",
       "    <tr style=\"text-align: right;\">\n",
       "      <th></th>\n",
       "      <th>0</th>\n",
       "      <th>1</th>\n",
       "      <th>2</th>\n",
       "      <th>3</th>\n",
       "      <th>4</th>\n",
       "      <th>5</th>\n",
       "      <th>6</th>\n",
       "      <th>7</th>\n",
       "      <th>8</th>\n",
       "      <th>9</th>\n",
       "      <th>...</th>\n",
       "      <th>110</th>\n",
       "      <th>111</th>\n",
       "      <th>112</th>\n",
       "      <th>113</th>\n",
       "      <th>114</th>\n",
       "      <th>115</th>\n",
       "      <th>116</th>\n",
       "      <th>117</th>\n",
       "      <th>118</th>\n",
       "      <th>119</th>\n",
       "    </tr>\n",
       "  </thead>\n",
       "  <tbody>\n",
       "    <tr>\n",
       "      <th>0</th>\n",
       "      <td>1.0</td>\n",
       "      <td>3.5</td>\n",
       "      <td>0.0</td>\n",
       "      <td>0.0</td>\n",
       "      <td>84.0</td>\n",
       "      <td>65.0</td>\n",
       "      <td>74.5</td>\n",
       "      <td>78.0</td>\n",
       "      <td>21.27</td>\n",
       "      <td>6.04</td>\n",
       "      <td>...</td>\n",
       "      <td>0.00</td>\n",
       "      <td>0.0</td>\n",
       "      <td>0.0</td>\n",
       "      <td>0.0</td>\n",
       "      <td>8100.0</td>\n",
       "      <td>5940.0</td>\n",
       "      <td>7020.0</td>\n",
       "      <td>4356.0</td>\n",
       "      <td>5148.0</td>\n",
       "      <td>6084.00</td>\n",
       "    </tr>\n",
       "    <tr>\n",
       "      <th>1</th>\n",
       "      <td>1.0</td>\n",
       "      <td>3.0</td>\n",
       "      <td>0.0</td>\n",
       "      <td>1.0</td>\n",
       "      <td>7.0</td>\n",
       "      <td>-8.0</td>\n",
       "      <td>-0.5</td>\n",
       "      <td>1.0</td>\n",
       "      <td>1.46</td>\n",
       "      <td>6.04</td>\n",
       "      <td>...</td>\n",
       "      <td>0.00</td>\n",
       "      <td>0.0</td>\n",
       "      <td>-0.0</td>\n",
       "      <td>0.0</td>\n",
       "      <td>100.0</td>\n",
       "      <td>-50.0</td>\n",
       "      <td>25.0</td>\n",
       "      <td>25.0</td>\n",
       "      <td>-12.5</td>\n",
       "      <td>6.25</td>\n",
       "    </tr>\n",
       "    <tr>\n",
       "      <th>2</th>\n",
       "      <td>1.0</td>\n",
       "      <td>5.0</td>\n",
       "      <td>0.0</td>\n",
       "      <td>0.0</td>\n",
       "      <td>33.0</td>\n",
       "      <td>21.0</td>\n",
       "      <td>27.0</td>\n",
       "      <td>22.0</td>\n",
       "      <td>3.64</td>\n",
       "      <td>13.42</td>\n",
       "      <td>...</td>\n",
       "      <td>0.00</td>\n",
       "      <td>0.0</td>\n",
       "      <td>0.0</td>\n",
       "      <td>0.0</td>\n",
       "      <td>625.0</td>\n",
       "      <td>475.0</td>\n",
       "      <td>550.0</td>\n",
       "      <td>361.0</td>\n",
       "      <td>418.0</td>\n",
       "      <td>484.00</td>\n",
       "    </tr>\n",
       "    <tr>\n",
       "      <th>3</th>\n",
       "      <td>1.0</td>\n",
       "      <td>6.0</td>\n",
       "      <td>0.0</td>\n",
       "      <td>0.0</td>\n",
       "      <td>55.0</td>\n",
       "      <td>34.0</td>\n",
       "      <td>44.5</td>\n",
       "      <td>48.0</td>\n",
       "      <td>3.63</td>\n",
       "      <td>4.47</td>\n",
       "      <td>...</td>\n",
       "      <td>0.00</td>\n",
       "      <td>0.0</td>\n",
       "      <td>0.0</td>\n",
       "      <td>0.0</td>\n",
       "      <td>3844.0</td>\n",
       "      <td>2418.0</td>\n",
       "      <td>3131.0</td>\n",
       "      <td>1521.0</td>\n",
       "      <td>1969.5</td>\n",
       "      <td>2550.25</td>\n",
       "    </tr>\n",
       "    <tr>\n",
       "      <th>4</th>\n",
       "      <td>1.0</td>\n",
       "      <td>4.5</td>\n",
       "      <td>0.0</td>\n",
       "      <td>13.0</td>\n",
       "      <td>32.0</td>\n",
       "      <td>11.0</td>\n",
       "      <td>21.5</td>\n",
       "      <td>13.0</td>\n",
       "      <td>0.37</td>\n",
       "      <td>9.84</td>\n",
       "      <td>...</td>\n",
       "      <td>82.81</td>\n",
       "      <td>200.2</td>\n",
       "      <td>109.2</td>\n",
       "      <td>154.7</td>\n",
       "      <td>484.0</td>\n",
       "      <td>264.0</td>\n",
       "      <td>374.0</td>\n",
       "      <td>144.0</td>\n",
       "      <td>204.0</td>\n",
       "      <td>289.00</td>\n",
       "    </tr>\n",
       "  </tbody>\n",
       "</table>\n",
       "<p>5 rows × 120 columns</p>\n",
       "</div>"
      ],
      "text/plain": [
       "   0    1    2     3     4     5     6     7      8      9    ...    110  \\\n",
       "0  1.0  3.5  0.0   0.0  84.0  65.0  74.5  78.0  21.27   6.04  ...   0.00   \n",
       "1  1.0  3.0  0.0   1.0   7.0  -8.0  -0.5   1.0   1.46   6.04  ...   0.00   \n",
       "2  1.0  5.0  0.0   0.0  33.0  21.0  27.0  22.0   3.64  13.42  ...   0.00   \n",
       "3  1.0  6.0  0.0   0.0  55.0  34.0  44.5  48.0   3.63   4.47  ...   0.00   \n",
       "4  1.0  4.5  0.0  13.0  32.0  11.0  21.5  13.0   0.37   9.84  ...  82.81   \n",
       "\n",
       "     111    112    113     114     115     116     117     118      119  \n",
       "0    0.0    0.0    0.0  8100.0  5940.0  7020.0  4356.0  5148.0  6084.00  \n",
       "1    0.0   -0.0    0.0   100.0   -50.0    25.0    25.0   -12.5     6.25  \n",
       "2    0.0    0.0    0.0   625.0   475.0   550.0   361.0   418.0   484.00  \n",
       "3    0.0    0.0    0.0  3844.0  2418.0  3131.0  1521.0  1969.5  2550.25  \n",
       "4  200.2  109.2  154.7   484.0   264.0   374.0   144.0   204.0   289.00  \n",
       "\n",
       "[5 rows x 120 columns]"
      ]
     },
     "execution_count": 66,
     "metadata": {},
     "output_type": "execute_result"
    }
   ],
   "source": [
    "X_train_poly_df = pd.DataFrame(X_train_poly_array)\n",
    "print(X_train_poly_df.shape)\n",
    "X_train_poly_df.head()"
   ]
  },
  {
   "cell_type": "code",
   "execution_count": 67,
   "metadata": {},
   "outputs": [
    {
     "name": "stdout",
     "output_type": "stream",
     "text": [
      "-1.2221022818018292\n"
     ]
    },
    {
     "data": {
      "text/plain": [
       "{'base_estimator': None, 'n_estimators': 40}"
      ]
     },
     "execution_count": 67,
     "metadata": {},
     "output_type": "execute_result"
    }
   ],
   "source": [
    "# using the default decision stump\n",
    "ada = AdaBoostRegressor()  # we are not limited to only decision trees with this model 'base_estimator' max_depth=1 is high bias\n",
    "                            # we are not limited to the number of \n",
    "\n",
    "ada_params = {\n",
    "    'base_estimator': [None],\n",
    "    'n_estimators': [40, 50, 60]\n",
    "}\n",
    "\n",
    "gs = GridSearchCV(ada, param_grid=ada_params, cv=3)\n",
    "gs.fit(X_train_poly_df, y_train)\n",
    "print(gs.best_score_)\n",
    "gs.best_params_"
   ]
  },
  {
   "cell_type": "code",
   "execution_count": null,
   "metadata": {},
   "outputs": [],
   "source": []
  },
  {
   "cell_type": "code",
   "execution_count": null,
   "metadata": {},
   "outputs": [],
   "source": []
  },
  {
   "cell_type": "code",
   "execution_count": null,
   "metadata": {},
   "outputs": [],
   "source": []
  },
  {
   "cell_type": "code",
   "execution_count": null,
   "metadata": {},
   "outputs": [],
   "source": []
  },
  {
   "cell_type": "code",
   "execution_count": null,
   "metadata": {},
   "outputs": [],
   "source": []
  },
  {
   "cell_type": "code",
   "execution_count": null,
   "metadata": {},
   "outputs": [],
   "source": []
  },
  {
   "cell_type": "code",
   "execution_count": null,
   "metadata": {},
   "outputs": [],
   "source": []
  },
  {
   "cell_type": "code",
   "execution_count": null,
   "metadata": {},
   "outputs": [],
   "source": [
    "# train/test split\n",
    "X_train, X_test, y_train, y_test = train_test_split(X, y, random_state=42)\n",
    "\n",
    "\n",
    "# Pipeline\n",
    "pipe = Pipeline([\n",
    "    ('poly', PolynomialFeatures()),\n",
    "    ('lr', LinearRegression())\n",
    "])\n",
    "\n",
    "poly_params = {\n",
    "    'poly__degree': [1, 2, 3, 4, 5],\n",
    "    'poly__interaction_only':[False],\n",
    "    'poly__include_bias':[True]\n",
    "}\n",
    "\n",
    "gs_poly = GridSearchCV(\n",
    "                    pipe,\n",
    "                    param_grid=poly_params,\n",
    "                    cv=3,\n",
    "                    verbose=1\n",
    "                )\n",
    "\n",
    "gs_poly.fit(X_train, y_train)"
   ]
  },
  {
   "cell_type": "code",
   "execution_count": null,
   "metadata": {},
   "outputs": [],
   "source": []
  },
  {
   "cell_type": "code",
   "execution_count": null,
   "metadata": {},
   "outputs": [],
   "source": []
  },
  {
   "cell_type": "code",
   "execution_count": null,
   "metadata": {},
   "outputs": [],
   "source": []
  },
  {
   "cell_type": "code",
   "execution_count": null,
   "metadata": {},
   "outputs": [],
   "source": []
  },
  {
   "cell_type": "code",
   "execution_count": null,
   "metadata": {},
   "outputs": [],
   "source": []
  },
  {
   "cell_type": "code",
   "execution_count": 31,
   "metadata": {},
   "outputs": [
    {
     "name": "stderr",
     "output_type": "stream",
     "text": [
      "/Users/blakewallace/anaconda3/lib/python3.6/site-packages/sklearn/preprocessing/data.py:625: DataConversionWarning: Data with input dtype int64, float64 were all converted to float64 by StandardScaler.\n",
      "  return self.partial_fit(X, y)\n",
      "/Users/blakewallace/anaconda3/lib/python3.6/site-packages/sklearn/base.py:462: DataConversionWarning: Data with input dtype int64, float64 were all converted to float64 by StandardScaler.\n",
      "  return self.fit(X, **fit_params).transform(X)\n",
      "/Users/blakewallace/anaconda3/lib/python3.6/site-packages/ipykernel_launcher.py:3: DataConversionWarning: Data with input dtype int64, float64 were all converted to float64 by StandardScaler.\n",
      "  This is separate from the ipykernel package so we can avoid doing imports until\n"
     ]
    }
   ],
   "source": [
    "ss = StandardScaler()\n",
    "X_train_scaled = ss.fit_transform(X_train)\n",
    "X_test_scaled = ss.transform(X_test)"
   ]
  },
  {
   "cell_type": "code",
   "execution_count": 32,
   "metadata": {},
   "outputs": [
    {
     "name": "stdout",
     "output_type": "stream",
     "text": [
      "LRM train: 0.0627513677279058\n",
      "LRM test: 0.08450829784686775\n",
      "percent difference relative to training data: -34.672%\n",
      "\n",
      "Lasso train: 0.0\n",
      "Lasso test: -0.0006548825984520334\n",
      "percent difference relative to training data: 1.044%\n",
      "\n",
      "Ridge train: 0.06274982967202725\n",
      "Ridge test: 0.08447905245887066\n",
      "percent difference relative to training data: -34.627%\n"
     ]
    },
    {
     "data": {
      "text/html": [
       "<div>\n",
       "<style scoped>\n",
       "    .dataframe tbody tr th:only-of-type {\n",
       "        vertical-align: middle;\n",
       "    }\n",
       "\n",
       "    .dataframe tbody tr th {\n",
       "        vertical-align: top;\n",
       "    }\n",
       "\n",
       "    .dataframe thead th {\n",
       "        text-align: right;\n",
       "    }\n",
       "</style>\n",
       "<table border=\"1\" class=\"dataframe\">\n",
       "  <thead>\n",
       "    <tr style=\"text-align: right;\">\n",
       "      <th></th>\n",
       "      <th>Model</th>\n",
       "      <th>train</th>\n",
       "      <th>test</th>\n",
       "      <th>percent_difference</th>\n",
       "    </tr>\n",
       "  </thead>\n",
       "  <tbody>\n",
       "    <tr>\n",
       "      <th>0</th>\n",
       "      <td>LRM</td>\n",
       "      <td>0.062751</td>\n",
       "      <td>0.084508</td>\n",
       "      <td>-34.672</td>\n",
       "    </tr>\n",
       "    <tr>\n",
       "      <th>2</th>\n",
       "      <td>Ridge</td>\n",
       "      <td>0.062750</td>\n",
       "      <td>0.084479</td>\n",
       "      <td>-34.627</td>\n",
       "    </tr>\n",
       "    <tr>\n",
       "      <th>1</th>\n",
       "      <td>Lasso</td>\n",
       "      <td>0.000000</td>\n",
       "      <td>-0.000655</td>\n",
       "      <td>1.044</td>\n",
       "    </tr>\n",
       "  </tbody>\n",
       "</table>\n",
       "</div>"
      ],
      "text/plain": [
       "   Model     train      test  percent_difference\n",
       "0    LRM  0.062751  0.084508             -34.672\n",
       "2  Ridge  0.062750  0.084479             -34.627\n",
       "1  Lasso  0.000000 -0.000655               1.044"
      ]
     },
     "execution_count": 32,
     "metadata": {},
     "output_type": "execute_result"
    }
   ],
   "source": [
    "lr = LinearRegression()\n",
    "ridge = Ridge()\n",
    "lasso = Lasso()\n",
    "\n",
    "\n",
    "\n",
    "lr.fit(X_train_scaled, y_train)\n",
    "ridge.fit(X_train_scaled, y_train)\n",
    "lasso.fit(X_train_scaled, y_train)\n",
    "\n",
    "print(f'LRM train: {lr.score(X_train_scaled, y_train)}')\n",
    "print(f'LRM test: {lr.score(X_test_scaled, y_test)}')\n",
    "print(f'percent difference relative to training data: { round(100* (lr.score(X_train_scaled, y_train) - (lr.score(X_test_scaled, y_test)))/ lr.score(X_train_scaled, y_train), 3)}%' )\n",
    "print()\n",
    "\n",
    "print(f'Lasso train: {lasso.score(X_train_scaled, y_train)}')\n",
    "print(f'Lasso test: {lasso.score(X_test_scaled, y_test)}')\n",
    "print(f'percent difference relative to training data: { round(100* (lasso.score(X_train_scaled, y_train) - (lasso.score(X_test_scaled, y_test)))/ lr.score(X_train_scaled, y_train), 3)}%' )\n",
    "print()\n",
    "\n",
    "print(f'Ridge train: {ridge.score(X_train_scaled, y_train)}')\n",
    "print(f'Ridge test: {ridge.score(X_test_scaled, y_test)}')\n",
    "print(f'percent difference relative to training data: { round(100* (ridge.score(X_train_scaled, y_train) - (ridge.score(X_test_scaled, y_test)))/ lr.score(X_train_scaled, y_train), 3)}%' )\n",
    "\n",
    "data_dict = {\n",
    "    'Model' :             ['LRM', 'Lasso', 'Ridge'],\n",
    "           \n",
    "    'train' :             [lr.score(X_train_scaled, y_train), \n",
    "                           lasso.score(X_train_scaled, y_train), \n",
    "                           ridge.score(X_train_scaled, y_train)],\n",
    "    \n",
    "     'test' :             [lr.score(X_test_scaled, y_test),  \n",
    "                           lasso.score(X_test_scaled, y_test), \n",
    "                           ridge.score(X_test_scaled, y_test)],\n",
    "   \n",
    "    'percent_difference': [round(100* (lr.score(X_train_scaled, y_train) - (lr.score(X_test_scaled, y_test)))/ lr.score(X_train_scaled, y_train), 3),\n",
    "                           round(100* (lasso.score(X_train_scaled, y_train) - (lasso.score(X_test_scaled, y_test)))/ lr.score(X_train_scaled, y_train), 3),\n",
    "                           round(100* (ridge.score(X_train_scaled, y_train) - (ridge.score(X_test_scaled, y_test)))/ lr.score(X_train_scaled, y_train), 3)]\n",
    "}\n",
    "\n",
    "train_fit_test = pd.DataFrame(data = data_dict, columns=['Model', 'train', 'test', 'percent_difference'])\n",
    "train_fit_test.sort_values('percent_difference')\n"
   ]
  },
  {
   "cell_type": "code",
   "execution_count": 31,
   "metadata": {},
   "outputs": [
    {
     "name": "stdout",
     "output_type": "stream",
     "text": [
      "LRM test: 0.044778699052197106\n",
      "Lasso test: -0.0032797622831102213\n",
      "Ridge tes: 0.044761374817803186\n"
     ]
    },
    {
     "name": "stderr",
     "output_type": "stream",
     "text": [
      "/Users/blakewallace/anaconda3/lib/python3.6/site-packages/sklearn/model_selection/_split.py:2179: FutureWarning: From version 0.21, test_size will always complement train_size unless both are specified.\n",
      "  FutureWarning)\n"
     ]
    },
    {
     "data": {
      "text/html": [
       "<div>\n",
       "<style scoped>\n",
       "    .dataframe tbody tr th:only-of-type {\n",
       "        vertical-align: middle;\n",
       "    }\n",
       "\n",
       "    .dataframe tbody tr th {\n",
       "        vertical-align: top;\n",
       "    }\n",
       "\n",
       "    .dataframe thead th {\n",
       "        text-align: right;\n",
       "    }\n",
       "</style>\n",
       "<table border=\"1\" class=\"dataframe\">\n",
       "  <thead>\n",
       "    <tr style=\"text-align: right;\">\n",
       "      <th></th>\n",
       "      <th>Model</th>\n",
       "      <th>train</th>\n",
       "      <th>test</th>\n",
       "      <th>percent_difference</th>\n",
       "    </tr>\n",
       "  </thead>\n",
       "  <tbody>\n",
       "    <tr>\n",
       "      <th>0</th>\n",
       "      <td>LRM</td>\n",
       "      <td>0.038803</td>\n",
       "      <td>0.044779</td>\n",
       "      <td>-15.402</td>\n",
       "    </tr>\n",
       "    <tr>\n",
       "      <th>2</th>\n",
       "      <td>Ridge</td>\n",
       "      <td>0.038802</td>\n",
       "      <td>0.044761</td>\n",
       "      <td>-15.357</td>\n",
       "    </tr>\n",
       "    <tr>\n",
       "      <th>1</th>\n",
       "      <td>Lasso</td>\n",
       "      <td>0.000000</td>\n",
       "      <td>-0.003280</td>\n",
       "      <td>8.452</td>\n",
       "    </tr>\n",
       "  </tbody>\n",
       "</table>\n",
       "</div>"
      ],
      "text/plain": [
       "   Model     train      test  percent_difference\n",
       "0    LRM  0.038803  0.044779             -15.402\n",
       "2  Ridge  0.038802  0.044761             -15.357\n",
       "1  Lasso  0.000000 -0.003280               8.452"
      ]
     },
     "execution_count": 31,
     "metadata": {},
     "output_type": "execute_result"
    }
   ],
   "source": [
    "# The final output compares the model scores between the training and the test data\n",
    "\n",
    "lr = LinearRegression()\n",
    "ridge = Ridge()\n",
    "lasso = Lasso()\n",
    "\n",
    "X_train, X_test, y_train, y_test = train_test_split(X, \n",
    "                                                    y,\n",
    "                                                    train_size = 0.7,\n",
    "                                                    random_state = 42)\n",
    "ss = StandardScaler()\n",
    "ss.fit(X_train)\n",
    "X_train_scaled = ss.transform(X_train)\n",
    "\n",
    "X_test_scaled = ss.transform(X_test)\n",
    "\n",
    "# instantiate the models\n",
    "lr = LinearRegression()\n",
    "ridge = Ridge()\n",
    "lasso = Lasso()\n",
    "\n",
    "# fith the models to the training data\n",
    "lr.fit(X_train_scaled, y_train)\n",
    "ridge.fit(X_train_scaled, y_train)\n",
    "lasso.fit(X_train_scaled, y_train)\n",
    "\n",
    "# apply each model to the test data and print out the results\n",
    "print(f'LRM test: {lr.score(X_test_scaled, y_test)}')\n",
    "print(f'Lasso test: {lasso.score(X_test_scaled, y_test)}')\n",
    "print(f'Ridge tes: {ridge.score(X_test_scaled, y_test)}')\n",
    "\n",
    "data_dict = {\n",
    "    'Model' :             ['LRM', 'Lasso', 'Ridge'],\n",
    "           \n",
    "    'train' :             [lr.score(X_train_scaled, y_train), \n",
    "                           lasso.score(X_train_scaled, y_train), \n",
    "                           ridge.score(X_train_scaled, y_train)],\n",
    "    \n",
    "     'test' :             [lr.score(X_test_scaled, y_test),  \n",
    "                           lasso.score(X_test_scaled, y_test), \n",
    "                           ridge.score(X_test_scaled, y_test)],\n",
    "   \n",
    "    # this compares the model scores of the training vs the test data\n",
    "    'percent_difference': [round(100* (lr.score(X_train_scaled, y_train) - (lr.score(X_test_scaled, y_test)))/ lr.score(X_train_scaled, y_train), 3),\n",
    "                           round(100* (lasso.score(X_train_scaled, y_train) - (lasso.score(X_test_scaled, y_test)))/ lr.score(X_train_scaled, y_train), 3),\n",
    "                           round(100* (ridge.score(X_train_scaled, y_train) - (ridge.score(X_test_scaled, y_test)))/ lr.score(X_train_scaled, y_train), 3)]\n",
    "}\n",
    "\n",
    "train_fit_test = pd.DataFrame(data = data_dict, columns=['Model', 'train', 'test', 'percent_difference'])\n",
    "train_fit_test.sort_values('percent_difference')\n"
   ]
  },
  {
   "cell_type": "code",
   "execution_count": 32,
   "metadata": {},
   "outputs": [
    {
     "name": "stdout",
     "output_type": "stream",
     "text": [
      "LRM test: 0.044778699052197\n",
      "Lasso test: -0.0032797622831102213\n",
      "Ridge tes: 0.044761374817803186\n"
     ]
    },
    {
     "name": "stderr",
     "output_type": "stream",
     "text": [
      "/Users/blakewallace/anaconda3/lib/python3.6/site-packages/sklearn/model_selection/_split.py:2179: FutureWarning: From version 0.21, test_size will always complement train_size unless both are specified.\n",
      "  FutureWarning)\n"
     ]
    },
    {
     "data": {
      "text/html": [
       "<div>\n",
       "<style scoped>\n",
       "    .dataframe tbody tr th:only-of-type {\n",
       "        vertical-align: middle;\n",
       "    }\n",
       "\n",
       "    .dataframe tbody tr th {\n",
       "        vertical-align: top;\n",
       "    }\n",
       "\n",
       "    .dataframe thead th {\n",
       "        text-align: right;\n",
       "    }\n",
       "</style>\n",
       "<table border=\"1\" class=\"dataframe\">\n",
       "  <thead>\n",
       "    <tr style=\"text-align: right;\">\n",
       "      <th></th>\n",
       "      <th>Model</th>\n",
       "      <th>train</th>\n",
       "      <th>test</th>\n",
       "      <th>percent_difference</th>\n",
       "    </tr>\n",
       "  </thead>\n",
       "  <tbody>\n",
       "    <tr>\n",
       "      <th>0</th>\n",
       "      <td>LRM</td>\n",
       "      <td>0.038803</td>\n",
       "      <td>0.044779</td>\n",
       "      <td>-15.402</td>\n",
       "    </tr>\n",
       "    <tr>\n",
       "      <th>1</th>\n",
       "      <td>Lasso</td>\n",
       "      <td>0.000000</td>\n",
       "      <td>-0.003280</td>\n",
       "      <td>-0.400</td>\n",
       "    </tr>\n",
       "    <tr>\n",
       "      <th>2</th>\n",
       "      <td>Ridge</td>\n",
       "      <td>0.038802</td>\n",
       "      <td>0.044761</td>\n",
       "      <td>0.728</td>\n",
       "    </tr>\n",
       "  </tbody>\n",
       "</table>\n",
       "</div>"
      ],
      "text/plain": [
       "   Model     train      test  percent_difference\n",
       "0    LRM  0.038803  0.044779             -15.402\n",
       "1  Lasso  0.000000 -0.003280              -0.400\n",
       "2  Ridge  0.038802  0.044761               0.728"
      ]
     },
     "execution_count": 32,
     "metadata": {},
     "output_type": "execute_result"
    }
   ],
   "source": [
    "# The final output compares the model scores between the training and the test data\n",
    "\n",
    "lr = LinearRegression()\n",
    "ridge = Ridge()\n",
    "lasso = Lasso()\n",
    "\n",
    "X_train, X_test, y_train, y_test = train_test_split(X, \n",
    "                                                    y,\n",
    "                                                    train_size = 0.7,\n",
    "                                                    random_state = 42)\n",
    "ss = StandardScaler()\n",
    "ss.fit(X_train)\n",
    "X_train_scaled = ss.transform(X_train)\n",
    "\n",
    "X_test_scaled = ss.transform(X_test)\n",
    "\n",
    "# instantiate the models\n",
    "lr = LinearRegression()\n",
    "ridge = Ridge()\n",
    "lasso = Lasso()\n",
    "\n",
    "# fith the models to the training data\n",
    "lr.fit(X_train, y_train)\n",
    "ridge.fit(X_train_scaled, y_train)\n",
    "lasso.fit(X_train_scaled, y_train)\n",
    "\n",
    "# apply each model to the test data and print out the results\n",
    "print(f'LRM test: {lr.score(X_test, y_test)}')\n",
    "print(f'Lasso test: {lasso.score(X_test_scaled, y_test)}')\n",
    "print(f'Ridge tes: {ridge.score(X_test_scaled, y_test)}')\n",
    "\n",
    "data_dict = {\n",
    "    'Model' :             ['LRM', 'Lasso', 'Ridge'],\n",
    "           \n",
    "    'train' :             [lr.score(X_train, y_train), \n",
    "                           lasso.score(X_train_scaled, y_train), \n",
    "                           ridge.score(X_train_scaled, y_train)],\n",
    "    \n",
    "     'test' :             [lr.score(X_test, y_test),  \n",
    "                           lasso.score(X_test_scaled, y_test), \n",
    "                           ridge.score(X_test_scaled, y_test)],\n",
    "   \n",
    "    # this compares the model scores of the training vs the test data\n",
    "    'percent_difference': [round(100* (lr.score(X_train, y_train) - (lr.score(X_test, y_test)))/ lr.score(X_train, y_train), 3),\n",
    "                           round(100* (lasso.score(X_train_scaled, y_train) - (lasso.score(X_test_scaled, y_test)))/ lr.score(X_train_scaled, y_train), 3),\n",
    "                           round(100* (ridge.score(X_train_scaled, y_train) - (ridge.score(X_test_scaled, y_test)))/ lr.score(X_train_scaled, y_train), 3)]\n",
    "}\n",
    "\n",
    "train_fit_test = pd.DataFrame(data = data_dict, columns=['Model', 'train', 'test', 'percent_difference'])\n",
    "train_fit_test.sort_values('percent_difference')\n"
   ]
  },
  {
   "cell_type": "code",
   "execution_count": null,
   "metadata": {},
   "outputs": [],
   "source": []
  },
  {
   "cell_type": "code",
   "execution_count": null,
   "metadata": {},
   "outputs": [],
   "source": []
  },
  {
   "cell_type": "code",
   "execution_count": null,
   "metadata": {},
   "outputs": [],
   "source": []
  },
  {
   "cell_type": "markdown",
   "metadata": {},
   "source": [
    "# Well fit Ridge model.  Although, it is heavily biased."
   ]
  },
  {
   "cell_type": "code",
   "execution_count": 33,
   "metadata": {},
   "outputs": [
    {
     "name": "stdout",
     "output_type": "stream",
     "text": [
      "LRM: 0.024200191785356928\n",
      "Lasso: -0.005144595557388554\n",
      "Ridge: 0.02421270030342937\n"
     ]
    },
    {
     "name": "stderr",
     "output_type": "stream",
     "text": [
      "/Users/blakewallace/anaconda3/lib/python3.6/site-packages/sklearn/model_selection/_split.py:2179: FutureWarning: From version 0.21, test_size will always complement train_size unless both are specified.\n",
      "  FutureWarning)\n"
     ]
    },
    {
     "data": {
      "text/html": [
       "<div>\n",
       "<style scoped>\n",
       "    .dataframe tbody tr th:only-of-type {\n",
       "        vertical-align: middle;\n",
       "    }\n",
       "\n",
       "    .dataframe tbody tr th {\n",
       "        vertical-align: top;\n",
       "    }\n",
       "\n",
       "    .dataframe thead th {\n",
       "        text-align: right;\n",
       "    }\n",
       "</style>\n",
       "<table border=\"1\" class=\"dataframe\">\n",
       "  <thead>\n",
       "    <tr style=\"text-align: right;\">\n",
       "      <th></th>\n",
       "      <th>Model</th>\n",
       "      <th>train</th>\n",
       "      <th>test</th>\n",
       "      <th>percent_difference</th>\n",
       "    </tr>\n",
       "  </thead>\n",
       "  <tbody>\n",
       "    <tr>\n",
       "      <th>2</th>\n",
       "      <td>Ridge</td>\n",
       "      <td>0.043234</td>\n",
       "      <td>0.024213</td>\n",
       "      <td>-1.811</td>\n",
       "    </tr>\n",
       "    <tr>\n",
       "      <th>1</th>\n",
       "      <td>Lasso</td>\n",
       "      <td>0.000000</td>\n",
       "      <td>-0.005145</td>\n",
       "      <td>-0.490</td>\n",
       "    </tr>\n",
       "    <tr>\n",
       "      <th>0</th>\n",
       "      <td>LRM</td>\n",
       "      <td>0.043234</td>\n",
       "      <td>0.024200</td>\n",
       "      <td>44.025</td>\n",
       "    </tr>\n",
       "  </tbody>\n",
       "</table>\n",
       "</div>"
      ],
      "text/plain": [
       "   Model     train      test  percent_difference\n",
       "2  Ridge  0.043234  0.024213              -1.811\n",
       "1  Lasso  0.000000 -0.005145              -0.490\n",
       "0    LRM  0.043234  0.024200              44.025"
      ]
     },
     "execution_count": 33,
     "metadata": {},
     "output_type": "execute_result"
    }
   ],
   "source": [
    "# The final output compares the model scores between the training and the test data\n",
    "\n",
    "lr = LinearRegression()\n",
    "ridge = Ridge()\n",
    "lasso = Lasso()\n",
    "\n",
    "X_train, X_test, y_train, y_test = train_test_split(X, \n",
    "                                                    y,\n",
    "                                                    train_size = 0.9,\n",
    "                                                    random_state = 42)\n",
    "ss = StandardScaler()\n",
    "ss.fit(X_train)\n",
    "X_train_scaled = ss.transform(X_train)\n",
    "\n",
    "X_test_scaled = ss.transform(X_test)\n",
    "\n",
    "\n",
    "lr.fit(X_train, y_train)\n",
    "ridge.fit(X_train_scaled, y_train)\n",
    "lasso.fit(X_train_scaled, y_train)\n",
    "\n",
    "print(f'LRM: {lr.score(X_test, y_test)}')\n",
    "print(f'Lasso: {lasso.score(X_test_scaled, y_test)}')\n",
    "print(f'Ridge: {ridge.score(X_test_scaled, y_test)}')\n",
    "\n",
    "data_dict = {\n",
    "    'Model' :             ['LRM', 'Lasso', 'Ridge'],\n",
    "           \n",
    "    'train' :             [lr.score(X_train, y_train), \n",
    "                           lasso.score(X_train_scaled, y_train), \n",
    "                           ridge.score(X_train_scaled, y_train)],\n",
    "    \n",
    "     'test' :             [lr.score(X_test, y_test),  \n",
    "                           lasso.score(X_test_scaled, y_test), \n",
    "                           ridge.score(X_test_scaled, y_test)],\n",
    "   \n",
    "    'percent_difference': [round(100* (lr.score(X_train, y_train) - (lr.score(X_test, y_test)))/ lr.score(X_train, y_train), 3),\n",
    "                           round(100* (lasso.score(X_train_scaled, y_train) - (lasso.score(X_test_scaled, y_test)))/ lr.score(X_train_scaled, y_train), 3),\n",
    "                           round(100* (ridge.score(X_train_scaled, y_train) - (ridge.score(X_test_scaled, y_test)))/ lr.score(X_train_scaled, y_train), 3)]\n",
    "}\n",
    "\n",
    "train_fit_test = pd.DataFrame(data = data_dict, columns=['Model', 'train', 'test', 'percent_difference'])\n",
    "train_fit_test.sort_values('percent_difference')\n",
    "\n"
   ]
  },
  {
   "cell_type": "code",
   "execution_count": 34,
   "metadata": {},
   "outputs": [
    {
     "name": "stdout",
     "output_type": "stream",
     "text": [
      "LRM: 0.024200191785356928\n",
      "Lasso: -0.005144595557388554\n",
      "Ridge: 0.02421270030342937\n"
     ]
    },
    {
     "name": "stderr",
     "output_type": "stream",
     "text": [
      "/Users/blakewallace/anaconda3/lib/python3.6/site-packages/sklearn/model_selection/_split.py:2179: FutureWarning: From version 0.21, test_size will always complement train_size unless both are specified.\n",
      "  FutureWarning)\n"
     ]
    },
    {
     "data": {
      "text/html": [
       "<div>\n",
       "<style scoped>\n",
       "    .dataframe tbody tr th:only-of-type {\n",
       "        vertical-align: middle;\n",
       "    }\n",
       "\n",
       "    .dataframe tbody tr th {\n",
       "        vertical-align: top;\n",
       "    }\n",
       "\n",
       "    .dataframe thead th {\n",
       "        text-align: right;\n",
       "    }\n",
       "</style>\n",
       "<table border=\"1\" class=\"dataframe\">\n",
       "  <thead>\n",
       "    <tr style=\"text-align: right;\">\n",
       "      <th></th>\n",
       "      <th>Model</th>\n",
       "      <th>train</th>\n",
       "      <th>test</th>\n",
       "      <th>percent_difference</th>\n",
       "    </tr>\n",
       "  </thead>\n",
       "  <tbody>\n",
       "    <tr>\n",
       "      <th>1</th>\n",
       "      <td>Lasso</td>\n",
       "      <td>0.000000</td>\n",
       "      <td>-0.005145</td>\n",
       "      <td>11.900</td>\n",
       "    </tr>\n",
       "    <tr>\n",
       "      <th>2</th>\n",
       "      <td>Ridge</td>\n",
       "      <td>0.043234</td>\n",
       "      <td>0.024213</td>\n",
       "      <td>43.995</td>\n",
       "    </tr>\n",
       "    <tr>\n",
       "      <th>0</th>\n",
       "      <td>LRM</td>\n",
       "      <td>0.043234</td>\n",
       "      <td>0.024200</td>\n",
       "      <td>44.025</td>\n",
       "    </tr>\n",
       "  </tbody>\n",
       "</table>\n",
       "</div>"
      ],
      "text/plain": [
       "   Model     train      test  percent_difference\n",
       "1  Lasso  0.000000 -0.005145              11.900\n",
       "2  Ridge  0.043234  0.024213              43.995\n",
       "0    LRM  0.043234  0.024200              44.025"
      ]
     },
     "execution_count": 34,
     "metadata": {},
     "output_type": "execute_result"
    }
   ],
   "source": [
    "# The final output compares the model scores between the training and the test data\n",
    "\n",
    "lr = LinearRegression()\n",
    "ridge = Ridge()\n",
    "lasso = Lasso()\n",
    "\n",
    "X_train, X_test, y_train, y_test = train_test_split(X, \n",
    "                                                    y,\n",
    "                                                    train_size = 0.9,\n",
    "                                                    random_state = 42)\n",
    "ss = StandardScaler()\n",
    "ss.fit(X_train)\n",
    "X_train_scaled = ss.transform(X_train)\n",
    "\n",
    "X_test_scaled = ss.transform(X_test)\n",
    "\n",
    "\n",
    "lr.fit(X_train_scaled, y_train)\n",
    "ridge.fit(X_train_scaled, y_train)\n",
    "lasso.fit(X_train_scaled, y_train)\n",
    "\n",
    "print(f'LRM: {lr.score(X_test_scaled, y_test)}')\n",
    "print(f'Lasso: {lasso.score(X_test_scaled, y_test)}')\n",
    "print(f'Ridge: {ridge.score(X_test_scaled, y_test)}')\n",
    "\n",
    "data_dict = {\n",
    "    'Model' :             ['LRM', 'Lasso', 'Ridge'],\n",
    "           \n",
    "    'train' :             [lr.score(X_train_scaled, y_train), \n",
    "                           lasso.score(X_train_scaled, y_train), \n",
    "                           ridge.score(X_train_scaled, y_train)],\n",
    "    \n",
    "     'test' :             [lr.score(X_test_scaled, y_test),  \n",
    "                           lasso.score(X_test_scaled, y_test), \n",
    "                           ridge.score(X_test_scaled, y_test)],\n",
    "   \n",
    "    'percent_difference': [round(100* (lr.score(X_train_scaled, y_train) - (lr.score(X_test_scaled, y_test)))/ lr.score(X_train_scaled, y_train), 3),\n",
    "                           round(100* (lasso.score(X_train_scaled, y_train) - (lasso.score(X_test_scaled, y_test)))/ lr.score(X_train_scaled, y_train), 3),\n",
    "                           round(100* (ridge.score(X_train_scaled, y_train) - (ridge.score(X_test_scaled, y_test)))/ lr.score(X_train_scaled, y_train), 3)]\n",
    "}\n",
    "\n",
    "train_fit_test = pd.DataFrame(data = data_dict, columns=['Model', 'train', 'test', 'percent_difference'])\n",
    "train_fit_test.sort_values('percent_difference')\n",
    "\n"
   ]
  },
  {
   "cell_type": "code",
   "execution_count": 35,
   "metadata": {},
   "outputs": [
    {
     "name": "stdout",
     "output_type": "stream",
     "text": [
      "k = 5 folds cross-val on a train set that has 80-20 train/test split\n",
      "\n",
      "LRM: 0.024200191785356928\n",
      "cross val: 0.032449492958471236\n",
      "\n",
      "Lasso: -0.005144595557388554\n",
      "cross val: -0.00313456252311326\n",
      "\n",
      "Ridge: 0.02421270030342937\n",
      "cross val: 0.03246142289094291\n"
     ]
    },
    {
     "name": "stderr",
     "output_type": "stream",
     "text": [
      "/Users/blakewallace/anaconda3/lib/python3.6/site-packages/sklearn/model_selection/_split.py:2179: FutureWarning: From version 0.21, test_size will always complement train_size unless both are specified.\n",
      "  FutureWarning)\n"
     ]
    },
    {
     "data": {
      "text/html": [
       "<div>\n",
       "<style scoped>\n",
       "    .dataframe tbody tr th:only-of-type {\n",
       "        vertical-align: middle;\n",
       "    }\n",
       "\n",
       "    .dataframe tbody tr th {\n",
       "        vertical-align: top;\n",
       "    }\n",
       "\n",
       "    .dataframe thead th {\n",
       "        text-align: right;\n",
       "    }\n",
       "</style>\n",
       "<table border=\"1\" class=\"dataframe\">\n",
       "  <thead>\n",
       "    <tr style=\"text-align: right;\">\n",
       "      <th></th>\n",
       "      <th>Model</th>\n",
       "      <th>train</th>\n",
       "      <th>test</th>\n",
       "      <th>cross-val</th>\n",
       "      <th>percent_difference</th>\n",
       "    </tr>\n",
       "  </thead>\n",
       "  <tbody>\n",
       "    <tr>\n",
       "      <th>1</th>\n",
       "      <td>Lasso</td>\n",
       "      <td>0.000000</td>\n",
       "      <td>-0.005145</td>\n",
       "      <td>-0.003135</td>\n",
       "      <td>7.250</td>\n",
       "    </tr>\n",
       "    <tr>\n",
       "      <th>2</th>\n",
       "      <td>Ridge</td>\n",
       "      <td>0.043234</td>\n",
       "      <td>0.024213</td>\n",
       "      <td>0.032461</td>\n",
       "      <td>24.916</td>\n",
       "    </tr>\n",
       "    <tr>\n",
       "      <th>0</th>\n",
       "      <td>LRM</td>\n",
       "      <td>0.043234</td>\n",
       "      <td>0.024200</td>\n",
       "      <td>0.032449</td>\n",
       "      <td>24.944</td>\n",
       "    </tr>\n",
       "  </tbody>\n",
       "</table>\n",
       "</div>"
      ],
      "text/plain": [
       "   Model     train      test  cross-val  percent_difference\n",
       "1  Lasso  0.000000 -0.005145  -0.003135               7.250\n",
       "2  Ridge  0.043234  0.024213   0.032461              24.916\n",
       "0    LRM  0.043234  0.024200   0.032449              24.944"
      ]
     },
     "execution_count": 35,
     "metadata": {},
     "output_type": "execute_result"
    }
   ],
   "source": [
    "# The final output compares the \n",
    "\n",
    "# import warnings\n",
    "# warnings.filterwarnings('ignore')\n",
    "\n",
    "#\n",
    "lr = LinearRegression()\n",
    "ridge = Ridge()\n",
    "lasso = Lasso()\n",
    "\n",
    "X_train, X_test, y_train, y_test = train_test_split(X, \n",
    "                                                    y,\n",
    "                                                    train_size = 0.9,\n",
    "                                                    random_state = 42)\n",
    "ss = StandardScaler()\n",
    "ss.fit(X_train)\n",
    "X_train_scaled = ss.transform(X_train)\n",
    "\n",
    "X_test_scaled = ss.transform(X_test)\n",
    "\n",
    "\n",
    "print('k = 5 folds cross-val on a train set that has 80-20 train/test split')\n",
    "print()\n",
    "\n",
    "\n",
    "# The LRM Model\n",
    "lr.fit(X_train_scaled, y_train)\n",
    "lr_cross_val = cross_val_score(LinearRegression(), X_train_scaled, y_train, cv=5).mean()\n",
    "\n",
    "print(f'LRM: {lr.score(X_test_scaled, y_test)}')\n",
    "print(f'cross val: {lr_cross_val}')\n",
    "print()\n",
    "\n",
    "\n",
    "# The Ridge Model\n",
    "lasso.fit(X_train_scaled, y_train)\n",
    "lasso_cross_val = cross_val_score(Lasso(), X_train_scaled, y_train, cv=5).mean()\n",
    "\n",
    "print(f'Lasso: {lasso.score(X_test_scaled, y_test)}')\n",
    "print(f'cross val: {lasso_cross_val}')\n",
    "print()\n",
    "\n",
    "\n",
    "# The Lasso Model\n",
    "ridge.fit(X_train_scaled, y_train)\n",
    "ridge_cross_val = cross_val_score(Ridge(), X_train_scaled, y_train, cv=5).mean()\n",
    "\n",
    "print(f'Ridge: {ridge.score(X_test_scaled, y_test)}')\n",
    "print(f'cross val: {ridge_cross_val}')\n",
    "\n",
    "data_dict = {\n",
    "    'Model' :             ['LRM', 'Lasso', 'Ridge'],\n",
    "           \n",
    "    'train' :             [lr.score(X_train_scaled, y_train), \n",
    "                           lasso.score(X_train_scaled, y_train), \n",
    "                           ridge.score(X_train_scaled, y_train)],\n",
    "    \n",
    "     'test' :             [lr.score(X_test_scaled, y_test),  \n",
    "                           lasso.score(X_test_scaled, y_test), \n",
    "                           ridge.score(X_test_scaled, y_test)],\n",
    "    'cross-val' :         [lr_cross_val,\n",
    "                           lasso_cross_val,\n",
    "                           ridge_cross_val],\n",
    "   \n",
    "    'percent_difference': [round(100* (lr.score(X_train_scaled, y_train) - (lr_cross_val))/ lr.score(X_train_scaled, y_train), 3),\n",
    "                           round(100* (lasso.score(X_train_scaled, y_train) - (lasso_cross_val))/ lr.score(X_train_scaled, y_train), 3),\n",
    "                           round(100* (ridge.score(X_train_scaled, y_train) - (ridge_cross_val))/ lr.score(X_train_scaled, y_train), 3)]\n",
    "}\n",
    "\n",
    "train_fit_test = pd.DataFrame(data = data_dict, columns=['Model', 'train', 'test', 'cross-val', 'percent_difference'])\n",
    "train_fit_test.sort_values('percent_difference')\n"
   ]
  },
  {
   "cell_type": "code",
   "execution_count": 36,
   "metadata": {},
   "outputs": [
    {
     "name": "stderr",
     "output_type": "stream",
     "text": [
      "/Users/blakewallace/anaconda3/lib/python3.6/site-packages/sklearn/model_selection/_split.py:2179: FutureWarning: From version 0.21, test_size will always complement train_size unless both are specified.\n",
      "  FutureWarning)\n",
      "/Users/blakewallace/anaconda3/lib/python3.6/site-packages/sklearn/model_selection/_split.py:2179: FutureWarning: From version 0.21, test_size will always complement train_size unless both are specified.\n",
      "  FutureWarning)\n",
      "/Users/blakewallace/anaconda3/lib/python3.6/site-packages/sklearn/model_selection/_split.py:2179: FutureWarning: From version 0.21, test_size will always complement train_size unless both are specified.\n",
      "  FutureWarning)\n"
     ]
    },
    {
     "name": "stdout",
     "output_type": "stream",
     "text": [
      "\n",
      "k = 5 folds cross-val on a train set that has 80-20 train/test split\n",
      "   Model     train      test  cross_val  train-cross_val_%  test-cross_val_%  \\\n",
      "0    LRM  0.043234  0.024200   0.032449             24.944           -34.088   \n",
      "1  Lasso  0.000000 -0.005145  -0.003135              7.250            -8.306   \n",
      "2  Ridge  0.043234  0.024213   0.032461             24.916           -34.085   \n",
      "\n",
      "   train-test_%  \n",
      "0        44.025  \n",
      "1        11.900  \n",
      "2        43.995  \n",
      "\n",
      "k = 6 folds cross-val on a train set that has 80-20 train/test split\n",
      "   Model     train      test  cross_val  train-cross_val_%  test-cross_val_%  \\\n",
      "0    LRM  0.043234  0.024200   0.029998             30.613           -23.959   \n",
      "1  Lasso  0.000000 -0.005145  -0.006689             15.472             6.381   \n",
      "2  Ridge  0.043234  0.024213   0.030005             30.597           -23.937   \n",
      "\n",
      "   train-test_%  \n",
      "0        44.025  \n",
      "1        11.900  \n",
      "2        43.995  \n",
      "\n",
      "k = 7 folds cross-val on a train set that has 80-20 train/test split\n",
      "   Model     train      test  cross_val  train-cross_val_%  test-cross_val_%  \\\n",
      "0    LRM  0.043234  0.024200   0.029163             32.546           -20.506   \n",
      "1  Lasso  0.000000 -0.005145  -0.005809             13.436             2.744   \n",
      "2  Ridge  0.043234  0.024213   0.029172             32.526           -20.491   \n",
      "\n",
      "   train-test_%  \n",
      "0        44.025  \n",
      "1        11.900  \n",
      "2        43.995  \n",
      "\n",
      "k = 8 folds cross-val on a train set that has 80-20 train/test split\n",
      "   Model     train      test  cross_val  train-cross_val_%  test-cross_val_%  \\\n",
      "0    LRM  0.043234  0.024200   0.023730             45.111             1.941   \n",
      "1  Lasso  0.000000 -0.005145  -0.013646             31.565            35.132   \n",
      "2  Ridge  0.043234  0.024213   0.023739             45.092             1.959   \n",
      "\n",
      "   train-test_%  \n",
      "0        44.025  \n",
      "1        11.900  \n",
      "2        43.995  \n",
      "\n",
      "k = 9 folds cross-val on a train set that has 80-20 train/test split\n"
     ]
    },
    {
     "name": "stderr",
     "output_type": "stream",
     "text": [
      "/Users/blakewallace/anaconda3/lib/python3.6/site-packages/sklearn/model_selection/_split.py:2179: FutureWarning: From version 0.21, test_size will always complement train_size unless both are specified.\n",
      "  FutureWarning)\n",
      "/Users/blakewallace/anaconda3/lib/python3.6/site-packages/sklearn/model_selection/_split.py:2179: FutureWarning: From version 0.21, test_size will always complement train_size unless both are specified.\n",
      "  FutureWarning)\n"
     ]
    },
    {
     "name": "stdout",
     "output_type": "stream",
     "text": [
      "   Model     train      test  cross_val  train-cross_val_%  test-cross_val_%  \\\n",
      "0    LRM  0.043234  0.024200   0.029758             31.170           -22.964   \n",
      "1  Lasso  0.000000 -0.005145  -0.010378             24.004            21.624   \n",
      "2  Ridge  0.043234  0.024213   0.029762             31.160           -22.931   \n",
      "\n",
      "   train-test_%  \n",
      "0        44.025  \n",
      "1        11.900  \n",
      "2        43.995  \n",
      "\n",
      "k = 10 folds cross-val on a train set that has 80-20 train/test split\n",
      "   Model     train      test  cross_val  train-cross_val_%  test-cross_val_%  \\\n",
      "0    LRM  0.043234  0.024200   0.027162             37.173           -12.240   \n",
      "1  Lasso  0.000000 -0.005145  -0.012746             29.481            31.409   \n",
      "2  Ridge  0.043234  0.024213   0.027167             37.161           -12.210   \n",
      "\n",
      "   train-test_%  \n",
      "0        44.025  \n",
      "1        11.900  \n",
      "2        43.995  \n"
     ]
    },
    {
     "name": "stderr",
     "output_type": "stream",
     "text": [
      "/Users/blakewallace/anaconda3/lib/python3.6/site-packages/sklearn/model_selection/_split.py:2179: FutureWarning: From version 0.21, test_size will always complement train_size unless both are specified.\n",
      "  FutureWarning)\n"
     ]
    }
   ],
   "source": [
    "for i in range(5, 11):\n",
    "    # import warnings\n",
    "    # warnings.filterwarnings('ignore')\n",
    "    \n",
    "    # fit the different models\n",
    "    lr = LinearRegression()\n",
    "    ridge = Ridge()\n",
    "    lasso = Lasso()\n",
    "\n",
    "# train/test split with 80-20 split\n",
    "    X_train, X_test, y_train, y_test = train_test_split(X, \n",
    "                                                        y,\n",
    "                                                        train_size = 0.90,\n",
    "                                                        random_state = 42)\n",
    "# standard scale fitted to X_train\n",
    "    ss = StandardScaler()\n",
    "    ss.fit(X_train)\n",
    "    X_train_scaled = ss.transform(X_train)\n",
    "\n",
    "    X_test_scaled = ss.transform(X_test)\n",
    "\n",
    "    print()\n",
    "    print(f'k = {i} folds cross-val on a train set that has 80-20 train/test split')\n",
    "    \n",
    "\n",
    "\n",
    "    # The LRM Model\n",
    "    lr_cross_val = cross_val_score(lr, X_train_scaled, y_train, cv=i).mean()\n",
    "    lr.fit(X_train_scaled, y_train)\n",
    "\n",
    "#     print(f'LRM: {lr.score(X_test_scaled, y_test)}')\n",
    "#     print(f'cross val: {lr_cross_val}')\n",
    "#     print()\n",
    "\n",
    "\n",
    "    # The Ridge Model\n",
    "    lasso_cross_val = cross_val_score(lasso, X_train_scaled, y_train, cv=i).mean()\n",
    "    lasso.fit(X_train_scaled, y_train)\n",
    "\n",
    "#     print(f'Lasso: {lasso.score(X_test_scaled, y_test)}')\n",
    "#     print(f'cross val: {lasso_cross_val}')\n",
    "#     print()\n",
    "\n",
    "\n",
    "    # The Lasso Model\n",
    "    ridge_cross_val = cross_val_score(ridge, X_train_scaled, y_train, cv=i).mean()\n",
    "    ridge.fit(X_train_scaled, y_train)\n",
    "\n",
    "#     print(f'Ridge: {ridge.score(X_test_scaled, y_test)}')\n",
    "#     print(f'cross val: {ridge_cross_val}')\n",
    "\n",
    "    data_dict = {\n",
    "        'Model' :             ['LRM', 'Lasso', 'Ridge'],\n",
    "\n",
    "        'train' :             [lr.score(X_train_scaled, y_train), \n",
    "                               lasso.score(X_train_scaled, y_train), \n",
    "                               ridge.score(X_train_scaled, y_train)],\n",
    "\n",
    "         'test' :             [lr.score(X_test_scaled, y_test),  \n",
    "                               lasso.score(X_test_scaled, y_test), \n",
    "                               ridge.score(X_test_scaled, y_test)],\n",
    "        \n",
    "        'cross_val' :         [lr_cross_val,\n",
    "                               lasso_cross_val,\n",
    "                               ridge_cross_val],\n",
    "\n",
    "        'train-cross_val_%': [round(100* (lr.score(X_train_scaled, y_train) - (lr_cross_val))/ lr.score(X_train_scaled, y_train), 3),\n",
    "                                     round(100* (lasso.score(X_train_scaled, y_train) - (lasso_cross_val))/ lr.score(X_train_scaled, y_train), 3),\n",
    "                                     round(100* (ridge.score(X_train_scaled, y_train) - (ridge_cross_val))/ lr.score(X_train_scaled, y_train), 3)],\n",
    "      \n",
    "        'test-cross_val_%': [round(100* (lr.score(X_test_scaled, y_test) - (lr_cross_val))/ lr.score(X_test_scaled, y_test), 3),\n",
    "                                     round(100* (lasso.score(X_test_scaled, y_test) - (lasso_cross_val))/ lr.score(X_test_scaled, y_test), 3),\n",
    "                                     round(100* (ridge.score(X_test_scaled, y_test) - (ridge_cross_val))/ lr.score(X_test_scaled, y_test), 3)],\n",
    "       \n",
    "        'train-test_%': [round(100* (lr.score(X_train_scaled, y_train) - lr.score(X_test_scaled, y_test))/ lr.score(X_train_scaled, y_train), 3),\n",
    "                                    round(100* (lasso.score(X_train_scaled, y_train) - lasso.score(X_test_scaled, y_test))/ lr.score(X_train_scaled, y_train), 3),\n",
    "                                    round(100* (ridge.score(X_train_scaled, y_train) - ridge.score(X_test_scaled, y_test))/ lr.score(X_train_scaled, y_train), 3)]\n",
    "    }\n",
    "\n",
    "    train_fit_test = pd.DataFrame(data = data_dict, columns=['Model', 'train', 'test', 'cross_val', 'train-cross_val_%', 'test-cross_val_%', 'train-test_%'])\n",
    "    train_fit_test.sort_values('train-test_%')\n",
    "    print(train_fit_test)\n"
   ]
  },
  {
   "cell_type": "code",
   "execution_count": 37,
   "metadata": {},
   "outputs": [
    {
     "name": "stdout",
     "output_type": "stream",
     "text": [
      "k = 5 folds cross-val on a train set that has 80-20 train/test split\n",
      "\n"
     ]
    },
    {
     "name": "stderr",
     "output_type": "stream",
     "text": [
      "/Users/blakewallace/anaconda3/lib/python3.6/site-packages/sklearn/model_selection/_split.py:2179: FutureWarning: From version 0.21, test_size will always complement train_size unless both are specified.\n",
      "  FutureWarning)\n"
     ]
    },
    {
     "name": "stdout",
     "output_type": "stream",
     "text": [
      "LRM: 0.024200191785356928\n",
      "cross val: 0.032449492958471236\n",
      "\n",
      "Lasso: -0.005144595557388554\n",
      "cross val: -0.00313456252311326\n",
      "\n",
      "Ridge: 0.02421270030342937\n",
      "cross val: 0.03246142289094291\n"
     ]
    },
    {
     "data": {
      "text/html": [
       "<div>\n",
       "<style scoped>\n",
       "    .dataframe tbody tr th:only-of-type {\n",
       "        vertical-align: middle;\n",
       "    }\n",
       "\n",
       "    .dataframe tbody tr th {\n",
       "        vertical-align: top;\n",
       "    }\n",
       "\n",
       "    .dataframe thead th {\n",
       "        text-align: right;\n",
       "    }\n",
       "</style>\n",
       "<table border=\"1\" class=\"dataframe\">\n",
       "  <thead>\n",
       "    <tr style=\"text-align: right;\">\n",
       "      <th></th>\n",
       "      <th>Model</th>\n",
       "      <th>train</th>\n",
       "      <th>test</th>\n",
       "      <th>percent_difference</th>\n",
       "    </tr>\n",
       "  </thead>\n",
       "  <tbody>\n",
       "    <tr>\n",
       "      <th>1</th>\n",
       "      <td>Lasso</td>\n",
       "      <td>0.000000</td>\n",
       "      <td>-0.005145</td>\n",
       "      <td>7.250</td>\n",
       "    </tr>\n",
       "    <tr>\n",
       "      <th>2</th>\n",
       "      <td>Ridge</td>\n",
       "      <td>0.043234</td>\n",
       "      <td>0.024213</td>\n",
       "      <td>24.916</td>\n",
       "    </tr>\n",
       "    <tr>\n",
       "      <th>0</th>\n",
       "      <td>LRM</td>\n",
       "      <td>0.043234</td>\n",
       "      <td>0.024200</td>\n",
       "      <td>24.944</td>\n",
       "    </tr>\n",
       "  </tbody>\n",
       "</table>\n",
       "</div>"
      ],
      "text/plain": [
       "   Model     train      test  percent_difference\n",
       "1  Lasso  0.000000 -0.005145               7.250\n",
       "2  Ridge  0.043234  0.024213              24.916\n",
       "0    LRM  0.043234  0.024200              24.944"
      ]
     },
     "execution_count": 37,
     "metadata": {},
     "output_type": "execute_result"
    }
   ],
   "source": [
    "# import warnings\n",
    "# warnings.filterwarnings('ignore')\n",
    "\n",
    "lr = LinearRegression()\n",
    "ridge = Ridge()\n",
    "lasso = Lasso()\n",
    "\n",
    "X_train, X_test, y_train, y_test = train_test_split(X, \n",
    "                                                    y,\n",
    "                                                    train_size = 0.9,\n",
    "                                                    random_state = 42)\n",
    "ss = StandardScaler()\n",
    "ss.fit(X_train)\n",
    "X_train_scaled = ss.transform(X_train)\n",
    "\n",
    "X_test_scaled = ss.transform(X_test)\n",
    "\n",
    "\n",
    "print('k = 5 folds cross-val on a train set that has 80-20 train/test split')\n",
    "print()\n",
    "\n",
    "\n",
    "# The LRM Model\n",
    "lr.fit(X_train_scaled, y_train)\n",
    "lr_cross_val = cross_val_score(LinearRegression(), X_train_scaled, y_train, cv=5).mean()\n",
    "\n",
    "print(f'LRM: {lr.score(X_test_scaled, y_test)}')\n",
    "print(f'cross val: {lr_cross_val}')\n",
    "print()\n",
    "\n",
    "\n",
    "# The Ridge Model\n",
    "lasso.fit(X_train_scaled, y_train)\n",
    "lasso_cross_val = cross_val_score(Lasso(), X_train_scaled, y_train, cv=5).mean()\n",
    "\n",
    "print(f'Lasso: {lasso.score(X_test_scaled, y_test)}')\n",
    "print(f'cross val: {lasso_cross_val}')\n",
    "print()\n",
    "\n",
    "\n",
    "# The Lasso Model\n",
    "ridge.fit(X_train_scaled, y_train)\n",
    "ridge_cross_val = cross_val_score(Ridge(), X_train_scaled, y_train, cv=5).mean()\n",
    "\n",
    "print(f'Ridge: {ridge.score(X_test_scaled, y_test)}')\n",
    "print(f'cross val: {ridge_cross_val}')\n",
    "\n",
    "data_dict = {\n",
    "    'Model' :             ['LRM', 'Lasso', 'Ridge'],\n",
    "           \n",
    "    'train' :             [lr.score(X_train_scaled, y_train), \n",
    "                           lasso.score(X_train_scaled, y_train), \n",
    "                           ridge.score(X_train_scaled, y_train)],\n",
    "    \n",
    "     'test' :             [lr.score(X_test_scaled, y_test),  \n",
    "                           lasso.score(X_test_scaled, y_test), \n",
    "                           ridge.score(X_test_scaled, y_test)],\n",
    "    'cross-val' :         [lr_cross_val,\n",
    "                           lasso_cross_val,\n",
    "                           ridge_cross_val],\n",
    "   \n",
    "    'percent_difference': [round(100* (lr.score(X_train_scaled, y_train) - (lr_cross_val))/ lr.score(X_train_scaled, y_train), 3),\n",
    "                           round(100* (lasso.score(X_train_scaled, y_train) - (lasso_cross_val))/ lr.score(X_train_scaled, y_train), 3),\n",
    "                           round(100* (ridge.score(X_train_scaled, y_train) - (ridge_cross_val))/ lr.score(X_train_scaled, y_train), 3)]\n",
    "}\n",
    "\n",
    "train_fit_test = pd.DataFrame(data = data_dict, columns=['Model', 'train', 'test', 'percent_difference'])\n",
    "train_fit_test.sort_values('percent_difference')\n"
   ]
  },
  {
   "cell_type": "code",
   "execution_count": null,
   "metadata": {},
   "outputs": [],
   "source": []
  },
  {
   "cell_type": "code",
   "execution_count": 38,
   "metadata": {},
   "outputs": [],
   "source": [
    "# Train/test split R-SQUARED ONLY\n",
    "\n",
    "def opt_r2_split(features_data, target, perc_to_train):\n",
    "    \n",
    "    import warnings\n",
    "    warnings.filterwarnings('ignore')\n",
    "    \n",
    "    # code copied from stack overflow, and will be used to generate a run time of the functions below. \n",
    "    import time\n",
    "    start_time = time.time()\n",
    "    \n",
    "    \n",
    "    X = features_data\n",
    "    y = target\n",
    "    lst_to_optimize = []\n",
    "    cross_val_optimization = []\n",
    "    \n",
    "    for k in range(1, len(X.columns)+1): # eventually will be len(X)\n",
    "\n",
    "        index = itertools.combinations(list(X.columns), k)\n",
    "        \n",
    "        for col_combination in index:\n",
    "    \n",
    "            # instantiate models\n",
    "            lr = LinearRegression()\n",
    "            ridge = RidgeCV()\n",
    "            lasso = LassoCV(cv=5)\n",
    "            \n",
    "            # split the data using train/test\n",
    "            X_train, X_test, y_train, y_test = train_test_split(X[list(col_combination)], \n",
    "                                                                y,\n",
    "                                                                train_size = perc_to_train,\n",
    "                                                                random_state = 42)\n",
    "    \n",
    "            # put a standard scale on the plit data\n",
    "            ss = StandardScaler()\n",
    "            ss.fit(X_train)\n",
    "            X_train_scaled = ss.transform(X_train)\n",
    "\n",
    "            X_test_scaled = ss.transform(X_test)\n",
    "\n",
    "            \n",
    "            # cross-val calculations for each model\n",
    "            lr_cross_val = cross_val_score(lr, X_train_scaled, y_train, cv=6).mean()\n",
    "            lasso_cross_val = cross_val_score(lasso, X_train_scaled, y_train, cv=6).mean()\n",
    "            ridge_cross_val = cross_val_score(ridge, X_train_scaled, y_train, cv=6).mean()\n",
    "\n",
    "            # fit our models with the training data\n",
    "            lr.fit(X_train_scaled, y_train)\n",
    "            lasso.fit(X_train_scaled, y_train)\n",
    "            ridge.fit(X_train_scaled, y_train)\n",
    "            \n",
    "            # build a list of maximums that includes a single maximum from each pass through the loop\n",
    "            lst_to_optimize.append(max( lr.score(X_test_scaled, y_test),\n",
    "                                        lasso.score(X_test_scaled, y_test),\n",
    "                                        ridge.score(X_test_scaled, y_test)\n",
    "                                        ))\n",
    "            cross_val_optimization.append(min(abs(round(100* (lr.score(X_train_scaled, y_train) - (lr_cross_val))/ lr.score(X_train_scaled, y_train), 3)),\n",
    "                                             abs(round(100* (lasso.score(X_train_scaled, y_train) - (lasso_cross_val))/ lr.score(X_train_scaled, y_train), 3)),\n",
    "                                             abs(round(100* (ridge.score(X_train_scaled, y_train) - (ridge_cross_val))/ lr.score(X_train_scaled, y_train), 3))\n",
    "                                             ))\n",
    "            \n",
    "    print(f'total number of features in the combination of greatest length = {k}')\n",
    "    print(f'The maximum R-squared score using train/test split: {max(lst_to_optimize)}')\n",
    "    print(f'The minimum absolute percentage difference between the fit train data and the cross-val score is: {min(cross_val_optimization)}')\n",
    "    return f'Run time: {round(time.time() - start_time, 2)} seconds'\n",
    "\n",
    "# for i in range(5, 11):\n",
    "#     # import warnings\n",
    "#     # warnings.filterwarnings('ignore')\n",
    "    \n",
    "#     # fit the different models\n",
    "#     lr = LinearRegression()\n",
    "#     ridge = Ridge()\n",
    "#     lasso = Lasso()\n",
    "\n",
    "# # train/test split with 80-20 split\n",
    "#     X_train, X_test, y_train, y_test = train_test_split(X[['CRIM', 'AGE', 'TAX', 'LSTAT']], \n",
    "#                                                         y,\n",
    "#                                                         train_size = 0.80,\n",
    "#                                                         random_state = 42)\n",
    "# # standard scale fitted to X_train\n",
    "#     ss = StandardScaler()\n",
    "#     ss.fit(X_train)\n",
    "#     X_train_scaled = ss.transform(X_train)\n",
    "\n",
    "#     X_test_scaled = ss.transform(X_test)\n",
    "\n",
    "#     print()\n",
    "#     print(f'k = {i} folds cross-val on a train set that has 80-20 train/test split')\n",
    "    \n",
    "\n",
    "\n",
    "#     # The LRM Model\n",
    "#     lr_cross_val = cross_val_score(lr, X_train_scaled, y_train, cv=i).mean()\n",
    "#     lr.fit(X_train_scaled, y_train)\n",
    "\n",
    "# #     print(f'LRM: {lr.score(X_test_scaled, y_test)}')\n",
    "# #     print(f'cross val: {lr_cross_val}')\n",
    "# #     print()\n",
    "\n",
    "\n",
    "#     # The Ridge Model\n",
    "#     lasso_cross_val = cross_val_score(lasso, X_train_scaled, y_train, cv=i).mean()\n",
    "#     lasso.fit(X_train_scaled, y_train)\n",
    "\n",
    "# #     print(f'Lasso: {lasso.score(X_test_scaled, y_test)}')\n",
    "# #     print(f'cross val: {lasso_cross_val}')\n",
    "# #     print()\n",
    "\n",
    "\n",
    "#     # The Lasso Model\n",
    "#     ridge_cross_val = cross_val_score(ridge, X_train_scaled, y_train, cv=i).mean()\n",
    "#     ridge.fit(X_train_scaled, y_train)\n",
    "\n",
    "# #     print(f'Ridge: {ridge.score(X_test_scaled, y_test)}')\n",
    "# #     print(f'cross val: {ridge_cross_val}')\n",
    "\n",
    "#     data_dict = {\n",
    "#         'Model' :             ['LRM', 'Lasso', 'Ridge'],\n",
    "\n",
    "#         'train' :             [lr.score(X_train_scaled, y_train), \n",
    "#                                lasso.score(X_train_scaled, y_train), \n",
    "#                                ridge.score(X_train_scaled, y_train)],\n",
    "\n",
    "#          'test' :             [lr.score(X_test_scaled, y_test),  \n",
    "#                                lasso.score(X_test_scaled, y_test), \n",
    "#                                ridge.score(X_test_scaled, y_test)],\n",
    "        \n",
    "#         'cross_val' :         [lr_cross_val,\n",
    "#                                lasso_cross_val,\n",
    "#                                ridge_cross_val],\n",
    "\n",
    "#         'train-cross_val_%': [round(100* (lr.score(X_train_scaled, y_train) - (lr_cross_val))/ lr.score(X_train_scaled, y_train), 3),\n",
    "#                                      round(100* (lasso.score(X_train_scaled, y_train) - (lasso_cross_val))/ lr.score(X_train_scaled, y_train), 3),\n",
    "#                                      round(100* (ridge.score(X_train_scaled, y_train) - (ridge_cross_val))/ lr.score(X_train_scaled, y_train), 3)],\n",
    "      \n",
    "#         'test-cross_val_%': [round(100* (lr.score(X_test_scaled, y_test) - (lr_cross_val))/ lr.score(X_test_scaled, y_test), 3),\n",
    "#                                      round(100* (lasso.score(X_test_scaled, y_test) - (lasso_cross_val))/ lr.score(X_test_scaled, y_test), 3),\n",
    "#                                      round(100* (ridge.score(X_test_scaled, y_test) - (ridge_cross_val))/ lr.score(X_test_scaled, y_test), 3)],\n",
    "       \n",
    "#         'train-test_%': [round(100* (lr.score(X_train_scaled, y_train) - lr.score(X_test_scaled, y_test))/ lr.score(X_train_scaled, y_train), 3),\n",
    "#                                     round(100* (lasso.score(X_train_scaled, y_train) - lasso.score(X_test_scaled, y_test))/ lr.score(X_train_scaled, y_train), 3),\n",
    "#                                     round(100* (ridge.score(X_train_scaled, y_train) - ridge.score(X_test_scaled, y_test))/ lr.score(X_train_scaled, y_train), 3)]\n",
    "#     }\n",
    "\n",
    "#     train_fit_test = pd.DataFrame(data = data_dict, columns=['Model', 'train', 'test', 'cross_val', 'train-cross_val_%', 'test-cross_val_%', 'train-test_%'])\n",
    "#     train_fit_test.sort_values('train-test_%')\n",
    "#     print(train_fit_test)\n"
   ]
  },
  {
   "cell_type": "code",
   "execution_count": 39,
   "metadata": {},
   "outputs": [],
   "source": [
    "import itertools"
   ]
  },
  {
   "cell_type": "code",
   "execution_count": 40,
   "metadata": {},
   "outputs": [],
   "source": [
    "from sklearn.linear_model import RidgeCV, LassoCV\n"
   ]
  },
  {
   "cell_type": "code",
   "execution_count": 41,
   "metadata": {
    "scrolled": true
   },
   "outputs": [
    {
     "name": "stdout",
     "output_type": "stream",
     "text": [
      "total number of features in the combination of greatest length = 7\n",
      "The maximum R-squared score using train/test split: -0.08849811404954266\n",
      "The minimum absolute percentage difference between the fit train data and the cross-val score is: 171.722\n"
     ]
    },
    {
     "data": {
      "text/plain": [
       "'Run time: 59.1 seconds'"
      ]
     },
     "execution_count": 41,
     "metadata": {},
     "output_type": "execute_result"
    }
   ],
   "source": [
    "opt_r2_split(X, y, 80)"
   ]
  },
  {
   "cell_type": "code",
   "execution_count": null,
   "metadata": {},
   "outputs": [],
   "source": []
  },
  {
   "cell_type": "code",
   "execution_count": null,
   "metadata": {},
   "outputs": [],
   "source": []
  },
  {
   "cell_type": "markdown",
   "metadata": {},
   "source": [
    "## Alright, let's see if we can do better with a random forest."
   ]
  },
  {
   "cell_type": "code",
   "execution_count": 107,
   "metadata": {},
   "outputs": [],
   "source": [
    "from sklearn.tree import DecisionTreeRegressor"
   ]
  },
  {
   "cell_type": "code",
   "execution_count": 108,
   "metadata": {},
   "outputs": [],
   "source": [
    "regressor = DecisionTreeRegressor(criterion='mse',\n",
    "                                  max_depth=5)\n",
    "\n",
    "regressor.fit(X_train_poly_df, y_train)\n",
    "\n",
    "y_pred = regressor.predict(X_train_poly_df)"
   ]
  },
  {
   "cell_type": "code",
   "execution_count": 109,
   "metadata": {},
   "outputs": [
    {
     "data": {
      "text/plain": [
       "0.0901071761024286"
      ]
     },
     "execution_count": 109,
     "metadata": {},
     "output_type": "execute_result"
    }
   ],
   "source": [
    "MSE(y_train, y_pred)"
   ]
  },
  {
   "cell_type": "code",
   "execution_count": 110,
   "metadata": {},
   "outputs": [
    {
     "data": {
      "text/plain": [
       "0.07012959818432479"
      ]
     },
     "execution_count": 110,
     "metadata": {},
     "output_type": "execute_result"
    }
   ],
   "source": [
    "y_predictions = regressor.predict(poly.transform(X_test))\n",
    "MSE(y_test, y_predictions)"
   ]
  },
  {
   "cell_type": "code",
   "execution_count": 111,
   "metadata": {},
   "outputs": [
    {
     "data": {
      "text/plain": [
       "0.11386794643419808"
      ]
     },
     "execution_count": 111,
     "metadata": {},
     "output_type": "execute_result"
    }
   ],
   "source": [
    "regressor.score(X_train_poly_df, y_train)"
   ]
  },
  {
   "cell_type": "code",
   "execution_count": 112,
   "metadata": {},
   "outputs": [
    {
     "data": {
      "text/plain": [
       "0.08150920098098946"
      ]
     },
     "execution_count": 112,
     "metadata": {},
     "output_type": "execute_result"
    }
   ],
   "source": [
    "regressor.score(poly.transform(X_test), y_test)"
   ]
  },
  {
   "cell_type": "code",
   "execution_count": 125,
   "metadata": {},
   "outputs": [
    {
     "name": "stdout",
     "output_type": "stream",
     "text": [
      "Fitting 5 folds for each of 12 candidates, totalling 60 fits\n"
     ]
    },
    {
     "name": "stderr",
     "output_type": "stream",
     "text": [
      "[Parallel(n_jobs=1)]: Using backend SequentialBackend with 1 concurrent workers.\n",
      "[Parallel(n_jobs=1)]: Done  60 out of  60 | elapsed:   13.1s finished\n"
     ]
    },
    {
     "data": {
      "text/plain": [
       "GridSearchCV(cv=5, error_score='raise-deprecating',\n",
       "       estimator=DecisionTreeRegressor(criterion='mse', max_depth=None, max_features=None,\n",
       "           max_leaf_nodes=None, min_impurity_decrease=0.0,\n",
       "           min_impurity_split=None, min_samples_leaf=1,\n",
       "           min_samples_split=2, min_weight_fraction_leaf=0.0,\n",
       "           presort=False, random_state=None, splitter='best'),\n",
       "       fit_params=None, iid='warn', n_jobs=None,\n",
       "       param_grid={'max_depth': [None, 2, 3, 4, 5, 6, 7, 8, 9, 10, 100, 1000]},\n",
       "       pre_dispatch='2*n_jobs', refit=True, return_train_score='warn',\n",
       "       scoring=None, verbose=1)"
      ]
     },
     "execution_count": 125,
     "metadata": {},
     "output_type": "execute_result"
    }
   ],
   "source": [
    "dtr = DecisionTreeRegressor()\n",
    "\n",
    "dtr_params = {\n",
    "    'max_depth':[None, 2, 3, 4, 5, 6, 7, 8, 9, 10, 100, 1000]\n",
    "}\n",
    "\n",
    "dtr_grid = GridSearchCV(dtr, param_grid=dtr_params, verbose=1, cv=5)\n",
    "dtr_grid.fit(X_train_poly_df, y_train)"
   ]
  },
  {
   "cell_type": "code",
   "execution_count": 126,
   "metadata": {},
   "outputs": [
    {
     "name": "stdout",
     "output_type": "stream",
     "text": [
      "0.04352386344206424\n"
     ]
    },
    {
     "data": {
      "text/plain": [
       "{'max_depth': 4}"
      ]
     },
     "execution_count": 126,
     "metadata": {},
     "output_type": "execute_result"
    }
   ],
   "source": [
    "print(dtr_grid.best_score_)\n",
    "dtr_grid.best_params_"
   ]
  },
  {
   "cell_type": "code",
   "execution_count": 127,
   "metadata": {},
   "outputs": [
    {
     "data": {
      "text/plain": [
       "0.09374844942885241"
      ]
     },
     "execution_count": 127,
     "metadata": {},
     "output_type": "execute_result"
    }
   ],
   "source": [
    "dtr_grid.score(X_train_poly_df, y_train)"
   ]
  },
  {
   "cell_type": "code",
   "execution_count": 128,
   "metadata": {},
   "outputs": [
    {
     "data": {
      "text/plain": [
       "0.05622574045110885"
      ]
     },
     "execution_count": 128,
     "metadata": {},
     "output_type": "execute_result"
    }
   ],
   "source": [
    "dtr_grid.score(poly.transform(X_test), y_test)"
   ]
  },
  {
   "cell_type": "code",
   "execution_count": null,
   "metadata": {},
   "outputs": [],
   "source": []
  },
  {
   "cell_type": "markdown",
   "metadata": {},
   "source": [
    "### Now, let's try a Random Forest model."
   ]
  },
  {
   "cell_type": "code",
   "execution_count": 129,
   "metadata": {},
   "outputs": [],
   "source": [
    "from sklearn.ensemble import RandomForestRegressor"
   ]
  },
  {
   "cell_type": "code",
   "execution_count": 132,
   "metadata": {},
   "outputs": [
    {
     "name": "stderr",
     "output_type": "stream",
     "text": [
      "/Users/blakewallace/anaconda3/lib/python3.6/site-packages/sklearn/ensemble/forest.py:246: FutureWarning: The default value of n_estimators will change from 10 in version 0.20 to 100 in 0.22.\n",
      "  \"10 in version 0.20 to 100 in 0.22.\", FutureWarning)\n"
     ]
    }
   ],
   "source": [
    "forest = RandomForestRegressor()\n",
    "\n",
    "forest.fit(X_train_poly_df, y_train)\n",
    "\n",
    "pred = forest.predict(X_train_poly_df)"
   ]
  },
  {
   "cell_type": "code",
   "execution_count": 133,
   "metadata": {},
   "outputs": [
    {
     "data": {
      "text/plain": [
       "0.019591849209020434"
      ]
     },
     "execution_count": 133,
     "metadata": {},
     "output_type": "execute_result"
    }
   ],
   "source": [
    "MSE(y_train, pred)"
   ]
  },
  {
   "cell_type": "code",
   "execution_count": 134,
   "metadata": {},
   "outputs": [],
   "source": [
    "prediction = forest.predict(poly.transform(X_test))"
   ]
  },
  {
   "cell_type": "code",
   "execution_count": 135,
   "metadata": {},
   "outputs": [
    {
     "data": {
      "text/plain": [
       "0.08315722665320532"
      ]
     },
     "execution_count": 135,
     "metadata": {},
     "output_type": "execute_result"
    }
   ],
   "source": [
    "MSE(y_test, prediction)"
   ]
  },
  {
   "cell_type": "code",
   "execution_count": 136,
   "metadata": {},
   "outputs": [
    {
     "data": {
      "text/plain": [
       "0.8073298229543182"
      ]
     },
     "execution_count": 136,
     "metadata": {},
     "output_type": "execute_result"
    }
   ],
   "source": [
    "forest.score(X_train_poly_df, y_train)"
   ]
  },
  {
   "cell_type": "code",
   "execution_count": 137,
   "metadata": {},
   "outputs": [
    {
     "data": {
      "text/plain": [
       "-0.08911429026239781"
      ]
     },
     "execution_count": 137,
     "metadata": {},
     "output_type": "execute_result"
    }
   ],
   "source": [
    "forest.score(poly.transform(X_test), y_test)"
   ]
  },
  {
   "cell_type": "code",
   "execution_count": 146,
   "metadata": {},
   "outputs": [
    {
     "name": "stdout",
     "output_type": "stream",
     "text": [
      "Fitting 5 folds for each of 72 candidates, totalling 360 fits\n"
     ]
    },
    {
     "name": "stderr",
     "output_type": "stream",
     "text": [
      "[Parallel(n_jobs=1)]: Using backend SequentialBackend with 1 concurrent workers.\n",
      "[Parallel(n_jobs=1)]: Done 360 out of 360 | elapsed: 12.0min finished\n"
     ]
    },
    {
     "data": {
      "text/plain": [
       "GridSearchCV(cv=5, error_score='raise-deprecating',\n",
       "       estimator=RandomForestRegressor(bootstrap=True, criterion='mse', max_depth=None,\n",
       "           max_features='auto', max_leaf_nodes=None,\n",
       "           min_impurity_decrease=0.0, min_impurity_split=None,\n",
       "           min_samples_leaf=1, min_samples_split=2,\n",
       "           min_weight_fraction_leaf=0.0, n_estimators='warn', n_jobs=None,\n",
       "           oob_score=False, random_state=None, verbose=0, warm_start=False),\n",
       "       fit_params=None, iid='warn', n_jobs=None,\n",
       "       param_grid={'n_estimators': [2, 10, 100], 'max_depth': [None, 2, 3, 4], 'min_samples_split': [2, 3, 4], 'max_features': ['auto', 'sqrt']},\n",
       "       pre_dispatch='2*n_jobs', refit=True, return_train_score='warn',\n",
       "       scoring=None, verbose=1)"
      ]
     },
     "execution_count": 146,
     "metadata": {},
     "output_type": "execute_result"
    }
   ],
   "source": [
    "rfr = RandomForestRegressor()\n",
    "\n",
    "rfr_params = {\n",
    "    'n_estimators':[2, 10, 100],\n",
    "    'max_depth':[None, 2, 3, 4],\n",
    "    'min_samples_split': [2, 3, 4],\n",
    "    'max_features': [\"auto\", \"sqrt\"]\n",
    "}\n",
    "\n",
    "rfr_grid = GridSearchCV(rfr, param_grid=rfr_params, cv=5, verbose=1)\n",
    "rfr_grid.fit(X_train_poly_df, y_train)"
   ]
  },
  {
   "cell_type": "code",
   "execution_count": 147,
   "metadata": {},
   "outputs": [
    {
     "name": "stdout",
     "output_type": "stream",
     "text": [
      "0.07332082137577045\n",
      "RandomForestRegressor(bootstrap=True, criterion='mse', max_depth=None,\n",
      "           max_features='sqrt', max_leaf_nodes=None,\n",
      "           min_impurity_decrease=0.0, min_impurity_split=None,\n",
      "           min_samples_leaf=1, min_samples_split=4,\n",
      "           min_weight_fraction_leaf=0.0, n_estimators=100, n_jobs=None,\n",
      "           oob_score=False, random_state=None, verbose=0, warm_start=False)\n"
     ]
    },
    {
     "data": {
      "text/plain": [
       "{'max_depth': None,\n",
       " 'max_features': 'sqrt',\n",
       " 'min_samples_split': 4,\n",
       " 'n_estimators': 100}"
      ]
     },
     "execution_count": 147,
     "metadata": {},
     "output_type": "execute_result"
    }
   ],
   "source": [
    "print(rfr_grid.best_score_)\n",
    "print(rfr_grid.best_estimator_)\n",
    "rfr_grid.best_params_\n"
   ]
  },
  {
   "cell_type": "code",
   "execution_count": 148,
   "metadata": {},
   "outputs": [
    {
     "data": {
      "text/plain": [
       "0.8071792323530492"
      ]
     },
     "execution_count": 148,
     "metadata": {},
     "output_type": "execute_result"
    }
   ],
   "source": [
    "rfr_grid.score(X_train_poly_df, y_train)"
   ]
  },
  {
   "cell_type": "code",
   "execution_count": 149,
   "metadata": {},
   "outputs": [
    {
     "data": {
      "text/plain": [
       "0.11243738698152994"
      ]
     },
     "execution_count": 149,
     "metadata": {},
     "output_type": "execute_result"
    }
   ],
   "source": [
    "rfr_grid.score(poly.transform(X_test), y_test)"
   ]
  },
  {
   "cell_type": "code",
   "execution_count": 150,
   "metadata": {},
   "outputs": [
    {
     "data": {
      "text/plain": [
       "0.019607162156761587"
      ]
     },
     "execution_count": 150,
     "metadata": {},
     "output_type": "execute_result"
    }
   ],
   "source": [
    "rfr_pred_train = rfr_grid.predict(X_train_poly_df)\n",
    "MSE(y_train, rfr_pred_train)"
   ]
  },
  {
   "cell_type": "code",
   "execution_count": 151,
   "metadata": {},
   "outputs": [
    {
     "data": {
      "text/plain": [
       "0.06776813603456257"
      ]
     },
     "execution_count": 151,
     "metadata": {},
     "output_type": "execute_result"
    }
   ],
   "source": [
    "rfr_pred_test = rfr_grid.predict(poly.transform(X_test))\n",
    "MSE(y_test, rfr_pred_test)"
   ]
  },
  {
   "cell_type": "code",
   "execution_count": 152,
   "metadata": {},
   "outputs": [
    {
     "name": "stdout",
     "output_type": "stream",
     "text": [
      "Fitting 5 folds for each of 36 candidates, totalling 180 fits\n"
     ]
    },
    {
     "name": "stderr",
     "output_type": "stream",
     "text": [
      "[Parallel(n_jobs=1)]: Using backend SequentialBackend with 1 concurrent workers.\n",
      "[Parallel(n_jobs=1)]: Done 180 out of 180 | elapsed: 19.0min finished\n"
     ]
    },
    {
     "data": {
      "text/plain": [
       "GridSearchCV(cv=5, error_score='raise-deprecating',\n",
       "       estimator=RandomForestRegressor(bootstrap=True, criterion='mse', max_depth=None,\n",
       "           max_features='auto', max_leaf_nodes=None,\n",
       "           min_impurity_decrease=0.0, min_impurity_split=None,\n",
       "           min_samples_leaf=1, min_samples_split=2,\n",
       "           min_weight_fraction_leaf=0.0, n_estimators='warn', n_jobs=None,\n",
       "           oob_score=False, random_state=None, verbose=0, warm_start=False),\n",
       "       fit_params=None, iid='warn', n_jobs=None,\n",
       "       param_grid={'n_estimators': [100, 110], 'max_depth': [None, 2, 3], 'min_samples_split': [3, 4, 5], 'max_features': ['auto', 'sqrt']},\n",
       "       pre_dispatch='2*n_jobs', refit=True, return_train_score='warn',\n",
       "       scoring=None, verbose=1)"
      ]
     },
     "execution_count": 152,
     "metadata": {},
     "output_type": "execute_result"
    }
   ],
   "source": [
    "rfr1 = RandomForestRegressor()\n",
    "\n",
    "rfr1_params = {\n",
    "    'n_estimators':[100, 110],\n",
    "    'max_depth':[None, 2, 3],\n",
    "    'min_samples_split': [3, 4, 5],\n",
    "    'max_features': [\"auto\", \"sqrt\"]\n",
    "}\n",
    "\n",
    "rfr1_grid = GridSearchCV(rfr, param_grid=rfr1_params, cv=5, verbose=1)\n",
    "rfr1_grid.fit(X_train_poly_df, y_train)"
   ]
  },
  {
   "cell_type": "code",
   "execution_count": 153,
   "metadata": {},
   "outputs": [
    {
     "name": "stdout",
     "output_type": "stream",
     "text": [
      "0.07438240537290923\n",
      "RandomForestRegressor(bootstrap=True, criterion='mse', max_depth=None,\n",
      "           max_features='sqrt', max_leaf_nodes=None,\n",
      "           min_impurity_decrease=0.0, min_impurity_split=None,\n",
      "           min_samples_leaf=1, min_samples_split=4,\n",
      "           min_weight_fraction_leaf=0.0, n_estimators=100, n_jobs=None,\n",
      "           oob_score=False, random_state=None, verbose=0, warm_start=False)\n"
     ]
    },
    {
     "data": {
      "text/plain": [
       "{'max_depth': None,\n",
       " 'max_features': 'sqrt',\n",
       " 'min_samples_split': 4,\n",
       " 'n_estimators': 100}"
      ]
     },
     "execution_count": 153,
     "metadata": {},
     "output_type": "execute_result"
    }
   ],
   "source": [
    "print(rfr1_grid.best_score_)\n",
    "print(rfr1_grid.best_estimator_)\n",
    "rfr1_grid.best_params_\n"
   ]
  },
  {
   "cell_type": "code",
   "execution_count": 154,
   "metadata": {},
   "outputs": [
    {
     "data": {
      "text/plain": [
       "0.8065696921797223"
      ]
     },
     "execution_count": 154,
     "metadata": {},
     "output_type": "execute_result"
    }
   ],
   "source": [
    "rfr1_grid.score(X_train_poly_df, y_train)"
   ]
  },
  {
   "cell_type": "code",
   "execution_count": 155,
   "metadata": {},
   "outputs": [
    {
     "data": {
      "text/plain": [
       "0.11220518893554178"
      ]
     },
     "execution_count": 155,
     "metadata": {},
     "output_type": "execute_result"
    }
   ],
   "source": [
    "rfr1_grid.score(poly.transform(X_test), y_test)"
   ]
  },
  {
   "cell_type": "code",
   "execution_count": 156,
   "metadata": {},
   "outputs": [
    {
     "data": {
      "text/plain": [
       "0.019669143825880208"
      ]
     },
     "execution_count": 156,
     "metadata": {},
     "output_type": "execute_result"
    }
   ],
   "source": [
    "rfr1_pred_train = rfr1_grid.predict(X_train_poly_df)\n",
    "MSE(y_train, rfr1_pred_train)"
   ]
  },
  {
   "cell_type": "code",
   "execution_count": 157,
   "metadata": {},
   "outputs": [
    {
     "data": {
      "text/plain": [
       "0.06778586506971634"
      ]
     },
     "execution_count": 157,
     "metadata": {},
     "output_type": "execute_result"
    }
   ],
   "source": [
    "rfr1_pred_test = rfr1_grid.predict(poly.transform(X_test))\n",
    "MSE(y_test, rfr1_pred_test)"
   ]
  },
  {
   "cell_type": "code",
   "execution_count": null,
   "metadata": {},
   "outputs": [],
   "source": []
  }
 ],
 "metadata": {
  "kernelspec": {
   "display_name": "Python 3",
   "language": "python",
   "name": "python3"
  },
  "language_info": {
   "codemirror_mode": {
    "name": "ipython",
    "version": 3
   },
   "file_extension": ".py",
   "mimetype": "text/x-python",
   "name": "python",
   "nbconvert_exporter": "python",
   "pygments_lexer": "ipython3",
   "version": "3.6.8"
  }
 },
 "nbformat": 4,
 "nbformat_minor": 2
}
