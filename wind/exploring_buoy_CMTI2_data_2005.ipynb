{
 "cells": [
  {
   "cell_type": "markdown",
   "metadata": {},
   "source": [
    "# Exploring the data for Buoy CMTI2 for the year 2005 - 2018."
   ]
  },
  {
   "cell_type": "markdown",
   "metadata": {},
   "source": [
    "NOS  \n",
    "Location: 41.730N 87.538W  \n",
    "\n",
    "Calumet Harbor, IL"
   ]
  },
  {
   "cell_type": "markdown",
   "metadata": {},
   "source": [
    "### CHII2\n",
    "#### Starting Oct 1, 2006, there are daily averages for the following\n",
    " - (ATMP) air temperature \n",
    " - (WDIR) Wind Direction \n",
    " - (WSPD) Wind Speed \n",
    " - (GST) \"Peak 5 or 8 second gust speed (m/s) measured during the eight-minute or two-minute period. The 5 or 8 second period can be determined by payload, See the Sensor Reporting, Sampling, and Accuracy section.\" \n",
    " \n",
    "#### Missing data\n",
    " - Some in 2005\n",
    " - Some in 2006 (before 10)\n",
    " - Nov. 10-12, 2007\n",
    " \n",
    "[Data Dictionary](https://www.ndbc.noaa.gov/measdes.shtml)"
   ]
  },
  {
   "cell_type": "code",
   "execution_count": null,
   "metadata": {},
   "outputs": [],
   "source": []
  }
 ],
 "metadata": {
  "kernelspec": {
   "display_name": "Python 3",
   "language": "python",
   "name": "python3"
  },
  "language_info": {
   "codemirror_mode": {
    "name": "ipython",
    "version": 3
   },
   "file_extension": ".py",
   "mimetype": "text/x-python",
   "name": "python",
   "nbconvert_exporter": "python",
   "pygments_lexer": "ipython3",
   "version": "3.6.8"
  }
 },
 "nbformat": 4,
 "nbformat_minor": 2
}
